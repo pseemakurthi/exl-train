{
 "cells": [
  {
   "cell_type": "markdown",
   "metadata": {},
   "source": [
    "# Iterators"
   ]
  },
  {
   "cell_type": "markdown",
   "metadata": {},
   "source": [
    "## Topics\n",
    "\n",
    "- Stream larger-than-memory data through a pipeline\n",
    "- Composable thanks to the iterator protocol"
   ]
  },
  {
   "cell_type": "markdown",
   "metadata": {},
   "source": [
    "My favorite \"feature\" of pandas is that it's written in Python.\n",
    "Python has great language-level features for handling streams of data\n",
    "that may not fit in memory.\n",
    "This can be a useful pre-processing step to reading the data into a DataFrame or\n",
    "NumPy array.\n",
    "You can get quite far using just the builtin data structures as David Beazley proves in [this PyData keynote](https://www.youtube.com/watch?v=lyDLAutA88s)."
   ]
  },
  {
   "cell_type": "code",
   "execution_count": 1,
   "metadata": {
    "collapsed": true
   },
   "outputs": [],
   "source": [
    "import os\n",
    "import gzip\n",
    "from itertools import islice, takewhile\n",
    "\n",
    "import numpy as np\n",
    "import pandas as pd\n",
    "import seaborn.apionly as sns\n",
    "import dask.dataframe as dd\n",
    "from toolz import partition_all, partitionby\n",
    "import matplotlib.pyplot as plt"
   ]
  },
  {
   "cell_type": "code",
   "execution_count": 2,
   "metadata": {
    "collapsed": true
   },
   "outputs": [],
   "source": [
    "%matplotlib inline"
   ]
  },
  {
   "cell_type": "code",
   "execution_count": 3,
   "metadata": {
    "collapsed": true
   },
   "outputs": [],
   "source": [
    "pd.options.display.max_rows = 10\n",
    "sns.set(context='talk')\n",
    "plt.style.use(\"default\")"
   ]
  },
  {
   "cell_type": "markdown",
   "metadata": {},
   "source": [
    "## Beer Reviews Dataset\n",
    "\n",
    "- A review is a list of lines\n",
    "- Each review line is formated like `meta/field: value`\n",
    "- Reviews are separated by blank lines (i.e. the line is just `'\\n'`)\n"
   ]
  },
  {
   "cell_type": "markdown",
   "metadata": {},
   "source": [
    "Stanford has a [dataset on beer reviews](https://snap.stanford.edu/data/web-BeerAdvocate.html). The raw file is too large for me to include, but I split off a couple subsets for us to work with.\n",
    "\n",
    "Pandas can't read this file natively, but we have Python!\n",
    "We'll use Python to parse the raw file and tranform it into a tabular format."
   ]
  },
  {
   "cell_type": "code",
   "execution_count": 4,
   "metadata": {
    "collapsed": false,
    "scrolled": false
   },
   "outputs": [
    {
     "name": "stdout",
     "output_type": "stream",
     "text": [
      "beer/name: Sausa Weizen\n",
      "beer/beerId: 47986\n",
      "beer/brewerId: 10325\n",
      "beer/ABV: 5.00\n",
      "beer/style: Hefeweizen\n",
      "review/appearance: 2.5\n",
      "review/aroma: 2\n",
      "review/palate: 1.5\n",
      "review/taste: 1.5\n",
      "review/overall: 1.5\n",
      "review/time: 1234817823\n",
      "review/profileName: stcules\n",
      "review/text: A lot of foam. But a lot.\tIn the smell some banana, and then lactic and tart. Not a good start.\tQuite dark orange in color, with a lively carbonation (now visible, under the foam).\tAgain tending to lactic sourness.\tSame for the taste. With some yeast and banana.\t\t\n",
      "\n",
      "beer/name: Red Moon\n",
      "beer/beerId: 48213\n",
      "beer/brewerId: 10325\n",
      "beer/ABV: 6.20\n",
      "beer/style: English Strong Ale\n",
      "review/appearance: 3\n",
      "review/aroma: 2.5\n",
      "review/palate: 3\n",
      "review/taste: 3\n",
      "review/overall: 3\n",
      "review/time: 1235915097\n",
      "review/profileName: stcules\n",
      "review/text: Dark red color, light beige foam, average.\tIn the smell malt and caramel, not really light.\tAgain malt and caramel in the taste, not bad in the end.\tMaybe a note of honey in teh back, and a light fruitiness.\tAverage body.\tIn the aftertaste a light bitterness, with the malt and red fruit.\tNothing exceptional, but not bad, drinkable beer.\t\t\n",
      "\n",
      "beer/name: Black Horse Black Beer\n",
      "beer/beerId: 48215\n",
      "beer/brewerId: 10325\n",
      "beer/ABV: 6.50\n",
      "beer/style: Foreign / Export Stout\n",
      "review/appearance: 3\n",
      "review/aroma: 2.5\n",
      "review/palate: 3\n",
      "review/taste: 3\n",
      "review/overall: 3\n",
      "review/time: 1235916604\n",
      "review/profileName: stcules\n",
      "review/text: Almost totally black. Beige foam, quite compact, not bad.\tLight smell, just a bit of roas\n"
     ]
    }
   ],
   "source": [
    "with gzip.open(\"data/beer-raw-small.txt.gz\", \"r\") as f:\n",
    "    print(f.read(1500).decode('utf-8'))"
   ]
  },
  {
   "cell_type": "markdown",
   "metadata": {},
   "source": [
    "The full compressed raw dataset is about 500MB, so reading it all into memory might not be pleasent (we're working with a small subset that would fit in memory, but pretend it didn't).\n",
    "Fortunately, Python's iterator protocol and generators make dealing with large streams of data pleasent."
   ]
  },
  {
   "cell_type": "markdown",
   "metadata": {},
   "source": [
    "## Developing a solution\n",
    "\n",
    "Let's build a solution together. I'll provide some guidance as we go along."
   ]
  },
  {
   "cell_type": "code",
   "execution_count": 5,
   "metadata": {
    "collapsed": true
   },
   "outputs": [],
   "source": [
    "# Get a handle to the data\n",
    "f = gzip.open(\"data/beer-raw-small.txt.gz\", \"rt\")"
   ]
  },
  {
   "cell_type": "markdown",
   "metadata": {},
   "source": [
    "Usually you'd use a context manager like `with gzip.open(...) as f`, but for debugging, it's OK to do it this way."
   ]
  },
  {
   "cell_type": "markdown",
   "metadata": {},
   "source": [
    "## Parsing Tasks\n",
    "\n",
    "1. split the raw text stream into individual reviews\n",
    "2. transform each individual review into a data container\n",
    "3. combine a chunk of transformed individual reviews into a collection\n",
    "4. store the chunk to disk"
   ]
  },
  {
   "cell_type": "markdown",
   "metadata": {},
   "source": [
    "Let's grab the first review using [`takewhile`](https://docs.python.org/3/library/itertools.html#itertools.takewhile) till the first `'\\n'`.\n",
    "`takewhile` scans a stream, returning each item (line) until it hits the sentinal value it's looking for."
   ]
  },
  {
   "cell_type": "code",
   "execution_count": 6,
   "metadata": {
    "collapsed": true
   },
   "outputs": [],
   "source": [
    "from itertools import takewhile"
   ]
  },
  {
   "cell_type": "code",
   "execution_count": 7,
   "metadata": {
    "collapsed": false
   },
   "outputs": [
    {
     "data": {
      "text/plain": [
       "['beer/name: Sausa Weizen\\n',\n",
       " 'beer/beerId: 47986\\n',\n",
       " 'beer/brewerId: 10325\\n',\n",
       " 'beer/ABV: 5.00\\n',\n",
       " 'beer/style: Hefeweizen\\n',\n",
       " 'review/appearance: 2.5\\n',\n",
       " 'review/aroma: 2\\n',\n",
       " 'review/palate: 1.5\\n',\n",
       " 'review/taste: 1.5\\n',\n",
       " 'review/overall: 1.5\\n',\n",
       " 'review/time: 1234817823\\n',\n",
       " 'review/profileName: stcules\\n',\n",
       " 'review/text: A lot of foam. But a lot.\\tIn the smell some banana, and then lactic and tart. Not a good start.\\tQuite dark orange in color, with a lively carbonation (now visible, under the foam).\\tAgain tending to lactic sourness.\\tSame for the taste. With some yeast and banana.\\t\\t\\n']"
      ]
     },
     "execution_count": 7,
     "metadata": {},
     "output_type": "execute_result"
    }
   ],
   "source": [
    "f.seek(0);  # make the cell idempotent\n",
    "first = list(takewhile(lambda x: x != '\\n', f))\n",
    "first"
   ]
  },
  {
   "cell_type": "markdown",
   "metadata": {},
   "source": [
    "<div class=\"alert alert-success\" data-title=\"Format Review\">\n",
    "  <h1><i class=\"fa fa-tasks\" aria-hidden=\"true\"></i> Exercise: Format Review</h1>\n",
    "</div>\n",
    "<p>Write a function `format_review` that converts an item like `first` into a dict</p>"
   ]
  },
  {
   "cell_type": "markdown",
   "metadata": {},
   "source": [
    "It will have one entry per line, where the are the stuff to the left of the colon and the values are the stuff to the right.\n",
    "For example, the first line would be\n",
    "\n",
    "`'beer/name: Sausa Weizen\\n',` => `'beer/name': 'Sausa Weizen'`\n",
    "\n",
    "Make sure to clean up the line endings too.\n",
    "\n",
    "- Hint: Check out the [python string methods](https://docs.python.org/3/library/stdtypes.html#string-methods)"
   ]
  },
  {
   "cell_type": "markdown",
   "metadata": {},
   "source": [
    "You can check your function against `expected` by evaluating the next cell.\n",
    "If you get a failure, adjust your `format_review` until it passes."
   ]
  },
  {
   "cell_type": "code",
   "execution_count": 8,
   "metadata": {
    "collapsed": false
   },
   "outputs": [
    {
     "name": "stderr",
     "output_type": "stream",
     "text": [
      "F\n",
      "======================================================================\n",
      "FAIL: test_format_review (__main__.TestFormat)\n",
      "----------------------------------------------------------------------\n",
      "Traceback (most recent call last):\n",
      "  File \"<ipython-input-8-c1a555b0cf3c>\", line 32, in test_format_review\n",
      "    self.assertEqual(result, expected)\n",
      "AssertionError: None != {'beer/ABV': '5.00', 'beer/beerId': '4798[553 chars]823'}\n",
      "\n",
      "----------------------------------------------------------------------\n",
      "Ran 1 test in 0.001s\n",
      "\n",
      "FAILED (failures=1)\n"
     ]
    },
    {
     "data": {
      "text/plain": [
       "<unittest.runner.TextTestResult run=1 errors=0 failures=1>"
      ]
     },
     "execution_count": 8,
     "metadata": {},
     "output_type": "execute_result"
    }
   ],
   "source": [
    "import unittest\n",
    "from typing import List, Dict\n",
    "\n",
    "f.seek(0);  # make the cell idempotent\n",
    "review = list(takewhile(lambda x: x != '\\n', f))\n",
    "\n",
    "\n",
    "def format_review(review: List[str]) -> Dict[str, str]:\n",
    "    \"\"\"Your code goes below\"\"\"\n",
    "    \n",
    "\n",
    "class TestFormat(unittest.TestCase):\n",
    "    maxDiff = None\n",
    "\n",
    "    def test_format_review(self):\n",
    "        result = format_review(review)\n",
    "        expected = {\n",
    "            'beer/ABV': '5.00',\n",
    "            'beer/beerId': '47986',\n",
    "            'beer/brewerId': '10325',\n",
    "            'beer/name': 'Sausa Weizen',\n",
    "            'beer/style': 'Hefeweizen',\n",
    "            'review/appearance': '2.5',\n",
    "            'review/aroma': '2',\n",
    "            'review/overall': '1.5',\n",
    "            'review/palate': '1.5',\n",
    "            'review/profileName': 'stcules',\n",
    "            'review/taste': '1.5',\n",
    "            'review/text': 'A lot of foam. But a lot.\\tIn the smell some banana, and then lactic and tart. Not a good start.\\tQuite dark orange in color, with a lively carbonation (now visible, under the foam).\\tAgain tending to lactic sourness.\\tSame for the taste. With some yeast and banana.\\t\\t',\n",
    "            'review/time': '1234817823'\n",
    "        }\n",
    "        self.assertEqual(result, expected)\n",
    "\n",
    "suite = unittest.TestLoader().loadTestsFromModule(TestFormat())\n",
    "unittest.TextTestRunner().run(suite)"
   ]
  },
  {
   "cell_type": "code",
   "execution_count": 10,
   "metadata": {
    "collapsed": true
   },
   "outputs": [],
   "source": [
    "%load solutions/groupby_format_review.py"
   ]
  },
  {
   "cell_type": "markdown",
   "metadata": {},
   "source": [
    "Notice that optional argument to split, which controls the number of splits made; If a review text had contained a literal `': '`, we'd be in trouble since it'd get split again.\n",
    "\n",
    "Make sure you executed the above solution cell twice (first to load, second to execute) as we'll be using that `format_review` function down below"
   ]
  },
  {
   "cell_type": "markdown",
   "metadata": {},
   "source": [
    "## To a DataFrame\n",
    "\n",
    "Assuming we've processed many reviews into a list, we'll then build up a DataFrame."
   ]
  },
  {
   "cell_type": "code",
   "execution_count": 11,
   "metadata": {
    "collapsed": false
   },
   "outputs": [
    {
     "data": {
      "text/html": [
       "<div>\n",
       "<style>\n",
       "    .dataframe thead tr:only-child th {\n",
       "        text-align: right;\n",
       "    }\n",
       "\n",
       "    .dataframe thead th {\n",
       "        text-align: left;\n",
       "    }\n",
       "\n",
       "    .dataframe tbody tr th {\n",
       "        vertical-align: top;\n",
       "    }\n",
       "</style>\n",
       "<table border=\"1\" class=\"dataframe\">\n",
       "  <thead>\n",
       "    <tr style=\"text-align: right;\">\n",
       "      <th></th>\n",
       "      <th>abv</th>\n",
       "      <th>beer_id</th>\n",
       "      <th>brewer_id</th>\n",
       "      <th>beer_name</th>\n",
       "      <th>beer_style</th>\n",
       "      <th>review_appearance</th>\n",
       "      <th>review_aroma</th>\n",
       "      <th>review_overall</th>\n",
       "      <th>review_palate</th>\n",
       "      <th>profile_name</th>\n",
       "      <th>review_taste</th>\n",
       "      <th>text</th>\n",
       "      <th>time</th>\n",
       "    </tr>\n",
       "  </thead>\n",
       "  <tbody>\n",
       "    <tr>\n",
       "      <th>0</th>\n",
       "      <td>5.0</td>\n",
       "      <td>47986</td>\n",
       "      <td>10325</td>\n",
       "      <td>Sausa Weizen</td>\n",
       "      <td>Hefeweizen</td>\n",
       "      <td>2.5</td>\n",
       "      <td>2.0</td>\n",
       "      <td>1.5</td>\n",
       "      <td>1.5</td>\n",
       "      <td>stcules</td>\n",
       "      <td>1.5</td>\n",
       "      <td>A lot of foam. But a lot.\\tIn the smell some b...</td>\n",
       "      <td>2009-02-16 20:57:03</td>\n",
       "    </tr>\n",
       "  </tbody>\n",
       "</table>\n",
       "</div>"
      ],
      "text/plain": [
       "   abv beer_id brewer_id     beer_name  beer_style  review_appearance  \\\n",
       "0  5.0   47986     10325  Sausa Weizen  Hefeweizen                2.5   \n",
       "\n",
       "   review_aroma  review_overall  review_palate profile_name  review_taste  \\\n",
       "0           2.0             1.5            1.5      stcules           1.5   \n",
       "\n",
       "                                                text                time  \n",
       "0  A lot of foam. But a lot.\\tIn the smell some b... 2009-02-16 20:57:03  "
      ]
     },
     "execution_count": 11,
     "metadata": {},
     "output_type": "execute_result"
    }
   ],
   "source": [
    "r = [format_review(first)]  # imagine a list of many reviews\n",
    "\n",
    "col_names = {\n",
    "    'beer/ABV': 'abv',\n",
    "    'beer/beerId': 'beer_id',\n",
    "    'beer/brewerId': 'brewer_id',\n",
    "    'beer/name': 'beer_name',\n",
    "    'beer/style': 'beer_style',\n",
    "    'review/appearance': 'review_appearance',\n",
    "    'review/aroma': 'review_aroma',\n",
    "    'review/overall': 'review_overall',\n",
    "    'review/palate': 'review_palate',\n",
    "    'review/profileName': 'profile_name',\n",
    "    'review/taste': 'review_taste',\n",
    "    'review/text': 'text',\n",
    "    'review/time': 'time'\n",
    "}\n",
    "df = pd.DataFrame(r)\n",
    "numeric = ['abv', 'review_appearance', 'review_aroma',\n",
    "           'review_overall', 'review_palate', 'review_taste']\n",
    "df = (df.rename(columns=col_names)\n",
    "        .replace('', np.nan))\n",
    "df[numeric] = df[numeric].astype(float)\n",
    "df['time'] = pd.to_datetime(df.time.astype(int), unit='s')\n",
    "df"
   ]
  },
  {
   "cell_type": "markdown",
   "metadata": {},
   "source": [
    "Again, writing that as a function:"
   ]
  },
  {
   "cell_type": "code",
   "execution_count": 12,
   "metadata": {
    "collapsed": true
   },
   "outputs": [],
   "source": [
    "def as_dataframe(reviews):\n",
    "    col_names = {\n",
    "        'beer/ABV': 'abv',\n",
    "        'beer/beerId': 'beer_id',\n",
    "        'beer/brewerId': 'brewer_id',\n",
    "        'beer/name': 'beer_name',\n",
    "        'beer/style': 'beer_style',\n",
    "        'review/appearance': 'review_appearance',\n",
    "        'review/aroma': 'review_aroma',\n",
    "        'review/overall': 'review_overall',\n",
    "        'review/palate': 'review_palate',\n",
    "        'review/profileName': 'profile_name',\n",
    "        'review/taste': 'review_taste',\n",
    "        'review/text': 'text',\n",
    "        'review/time': 'time'\n",
    "    }\n",
    "    df = pd.DataFrame(list(reviews))\n",
    "    numeric = ['abv', 'review_appearance', 'review_aroma',\n",
    "               'review_overall', 'review_palate', 'review_taste']\n",
    "    df = (df.rename(columns=col_names)\n",
    "            .replace('', np.nan))\n",
    "    df[numeric] = df[numeric].astype(float)\n",
    "    df['time'] = pd.to_datetime(df.time.astype(int), unit='s')\n",
    "    return df"
   ]
  },
  {
   "cell_type": "markdown",
   "metadata": {},
   "source": [
    "## Full pipeline\n",
    "\n",
    "1. `file -> review_lines : List[str]`\n",
    "2. `review_lines -> reviews : Dict[str, str]`\n",
    "3. `reviews -> DataFrames`\n",
    "4. `DataFrames -> CSV`"
   ]
  },
  {
   "cell_type": "markdown",
   "metadata": {},
   "source": [
    "The full pipeline would look something like:"
   ]
  },
  {
   "cell_type": "code",
   "execution_count": 13,
   "metadata": {
    "collapsed": false
   },
   "outputs": [
    {
     "name": "stdout",
     "output_type": "stream",
     "text": [
      "0\r",
      "1\r",
      "2\r",
      "3\r",
      "4\r",
      "5\r",
      "6\r",
      "7\r"
     ]
    }
   ],
   "source": [
    "from toolz import partition_all, partitionby\n",
    "\n",
    "\n",
    "BATCH_SIZE = 100  # Number of reviews to process per chunk\n",
    "                  # Intentionally small for demostration    \n",
    "\n",
    "\n",
    "with gzip.open(\"data/beer-raw-small.txt.gz\", \"rt\") as f:\n",
    "\n",
    "    # Filter out a null byte at the end\n",
    "    lines = (x for x in f if not x.startswith('\\x00'))\n",
    "    \n",
    "    review_lines_and_newlines = partitionby(lambda x: x == '\\n', lines)\n",
    "    # that goes [review, \\n, review, \\n, ...]\n",
    "    # so filter out the newlines\n",
    "    review_lines = filter(lambda x: x != ('\\n',), review_lines_and_newlines)\n",
    "    \n",
    "    # generator expression to go from List[str] -> Dict[str, str]\n",
    "    reviews = (format_review(x) for x in review_lines)\n",
    "    \n",
    "    # `reviews` yields one dict per review.\n",
    "    # Won't fit in memory, so do `BATCH_SIZE` per chunk\n",
    "    chunks = partition_all(BATCH_SIZE, reviews)\n",
    "    dfs = (as_dataframe(chunk) for chunk in chunks)\n",
    "    os.makedirs(\"data/beer/\", exist_ok=True)\n",
    "\n",
    "    # the first time we read from disk\n",
    "    for i, df in enumerate(dfs):\n",
    "        df.to_csv(\"data/beer/chunk_%s.csv.gz\" % i, index=False,\n",
    "                  compression=\"gzip\")\n",
    "        print(i, end='\\r')"
   ]
  },
  {
   "cell_type": "markdown",
   "metadata": {},
   "source": [
    "\n",
    "This runs comfortably in memory. At any given time, we only have `BATCH_SIZE` reviews in memory."
   ]
  },
  {
   "cell_type": "markdown",
   "metadata": {},
   "source": [
    "## Brief Aside on [Dask](http://dask.pydata.org/en/latest/)\n",
    "\n",
    "> Dask is a flexible parallel computing library for analytic computing."
   ]
  },
  {
   "cell_type": "markdown",
   "metadata": {},
   "source": [
    "The original dataset is in random order, but I wanted to select an interesting subset for us to work on: all the reviews by the top 100 reviewers.\n",
    "\n",
    "You might know enough pandas now to figure out the top-100 reviewers by count.\n",
    "Do a `value_counts` , select the top 100, then select the index.\n",
    "\n",
    "```python\n",
    "top_reviewers = df.profile_name.value_counts().nlargest(100).index\n",
    "```\n",
    "\n",
    "Recall that `value_counts` will be a `Series` where the index is each unique `profile_name` and the values is the count of reviews for that profile.\n",
    "We use `nlargets(100)` to get the 100 largest values, and `.index` to get the actual profile names. \n",
    "\n",
    "But that assumes we have a `df` containing the full dataset in memory.\n",
    "My laptop can't load the entire dataset though (recall that we're working with a subset today).\n",
    "\n",
    "It wouldn't be *that* hard to write a custom solution in python or pandas using chunking like we did up above.\n",
    "We'd split our task into parts\n",
    "\n",
    "- read a chunk\n",
    "- compute `chunk.profile_name.value_counts()`\n",
    "- store that intermediate `value_counts` in a global container\n",
    "\n",
    "Once we've processed each chunk, our final steps are to\n",
    "\n",
    "- merge each `value_counts` chunk by summing\n",
    "- filter to the top 100\n",
    "\n",
    "This pattern of processing chunks independently (map) and combining the results into a smaller output (reduce) is common, and doing it manually gets old.\n",
    "Dask can help out here."
   ]
  },
  {
   "cell_type": "markdown",
   "metadata": {},
   "source": [
    "## Collections, Tasks, Schedulers\n",
    "\n",
    "![](http://dask.pydata.org/en/latest/_images/collections-schedulers.png)"
   ]
  },
  {
   "cell_type": "markdown",
   "metadata": {},
   "source": [
    "Dask has several components, so it can be hard to succinctly describe the library.\n",
    "For our purposes, we'll view it as providing \"big dataframes\".\n",
    "In reality, \"big dataframes\" means a collection of many smaller pandas `DataFrame`s, with algorithms for operating on them in parallel and combining the results.\n",
    "You write python code that's quite similar to regular NumPy and pandas, only instead of execting immediatly a *task graph* (DAG for Directect Acylic Graph) is created.\n",
    "Dask knows how to *schedule* the DAG to execute on some workers (the several cores or your laptop, or an entire distributed cluster)."
   ]
  },
  {
   "cell_type": "code",
   "execution_count": 14,
   "metadata": {
    "collapsed": true
   },
   "outputs": [],
   "source": [
    "import dask.dataframe as dd"
   ]
  },
  {
   "cell_type": "code",
   "execution_count": 15,
   "metadata": {
    "collapsed": false
   },
   "outputs": [
    {
     "name": "stdout",
     "output_type": "stream",
     "text": [
      "<class 'dask.dataframe.core.DataFrame'>\n",
      "Columns: 13 entries, abv to time\n",
      "dtypes: datetime64[ns](1), object(4), float64(6), int64(2)"
     ]
    }
   ],
   "source": [
    "a = dd.read_csv(\"data/beer/chunk*.csv.gz\", compression=\"gzip\", blocksize=None,\n",
    "                parse_dates=['time'])\n",
    "a.info()"
   ]
  },
  {
   "cell_type": "markdown",
   "metadata": {},
   "source": [
    "That API should look familiar to you, now that you're experienced pandas users.\n",
    "We swap out `pd` for `dd`, and stuff mostly just works.\n",
    "Occasionally, you'll have a `dask`-specific thing like `blocksize` (number of bytes per smaller dataframe) that don't apply to pandas, which assumes things fit in memory."
   ]
  },
  {
   "cell_type": "code",
   "execution_count": 16,
   "metadata": {
    "collapsed": false
   },
   "outputs": [
    {
     "data": {
      "text/plain": [
       "Dask Index Structure:\n",
       "npartitions=1\n",
       "None    object\n",
       "None       ...\n",
       "dtype: object\n",
       "Dask Name: series-nlargest-agg, 44 tasks"
      ]
     },
     "execution_count": 16,
     "metadata": {},
     "output_type": "execute_result"
    }
   ],
   "source": [
    "top_reviewers = a.profile_name.value_counts().nlargest(100).index\n",
    "top_reviewers"
   ]
  },
  {
   "cell_type": "markdown",
   "metadata": {},
   "source": [
    "We haven't really done any work yet. `dask` has just built the DAG representing the computation it will perform when needed.\n",
    "We can directly visualize DAGs that aren't too large with the `.visualize` method."
   ]
  },
  {
   "cell_type": "markdown",
   "metadata": {},
   "source": [
    "We can visualize the DAG built up by dask with the `.visualize` method.\n",
    "I've done this ahead of time, since then library that draws the graphs isn't part of the required packages.\n",
    "\n",
    "```python\n",
    "top_reviewers.visualize()\n",
    "```\n",
    "![](mydask.png)"
   ]
  },
  {
   "cell_type": "code",
   "execution_count": 17,
   "metadata": {
    "collapsed": false
   },
   "outputs": [
    {
     "data": {
      "text/plain": [
       "Index(['Beerandraiderfan', 'Halcyondays', 'ccrida', 'RedDiamond',\n",
       "       'barleywinefiend', 'Reidrover', 'msubulldog25', 'flexabull',\n",
       "       'BeerAdvocate', 'Tilley4', 'oberon', 'russpowell', 'JohnGalt1',\n",
       "       'zoso1967', 'stcules', 'Proteus93', 'augustgarage', 'Knapp85',\n",
       "       'jeff1973', 'BuckeyeNation', 'Slatetank', 'Spikester', 'merlin48',\n",
       "       'TheGordianKnot', 'harrymel', 'philbe311', 'ElGordo', 'Deuane',\n",
       "       'beer2day', 'DeanMoriarty', 'snaotheus', 'onix1agr', 'Wetpaperbag',\n",
       "       'mcallister', 'ckeegan04', 'djeucalyptus', 'IronLover', 'climax',\n",
       "       'largadeer', 'StaveHooks', 'SurlyDuff', 'womencantsail', 'corby112',\n",
       "       'SpdKilz', 'czechsaaz', 'd0ggnate', 'dedrinker', 'cswhitehorse',\n",
       "       'ClockworkOrange', 'chumba526', 'Cresant', 'Seanibus', 'woemad',\n",
       "       'ColForbinBC', 'PDXHops', 'CrellMoset', 'Phelps', 'therica', 'RoyalT',\n",
       "       'tempest', 'elgiacomo', 'Scotchboy', 'brentk56', 'maximum12',\n",
       "       'HopDerek', 'kevinmkirk', 'MuenchenerKindl', 'Kegatron', 'mdagnew',\n",
       "       'dyan', 'mtrentm', 'woodychandler', 'mgbickel', 'Arbitrator',\n",
       "       'mikereaser', 'mikesgroove', 'cburian', 'Monkeyknife', 'Mora2000',\n",
       "       'Goliath', 'indiapaleale', 'Thorpe429', 'bump8628', 'GbVDave', 'Klym',\n",
       "       'MrVonzipper', 'GarrettMD', 'northyorksammy', 'notchucknorris',\n",
       "       'BeerSox', 'oline73', 'brewandbbq', 'BeerZack', 'FosterJM', 'meatyard',\n",
       "       'wcudwight', 'organicbrewer', 'JayQue', 'BEERchitect', 'beerman207'],\n",
       "      dtype='object')"
      ]
     },
     "execution_count": 17,
     "metadata": {},
     "output_type": "execute_result"
    }
   ],
   "source": [
    "top_reviewers.compute()"
   ]
  },
  {
   "cell_type": "markdown",
   "metadata": {},
   "source": [
    "We can use `top_reviewers` as a boolean mask, just like in regular pandas.\n",
    "\n",
    "```python\n",
    ">>> a[a.profile_name.isin(top_reviewers.compute())].to_csv(\"data/subset.csv.gz\")\n",
    "```"
   ]
  },
  {
   "cell_type": "markdown",
   "metadata": {},
   "source": [
    "## Back to pandas\n",
    "\n",
    "I've provided the reviews by the top 100 reviewers.\n",
    "We'll use it for talking about groupby."
   ]
  },
  {
   "cell_type": "code",
   "execution_count": 18,
   "metadata": {
    "collapsed": false
   },
   "outputs": [
    {
     "data": {
      "text/html": [
       "<div>\n",
       "<style>\n",
       "    .dataframe thead tr:only-child th {\n",
       "        text-align: right;\n",
       "    }\n",
       "\n",
       "    .dataframe thead th {\n",
       "        text-align: left;\n",
       "    }\n",
       "\n",
       "    .dataframe tbody tr th {\n",
       "        vertical-align: top;\n",
       "    }\n",
       "</style>\n",
       "<table border=\"1\" class=\"dataframe\">\n",
       "  <thead>\n",
       "    <tr style=\"text-align: right;\">\n",
       "      <th></th>\n",
       "      <th>abv</th>\n",
       "      <th>beer_id</th>\n",
       "      <th>brewer_id</th>\n",
       "      <th>beer_name</th>\n",
       "      <th>beer_style</th>\n",
       "      <th>review_appearance</th>\n",
       "      <th>review_aroma</th>\n",
       "      <th>review_overall</th>\n",
       "      <th>review_palate</th>\n",
       "      <th>profile_name</th>\n",
       "      <th>review_taste</th>\n",
       "      <th>text</th>\n",
       "      <th>time</th>\n",
       "    </tr>\n",
       "  </thead>\n",
       "  <tbody>\n",
       "    <tr>\n",
       "      <th>0</th>\n",
       "      <td>5.3</td>\n",
       "      <td>93</td>\n",
       "      <td>33</td>\n",
       "      <td>Steel Rail Extra Pale Ale</td>\n",
       "      <td>American Pale Ale (APA)</td>\n",
       "      <td>3.5</td>\n",
       "      <td>3.5</td>\n",
       "      <td>4.0</td>\n",
       "      <td>4.0</td>\n",
       "      <td>Todd</td>\n",
       "      <td>4.0</td>\n",
       "      <td>Presentation: Pint size, on tap from the Easts...</td>\n",
       "      <td>1996-08-22 00:00:01</td>\n",
       "    </tr>\n",
       "    <tr>\n",
       "      <th>1</th>\n",
       "      <td>17.5</td>\n",
       "      <td>111</td>\n",
       "      <td>35</td>\n",
       "      <td>Samuel Adams Triple Bock</td>\n",
       "      <td>American Strong Ale</td>\n",
       "      <td>3.0</td>\n",
       "      <td>4.0</td>\n",
       "      <td>4.0</td>\n",
       "      <td>4.5</td>\n",
       "      <td>Todd</td>\n",
       "      <td>4.5</td>\n",
       "      <td>Presentation: 8.45oz blue bottle with gold let...</td>\n",
       "      <td>1998-01-10 00:00:01</td>\n",
       "    </tr>\n",
       "    <tr>\n",
       "      <th>2</th>\n",
       "      <td>NaN</td>\n",
       "      <td>110</td>\n",
       "      <td>35</td>\n",
       "      <td>Samuel Adams Cream Ale</td>\n",
       "      <td>Cream Ale</td>\n",
       "      <td>4.5</td>\n",
       "      <td>4.0</td>\n",
       "      <td>4.5</td>\n",
       "      <td>4.0</td>\n",
       "      <td>Jason</td>\n",
       "      <td>4.5</td>\n",
       "      <td>Presentation: Pint. On tap at the Samuel Adams...</td>\n",
       "      <td>1998-01-28 00:00:01</td>\n",
       "    </tr>\n",
       "    <tr>\n",
       "      <th>3</th>\n",
       "      <td>5.2</td>\n",
       "      <td>148</td>\n",
       "      <td>45</td>\n",
       "      <td>Brooklyn Lager</td>\n",
       "      <td>American Amber / Red Lager</td>\n",
       "      <td>3.0</td>\n",
       "      <td>2.5</td>\n",
       "      <td>4.0</td>\n",
       "      <td>3.5</td>\n",
       "      <td>Todd</td>\n",
       "      <td>3.5</td>\n",
       "      <td>Presentation: 12 oz. brown bottle with a clear...</td>\n",
       "      <td>1998-02-11 00:00:01</td>\n",
       "    </tr>\n",
       "    <tr>\n",
       "      <th>4</th>\n",
       "      <td>5.6</td>\n",
       "      <td>325</td>\n",
       "      <td>100</td>\n",
       "      <td>McNeill's Firehouse Amber Ale</td>\n",
       "      <td>American Amber / Red Ale</td>\n",
       "      <td>3.5</td>\n",
       "      <td>3.5</td>\n",
       "      <td>4.0</td>\n",
       "      <td>3.5</td>\n",
       "      <td>Todd</td>\n",
       "      <td>4.0</td>\n",
       "      <td>Presentation: An old picture of firehouse with...</td>\n",
       "      <td>1998-02-14 00:00:01</td>\n",
       "    </tr>\n",
       "  </tbody>\n",
       "</table>\n",
       "</div>"
      ],
      "text/plain": [
       "    abv  beer_id  brewer_id                      beer_name  \\\n",
       "0   5.3       93         33      Steel Rail Extra Pale Ale   \n",
       "1  17.5      111         35       Samuel Adams Triple Bock   \n",
       "2   NaN      110         35         Samuel Adams Cream Ale   \n",
       "3   5.2      148         45                 Brooklyn Lager   \n",
       "4   5.6      325        100  McNeill's Firehouse Amber Ale   \n",
       "\n",
       "                   beer_style  review_appearance  review_aroma  \\\n",
       "0     American Pale Ale (APA)                3.5           3.5   \n",
       "1         American Strong Ale                3.0           4.0   \n",
       "2                   Cream Ale                4.5           4.0   \n",
       "3  American Amber / Red Lager                3.0           2.5   \n",
       "4    American Amber / Red Ale                3.5           3.5   \n",
       "\n",
       "   review_overall  review_palate profile_name  review_taste  \\\n",
       "0             4.0            4.0         Todd           4.0   \n",
       "1             4.0            4.5         Todd           4.5   \n",
       "2             4.5            4.0        Jason           4.5   \n",
       "3             4.0            3.5         Todd           3.5   \n",
       "4             4.0            3.5         Todd           4.0   \n",
       "\n",
       "                                                text                time  \n",
       "0  Presentation: Pint size, on tap from the Easts... 1996-08-22 00:00:01  \n",
       "1  Presentation: 8.45oz blue bottle with gold let... 1998-01-10 00:00:01  \n",
       "2  Presentation: Pint. On tap at the Samuel Adams... 1998-01-28 00:00:01  \n",
       "3  Presentation: 12 oz. brown bottle with a clear... 1998-02-11 00:00:01  \n",
       "4  Presentation: An old picture of firehouse with... 1998-02-14 00:00:01  "
      ]
     },
     "execution_count": 18,
     "metadata": {},
     "output_type": "execute_result"
    }
   ],
   "source": [
    "df = pd.read_csv(\"data/subset.csv.gz\", compression=\"gzip\",\n",
    "                 parse_dates=['time'])\n",
    "df.head()"
   ]
  },
  {
   "cell_type": "code",
   "execution_count": 19,
   "metadata": {
    "collapsed": false
   },
   "outputs": [
    {
     "name": "stdout",
     "output_type": "stream",
     "text": [
      "<class 'pandas.core.frame.DataFrame'>\n",
      "RangeIndex: 76014 entries, 0 to 76013\n",
      "Data columns (total 13 columns):\n",
      "abv                  68126 non-null float64\n",
      "beer_id              76014 non-null int64\n",
      "brewer_id            76014 non-null int64\n",
      "beer_name            76014 non-null object\n",
      "beer_style           76014 non-null object\n",
      "review_appearance    76014 non-null float64\n",
      "review_aroma         76014 non-null float64\n",
      "review_overall       76014 non-null float64\n",
      "review_palate        76014 non-null float64\n",
      "profile_name         76014 non-null object\n",
      "review_taste         76014 non-null float64\n",
      "text                 76014 non-null object\n",
      "time                 76014 non-null datetime64[ns]\n",
      "dtypes: datetime64[ns](1), float64(6), int64(2), object(4)\n",
      "memory usage: 7.5+ MB\n"
     ]
    }
   ],
   "source": [
    "df.info()"
   ]
  },
  {
   "cell_type": "markdown",
   "metadata": {},
   "source": [
    "## Aside: Namespaces\n",
    "\n",
    "Pandas has been expanding its use of namespaces (or accessors) on `DataFrame` to group together related methods. This also limits the number of methods direclty attached to `DataFrame` itself, which can be overwhelming.\n",
    "\n",
    "Currently, we have these namespaces:\n",
    "\n",
    "- `.str`: defined on `Series` and `Index`es containing strings (object dtype)\n",
    "- `.dt`: defined on `Series` with `datetime` or `timedelta` dtype\n",
    "- `.cat`: defined on `Series` and `Indexes` with `category` dtype\n",
    "- `.plot`: defined on `Series` and `DataFrames`"
   ]
  },
  {
   "cell_type": "markdown",
   "metadata": {},
   "source": [
    "<div class=\"alert alert-success\" data-title=\"Reviews by Hour\">\n",
    "  <h1><i class=\"fa fa-tasks\" aria-hidden=\"true\"></i> Exercise: Reviews by Hour</h1>\n",
    "</div>\n",
    "\n",
    "<p>Make a barplot of the count of reviews by hour of the day.</p>"
   ]
  },
  {
   "cell_type": "markdown",
   "metadata": {},
   "source": [
    "- Hint: Use the `.dt` namespace to get the `hour` component of a `datetime`\n",
    "- Hint: We've seen `Series.value_counts` for getting the count of each value\n",
    "- Hint: Use `.sort_index` to make sure the data is ordered by hour, not count\n",
    "- Hint: Use the [`.plot`](http://pandas.pydata.org/pandas-docs/stable/api.html#plotting) namespace to get a `bar` chart"
   ]
  },
  {
   "cell_type": "code",
   "execution_count": null,
   "metadata": {
    "collapsed": true
   },
   "outputs": [],
   "source": []
  },
  {
   "cell_type": "code",
   "execution_count": 25,
   "metadata": {
    "collapsed": false
   },
   "outputs": [
    {
     "data": {
      "image/png": "[encoded data removed]",
      "text/plain": [
       "<matplotlib.figure.Figure at 0x116178630>"
      ]
     },
     "metadata": {},
     "output_type": "display_data"
    }
   ],
   "source": [
    "%load solutions/groupby_03.py"
   ]
  },
  {
   "cell_type": "markdown",
   "metadata": {},
   "source": [
    "<div class=\"alert alert-success\" data-title=\"Pale Ales\">\n",
    "  <h1><i class=\"fa fa-tasks\" aria-hidden=\"true\"></i> Exercise: Pale Ales</h1>\n",
    "</div>\n",
    "<p>\n",
    "Make a variable `pale_ales` that filters `df` to just rows where `beer_style` contains the string `'pale ale'` (ignoring case)\n",
    "</p>\n",
    "- Hint: Use the `df.beer_style.str` namespace and find a method for checking whether a string contains another string."
   ]
  },
  {
   "cell_type": "code",
   "execution_count": null,
   "metadata": {
    "collapsed": true
   },
   "outputs": [],
   "source": []
  },
  {
   "cell_type": "code",
   "execution_count": 23,
   "metadata": {
    "collapsed": false
   },
   "outputs": [
    {
     "data": {
      "text/html": [
       "<div>\n",
       "<style>\n",
       "    .dataframe thead tr:only-child th {\n",
       "        text-align: right;\n",
       "    }\n",
       "\n",
       "    .dataframe thead th {\n",
       "        text-align: left;\n",
       "    }\n",
       "\n",
       "    .dataframe tbody tr th {\n",
       "        vertical-align: top;\n",
       "    }\n",
       "</style>\n",
       "<table border=\"1\" class=\"dataframe\">\n",
       "  <thead>\n",
       "    <tr style=\"text-align: right;\">\n",
       "      <th></th>\n",
       "      <th>abv</th>\n",
       "      <th>beer_id</th>\n",
       "      <th>brewer_id</th>\n",
       "      <th>beer_name</th>\n",
       "      <th>beer_style</th>\n",
       "      <th>review_appearance</th>\n",
       "      <th>review_aroma</th>\n",
       "      <th>review_overall</th>\n",
       "      <th>review_palate</th>\n",
       "      <th>profile_name</th>\n",
       "      <th>review_taste</th>\n",
       "      <th>text</th>\n",
       "      <th>time</th>\n",
       "    </tr>\n",
       "  </thead>\n",
       "  <tbody>\n",
       "    <tr>\n",
       "      <th>0</th>\n",
       "      <td>5.3</td>\n",
       "      <td>93</td>\n",
       "      <td>33</td>\n",
       "      <td>Steel Rail Extra Pale Ale</td>\n",
       "      <td>American Pale Ale (APA)</td>\n",
       "      <td>3.5</td>\n",
       "      <td>3.5</td>\n",
       "      <td>4.0</td>\n",
       "      <td>4.0</td>\n",
       "      <td>Todd</td>\n",
       "      <td>4.0</td>\n",
       "      <td>Presentation: Pint size, on tap from the Easts...</td>\n",
       "      <td>1996-08-22 00:00:01</td>\n",
       "    </tr>\n",
       "    <tr>\n",
       "      <th>5</th>\n",
       "      <td>5.5</td>\n",
       "      <td>324</td>\n",
       "      <td>100</td>\n",
       "      <td>McNeill's Champ Ale</td>\n",
       "      <td>American Pale Ale (APA)</td>\n",
       "      <td>4.0</td>\n",
       "      <td>3.5</td>\n",
       "      <td>4.0</td>\n",
       "      <td>3.0</td>\n",
       "      <td>Todd</td>\n",
       "      <td>3.5</td>\n",
       "      <td>Presentation: 12 oz. bottle. Another story on ...</td>\n",
       "      <td>1998-02-17 00:00:01</td>\n",
       "    </tr>\n",
       "    <tr>\n",
       "      <th>11</th>\n",
       "      <td>5.0</td>\n",
       "      <td>264</td>\n",
       "      <td>6994</td>\n",
       "      <td>Alexander Keith's India Pale Ale</td>\n",
       "      <td>English India Pale Ale (IPA)</td>\n",
       "      <td>2.5</td>\n",
       "      <td>2.5</td>\n",
       "      <td>4.0</td>\n",
       "      <td>3.0</td>\n",
       "      <td>Todd</td>\n",
       "      <td>2.5</td>\n",
       "      <td>Presentation: 12oz brown twisty, with a red st...</td>\n",
       "      <td>1998-04-16 00:00:01</td>\n",
       "    </tr>\n",
       "    <tr>\n",
       "      <th>17</th>\n",
       "      <td>7.6</td>\n",
       "      <td>411</td>\n",
       "      <td>112</td>\n",
       "      <td>Pranqster</td>\n",
       "      <td>Belgian Strong Pale Ale</td>\n",
       "      <td>4.0</td>\n",
       "      <td>4.0</td>\n",
       "      <td>5.0</td>\n",
       "      <td>5.0</td>\n",
       "      <td>Todd</td>\n",
       "      <td>5.0</td>\n",
       "      <td>Presentation: 12oz fat twisty with a black&amp;whi...</td>\n",
       "      <td>1998-06-01 00:00:01</td>\n",
       "    </tr>\n",
       "    <tr>\n",
       "      <th>30</th>\n",
       "      <td>5.5</td>\n",
       "      <td>6900</td>\n",
       "      <td>495</td>\n",
       "      <td>Nor'Wester Oregon Pale Ale</td>\n",
       "      <td>American Pale Ale (APA)</td>\n",
       "      <td>4.0</td>\n",
       "      <td>4.5</td>\n",
       "      <td>4.0</td>\n",
       "      <td>4.0</td>\n",
       "      <td>Jason</td>\n",
       "      <td>4.5</td>\n",
       "      <td>Copper colour on the light side with a decent ...</td>\n",
       "      <td>1998-08-16 09:35:25</td>\n",
       "    </tr>\n",
       "  </tbody>\n",
       "</table>\n",
       "</div>"
      ],
      "text/plain": [
       "    abv  beer_id  brewer_id                         beer_name  \\\n",
       "0   5.3       93         33         Steel Rail Extra Pale Ale   \n",
       "5   5.5      324        100               McNeill's Champ Ale   \n",
       "11  5.0      264       6994  Alexander Keith's India Pale Ale   \n",
       "17  7.6      411        112                         Pranqster   \n",
       "30  5.5     6900        495        Nor'Wester Oregon Pale Ale   \n",
       "\n",
       "                      beer_style  review_appearance  review_aroma  \\\n",
       "0        American Pale Ale (APA)                3.5           3.5   \n",
       "5        American Pale Ale (APA)                4.0           3.5   \n",
       "11  English India Pale Ale (IPA)                2.5           2.5   \n",
       "17       Belgian Strong Pale Ale                4.0           4.0   \n",
       "30       American Pale Ale (APA)                4.0           4.5   \n",
       "\n",
       "    review_overall  review_palate profile_name  review_taste  \\\n",
       "0              4.0            4.0         Todd           4.0   \n",
       "5              4.0            3.0         Todd           3.5   \n",
       "11             4.0            3.0         Todd           2.5   \n",
       "17             5.0            5.0         Todd           5.0   \n",
       "30             4.0            4.0        Jason           4.5   \n",
       "\n",
       "                                                 text                time  \n",
       "0   Presentation: Pint size, on tap from the Easts... 1996-08-22 00:00:01  \n",
       "5   Presentation: 12 oz. bottle. Another story on ... 1998-02-17 00:00:01  \n",
       "11  Presentation: 12oz brown twisty, with a red st... 1998-04-16 00:00:01  \n",
       "17  Presentation: 12oz fat twisty with a black&whi... 1998-06-01 00:00:01  \n",
       "30  Copper colour on the light side with a decent ... 1998-08-16 09:35:25  "
      ]
     },
     "execution_count": 23,
     "metadata": {},
     "output_type": "execute_result"
    }
   ],
   "source": [
    "%load solutions/groupby_04.py"
   ]
  },
  {
   "cell_type": "markdown",
   "metadata": {},
   "source": [
    "# Groupby"
   ]
  },
  {
   "cell_type": "markdown",
   "metadata": {},
   "source": [
    "Groupby operations come up in a lot of contexts.\n",
    "At its root, groupby about doing an operation on many subsets of the data, each of which shares something in common.\n",
    "The components of a groupby operation are:"
   ]
  },
  {
   "cell_type": "markdown",
   "metadata": {},
   "source": [
    "## Components of a groupby\n",
    "\n",
    "1. **split** a table into groups\n",
    "2. **apply** a function to each group\n",
    "3. **combine** the results into a single DataFrame or Series"
   ]
  },
  {
   "cell_type": "markdown",
   "metadata": {},
   "source": [
    "In pandas the `split` step looks like\n",
    "\n",
    "```python\n",
    "df.groupby( grouper )\n",
    "```\n",
    "\n",
    "`grouper` can be many things\n",
    "\n",
    "- Series (or string indicating a column in `df`)\n",
    "- function (to be applied on the index)\n",
    "- dict : groups by *values*\n",
    "- `levels=[ names of levels in a MultiIndex ]`"
   ]
  },
  {
   "cell_type": "markdown",
   "metadata": {},
   "source": [
    "## Split\n",
    "\n",
    "Break a table into smaller logical tables according to some rule"
   ]
  },
  {
   "cell_type": "code",
   "execution_count": 26,
   "metadata": {
    "collapsed": false
   },
   "outputs": [
    {
     "data": {
      "text/plain": [
       "<pandas.core.groupby.DataFrameGroupBy object at 0x117e4c240>"
      ]
     },
     "execution_count": 26,
     "metadata": {},
     "output_type": "execute_result"
    }
   ],
   "source": [
    "gr = df.groupby(\"beer_name\")\n",
    "gr"
   ]
  },
  {
   "cell_type": "markdown",
   "metadata": {},
   "source": [
    "We haven't really done any actual work yet, but pandas knows what it needs to know to break the larger `df` into many smaller pieces, one for each distinct `beer_name`."
   ]
  },
  {
   "cell_type": "markdown",
   "metadata": {},
   "source": [
    "## Apply & Combine\n",
    "\n",
    "To finish the groupby, we apply a method to the groupby object."
   ]
  },
  {
   "cell_type": "code",
   "execution_count": 36,
   "metadata": {
    "collapsed": false
   },
   "outputs": [
    {
     "data": {
      "text/html": [
       "<div>\n",
       "<style>\n",
       "    .dataframe thead tr:only-child th {\n",
       "        text-align: right;\n",
       "    }\n",
       "\n",
       "    .dataframe thead th {\n",
       "        text-align: left;\n",
       "    }\n",
       "\n",
       "    .dataframe tbody tr th {\n",
       "        vertical-align: top;\n",
       "    }\n",
       "</style>\n",
       "<table border=\"1\" class=\"dataframe\">\n",
       "  <thead>\n",
       "    <tr style=\"text-align: right;\">\n",
       "      <th></th>\n",
       "      <th>review_appearance</th>\n",
       "      <th>review_aroma</th>\n",
       "      <th>review_overall</th>\n",
       "      <th>review_palate</th>\n",
       "      <th>review_taste</th>\n",
       "    </tr>\n",
       "    <tr>\n",
       "      <th>beer_name</th>\n",
       "      <th></th>\n",
       "      <th></th>\n",
       "      <th></th>\n",
       "      <th></th>\n",
       "      <th></th>\n",
       "    </tr>\n",
       "  </thead>\n",
       "  <tbody>\n",
       "    <tr>\n",
       "      <th>\"50\" Golden Anniversary Lager</th>\n",
       "      <td>5.000000</td>\n",
       "      <td>3.500000</td>\n",
       "      <td>4.000000</td>\n",
       "      <td>3.500000</td>\n",
       "      <td>3.500000</td>\n",
       "    </tr>\n",
       "    <tr>\n",
       "      <th>\"Alt\"ered State</th>\n",
       "      <td>4.000000</td>\n",
       "      <td>3.750000</td>\n",
       "      <td>3.500000</td>\n",
       "      <td>4.000000</td>\n",
       "      <td>4.000000</td>\n",
       "    </tr>\n",
       "    <tr>\n",
       "      <th>\"Double Wrecked Wreck\" IPA</th>\n",
       "      <td>3.250000</td>\n",
       "      <td>3.750000</td>\n",
       "      <td>4.000000</td>\n",
       "      <td>4.000000</td>\n",
       "      <td>3.750000</td>\n",
       "    </tr>\n",
       "    <tr>\n",
       "      <th>\"Marnie\" Gras Carnival Ale</th>\n",
       "      <td>3.666667</td>\n",
       "      <td>4.333333</td>\n",
       "      <td>3.833333</td>\n",
       "      <td>4.000000</td>\n",
       "      <td>4.000000</td>\n",
       "    </tr>\n",
       "    <tr>\n",
       "      <th>\"Old Yeltsin\" Imperial Stout</th>\n",
       "      <td>4.176471</td>\n",
       "      <td>4.088235</td>\n",
       "      <td>3.676471</td>\n",
       "      <td>3.882353</td>\n",
       "      <td>3.970588</td>\n",
       "    </tr>\n",
       "    <tr>\n",
       "      <th>...</th>\n",
       "      <td>...</td>\n",
       "      <td>...</td>\n",
       "      <td>...</td>\n",
       "      <td>...</td>\n",
       "      <td>...</td>\n",
       "    </tr>\n",
       "    <tr>\n",
       "      <th>Öko Ur-Weizen</th>\n",
       "      <td>3.750000</td>\n",
       "      <td>4.000000</td>\n",
       "      <td>3.500000</td>\n",
       "      <td>3.250000</td>\n",
       "      <td>3.500000</td>\n",
       "    </tr>\n",
       "    <tr>\n",
       "      <th>Öko Urtrunk</th>\n",
       "      <td>4.000000</td>\n",
       "      <td>4.000000</td>\n",
       "      <td>4.500000</td>\n",
       "      <td>4.000000</td>\n",
       "      <td>4.000000</td>\n",
       "    </tr>\n",
       "    <tr>\n",
       "      <th>Ölsch</th>\n",
       "      <td>4.000000</td>\n",
       "      <td>4.000000</td>\n",
       "      <td>4.500000</td>\n",
       "      <td>4.000000</td>\n",
       "      <td>4.500000</td>\n",
       "    </tr>\n",
       "    <tr>\n",
       "      <th>Über Pils</th>\n",
       "      <td>4.088235</td>\n",
       "      <td>4.029412</td>\n",
       "      <td>4.235294</td>\n",
       "      <td>3.882353</td>\n",
       "      <td>4.147059</td>\n",
       "    </tr>\n",
       "    <tr>\n",
       "      <th>Über Weisse</th>\n",
       "      <td>4.000000</td>\n",
       "      <td>4.500000</td>\n",
       "      <td>4.000000</td>\n",
       "      <td>4.000000</td>\n",
       "      <td>4.000000</td>\n",
       "    </tr>\n",
       "  </tbody>\n",
       "</table>\n",
       "<p>12018 rows × 5 columns</p>\n",
       "</div>"
      ],
      "text/plain": [
       "                               review_appearance  review_aroma  \\\n",
       "beer_name                                                        \n",
       "\"50\" Golden Anniversary Lager           5.000000      3.500000   \n",
       "\"Alt\"ered State                         4.000000      3.750000   \n",
       "\"Double Wrecked Wreck\" IPA              3.250000      3.750000   \n",
       "\"Marnie\" Gras Carnival Ale              3.666667      4.333333   \n",
       "\"Old Yeltsin\" Imperial Stout            4.176471      4.088235   \n",
       "...                                          ...           ...   \n",
       "Öko Ur-Weizen                           3.750000      4.000000   \n",
       "Öko Urtrunk                             4.000000      4.000000   \n",
       "Ölsch                                   4.000000      4.000000   \n",
       "Über Pils                               4.088235      4.029412   \n",
       "Über Weisse                             4.000000      4.500000   \n",
       "\n",
       "                               review_overall  review_palate  review_taste  \n",
       "beer_name                                                                   \n",
       "\"50\" Golden Anniversary Lager        4.000000       3.500000      3.500000  \n",
       "\"Alt\"ered State                      3.500000       4.000000      4.000000  \n",
       "\"Double Wrecked Wreck\" IPA           4.000000       4.000000      3.750000  \n",
       "\"Marnie\" Gras Carnival Ale           3.833333       4.000000      4.000000  \n",
       "\"Old Yeltsin\" Imperial Stout         3.676471       3.882353      3.970588  \n",
       "...                                       ...            ...           ...  \n",
       "Öko Ur-Weizen                        3.500000       3.250000      3.500000  \n",
       "Öko Urtrunk                          4.500000       4.000000      4.000000  \n",
       "Ölsch                                4.500000       4.000000      4.500000  \n",
       "Über Pils                            4.235294       3.882353      4.147059  \n",
       "Über Weisse                          4.000000       4.000000      4.000000  \n",
       "\n",
       "[12018 rows x 5 columns]"
      ]
     },
     "execution_count": 36,
     "metadata": {},
     "output_type": "execute_result"
    }
   ],
   "source": [
    "review_cols = ['review_appearance', 'review_aroma', 'review_overall',\n",
    "               'review_palate', 'review_taste']\n",
    "\n",
    "df.groupby('beer_name')[review_cols].agg('mean')"
   ]
  },
  {
   "cell_type": "markdown",
   "metadata": {},
   "source": [
    "In this case, the function we applied was `'mean'`.\n",
    "Pandas has implemented cythonized versions of certain common methods like mean, sum, etc.\n",
    "You can also pass in regular functions like `np.mean`.\n",
    "\n",
    "In terms of split, apply, combine, split was `df.groupby('beer_name')`. \n",
    "We apply the `mean` function by passing in `'mean'`.\n",
    "Finally, by using the `.agg` method (for aggregate) we tell pandas to combine the results with one output row per group.\n",
    "\n",
    "You can also pass in regular functions like `np.mean`."
   ]
  },
  {
   "cell_type": "code",
   "execution_count": 37,
   "metadata": {
    "collapsed": false
   },
   "outputs": [
    {
     "data": {
      "text/html": [
       "<div>\n",
       "<style>\n",
       "    .dataframe thead tr:only-child th {\n",
       "        text-align: right;\n",
       "    }\n",
       "\n",
       "    .dataframe thead th {\n",
       "        text-align: left;\n",
       "    }\n",
       "\n",
       "    .dataframe tbody tr th {\n",
       "        vertical-align: top;\n",
       "    }\n",
       "</style>\n",
       "<table border=\"1\" class=\"dataframe\">\n",
       "  <thead>\n",
       "    <tr style=\"text-align: right;\">\n",
       "      <th></th>\n",
       "      <th>review_appearance</th>\n",
       "      <th>review_aroma</th>\n",
       "      <th>review_overall</th>\n",
       "      <th>review_palate</th>\n",
       "      <th>review_taste</th>\n",
       "    </tr>\n",
       "    <tr>\n",
       "      <th>beer_name</th>\n",
       "      <th></th>\n",
       "      <th></th>\n",
       "      <th></th>\n",
       "      <th></th>\n",
       "      <th></th>\n",
       "    </tr>\n",
       "  </thead>\n",
       "  <tbody>\n",
       "    <tr>\n",
       "      <th>\"50\" Golden Anniversary Lager</th>\n",
       "      <td>5.000000</td>\n",
       "      <td>3.500000</td>\n",
       "      <td>4.000000</td>\n",
       "      <td>3.500000</td>\n",
       "      <td>3.500000</td>\n",
       "    </tr>\n",
       "    <tr>\n",
       "      <th>\"Alt\"ered State</th>\n",
       "      <td>4.000000</td>\n",
       "      <td>3.750000</td>\n",
       "      <td>3.500000</td>\n",
       "      <td>4.000000</td>\n",
       "      <td>4.000000</td>\n",
       "    </tr>\n",
       "    <tr>\n",
       "      <th>\"Double Wrecked Wreck\" IPA</th>\n",
       "      <td>3.250000</td>\n",
       "      <td>3.750000</td>\n",
       "      <td>4.000000</td>\n",
       "      <td>4.000000</td>\n",
       "      <td>3.750000</td>\n",
       "    </tr>\n",
       "    <tr>\n",
       "      <th>\"Marnie\" Gras Carnival Ale</th>\n",
       "      <td>3.666667</td>\n",
       "      <td>4.333333</td>\n",
       "      <td>3.833333</td>\n",
       "      <td>4.000000</td>\n",
       "      <td>4.000000</td>\n",
       "    </tr>\n",
       "    <tr>\n",
       "      <th>\"Old Yeltsin\" Imperial Stout</th>\n",
       "      <td>4.176471</td>\n",
       "      <td>4.088235</td>\n",
       "      <td>3.676471</td>\n",
       "      <td>3.882353</td>\n",
       "      <td>3.970588</td>\n",
       "    </tr>\n",
       "  </tbody>\n",
       "</table>\n",
       "</div>"
      ],
      "text/plain": [
       "                               review_appearance  review_aroma  \\\n",
       "beer_name                                                        \n",
       "\"50\" Golden Anniversary Lager           5.000000      3.500000   \n",
       "\"Alt\"ered State                         4.000000      3.750000   \n",
       "\"Double Wrecked Wreck\" IPA              3.250000      3.750000   \n",
       "\"Marnie\" Gras Carnival Ale              3.666667      4.333333   \n",
       "\"Old Yeltsin\" Imperial Stout            4.176471      4.088235   \n",
       "\n",
       "                               review_overall  review_palate  review_taste  \n",
       "beer_name                                                                   \n",
       "\"50\" Golden Anniversary Lager        4.000000       3.500000      3.500000  \n",
       "\"Alt\"ered State                      3.500000       4.000000      4.000000  \n",
       "\"Double Wrecked Wreck\" IPA           4.000000       4.000000      3.750000  \n",
       "\"Marnie\" Gras Carnival Ale           3.833333       4.000000      4.000000  \n",
       "\"Old Yeltsin\" Imperial Stout         3.676471       3.882353      3.970588  "
      ]
     },
     "execution_count": 37,
     "metadata": {},
     "output_type": "execute_result"
    }
   ],
   "source": [
    "df.groupby('beer_name')[review_cols].agg(np.mean).head()"
   ]
  },
  {
   "cell_type": "markdown",
   "metadata": {},
   "source": [
    "Finally, [certain methods](http://pandas.pydata.org/pandas-docs/stable/api.html#id35) have been attached to `Groupby` objects."
   ]
  },
  {
   "cell_type": "code",
   "execution_count": 38,
   "metadata": {
    "collapsed": false
   },
   "outputs": [
    {
     "data": {
      "text/html": [
       "<div>\n",
       "<style>\n",
       "    .dataframe thead tr:only-child th {\n",
       "        text-align: right;\n",
       "    }\n",
       "\n",
       "    .dataframe thead th {\n",
       "        text-align: left;\n",
       "    }\n",
       "\n",
       "    .dataframe tbody tr th {\n",
       "        vertical-align: top;\n",
       "    }\n",
       "</style>\n",
       "<table border=\"1\" class=\"dataframe\">\n",
       "  <thead>\n",
       "    <tr style=\"text-align: right;\">\n",
       "      <th></th>\n",
       "      <th>review_appearance</th>\n",
       "      <th>review_aroma</th>\n",
       "      <th>review_overall</th>\n",
       "      <th>review_palate</th>\n",
       "      <th>review_taste</th>\n",
       "    </tr>\n",
       "    <tr>\n",
       "      <th>beer_name</th>\n",
       "      <th></th>\n",
       "      <th></th>\n",
       "      <th></th>\n",
       "      <th></th>\n",
       "      <th></th>\n",
       "    </tr>\n",
       "  </thead>\n",
       "  <tbody>\n",
       "    <tr>\n",
       "      <th>\"50\" Golden Anniversary Lager</th>\n",
       "      <td>5.000000</td>\n",
       "      <td>3.500000</td>\n",
       "      <td>4.000000</td>\n",
       "      <td>3.500000</td>\n",
       "      <td>3.500000</td>\n",
       "    </tr>\n",
       "    <tr>\n",
       "      <th>\"Alt\"ered State</th>\n",
       "      <td>4.000000</td>\n",
       "      <td>3.750000</td>\n",
       "      <td>3.500000</td>\n",
       "      <td>4.000000</td>\n",
       "      <td>4.000000</td>\n",
       "    </tr>\n",
       "    <tr>\n",
       "      <th>\"Double Wrecked Wreck\" IPA</th>\n",
       "      <td>3.250000</td>\n",
       "      <td>3.750000</td>\n",
       "      <td>4.000000</td>\n",
       "      <td>4.000000</td>\n",
       "      <td>3.750000</td>\n",
       "    </tr>\n",
       "    <tr>\n",
       "      <th>\"Marnie\" Gras Carnival Ale</th>\n",
       "      <td>3.666667</td>\n",
       "      <td>4.333333</td>\n",
       "      <td>3.833333</td>\n",
       "      <td>4.000000</td>\n",
       "      <td>4.000000</td>\n",
       "    </tr>\n",
       "    <tr>\n",
       "      <th>\"Old Yeltsin\" Imperial Stout</th>\n",
       "      <td>4.176471</td>\n",
       "      <td>4.088235</td>\n",
       "      <td>3.676471</td>\n",
       "      <td>3.882353</td>\n",
       "      <td>3.970588</td>\n",
       "    </tr>\n",
       "    <tr>\n",
       "      <th>...</th>\n",
       "      <td>...</td>\n",
       "      <td>...</td>\n",
       "      <td>...</td>\n",
       "      <td>...</td>\n",
       "      <td>...</td>\n",
       "    </tr>\n",
       "    <tr>\n",
       "      <th>Öko Ur-Weizen</th>\n",
       "      <td>3.750000</td>\n",
       "      <td>4.000000</td>\n",
       "      <td>3.500000</td>\n",
       "      <td>3.250000</td>\n",
       "      <td>3.500000</td>\n",
       "    </tr>\n",
       "    <tr>\n",
       "      <th>Öko Urtrunk</th>\n",
       "      <td>4.000000</td>\n",
       "      <td>4.000000</td>\n",
       "      <td>4.500000</td>\n",
       "      <td>4.000000</td>\n",
       "      <td>4.000000</td>\n",
       "    </tr>\n",
       "    <tr>\n",
       "      <th>Ölsch</th>\n",
       "      <td>4.000000</td>\n",
       "      <td>4.000000</td>\n",
       "      <td>4.500000</td>\n",
       "      <td>4.000000</td>\n",
       "      <td>4.500000</td>\n",
       "    </tr>\n",
       "    <tr>\n",
       "      <th>Über Pils</th>\n",
       "      <td>4.088235</td>\n",
       "      <td>4.029412</td>\n",
       "      <td>4.235294</td>\n",
       "      <td>3.882353</td>\n",
       "      <td>4.147059</td>\n",
       "    </tr>\n",
       "    <tr>\n",
       "      <th>Über Weisse</th>\n",
       "      <td>4.000000</td>\n",
       "      <td>4.500000</td>\n",
       "      <td>4.000000</td>\n",
       "      <td>4.000000</td>\n",
       "      <td>4.000000</td>\n",
       "    </tr>\n",
       "  </tbody>\n",
       "</table>\n",
       "<p>12018 rows × 5 columns</p>\n",
       "</div>"
      ],
      "text/plain": [
       "                               review_appearance  review_aroma  \\\n",
       "beer_name                                                        \n",
       "\"50\" Golden Anniversary Lager           5.000000      3.500000   \n",
       "\"Alt\"ered State                         4.000000      3.750000   \n",
       "\"Double Wrecked Wreck\" IPA              3.250000      3.750000   \n",
       "\"Marnie\" Gras Carnival Ale              3.666667      4.333333   \n",
       "\"Old Yeltsin\" Imperial Stout            4.176471      4.088235   \n",
       "...                                          ...           ...   \n",
       "Öko Ur-Weizen                           3.750000      4.000000   \n",
       "Öko Urtrunk                             4.000000      4.000000   \n",
       "Ölsch                                   4.000000      4.000000   \n",
       "Über Pils                               4.088235      4.029412   \n",
       "Über Weisse                             4.000000      4.500000   \n",
       "\n",
       "                               review_overall  review_palate  review_taste  \n",
       "beer_name                                                                   \n",
       "\"50\" Golden Anniversary Lager        4.000000       3.500000      3.500000  \n",
       "\"Alt\"ered State                      3.500000       4.000000      4.000000  \n",
       "\"Double Wrecked Wreck\" IPA           4.000000       4.000000      3.750000  \n",
       "\"Marnie\" Gras Carnival Ale           3.833333       4.000000      4.000000  \n",
       "\"Old Yeltsin\" Imperial Stout         3.676471       3.882353      3.970588  \n",
       "...                                       ...            ...           ...  \n",
       "Öko Ur-Weizen                        3.500000       3.250000      3.500000  \n",
       "Öko Urtrunk                          4.500000       4.000000      4.000000  \n",
       "Ölsch                                4.500000       4.000000      4.500000  \n",
       "Über Pils                            4.235294       3.882353      4.147059  \n",
       "Über Weisse                          4.000000       4.000000      4.000000  \n",
       "\n",
       "[12018 rows x 5 columns]"
      ]
     },
     "execution_count": 38,
     "metadata": {},
     "output_type": "execute_result"
    }
   ],
   "source": [
    "df.groupby('beer_name')[review_cols].mean()"
   ]
  },
  {
   "cell_type": "markdown",
   "metadata": {},
   "source": [
    "<div class=\"alert alert-success\" data-title=\"Highest Variance\">\n",
    "  <h1><i class=\"fa fa-tasks\" aria-hidden=\"true\"></i> Exercise: Highest Variance</h1>\n",
    "</div>\n",
    "\n",
    "<p>Find the `beer_style`s with the greatest variance in `abv`.</p>\n",
    "\n",
    "- hint: `.std` calculates the standard deviation (`.var` for variance), and is available on `GroupBy` objects like `gr.abv`.\n",
    "- hint: use `.sort_values` to sort a Series by the values (it took us a while to come up with that name)"
   ]
  },
  {
   "cell_type": "code",
   "execution_count": null,
   "metadata": {
    "collapsed": true
   },
   "outputs": [],
   "source": []
  },
  {
   "cell_type": "code",
   "execution_count": 40,
   "metadata": {
    "collapsed": false
   },
   "outputs": [
    {
     "data": {
      "text/plain": [
       "beer_style\n",
       "American Double / Imperial Stout    3.700889\n",
       "American Strong Ale                 3.234183\n",
       "Braggot                             2.618438\n",
       "American Double / Imperial IPA      2.109514\n",
       "Old Ale                             2.033783\n",
       "                                      ...   \n",
       "Bière de Champagne / Bière Brut     0.235535\n",
       "Roggenbier                          0.234678\n",
       "Japanese Rice Lager                 0.167577\n",
       "Gose                                0.073030\n",
       "American Black Ale                  0.000000\n",
       "Name: abv, Length: 103, dtype: float64"
      ]
     },
     "execution_count": 40,
     "metadata": {},
     "output_type": "execute_result"
    }
   ],
   "source": [
    "%load solutions/groupby_abv.py"
   ]
  },
  {
   "cell_type": "markdown",
   "metadata": {},
   "source": [
    "## `.agg` output shape\n",
    "\n",
    "The output shape is determined by the grouper, data, and aggregation\n",
    "\n",
    "- Grouper: Controls the output index\n",
    "    * single grouper -> Index\n",
    "    * array-like grouper -> MultiIndex\n",
    "- Subject (Groupee): Controls the output data values\n",
    "    * single column -> Series (or DataFrame if multiple aggregations)\n",
    "    * multiple columns -> DataFrame\n",
    "- Aggregation: Controls the output columns\n",
    "    * single aggfunc -> Index in the colums\n",
    "    * multiple aggfuncs -> MultiIndex in the columns (Or 1-D Index if groupee is 1-D)"
   ]
  },
  {
   "cell_type": "markdown",
   "metadata": {},
   "source": [
    "\n",
    "We'll go into MultiIndexes in a bit, but for know, think of them as regular Indexes with multiple levels (columns)."
   ]
  },
  {
   "cell_type": "code",
   "execution_count": 24,
   "metadata": {
    "collapsed": false
   },
   "outputs": [
    {
     "data": {
      "text/plain": [
       "beer_style\n",
       "Altbier                       3.844017\n",
       "American Adjunct Lager        2.708166\n",
       "American Amber / Red Ale      3.741607\n",
       "American Amber / Red Lager    3.455166\n",
       "American Barleywine           4.005499\n",
       "                                ...   \n",
       "Vienna Lager                  3.697218\n",
       "Weizenbock                    4.040816\n",
       "Wheatwine                     4.013514\n",
       "Winter Warmer                 3.792023\n",
       "Witbier                       3.886922\n",
       "Name: review_overall, dtype: float64"
      ]
     },
     "execution_count": 24,
     "metadata": {},
     "output_type": "execute_result"
    }
   ],
   "source": [
    "# single grouper, single groupee, single aggregation\n",
    "df.groupby('beer_style').review_overall.agg('mean')"
   ]
  },
  {
   "cell_type": "code",
   "execution_count": 31,
   "metadata": {
    "collapsed": false
   },
   "outputs": [
    {
     "data": {
      "text/html": [
       "<div>\n",
       "<table border=\"1\" class=\"dataframe\">\n",
       "  <thead>\n",
       "    <tr>\n",
       "      <th></th>\n",
       "      <th></th>\n",
       "      <th colspan=\"5\" halign=\"left\">review_appearance</th>\n",
       "      <th colspan=\"5\" halign=\"left\">review_aroma</th>\n",
       "      <th>...</th>\n",
       "      <th colspan=\"5\" halign=\"left\">review_palate</th>\n",
       "      <th colspan=\"5\" halign=\"left\">review_taste</th>\n",
       "    </tr>\n",
       "    <tr>\n",
       "      <th></th>\n",
       "      <th></th>\n",
       "      <th>mean</th>\n",
       "      <th>min</th>\n",
       "      <th>max</th>\n",
       "      <th>std</th>\n",
       "      <th>count</th>\n",
       "      <th>mean</th>\n",
       "      <th>min</th>\n",
       "      <th>max</th>\n",
       "      <th>std</th>\n",
       "      <th>count</th>\n",
       "      <th>...</th>\n",
       "      <th>mean</th>\n",
       "      <th>min</th>\n",
       "      <th>max</th>\n",
       "      <th>std</th>\n",
       "      <th>count</th>\n",
       "      <th>mean</th>\n",
       "      <th>min</th>\n",
       "      <th>max</th>\n",
       "      <th>std</th>\n",
       "      <th>count</th>\n",
       "    </tr>\n",
       "    <tr>\n",
       "      <th>brewer_id</th>\n",
       "      <th>beer_name</th>\n",
       "      <th></th>\n",
       "      <th></th>\n",
       "      <th></th>\n",
       "      <th></th>\n",
       "      <th></th>\n",
       "      <th></th>\n",
       "      <th></th>\n",
       "      <th></th>\n",
       "      <th></th>\n",
       "      <th></th>\n",
       "      <th></th>\n",
       "      <th></th>\n",
       "      <th></th>\n",
       "      <th></th>\n",
       "      <th></th>\n",
       "      <th></th>\n",
       "      <th></th>\n",
       "      <th></th>\n",
       "      <th></th>\n",
       "      <th></th>\n",
       "      <th></th>\n",
       "    </tr>\n",
       "  </thead>\n",
       "  <tbody>\n",
       "    <tr>\n",
       "      <th rowspan=\"5\" valign=\"top\">1</th>\n",
       "      <th>Eisbrau Czech</th>\n",
       "      <td>3.000000</td>\n",
       "      <td>3.0</td>\n",
       "      <td>3.0</td>\n",
       "      <td>NaN</td>\n",
       "      <td>1</td>\n",
       "      <td>3.000000</td>\n",
       "      <td>3.0</td>\n",
       "      <td>3.0</td>\n",
       "      <td>NaN</td>\n",
       "      <td>1</td>\n",
       "      <td>...</td>\n",
       "      <td>3.500000</td>\n",
       "      <td>3.5</td>\n",
       "      <td>3.5</td>\n",
       "      <td>NaN</td>\n",
       "      <td>1</td>\n",
       "      <td>3.500000</td>\n",
       "      <td>3.5</td>\n",
       "      <td>3.5</td>\n",
       "      <td>NaN</td>\n",
       "      <td>1</td>\n",
       "    </tr>\n",
       "    <tr>\n",
       "      <th>Gambrinus</th>\n",
       "      <td>4.000000</td>\n",
       "      <td>3.5</td>\n",
       "      <td>4.5</td>\n",
       "      <td>0.707107</td>\n",
       "      <td>2</td>\n",
       "      <td>4.000000</td>\n",
       "      <td>4.0</td>\n",
       "      <td>4.0</td>\n",
       "      <td>0.000000</td>\n",
       "      <td>2</td>\n",
       "      <td>...</td>\n",
       "      <td>3.750000</td>\n",
       "      <td>3.0</td>\n",
       "      <td>4.5</td>\n",
       "      <td>1.060660</td>\n",
       "      <td>2</td>\n",
       "      <td>4.000000</td>\n",
       "      <td>4.0</td>\n",
       "      <td>4.0</td>\n",
       "      <td>0.000000</td>\n",
       "      <td>2</td>\n",
       "    </tr>\n",
       "    <tr>\n",
       "      <th>Gambrinus Pale</th>\n",
       "      <td>3.500000</td>\n",
       "      <td>3.5</td>\n",
       "      <td>3.5</td>\n",
       "      <td>NaN</td>\n",
       "      <td>1</td>\n",
       "      <td>3.500000</td>\n",
       "      <td>3.5</td>\n",
       "      <td>3.5</td>\n",
       "      <td>NaN</td>\n",
       "      <td>1</td>\n",
       "      <td>...</td>\n",
       "      <td>3.500000</td>\n",
       "      <td>3.5</td>\n",
       "      <td>3.5</td>\n",
       "      <td>NaN</td>\n",
       "      <td>1</td>\n",
       "      <td>3.500000</td>\n",
       "      <td>3.5</td>\n",
       "      <td>3.5</td>\n",
       "      <td>NaN</td>\n",
       "      <td>1</td>\n",
       "    </tr>\n",
       "    <tr>\n",
       "      <th>Pilsner Urquell</th>\n",
       "      <td>3.746575</td>\n",
       "      <td>2.0</td>\n",
       "      <td>5.0</td>\n",
       "      <td>0.507741</td>\n",
       "      <td>73</td>\n",
       "      <td>3.383562</td>\n",
       "      <td>1.0</td>\n",
       "      <td>5.0</td>\n",
       "      <td>0.770644</td>\n",
       "      <td>73</td>\n",
       "      <td>...</td>\n",
       "      <td>3.513699</td>\n",
       "      <td>1.0</td>\n",
       "      <td>5.0</td>\n",
       "      <td>0.676863</td>\n",
       "      <td>73</td>\n",
       "      <td>3.547945</td>\n",
       "      <td>1.0</td>\n",
       "      <td>4.5</td>\n",
       "      <td>0.812935</td>\n",
       "      <td>73</td>\n",
       "    </tr>\n",
       "    <tr>\n",
       "      <th>Primus</th>\n",
       "      <td>3.000000</td>\n",
       "      <td>3.0</td>\n",
       "      <td>3.0</td>\n",
       "      <td>NaN</td>\n",
       "      <td>1</td>\n",
       "      <td>3.500000</td>\n",
       "      <td>3.5</td>\n",
       "      <td>3.5</td>\n",
       "      <td>NaN</td>\n",
       "      <td>1</td>\n",
       "      <td>...</td>\n",
       "      <td>3.000000</td>\n",
       "      <td>3.0</td>\n",
       "      <td>3.0</td>\n",
       "      <td>NaN</td>\n",
       "      <td>1</td>\n",
       "      <td>3.000000</td>\n",
       "      <td>3.0</td>\n",
       "      <td>3.0</td>\n",
       "      <td>NaN</td>\n",
       "      <td>1</td>\n",
       "    </tr>\n",
       "    <tr>\n",
       "      <th>...</th>\n",
       "      <th>...</th>\n",
       "      <td>...</td>\n",
       "      <td>...</td>\n",
       "      <td>...</td>\n",
       "      <td>...</td>\n",
       "      <td>...</td>\n",
       "      <td>...</td>\n",
       "      <td>...</td>\n",
       "      <td>...</td>\n",
       "      <td>...</td>\n",
       "      <td>...</td>\n",
       "      <td>...</td>\n",
       "      <td>...</td>\n",
       "      <td>...</td>\n",
       "      <td>...</td>\n",
       "      <td>...</td>\n",
       "      <td>...</td>\n",
       "      <td>...</td>\n",
       "      <td>...</td>\n",
       "      <td>...</td>\n",
       "      <td>...</td>\n",
       "      <td>...</td>\n",
       "    </tr>\n",
       "    <tr>\n",
       "      <th rowspan=\"2\" valign=\"top\">24926</th>\n",
       "      <th>Mongozo (Banana)</th>\n",
       "      <td>4.500000</td>\n",
       "      <td>4.0</td>\n",
       "      <td>5.0</td>\n",
       "      <td>0.408248</td>\n",
       "      <td>4</td>\n",
       "      <td>4.625000</td>\n",
       "      <td>4.5</td>\n",
       "      <td>5.0</td>\n",
       "      <td>0.250000</td>\n",
       "      <td>4</td>\n",
       "      <td>...</td>\n",
       "      <td>3.250000</td>\n",
       "      <td>2.5</td>\n",
       "      <td>4.0</td>\n",
       "      <td>0.645497</td>\n",
       "      <td>4</td>\n",
       "      <td>3.875000</td>\n",
       "      <td>3.5</td>\n",
       "      <td>4.0</td>\n",
       "      <td>0.250000</td>\n",
       "      <td>4</td>\n",
       "    </tr>\n",
       "    <tr>\n",
       "      <th>Mongozo (Palmnut)</th>\n",
       "      <td>3.894737</td>\n",
       "      <td>2.5</td>\n",
       "      <td>5.0</td>\n",
       "      <td>0.591114</td>\n",
       "      <td>19</td>\n",
       "      <td>3.868421</td>\n",
       "      <td>3.0</td>\n",
       "      <td>5.0</td>\n",
       "      <td>0.466729</td>\n",
       "      <td>19</td>\n",
       "      <td>...</td>\n",
       "      <td>3.868421</td>\n",
       "      <td>2.5</td>\n",
       "      <td>4.5</td>\n",
       "      <td>0.435957</td>\n",
       "      <td>19</td>\n",
       "      <td>3.763158</td>\n",
       "      <td>2.5</td>\n",
       "      <td>5.0</td>\n",
       "      <td>0.510131</td>\n",
       "      <td>19</td>\n",
       "    </tr>\n",
       "    <tr>\n",
       "      <th>24964</th>\n",
       "      <th>Haffenreffer Private Stock</th>\n",
       "      <td>3.071429</td>\n",
       "      <td>2.0</td>\n",
       "      <td>4.0</td>\n",
       "      <td>0.786796</td>\n",
       "      <td>7</td>\n",
       "      <td>3.000000</td>\n",
       "      <td>2.0</td>\n",
       "      <td>3.5</td>\n",
       "      <td>0.577350</td>\n",
       "      <td>7</td>\n",
       "      <td>...</td>\n",
       "      <td>3.142857</td>\n",
       "      <td>1.5</td>\n",
       "      <td>4.0</td>\n",
       "      <td>1.029332</td>\n",
       "      <td>7</td>\n",
       "      <td>3.285714</td>\n",
       "      <td>1.5</td>\n",
       "      <td>4.0</td>\n",
       "      <td>0.859125</td>\n",
       "      <td>7</td>\n",
       "    </tr>\n",
       "    <tr>\n",
       "      <th>26715</th>\n",
       "      <th>Gageleer</th>\n",
       "      <td>5.000000</td>\n",
       "      <td>5.0</td>\n",
       "      <td>5.0</td>\n",
       "      <td>NaN</td>\n",
       "      <td>1</td>\n",
       "      <td>3.500000</td>\n",
       "      <td>3.5</td>\n",
       "      <td>3.5</td>\n",
       "      <td>NaN</td>\n",
       "      <td>1</td>\n",
       "      <td>...</td>\n",
       "      <td>3.500000</td>\n",
       "      <td>3.5</td>\n",
       "      <td>3.5</td>\n",
       "      <td>NaN</td>\n",
       "      <td>1</td>\n",
       "      <td>3.500000</td>\n",
       "      <td>3.5</td>\n",
       "      <td>3.5</td>\n",
       "      <td>NaN</td>\n",
       "      <td>1</td>\n",
       "    </tr>\n",
       "    <tr>\n",
       "      <th>27039</th>\n",
       "      <th>Heady Topper</th>\n",
       "      <td>4.333333</td>\n",
       "      <td>4.0</td>\n",
       "      <td>4.5</td>\n",
       "      <td>0.288675</td>\n",
       "      <td>3</td>\n",
       "      <td>4.500000</td>\n",
       "      <td>4.0</td>\n",
       "      <td>5.0</td>\n",
       "      <td>0.500000</td>\n",
       "      <td>3</td>\n",
       "      <td>...</td>\n",
       "      <td>4.666667</td>\n",
       "      <td>4.0</td>\n",
       "      <td>5.0</td>\n",
       "      <td>0.577350</td>\n",
       "      <td>3</td>\n",
       "      <td>4.666667</td>\n",
       "      <td>4.5</td>\n",
       "      <td>5.0</td>\n",
       "      <td>0.288675</td>\n",
       "      <td>3</td>\n",
       "    </tr>\n",
       "  </tbody>\n",
       "</table>\n",
       "<p>13237 rows × 25 columns</p>\n",
       "</div>"
      ],
      "text/plain": [
       "                                     review_appearance                      \\\n",
       "                                                  mean  min  max       std   \n",
       "brewer_id beer_name                                                          \n",
       "1         Eisbrau Czech                       3.000000  3.0  3.0       NaN   \n",
       "          Gambrinus                           4.000000  3.5  4.5  0.707107   \n",
       "          Gambrinus Pale                      3.500000  3.5  3.5       NaN   \n",
       "          Pilsner Urquell                     3.746575  2.0  5.0  0.507741   \n",
       "          Primus                              3.000000  3.0  3.0       NaN   \n",
       "...                                                ...  ...  ...       ...   \n",
       "24926     Mongozo (Banana)                    4.500000  4.0  5.0  0.408248   \n",
       "          Mongozo (Palmnut)                   3.894737  2.5  5.0  0.591114   \n",
       "24964     Haffenreffer Private Stock          3.071429  2.0  4.0  0.786796   \n",
       "26715     Gageleer                            5.000000  5.0  5.0       NaN   \n",
       "27039     Heady Topper                        4.333333  4.0  4.5  0.288675   \n",
       "\n",
       "                                           review_aroma                      \\\n",
       "                                     count         mean  min  max       std   \n",
       "brewer_id beer_name                                                           \n",
       "1         Eisbrau Czech                  1     3.000000  3.0  3.0       NaN   \n",
       "          Gambrinus                      2     4.000000  4.0  4.0  0.000000   \n",
       "          Gambrinus Pale                 1     3.500000  3.5  3.5       NaN   \n",
       "          Pilsner Urquell               73     3.383562  1.0  5.0  0.770644   \n",
       "          Primus                         1     3.500000  3.5  3.5       NaN   \n",
       "...                                    ...          ...  ...  ...       ...   \n",
       "24926     Mongozo (Banana)               4     4.625000  4.5  5.0  0.250000   \n",
       "          Mongozo (Palmnut)             19     3.868421  3.0  5.0  0.466729   \n",
       "24964     Haffenreffer Private Stock     7     3.000000  2.0  3.5  0.577350   \n",
       "26715     Gageleer                       1     3.500000  3.5  3.5       NaN   \n",
       "27039     Heady Topper                   3     4.500000  4.0  5.0  0.500000   \n",
       "\n",
       "                                            ...  review_palate            \\\n",
       "                                     count  ...           mean  min  max   \n",
       "brewer_id beer_name                         ...                            \n",
       "1         Eisbrau Czech                  1  ...       3.500000  3.5  3.5   \n",
       "          Gambrinus                      2  ...       3.750000  3.0  4.5   \n",
       "          Gambrinus Pale                 1  ...       3.500000  3.5  3.5   \n",
       "          Pilsner Urquell               73  ...       3.513699  1.0  5.0   \n",
       "          Primus                         1  ...       3.000000  3.0  3.0   \n",
       "...                                    ...  ...            ...  ...  ...   \n",
       "24926     Mongozo (Banana)               4  ...       3.250000  2.5  4.0   \n",
       "          Mongozo (Palmnut)             19  ...       3.868421  2.5  4.5   \n",
       "24964     Haffenreffer Private Stock     7  ...       3.142857  1.5  4.0   \n",
       "26715     Gageleer                       1  ...       3.500000  3.5  3.5   \n",
       "27039     Heady Topper                   3  ...       4.666667  4.0  5.0   \n",
       "\n",
       "                                                     review_taste            \\\n",
       "                                           std count         mean  min  max   \n",
       "brewer_id beer_name                                                           \n",
       "1         Eisbrau Czech                    NaN     1     3.500000  3.5  3.5   \n",
       "          Gambrinus                   1.060660     2     4.000000  4.0  4.0   \n",
       "          Gambrinus Pale                   NaN     1     3.500000  3.5  3.5   \n",
       "          Pilsner Urquell             0.676863    73     3.547945  1.0  4.5   \n",
       "          Primus                           NaN     1     3.000000  3.0  3.0   \n",
       "...                                        ...   ...          ...  ...  ...   \n",
       "24926     Mongozo (Banana)            0.645497     4     3.875000  3.5  4.0   \n",
       "          Mongozo (Palmnut)           0.435957    19     3.763158  2.5  5.0   \n",
       "24964     Haffenreffer Private Stock  1.029332     7     3.285714  1.5  4.0   \n",
       "26715     Gageleer                         NaN     1     3.500000  3.5  3.5   \n",
       "27039     Heady Topper                0.577350     3     4.666667  4.5  5.0   \n",
       "\n",
       "                                                      \n",
       "                                           std count  \n",
       "brewer_id beer_name                                   \n",
       "1         Eisbrau Czech                    NaN     1  \n",
       "          Gambrinus                   0.000000     2  \n",
       "          Gambrinus Pale                   NaN     1  \n",
       "          Pilsner Urquell             0.812935    73  \n",
       "          Primus                           NaN     1  \n",
       "...                                        ...   ...  \n",
       "24926     Mongozo (Banana)            0.250000     4  \n",
       "          Mongozo (Palmnut)           0.510131    19  \n",
       "24964     Haffenreffer Private Stock  0.859125     7  \n",
       "26715     Gageleer                         NaN     1  \n",
       "27039     Heady Topper                0.288675     3  \n",
       "\n",
       "[13237 rows x 25 columns]"
      ]
     },
     "execution_count": 31,
     "metadata": {},
     "output_type": "execute_result"
    }
   ],
   "source": [
    "# multiple groupers, multiple groupee, single aggregation\n",
    "df.groupby(['brewer_id', 'beer_name'])[review_cols].agg(['mean', 'min', 'max', 'std', 'count'])"
   ]
  },
  {
   "cell_type": "markdown",
   "metadata": {},
   "source": [
    "<div class=\"alert alert-success\" data-title=\"Rating by length\">\n",
    "  <h1><i class=\"fa fa-tasks\" aria-hidden=\"true\"></i> Exercise: Rating by length</h1>\n",
    "</div>\n",
    "\n",
    "<p>Plot the relationship between review length (number of characters) and average `reveiw_overall`.</p>\n",
    "\n",
    "- Hint: use `.plot(style='k.')`\n",
    "- We've grouped by columns so far, you can also group by any series with the same length"
   ]
  },
  {
   "cell_type": "code",
   "execution_count": null,
   "metadata": {
    "collapsed": true
   },
   "outputs": [],
   "source": []
  },
  {
   "cell_type": "code",
   "execution_count": 42,
   "metadata": {
    "collapsed": false
   },
   "outputs": [
    {
     "data": {
      "text/plain": [
       "<matplotlib.axes._subplots.AxesSubplot at 0x117ea02e8>"
      ]
     },
     "execution_count": 42,
     "metadata": {},
     "output_type": "execute_result"
    },
    {
     "data": {
      "image/png": "[encoded data removed]",
      "text/plain": [
       "<matplotlib.figure.Figure at 0x117ea0908>"
      ]
     },
     "metadata": {},
     "output_type": "display_data"
    }
   ],
   "source": [
    "%load solutions/groupby_00.py"
   ]
  },
  {
   "cell_type": "markdown",
   "metadata": {},
   "source": [
    "<div class=\"alert alert-success\" data-title=\"Reviews by Length\">\n",
    "  <h1><i class=\"fa fa-tasks\" aria-hidden=\"true\"></i> Exercise: Reviews by Length</h1>\n",
    "</div>\n",
    "\n",
    "<p>Find the relationship between review length (number of **words** and average `reveiw_overall`.)</p>\n",
    "\n",
    "- Hint: You can pass a [regular expression](https://docs.python.org/3/howto/regex.html#matching-characters) to any of the `.str` methods."
   ]
  },
  {
   "cell_type": "code",
   "execution_count": null,
   "metadata": {
    "collapsed": true
   },
   "outputs": [],
   "source": []
  },
  {
   "cell_type": "code",
   "execution_count": 44,
   "metadata": {
    "collapsed": false
   },
   "outputs": [
    {
     "data": {
      "text/plain": [
       "<matplotlib.axes._subplots.AxesSubplot at 0x117e67fd0>"
      ]
     },
     "execution_count": 44,
     "metadata": {},
     "output_type": "execute_result"
    },
    {
     "data": {
      "image/png": "[encoded data removed]",
      "text/plain": [
       "<matplotlib.figure.Figure at 0x117ea0f60>"
      ]
     },
     "metadata": {},
     "output_type": "display_data"
    }
   ],
   "source": [
    "%load solutions/groupby_00b.py"
   ]
  },
  {
   "cell_type": "markdown",
   "metadata": {},
   "source": [
    "<div class=\"alert alert-success\" data-title=\"Rating by number of Reviews\">\n",
    "  <h1><i class=\"fa fa-tasks\" aria-hidden=\"true\"></i> Exercise: Rating by number of Reviews</h1>\n",
    "</div>\n",
    "\n",
    "<p>Find the relationship between the number of reviews for a beer and the average `review_overall`.</p>\n"
   ]
  },
  {
   "cell_type": "code",
   "execution_count": null,
   "metadata": {
    "collapsed": true
   },
   "outputs": [],
   "source": []
  },
  {
   "cell_type": "code",
   "execution_count": 46,
   "metadata": {
    "collapsed": false
   },
   "outputs": [
    {
     "data": {
      "image/png": "[encoded data removed]",
      "text/plain": [
       "<matplotlib.figure.Figure at 0x118296da0>"
      ]
     },
     "metadata": {},
     "output_type": "display_data"
    }
   ],
   "source": [
    "%load solutions/groupby_01.py"
   ]
  },
  {
   "cell_type": "markdown",
   "metadata": {},
   "source": [
    "## Transform\n",
    "\n",
    "A *transform* is a function whose output is the same shape as the input."
   ]
  },
  {
   "cell_type": "markdown",
   "metadata": {},
   "source": [
    "Recall that a groupby has three steps: split, apply, combine.\n",
    "So far, all of the functions we've applied have been *aggregations*: the rule for \"combine\" is one row per group.\n",
    "\n",
    "You can use `Groupby.transform` when you have an operation that should be done *groupwise*, but the result should be the same shape.\n",
    "For example, suppose we wanted to normalize each reviewer's scores by their average score. "
   ]
  },
  {
   "cell_type": "code",
   "execution_count": 47,
   "metadata": {
    "collapsed": true
   },
   "outputs": [],
   "source": [
    "# Define demean(v: array) -> array\n",
    "def demean(v):\n",
    "    return v - v.mean()"
   ]
  },
  {
   "cell_type": "markdown",
   "metadata": {},
   "source": [
    "Just calling `demean` on the entire Series will noramilze by the *global* average."
   ]
  },
  {
   "cell_type": "code",
   "execution_count": 48,
   "metadata": {
    "collapsed": false
   },
   "outputs": [
    {
     "data": {
      "text/plain": [
       "0        0.245731\n",
       "1        0.245731\n",
       "2        0.745731\n",
       "3        0.245731\n",
       "4        0.245731\n",
       "           ...   \n",
       "76009    0.245731\n",
       "76010    0.745731\n",
       "76011    1.245731\n",
       "76012    0.745731\n",
       "76013   -0.254269\n",
       "Name: review_overall, Length: 76014, dtype: float64"
      ]
     },
     "execution_count": 48,
     "metadata": {},
     "output_type": "execute_result"
    }
   ],
   "source": [
    "demean(df.review_overall)"
   ]
  },
  {
   "cell_type": "markdown",
   "metadata": {},
   "source": [
    "Now, let's demean each individual's reviews by their own average.\n",
    "This could be useful if, for example, you were building a recommendation system.\n",
    "A rating of 4 from someone's whose average is 2 is in some sense more meaningful that a 4 from someone who always gives 4s."
   ]
  },
  {
   "cell_type": "code",
   "execution_count": 49,
   "metadata": {
    "collapsed": false
   },
   "outputs": [
    {
     "data": {
      "text/html": [
       "<div>\n",
       "<style>\n",
       "    .dataframe thead tr:only-child th {\n",
       "        text-align: right;\n",
       "    }\n",
       "\n",
       "    .dataframe thead th {\n",
       "        text-align: left;\n",
       "    }\n",
       "\n",
       "    .dataframe tbody tr th {\n",
       "        vertical-align: top;\n",
       "    }\n",
       "</style>\n",
       "<table border=\"1\" class=\"dataframe\">\n",
       "  <thead>\n",
       "    <tr style=\"text-align: right;\">\n",
       "      <th></th>\n",
       "      <th>review_appearance</th>\n",
       "      <th>review_aroma</th>\n",
       "      <th>review_overall</th>\n",
       "      <th>review_palate</th>\n",
       "      <th>review_taste</th>\n",
       "    </tr>\n",
       "  </thead>\n",
       "  <tbody>\n",
       "    <tr>\n",
       "      <th>0</th>\n",
       "      <td>-0.122437</td>\n",
       "      <td>0.003016</td>\n",
       "      <td>0.231604</td>\n",
       "      <td>0.389023</td>\n",
       "      <td>0.278649</td>\n",
       "    </tr>\n",
       "    <tr>\n",
       "      <th>1</th>\n",
       "      <td>-0.622437</td>\n",
       "      <td>0.503016</td>\n",
       "      <td>0.231604</td>\n",
       "      <td>0.889023</td>\n",
       "      <td>0.778649</td>\n",
       "    </tr>\n",
       "    <tr>\n",
       "      <th>2</th>\n",
       "      <td>0.755879</td>\n",
       "      <td>0.357983</td>\n",
       "      <td>0.710705</td>\n",
       "      <td>0.068379</td>\n",
       "      <td>0.758663</td>\n",
       "    </tr>\n",
       "    <tr>\n",
       "      <th>3</th>\n",
       "      <td>-0.622437</td>\n",
       "      <td>-0.996984</td>\n",
       "      <td>0.231604</td>\n",
       "      <td>-0.110977</td>\n",
       "      <td>-0.221351</td>\n",
       "    </tr>\n",
       "    <tr>\n",
       "      <th>4</th>\n",
       "      <td>-0.122437</td>\n",
       "      <td>0.003016</td>\n",
       "      <td>0.231604</td>\n",
       "      <td>-0.110977</td>\n",
       "      <td>0.278649</td>\n",
       "    </tr>\n",
       "  </tbody>\n",
       "</table>\n",
       "</div>"
      ],
      "text/plain": [
       "   review_appearance  review_aroma  review_overall  review_palate  \\\n",
       "0          -0.122437      0.003016        0.231604       0.389023   \n",
       "1          -0.622437      0.503016        0.231604       0.889023   \n",
       "2           0.755879      0.357983        0.710705       0.068379   \n",
       "3          -0.622437     -0.996984        0.231604      -0.110977   \n",
       "4          -0.122437      0.003016        0.231604      -0.110977   \n",
       "\n",
       "   review_taste  \n",
       "0      0.278649  \n",
       "1      0.778649  \n",
       "2      0.758663  \n",
       "3     -0.221351  \n",
       "4      0.278649  "
      ]
     },
     "execution_count": 49,
     "metadata": {},
     "output_type": "execute_result"
    }
   ],
   "source": [
    "normalized = df.groupby(\"profile_name\")[review_cols].transform(demean)\n",
    "normalized.head()"
   ]
  },
  {
   "cell_type": "markdown",
   "metadata": {},
   "source": [
    "We used `.transform` because the desired output was the same shape as the input.\n",
    "Just like `.agg` informs pandas that you want `1 input group → 1 output row`, the `.transform` method informs pandas that you want `1 input row → 1 output row`.\n",
    "\n",
    "`.transform` operates on each column independently."
   ]
  },
  {
   "cell_type": "markdown",
   "metadata": {},
   "source": [
    "<div class=\"alert alert-success\" data-title=\"Personal Trend?\">\n",
    "  <h1><i class=\"fa fa-tasks\" aria-hidden=\"true\"></i> Exercise: Personal Trend?</h1>\n",
    "</div>\n",
    "\n",
    "<p>Do reviewer's `review_overall` trend over a person's time reviewing?</p>\n",
    "\n",
    "Hint: Need an indictor that tracks which review this is for that person. That is, we need a cumulative count of reviews per person."
   ]
  },
  {
   "cell_type": "code",
   "execution_count": null,
   "metadata": {
    "collapsed": true
   },
   "outputs": [],
   "source": []
  },
  {
   "cell_type": "code",
   "execution_count": 53,
   "metadata": {
    "collapsed": false
   },
   "outputs": [
    {
     "data": {
      "image/png": "[encoded data removed]",
      "text/plain": [
       "<matplotlib.figure.Figure at 0x117e6de10>"
      ]
     },
     "metadata": {},
     "output_type": "display_data"
    }
   ],
   "source": [
    "%load solutions/groupby_02.py"
   ]
  },
  {
   "cell_type": "markdown",
   "metadata": {},
   "source": [
    "## General `.apply`\n",
    "\n",
    "We've seen `.agg` for outputting 1 row per group, and `.transform` for outputting 1 row per input row.\n",
    "\n",
    "The final kind of function application is `.apply`.\n",
    "This can do pretty much whatever you want.\n",
    "We'll see an example in a later notebook."
   ]
  },
  {
   "cell_type": "markdown",
   "metadata": {},
   "source": [
    "## Summary\n",
    "\n",
    "- We used Python's iterator protocol to transform the raw data to a table\n",
    "- We saw how Dask could handle larger-than-memory data with a familiar API\n",
    "- We used groupby to analyze data by subsets"
   ]
  }
 ],
 "metadata": {
  "kernelspec": {
   "display_name": "Python 2",
   "language": "python",
   "name": "python2"
  },
  "language_info": {
   "codemirror_mode": {
    "name": "ipython",
    "version": 2
   },
   "file_extension": ".py",
   "mimetype": "text/x-python",
   "name": "python",
   "nbconvert_exporter": "python",
   "pygments_lexer": "ipython2",
   "version": "2.7.13"
  }
 },
 "nbformat": 4,
 "nbformat_minor": 1
}
