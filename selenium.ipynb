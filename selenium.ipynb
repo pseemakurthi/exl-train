{
 "cells": [
  {
   "cell_type": "code",
   "execution_count": 1,
   "metadata": {
    "collapsed": false
   },
   "outputs": [],
   "source": [
    "from selenium import webdriver"
   ]
  },
  {
   "cell_type": "code",
   "execution_count": null,
   "metadata": {
    "collapsed": true
   },
   "outputs": [],
   "source": [
    "fuzzywuzzy"
   ]
  },
  {
   "cell_type": "code",
   "execution_count": 2,
   "metadata": {
    "collapsed": false
   },
   "outputs": [
    {
     "name": "stdout",
     "output_type": "stream",
     "text": [
      "/Users/pseemakurthi/Desktop/scrape\r\n"
     ]
    }
   ],
   "source": [
    "!pwd"
   ]
  },
  {
   "cell_type": "code",
   "execution_count": 14,
   "metadata": {
    "collapsed": false
   },
   "outputs": [],
   "source": [
    "browser = webdriver.Chrome(\"../Demo/chromedriver\")"
   ]
  },
  {
   "cell_type": "code",
   "execution_count": 10,
   "metadata": {
    "collapsed": true
   },
   "outputs": [],
   "source": [
    "browser.get(\"https://www.booking.com/searchresults.html?label=gen173nr-1DCAEoggJCAlhYSDNiBW5vcmVmaGyIAQGYATG4AQfIAQzYAQPoAQH4AQKSAgF5qAID;sid=13377288308fab235e162a7e6c2cbd37;checkin_month=8;checkin_monthday=25;checkin_year=2017;checkout_month=8;checkout_monthday=26;checkout_year=2017;class_interval=1;dest_id=-2106102;dest_type=city;group_adults=2;group_children=0;label_click=undef;no_rooms=1;raw_dest_type=city;room1=A%2CA;sb_price_type=total;src_elem=sb;ss=New+Delhi;ssb=empty;ssne=New+Delhi;ssne_untouched=New+Delhi;=;order=distance_from_landmark;dst_landmark=cc\")"
   ]
  },
  {
   "cell_type": "code",
   "execution_count": 5,
   "metadata": {
    "collapsed": false
   },
   "outputs": [],
   "source": [
    "browser.execute_script(\"alert('hello')\")"
   ]
  },
  {
   "cell_type": "code",
   "execution_count": 6,
   "metadata": {
    "collapsed": false
   },
   "outputs": [],
   "source": [
    "input = browser.find_element_by_css_selector(\"#lst-ib\")"
   ]
  },
  {
   "cell_type": "code",
   "execution_count": 8,
   "metadata": {
    "collapsed": false
   },
   "outputs": [],
   "source": [
    "input.send_keys(\"example test\")"
   ]
  },
  {
   "cell_type": "code",
   "execution_count": 9,
   "metadata": {
    "collapsed": true
   },
   "outputs": [],
   "source": [
    "input.clear()"
   ]
  },
  {
   "cell_type": "code",
   "execution_count": 15,
   "metadata": {
    "collapsed": false
   },
   "outputs": [],
   "source": [
    "browser.get(\"https://reddit.com\")"
   ]
  },
  {
   "cell_type": "code",
   "execution_count": 16,
   "metadata": {
    "collapsed": true
   },
   "outputs": [],
   "source": [
    "titles  = browser.find_elements_by_css_selector(\".title\")"
   ]
  },
  {
   "cell_type": "code",
   "execution_count": 17,
   "metadata": {
    "collapsed": false
   },
   "outputs": [],
   "source": [
    "title_texts = [t.text for t  in titles]"
   ]
  },
  {
   "cell_type": "code",
   "execution_count": 18,
   "metadata": {
    "collapsed": false
   },
   "outputs": [
    {
     "data": {
      "text/plain": [
       "[u'MY SUBREDDITS',\n",
       " u'She\\u2019s just getting started. Leah Remini: Scientology and the Aftermath shares the stories of survivors turned fighters, Tuesdays on A&E. (aetv.com)',\n",
       " u'She\\u2019s just getting started. Leah Remini: Scientology and the Aftermath shares the stories of survivors turned fighters, Tuesdays on A&E.',\n",
       " u\"The Night King's betGIF (gfycat.com)\",\n",
       " u\"The Night King's bet\",\n",
       " u'India: 28-year-old woman kills boyfriend over who will cookFood (timesofindia.indiatimes.com)',\n",
       " u'India: 28-year-old woman kills boyfriend over who will cook',\n",
       " u'This corner kick today in the football game Paris SG vs Toulouse FCPicture/Video (i.imgur.com)',\n",
       " u'This corner kick today in the football game Paris SG vs Toulouse FC',\n",
       " u'TIL that an elephant learnt from its mates about a sanctuary, and when poachers injured him, he used this second-hand knowledge to seek help from humans in the sanctuary (mnn.com)',\n",
       " u'TIL that an elephant learnt from its mates about a sanctuary, and when poachers injured him, he used this second-hand knowledge to seek help from humans in the sanctuary',\n",
       " u'Male Lion Ducks Under Wildebeest Horns for Killing Bite (i.imgur.com)',\n",
       " u'Male Lion Ducks Under Wildebeest Horns for Killing Bite',\n",
       " u\"Arvind Kejriwal's speech from 2006, when he won Ramon Magsaysay Award for his work for RTIPolitics (youtube.com)\",\n",
       " u\"Arvind Kejriwal's speech from 2006, when he won Ramon Magsaysay Award for his work for RTI\",\n",
       " u'Amazing jump (gfycat.com)',\n",
       " u'Amazing jump',\n",
       " u'Love you. ASSHOLE. Love you. (i.redd.it)',\n",
       " u'Love you. ASSHOLE. Love you.',\n",
       " u'Owners buy dog a new bed, dog loves it (youtu.be)',\n",
       " u'Owners buy dog a new bed, dog loves it',\n",
       " u'[Image] wise words from Dwight Schrute. (i.redd.it)',\n",
       " u'[Image] wise words from Dwight Schrute.',\n",
       " u'US destroyer collides with merchant ship near Singapore (cnn.com)',\n",
       " u'US destroyer collides with merchant ship near Singapore',\n",
       " u'HBO right now (i.imgflip.com)',\n",
       " u'HBO right now',\n",
       " u'An underage weasel walks into a bar.Walks into a bar (self.Jokes)',\n",
       " u'An underage weasel walks into a bar.',\n",
       " u'PsBattle: The cast of Game of ThronesPhotoshops Only Mode (i.imgur.com)',\n",
       " u'PsBattle: The cast of Game of Thrones',\n",
       " u'Watching /r/gameofthrones reposting our memes from this week at breakneck speed (i.redd.it)',\n",
       " u'Watching /r/gameofthrones reposting our memes from this week at breakneck speed',\n",
       " u'Adani, the man no one wants to write against. One of the world\\u2019s largest corporations has been accused of siphoning Rs 2000 crore and no one raises an eyebrow?Non-Political (newslaundry.com)',\n",
       " u'Adani, the man no one wants to write against. One of the world\\u2019s largest corporations has been accused of siphoning Rs 2000 crore and no one raises an eyebrow?',\n",
       " u'Best friends. (i.redditmedia.com)',\n",
       " u'Best friends.',\n",
       " u'It is the east, and Juliet is a Bold One. (i.imgur.com)',\n",
       " u'It is the east, and Juliet is a Bold One.',\n",
       " u'Mumbai college reuses 8-lakh litres of rainwater, prevents 4.7K kg waste from landing at dumpyards | mumbai newsNon-Political (hindustantimes.com)',\n",
       " u'Mumbai college reuses 8-lakh litres of rainwater, prevents 4.7K kg waste from landing at dumpyards | mumbai news',\n",
       " u'DEATH IS THE ENEMY! (i.redd.it)',\n",
       " u'DEATH IS THE ENEMY!',\n",
       " u'Rip :\\u2019(Fuck Olly (i.redd.it)',\n",
       " u'Rip :\\u2019(',\n",
       " u'Three arrested in Hyderabad for not standing up during national anthemNon-Political (livemint.com)',\n",
       " u'Three arrested in Hyderabad for not standing up during national anthem',\n",
       " u'Govt all set to hike GST cess on luxury cars, via ordinancePolicy/Economy (livemint.com)',\n",
       " u'Govt all set to hike GST cess on luxury cars, via ordinance',\n",
       " u'Guided-missile destroyer USS John S. McCain (DDG 56) has collided with a merchant vessel near the Straight of Malaaca (c7f.navy.mil)',\n",
       " u'Guided-missile destroyer USS John S. McCain (DDG 56) has collided with a merchant vessel near the Straight of Malaaca',\n",
       " u'I was wondering that the way school fees is rising..Non-Political (self.india)',\n",
       " u'I was wondering that the way school fees is rising..',\n",
       " u'about',\n",
       " u'help',\n",
       " u'apps & tools',\n",
       " u'<3']"
      ]
     },
     "execution_count": 18,
     "metadata": {},
     "output_type": "execute_result"
    }
   ],
   "source": [
    "title_texts"
   ]
  },
  {
   "cell_type": "code",
   "execution_count": null,
   "metadata": {
    "collapsed": true
   },
   "outputs": [],
   "source": [
    "#$$(\".title)\n",
    "#$$(\"a.title)\n",
    "#$$(\"a.title.outbound)\n"
   ]
  },
  {
   "cell_type": "code",
   "execution_count": 28,
   "metadata": {
    "collapsed": false
   },
   "outputs": [
    {
     "name": "stdout",
     "output_type": "stream",
     "text": [
      "['MY SUBREDDITS', \"PlayOn Cloud is here!!! Record ANY video from Netflix, Hulu, Amazon and more in the cloud using your Android or iOS device. NO PC required. Download your recordings to watch offline and commercial free -- Downloads don't expire. (playon.tv)\", \"PlayOn Cloud is here!!! Record ANY video from Netflix, Hulu, Amazon and more in the cloud using your Android or iOS device. NO PC required. Download your recordings to watch offline and commercial free -- Downloads don't expire.\", 'sexist googleNon-Political (imgur.com)', 'sexist google', 'Two years on... #NeverForget (i.imgur.com)', 'Two years on... #NeverForget', \"Bailly IG video: Hope you're almost ready to return, @iamzlatanibrahimovic, I'll be right here! (instagram.com)\", \"Bailly IG video: Hope you're almost ready to return, @iamzlatanibrahimovic, I'll be right here!\", 'At the end of Batman Begins, Batman recieves a joker card from Jim Gordon. This Card was recovered by a policeman named J.Kerr, a common alias of The Joker.r/all | Easter Egg (i.redd.it)', 'At the end of Batman Begins, Batman recieves a joker card from Jim Gordon. This Card was recovered by a policeman named J.Kerr, a common alias of The Joker.', 'Adani, the man no one wants to write against. One of the world’s largest corporations has been accused of siphoning Rs 2000 crore and no one raises an eyebrow?Non-Political (newslaundry.com)', 'Adani, the man no one wants to write against. One of the world’s largest corporations has been accused of siphoning Rs 2000 crore and no one raises an eyebrow?', 'Evan Blass further confirms Android Oreo (twitter.com)', 'Evan Blass further confirms Android Oreo', 'Elon Musk leads 116 experts calling for outright ban on killer robots - Open letter signed by Tesla chief and Google’s Mustafa Suleyman urges UN to block use of lethal autonomous weapons to prevent third age of warRobotics (theguardian.com)', 'Elon Musk leads 116 experts calling for outright ban on killer robots - Open letter signed by Tesla chief and Google’s Mustafa Suleyman urges UN to block use of lethal autonomous weapons to prevent third age of war', \"Wonder Woman has just passed the original Spider-Man's gross at the box office, becoming the #1 Superhero origin film. (boxofficemojo.com)\", \"Wonder Woman has just passed the original Spider-Man's gross at the box office, becoming the #1 Superhero origin film.\", 'Elon Musk leads 116 experts calling for outright ban on killer robots - Open letter signed by Tesla chief and Google’s Mustafa Suleyman urges UN to block use of lethal autonomous weapons to prevent third age of war (theguardian.com)', 'Elon Musk leads 116 experts calling for outright ban on killer robots - Open letter signed by Tesla chief and Google’s Mustafa Suleyman urges UN to block use of lethal autonomous weapons to prevent third age of war', 'I wonder what my parents did to fight boredom before the internet... (self.Jokes)', 'I wonder what my parents did to fight boredom before the internet...', \"Don't panic, Look around, Interact with reality (i.imgur.com)\", \"Don't panic, Look around, Interact with reality\", 'Prepare to pay hefty fines for dog poop on Pune roads, other nuisancesPolicy/Economy (hindustantimes.com)', 'Prepare to pay hefty fines for dog poop on Pune roads, other nuisances', '1972: An indian lady in a saree with lambretta at The Gateway of India, Bombay.Non-Political (pbs.twimg.com)', '1972: An indian lady in a saree with lambretta at The Gateway of India, Bombay.', 'The best kind of good boy helping with shopping (gfycat.com)', 'The best kind of good boy helping with shopping', 'The war rages on... (i.redd.it)', 'The war rages on...', 'We’re NASA scientists. Ask us anything about tomorrow’s total solar eclipse!Science (self.IAmA)', 'We’re NASA scientists. Ask us anything about tomorrow’s total solar eclipse!', 'This is real dedication/r/ALL (i.imgur.com)', 'This is real dedication', \"What's the most embarrassing thing your parents put you through?AskIndia (self.india)\", \"What's the most embarrassing thing your parents put you through?\", \"It's okay to not know everythingNice meme (i.imgur.com)\", \"It's okay to not know everything\", '\\\\r\\\\gameofthrones and \\\\r\\\\freefolk in a single pic (i.redd.it)', '\\\\r\\\\gameofthrones and \\\\r\\\\freefolk in a single pic', 'Assam to table 2-child population policy in next assembly session [P]Politics (deccanchronicle.com)', 'Assam to table 2-child population policy in next assembly session [P]', 'El Crasho (i.redd.it)', 'El Crasho', 'Meanwhile, in Assam [NP]Non-Political (i.imgur.com)', 'Meanwhile, in Assam [NP]', 'Good tae knowTwitter (i.redd.it)', 'Good tae know', 'Football Fan Celebrates Goal With Leg DropPicture/Video (i.imgur.com)', 'Football Fan Celebrates Goal With Leg Drop', 'about', 'help', 'apps & tools', '<3']\n"
     ]
    }
   ],
   "source": [
    "print(title_texts)"
   ]
  },
  {
   "cell_type": "code",
   "execution_count": 19,
   "metadata": {
    "collapsed": true
   },
   "outputs": [],
   "source": [
    "next = browser.find_element_by_css_selector(\".next-button a\")"
   ]
  },
  {
   "cell_type": "code",
   "execution_count": 20,
   "metadata": {
    "collapsed": false
   },
   "outputs": [
    {
     "data": {
      "text/plain": [
       "<selenium.webdriver.remote.webelement.WebElement (session=\"eefd726cbe872e38d86edbe21af8781e\", element=\"0.9370219401105273-58\")>"
      ]
     },
     "execution_count": 20,
     "metadata": {},
     "output_type": "execute_result"
    }
   ],
   "source": [
    "next"
   ]
  },
  {
   "cell_type": "code",
   "execution_count": 21,
   "metadata": {
    "collapsed": true
   },
   "outputs": [],
   "source": [
    "next.click()"
   ]
  },
  {
   "cell_type": "markdown",
   "metadata": {},
   "source": [
    "# write the code to run first 3 pages"
   ]
  },
  {
   "cell_type": "code",
   "execution_count": 23,
   "metadata": {
    "collapsed": true
   },
   "outputs": [],
   "source": [
    "titles_text = []"
   ]
  },
  {
   "cell_type": "code",
   "execution_count": 24,
   "metadata": {
    "collapsed": false
   },
   "outputs": [],
   "source": [
    "for i in range(3):\n",
    "    titles = browser.find_elements_by_css_selector(\"a.title.outbound\")\n",
    "    titles_text += [t.text for t in titles]\n",
    "    \n",
    "    next_pg = browser.find_element_by_css_selector(\".next-button a\")\n",
    "    next_pg.click()"
   ]
  },
  {
   "cell_type": "code",
   "execution_count": 25,
   "metadata": {
    "collapsed": false
   },
   "outputs": [
    {
     "data": {
      "text/plain": [
       "[u'MY SUBREDDITS',\n",
       " u'She\\u2019s just getting started. Leah Remini: Scientology and the Aftermath shares the stories of survivors turned fighters, Tuesdays on A&E. (aetv.com)',\n",
       " u'She\\u2019s just getting started. Leah Remini: Scientology and the Aftermath shares the stories of survivors turned fighters, Tuesdays on A&E.',\n",
       " u\"The Night King's betGIF (gfycat.com)\",\n",
       " u\"The Night King's bet\",\n",
       " u'India: 28-year-old woman kills boyfriend over who will cookFood (timesofindia.indiatimes.com)',\n",
       " u'India: 28-year-old woman kills boyfriend over who will cook',\n",
       " u'This corner kick today in the football game Paris SG vs Toulouse FCPicture/Video (i.imgur.com)',\n",
       " u'This corner kick today in the football game Paris SG vs Toulouse FC',\n",
       " u'TIL that an elephant learnt from its mates about a sanctuary, and when poachers injured him, he used this second-hand knowledge to seek help from humans in the sanctuary (mnn.com)',\n",
       " u'TIL that an elephant learnt from its mates about a sanctuary, and when poachers injured him, he used this second-hand knowledge to seek help from humans in the sanctuary',\n",
       " u'Male Lion Ducks Under Wildebeest Horns for Killing Bite (i.imgur.com)',\n",
       " u'Male Lion Ducks Under Wildebeest Horns for Killing Bite',\n",
       " u\"Arvind Kejriwal's speech from 2006, when he won Ramon Magsaysay Award for his work for RTIPolitics (youtube.com)\",\n",
       " u\"Arvind Kejriwal's speech from 2006, when he won Ramon Magsaysay Award for his work for RTI\",\n",
       " u'Amazing jump (gfycat.com)',\n",
       " u'Amazing jump',\n",
       " u'Love you. ASSHOLE. Love you. (i.redd.it)',\n",
       " u'Love you. ASSHOLE. Love you.',\n",
       " u'Owners buy dog a new bed, dog loves it (youtu.be)',\n",
       " u'Owners buy dog a new bed, dog loves it',\n",
       " u'[Image] wise words from Dwight Schrute. (i.redd.it)',\n",
       " u'[Image] wise words from Dwight Schrute.',\n",
       " u'US destroyer collides with merchant ship near Singapore (cnn.com)',\n",
       " u'US destroyer collides with merchant ship near Singapore',\n",
       " u'HBO right now (i.imgflip.com)',\n",
       " u'HBO right now',\n",
       " u'An underage weasel walks into a bar.Walks into a bar (self.Jokes)',\n",
       " u'An underage weasel walks into a bar.',\n",
       " u'PsBattle: The cast of Game of ThronesPhotoshops Only Mode (i.imgur.com)',\n",
       " u'PsBattle: The cast of Game of Thrones',\n",
       " u'Watching /r/gameofthrones reposting our memes from this week at breakneck speed (i.redd.it)',\n",
       " u'Watching /r/gameofthrones reposting our memes from this week at breakneck speed',\n",
       " u'Adani, the man no one wants to write against. One of the world\\u2019s largest corporations has been accused of siphoning Rs 2000 crore and no one raises an eyebrow?Non-Political (newslaundry.com)',\n",
       " u'Adani, the man no one wants to write against. One of the world\\u2019s largest corporations has been accused of siphoning Rs 2000 crore and no one raises an eyebrow?',\n",
       " u'Best friends. (i.redditmedia.com)',\n",
       " u'Best friends.',\n",
       " u'It is the east, and Juliet is a Bold One. (i.imgur.com)',\n",
       " u'It is the east, and Juliet is a Bold One.',\n",
       " u'Mumbai college reuses 8-lakh litres of rainwater, prevents 4.7K kg waste from landing at dumpyards | mumbai newsNon-Political (hindustantimes.com)',\n",
       " u'Mumbai college reuses 8-lakh litres of rainwater, prevents 4.7K kg waste from landing at dumpyards | mumbai news',\n",
       " u'DEATH IS THE ENEMY! (i.redd.it)',\n",
       " u'DEATH IS THE ENEMY!',\n",
       " u'Rip :\\u2019(Fuck Olly (i.redd.it)',\n",
       " u'Rip :\\u2019(',\n",
       " u'Three arrested in Hyderabad for not standing up during national anthemNon-Political (livemint.com)',\n",
       " u'Three arrested in Hyderabad for not standing up during national anthem',\n",
       " u'Govt all set to hike GST cess on luxury cars, via ordinancePolicy/Economy (livemint.com)',\n",
       " u'Govt all set to hike GST cess on luxury cars, via ordinance',\n",
       " u'Guided-missile destroyer USS John S. McCain (DDG 56) has collided with a merchant vessel near the Straight of Malaaca (c7f.navy.mil)',\n",
       " u'Guided-missile destroyer USS John S. McCain (DDG 56) has collided with a merchant vessel near the Straight of Malaaca',\n",
       " u'I was wondering that the way school fees is rising..Non-Political (self.india)',\n",
       " u'I was wondering that the way school fees is rising..',\n",
       " u'about',\n",
       " u'help',\n",
       " u'apps & tools',\n",
       " u'<3']"
      ]
     },
     "execution_count": 25,
     "metadata": {},
     "output_type": "execute_result"
    }
   ],
   "source": [
    "title_texts"
   ]
  },
  {
   "cell_type": "code",
   "execution_count": null,
   "metadata": {
    "collapsed": true
   },
   "outputs": [],
   "source": []
  }
 ],
 "metadata": {
  "kernelspec": {
   "display_name": "Python 2",
   "language": "python",
   "name": "python2"
  },
  "language_info": {
   "codemirror_mode": {
    "name": "ipython",
    "version": 2
   },
   "file_extension": ".py",
   "mimetype": "text/x-python",
   "name": "python",
   "nbconvert_exporter": "python",
   "pygments_lexer": "ipython2",
   "version": "2.7.13"
  }
 },
 "nbformat": 4,
 "nbformat_minor": 0
}
