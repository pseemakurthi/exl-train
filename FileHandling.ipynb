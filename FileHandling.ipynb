{
 "cells": [
  {
   "cell_type": "code",
   "execution_count": 1,
   "metadata": {
    "collapsed": true
   },
   "outputs": [],
   "source": [
    "f = open('../0.Data/portfolio.csv')"
   ]
  },
  {
   "cell_type": "code",
   "execution_count": 2,
   "metadata": {
    "collapsed": true
   },
   "outputs": [],
   "source": [
    "d = f.read()"
   ]
  },
  {
   "cell_type": "code",
   "execution_count": 3,
   "metadata": {
    "collapsed": false
   },
   "outputs": [
    {
     "data": {
      "text/plain": [
       "'name,date,shares,price\\n\"AA\",\"2007-06-11\",100,32.20\\n\"IBM\",\"2007-05-13\",50,91.10\\n\"CAT\",\"2006-09-23\",150,83.44\\n\"MSFT\",\"2007-05-17\",200,51.23\\n\"GE\",\"2006-02-01\",95,40.37\\n\"MSFT\",\"2006-10-31\",50,65.10\\n\"IBM\",\"2006-07-09\",100,70.44\\n'"
      ]
     },
     "execution_count": 3,
     "metadata": {},
     "output_type": "execute_result"
    }
   ],
   "source": [
    "d"
   ]
  },
  {
   "cell_type": "code",
   "execution_count": 4,
   "metadata": {
    "collapsed": false
   },
   "outputs": [
    {
     "name": "stdout",
     "output_type": "stream",
     "text": [
      "name,date,shares,price\n",
      "\"AA\",\"2007-06-11\",100,32.20\n",
      "\"IBM\",\"2007-05-13\",50,91.10\n",
      "\"CAT\",\"2006-09-23\",150,83.44\n",
      "\"MSFT\",\"2007-05-17\",200,51.23\n",
      "\"GE\",\"2006-02-01\",95,40.37\n",
      "\"MSFT\",\"2006-10-31\",50,65.10\n",
      "\"IBM\",\"2006-07-09\",100,70.44\n",
      "\n"
     ]
    }
   ],
   "source": [
    "print(d)"
   ]
  },
  {
   "cell_type": "code",
   "execution_count": 5,
   "metadata": {
    "collapsed": true
   },
   "outputs": [],
   "source": [
    "f.close()"
   ]
  },
  {
   "cell_type": "code",
   "execution_count": 6,
   "metadata": {
    "collapsed": true
   },
   "outputs": [],
   "source": [
    "f = open('../0.Data/portfolio.csv','r')"
   ]
  },
  {
   "cell_type": "code",
   "execution_count": 7,
   "metadata": {
    "collapsed": false
   },
   "outputs": [
    {
     "name": "stdout",
     "output_type": "stream",
     "text": [
      "name,date,shares,price\n",
      "\n",
      "\"AA\",\"2007-06-11\",100,32.20\n",
      "\n",
      "\"IBM\",\"2007-05-13\",50,91.10\n",
      "\n",
      "\"CAT\",\"2006-09-23\",150,83.44\n",
      "\n",
      "\"MSFT\",\"2007-05-17\",200,51.23\n",
      "\n",
      "\"GE\",\"2006-02-01\",95,40.37\n",
      "\n",
      "\"MSFT\",\"2006-10-31\",50,65.10\n",
      "\n",
      "\"IBM\",\"2006-07-09\",100,70.44\n",
      "\n"
     ]
    }
   ],
   "source": [
    "for line in f:\n",
    "    print(line)"
   ]
  },
  {
   "cell_type": "code",
   "execution_count": 8,
   "metadata": {
    "collapsed": true
   },
   "outputs": [],
   "source": [
    "f.close()"
   ]
  },
  {
   "cell_type": "code",
   "execution_count": null,
   "metadata": {
    "collapsed": true
   },
   "outputs": [],
   "source": []
  }
 ],
 "metadata": {
  "kernelspec": {
   "display_name": "Python 3",
   "language": "python",
   "name": "python3"
  },
  "language_info": {
   "codemirror_mode": {
    "name": "ipython",
    "version": 3
   },
   "file_extension": ".py",
   "mimetype": "text/x-python",
   "name": "python",
   "nbconvert_exporter": "python",
   "pygments_lexer": "ipython3",
   "version": "3.5.1"
  }
 },
 "nbformat": 4,
 "nbformat_minor": 0
}
