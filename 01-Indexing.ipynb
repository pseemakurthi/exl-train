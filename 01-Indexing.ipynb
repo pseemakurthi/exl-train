{
 "cells": [
  {
   "cell_type": "markdown",
   "metadata": {},
   "source": [
    "# Data Structures and Indexing"
   ]
  },
  {
   "cell_type": "markdown",
   "metadata": {},
   "source": [
    "We'll get our first look at pandas' data structures.\n",
    "Then we'll focus on indexing -- selecting subsets of data."
   ]
  },
  {
   "cell_type": "code",
   "execution_count": 1,
   "metadata": {
    "collapsed": false
   },
   "outputs": [
    {
     "name": "stderr",
     "output_type": "stream",
     "text": [
      "/python/anaconda/lib/python2.7/site-packages/matplotlib/font_manager.py:273: UserWarning: Matplotlib is building the font cache using fc-list. This may take a moment.\n",
      "  warnings.warn('Matplotlib is building the font cache using fc-list. This may take a moment.')\n",
      "/python/anaconda/lib/python2.7/site-packages/seaborn/apionly.py:6: UserWarning: As seaborn no longer sets a default style on import, the seaborn.apionly module is deprecated. It will be removed in a future version.\n",
      "  warnings.warn(msg, UserWarning)\n"
     ]
    }
   ],
   "source": [
    "import numpy as np\n",
    "import pandas as pd\n",
    "import seaborn.apionly as sns\n",
    "import matplotlib.pyplot as plt"
   ]
  },
  {
   "cell_type": "code",
   "execution_count": 2,
   "metadata": {
    "collapsed": true
   },
   "outputs": [],
   "source": [
    "%matplotlib inline"
   ]
  },
  {
   "cell_type": "code",
   "execution_count": 3,
   "metadata": {
    "collapsed": true
   },
   "outputs": [],
   "source": [
    "pd.options.display.max_rows = 10\n",
    "pd.options.display.float_format = '{:,.2f}'.format\n",
    "plt.rcParams['figure.figsize'] = (16, 12)"
   ]
  },
  {
   "cell_type": "markdown",
   "metadata": {},
   "source": [
    "## Reading Data\n",
    "\n",
    "Pandas has support for reading from many data sources, including\n",
    "\n",
    "- `pd.read_csv`\n",
    "- `pd.read_excel`\n",
    "- `pd.read_html`\n",
    "- `pd.read_json`\n",
    "- `pd.read_hdf`\n",
    "- `pd.read_sql`\n",
    "- `pd.read_csv`"
   ]
  },
  {
   "cell_type": "markdown",
   "metadata": {},
   "source": [
    "For this section we'll work with some flights data from the US Bureau of Transportation and Statistics.\n",
    "The CSV includes all the flights from New York airports in January 2014.\n",
    "Each record has information about a single flight including the carrier, tail number, origin, destination, and delays."
   ]
  },
  {
   "cell_type": "code",
   "execution_count": 13,
   "metadata": {
    "collapsed": false
   },
   "outputs": [
    {
     "data": {
      "text/html": [
       "<div>\n",
       "<style>\n",
       "    .dataframe thead tr:only-child th {\n",
       "        text-align: right;\n",
       "    }\n",
       "\n",
       "    .dataframe thead th {\n",
       "        text-align: left;\n",
       "    }\n",
       "\n",
       "    .dataframe tbody tr th {\n",
       "        vertical-align: top;\n",
       "    }\n",
       "</style>\n",
       "<table border=\"1\" class=\"dataframe\">\n",
       "  <thead>\n",
       "    <tr style=\"text-align: right;\">\n",
       "      <th></th>\n",
       "      <th>fl_date</th>\n",
       "      <th>unique_carrier</th>\n",
       "      <th>airline_id</th>\n",
       "      <th>tail_num</th>\n",
       "      <th>fl_num</th>\n",
       "      <th>origin</th>\n",
       "      <th>dest</th>\n",
       "      <th>dep_time</th>\n",
       "      <th>dep_delay</th>\n",
       "      <th>arr_time</th>\n",
       "      <th>arr_delay</th>\n",
       "      <th>cancelled</th>\n",
       "      <th>arr</th>\n",
       "      <th>dep</th>\n",
       "    </tr>\n",
       "  </thead>\n",
       "  <tbody>\n",
       "    <tr>\n",
       "      <th>0</th>\n",
       "      <td>2014-01-01</td>\n",
       "      <td>AA</td>\n",
       "      <td>19805</td>\n",
       "      <td>N338AA</td>\n",
       "      <td>1</td>\n",
       "      <td>JFK</td>\n",
       "      <td>LAX</td>\n",
       "      <td>914.00</td>\n",
       "      <td>14.00</td>\n",
       "      <td>1,238.00</td>\n",
       "      <td>13.00</td>\n",
       "      <td>0.00</td>\n",
       "      <td>2014-01-01 12:38:00</td>\n",
       "      <td>2014-01-01 09:14:00</td>\n",
       "    </tr>\n",
       "    <tr>\n",
       "      <th>1</th>\n",
       "      <td>2014-01-01</td>\n",
       "      <td>AA</td>\n",
       "      <td>19805</td>\n",
       "      <td>N335AA</td>\n",
       "      <td>3</td>\n",
       "      <td>JFK</td>\n",
       "      <td>LAX</td>\n",
       "      <td>1,157.00</td>\n",
       "      <td>-3.00</td>\n",
       "      <td>1,523.00</td>\n",
       "      <td>13.00</td>\n",
       "      <td>0.00</td>\n",
       "      <td>2014-01-01 15:23:00</td>\n",
       "      <td>2014-01-01 11:57:00</td>\n",
       "    </tr>\n",
       "    <tr>\n",
       "      <th>2</th>\n",
       "      <td>2014-01-01</td>\n",
       "      <td>AA</td>\n",
       "      <td>19805</td>\n",
       "      <td>N327AA</td>\n",
       "      <td>21</td>\n",
       "      <td>JFK</td>\n",
       "      <td>LAX</td>\n",
       "      <td>1,902.00</td>\n",
       "      <td>2.00</td>\n",
       "      <td>2,224.00</td>\n",
       "      <td>9.00</td>\n",
       "      <td>0.00</td>\n",
       "      <td>2014-01-01 22:24:00</td>\n",
       "      <td>2014-01-01 19:02:00</td>\n",
       "    </tr>\n",
       "    <tr>\n",
       "      <th>3</th>\n",
       "      <td>2014-01-01</td>\n",
       "      <td>AA</td>\n",
       "      <td>19805</td>\n",
       "      <td>N3EHAA</td>\n",
       "      <td>29</td>\n",
       "      <td>LGA</td>\n",
       "      <td>PBI</td>\n",
       "      <td>722.00</td>\n",
       "      <td>-8.00</td>\n",
       "      <td>1,014.00</td>\n",
       "      <td>-26.00</td>\n",
       "      <td>0.00</td>\n",
       "      <td>2014-01-01 10:14:00</td>\n",
       "      <td>2014-01-01 07:22:00</td>\n",
       "    </tr>\n",
       "    <tr>\n",
       "      <th>4</th>\n",
       "      <td>2014-01-01</td>\n",
       "      <td>AA</td>\n",
       "      <td>19805</td>\n",
       "      <td>N319AA</td>\n",
       "      <td>117</td>\n",
       "      <td>JFK</td>\n",
       "      <td>LAX</td>\n",
       "      <td>1,347.00</td>\n",
       "      <td>2.00</td>\n",
       "      <td>1,706.00</td>\n",
       "      <td>1.00</td>\n",
       "      <td>0.00</td>\n",
       "      <td>2014-01-01 17:06:00</td>\n",
       "      <td>2014-01-01 13:47:00</td>\n",
       "    </tr>\n",
       "  </tbody>\n",
       "</table>\n",
       "</div>"
      ],
      "text/plain": [
       "     fl_date unique_carrier  airline_id tail_num  fl_num origin dest  \\\n",
       "0 2014-01-01             AA       19805   N338AA       1    JFK  LAX   \n",
       "1 2014-01-01             AA       19805   N335AA       3    JFK  LAX   \n",
       "2 2014-01-01             AA       19805   N327AA      21    JFK  LAX   \n",
       "3 2014-01-01             AA       19805   N3EHAA      29    LGA  PBI   \n",
       "4 2014-01-01             AA       19805   N319AA     117    JFK  LAX   \n",
       "\n",
       "   dep_time  dep_delay  arr_time  arr_delay  cancelled                 arr  \\\n",
       "0    914.00      14.00  1,238.00      13.00       0.00 2014-01-01 12:38:00   \n",
       "1  1,157.00      -3.00  1,523.00      13.00       0.00 2014-01-01 15:23:00   \n",
       "2  1,902.00       2.00  2,224.00       9.00       0.00 2014-01-01 22:24:00   \n",
       "3    722.00      -8.00  1,014.00     -26.00       0.00 2014-01-01 10:14:00   \n",
       "4  1,347.00       2.00  1,706.00       1.00       0.00 2014-01-01 17:06:00   \n",
       "\n",
       "                  dep  \n",
       "0 2014-01-01 09:14:00  \n",
       "1 2014-01-01 11:57:00  \n",
       "2 2014-01-01 19:02:00  \n",
       "3 2014-01-01 07:22:00  \n",
       "4 2014-01-01 13:47:00  "
      ]
     },
     "execution_count": 13,
     "metadata": {},
     "output_type": "execute_result"
    }
   ],
   "source": [
    "flights = pd.read_csv(\"data/ny-flights.csv.gz\",\n",
    "                      parse_dates=[\"fl_date\", \"arr\", \"dep\"])\n",
    "flights.head()"
   ]
  },
  {
   "cell_type": "markdown",
   "metadata": {},
   "source": [
    "## Data Structures\n",
    "\n",
    "![A dataframe is made up of data, row labels, and column labels](figures/dataframe.png)"
   ]
  },
  {
   "cell_type": "markdown",
   "metadata": {},
   "source": [
    "`read_csv` returned a `DataFrame`, which is somewhat similar to a spreadsheet or database table.\n",
    "`pd.DataFrame` is the data container you'll work most with, and consists of a few components:"
   ]
  },
  {
   "cell_type": "markdown",
   "metadata": {},
   "source": [
    "The data are in the middle of the table.\n",
    "Each column of the data is a `pd.Series`, kind of like a 1-dimensional version of a DataFrame."
   ]
  },
  {
   "cell_type": "code",
   "execution_count": 19,
   "metadata": {
    "collapsed": false
   },
   "outputs": [],
   "source": [
    "s = list(flights.columns)"
   ]
  },
  {
   "cell_type": "code",
   "execution_count": 20,
   "metadata": {
    "collapsed": false
   },
   "outputs": [
    {
     "data": {
      "text/plain": [
       "['fl_date',\n",
       " 'unique_carrier',\n",
       " 'airline_id',\n",
       " 'tail_num',\n",
       " 'fl_num',\n",
       " 'origin',\n",
       " 'dest',\n",
       " 'dep_time',\n",
       " 'dep_delay',\n",
       " 'arr_time',\n",
       " 'arr_delay',\n",
       " 'cancelled',\n",
       " 'arr',\n",
       " 'dep']"
      ]
     },
     "execution_count": 20,
     "metadata": {},
     "output_type": "execute_result"
    }
   ],
   "source": [
    "s"
   ]
  },
  {
   "cell_type": "code",
   "execution_count": 5,
   "metadata": {
    "collapsed": false
   },
   "outputs": [
    {
     "data": {
      "text/plain": [
       "0        14.00\n",
       "1        -3.00\n",
       "2         2.00\n",
       "3        -8.00\n",
       "4         2.00\n",
       "         ...  \n",
       "20812    -4.00\n",
       "20813   -10.00\n",
       "20814    -6.00\n",
       "20815     7.00\n",
       "20816   -12.00\n",
       "Name: dep_delay, Length: 20817, dtype: float64"
      ]
     },
     "execution_count": 5,
     "metadata": {},
     "output_type": "execute_result"
    }
   ],
   "source": [
    "flights['dep_delay']"
   ]
  },
  {
   "cell_type": "markdown",
   "metadata": {},
   "source": [
    "Both `pd.DataFrame`s and `pd.Series` have *row labels*, which can be accessed with the `.index` attribute:"
   ]
  },
  {
   "cell_type": "code",
   "execution_count": 6,
   "metadata": {
    "collapsed": false
   },
   "outputs": [
    {
     "data": {
      "text/plain": [
       "RangeIndex(start=0, stop=20817, step=1)"
      ]
     },
     "execution_count": 6,
     "metadata": {},
     "output_type": "execute_result"
    }
   ],
   "source": [
    "flights.index"
   ]
  },
  {
   "cell_type": "markdown",
   "metadata": {},
   "source": [
    "`flights.index` is a `pd.Index` (there are many specialized index types, like `pd.RangeIndex`, but we'll talk about those later).\n",
    "\n",
    "DataFrames store their column labels in a `.columns` attribute, which is also a `pd.Index`:"
   ]
  },
  {
   "cell_type": "code",
   "execution_count": 21,
   "metadata": {
    "collapsed": false
   },
   "outputs": [
    {
     "data": {
      "text/plain": [
       "RangeIndex(start=0, stop=20817, step=1)"
      ]
     },
     "execution_count": 21,
     "metadata": {},
     "output_type": "execute_result"
    }
   ],
   "source": [
    "flights.index"
   ]
  },
  {
   "cell_type": "markdown",
   "metadata": {},
   "source": [
    "The row and column labels help out with indexing and alignemnt, our firs two topics."
   ]
  },
  {
   "cell_type": "markdown",
   "metadata": {},
   "source": [
    "## Data Types\n",
    "\n",
    "![](figures/dtypes.png)"
   ]
  },
  {
   "cell_type": "markdown",
   "metadata": {},
   "source": [
    "Like NumPy (but unlike regular Python lists), you'll want to know the `dtypes` of your data.\n",
    "Improving on NumPy, pandas DataFrames can store *heterogenous* data;\n",
    "each column of a DataFrame will have it's own type (int, float, datetime, bool, etc.), but the DataFrame can hold a mixture of these."
   ]
  },
  {
   "cell_type": "code",
   "execution_count": 23,
   "metadata": {
    "collapsed": false
   },
   "outputs": [
    {
     "data": {
      "text/plain": [
       "fl_date           datetime64[ns]\n",
       "unique_carrier            object\n",
       "airline_id                 int64\n",
       "tail_num                  object\n",
       "fl_num                     int64\n",
       "                       ...      \n",
       "arr_time                 float64\n",
       "arr_delay                float64\n",
       "cancelled                float64\n",
       "arr               datetime64[ns]\n",
       "dep               datetime64[ns]\n",
       "Length: 14, dtype: object"
      ]
     },
     "execution_count": 23,
     "metadata": {},
     "output_type": "execute_result"
    }
   ],
   "source": [
    "flights.dtypes"
   ]
  },
  {
   "cell_type": "markdown",
   "metadata": {},
   "source": [
    "## Preview\n",
    "\n",
    "A taste of where we'll be by the end of the course"
   ]
  },
  {
   "cell_type": "markdown",
   "metadata": {},
   "source": [
    "To get a bit of intuition about the data we're working with, let's to a brief bit of exploratory analysis.\n",
    "We'll see all this in more detail later, but I wanted to demonstrate some of the capabilities of pandas upfront."
   ]
  },
  {
   "cell_type": "code",
   "execution_count": 6,
   "metadata": {
    "collapsed": false
   },
   "outputs": [
    {
     "data": {
      "image/png": "[encoded data removed]",
      "text/plain": [
       "<matplotlib.figure.Figure at 0x1136b7f10>"
      ]
     },
     "metadata": {},
     "output_type": "display_data"
    }
   ],
   "source": [
    "(flights['dep']\n",
    "    .value_counts()\n",
    "    .resample('H')\n",
    "    .sum()\n",
    "    .rolling(8).mean()\n",
    "    .plot(figsize=(12, 6),\n",
    "          title=\"Number of Flights (8H Rolling Mean)\"))\n",
    "sns.despine()"
   ]
  },
  {
   "cell_type": "markdown",
   "metadata": {},
   "source": [
    "We can plot the count of flights per carrier:"
   ]
  },
  {
   "cell_type": "code",
   "execution_count": 10,
   "metadata": {
    "collapsed": false,
    "scrolled": true
   },
   "outputs": [
    {
     "data": {
      "image/png": "[encoded data removed]",
      "text/plain": [
       "<matplotlib.figure.Figure at 0x114235ad0>"
      ]
     },
     "metadata": {},
     "output_type": "display_data"
    }
   ],
   "source": [
    "sns.countplot(\n",
    "    flights['unique_carrier'],\n",
    "    order=flights['unique_carrier'].value_counts().index,\n",
    "    palette='Blues_r'\n",
    ")\n",
    "sns.despine()"
   ]
  },
  {
   "cell_type": "markdown",
   "metadata": {},
   "source": [
    "And the joint distribution of departure and arrival delays:"
   ]
  },
  {
   "cell_type": "code",
   "execution_count": 11,
   "metadata": {
    "collapsed": false
   },
   "outputs": [
    {
     "data": {
      "image/png": "[encoded data removed]",
      "text/plain": [
       "<matplotlib.figure.Figure at 0x11480a0d0>"
      ]
     },
     "metadata": {},
     "output_type": "display_data"
    }
   ],
   "source": [
    "sns.jointplot('dep_delay', 'arr_delay',\n",
    "              flights.loc[(flights['dep_delay'] > 1) &\n",
    "                          (flights['dep_delay'] < 500)],\n",
    "              alpha=.25, marker='.', size=8);"
   ]
  },
  {
   "cell_type": "markdown",
   "metadata": {},
   "source": [
    "We'll explore some of those methods and visualization techniques later.\n",
    "For now we'll turn to the more fundamental operation of indexing.\n",
    "\n",
    "By indexing, we mean selecting subsets of your data.\n",
    "It's a good starting point, because it comes up in so many other places;\n",
    "It's a terrible starting point because it's somewhat complicated, and somewhat boring."
   ]
  },
  {
   "cell_type": "markdown",
   "metadata": {},
   "source": [
    "## Goals of Indexing\n",
    "\n",
    "There are many ways you might want to specify which subset you want to select:\n",
    "\n",
    "- Like lists, you can index by integer position.\n",
    "- Like dictionaries, you can index by label.\n",
    "- Like NumPy arrays, you can index by boolean masks.\n",
    "- You can index with a scalar, `slice`, or array\n",
    "- Any of these should work on the index (row labels), or columns of a DataFrame, or both\n",
    "- And any of these should work on hierarchical indexes."
   ]
  },
  {
   "cell_type": "markdown",
   "metadata": {},
   "source": [
    "## The Basic Rules\n",
    "\n",
    "1. Use `__getitem__` (square brackets) to select columns of a `DataFrame`\n",
    "\n",
    "    ```python\n",
    "    >>> df[['a', 'b', 'c']]\n",
    "    ```\n",
    "\n",
    "2. Use `.loc` for label-based indexing (rows and columns)\n",
    "\n",
    "    ```python\n",
    "    >>> df.loc[row_labels, column_labels]\n",
    "    ```\n",
    "\n",
    "3. Use `.iloc` for position-based indexing (rows and columns)\n",
    "\n",
    "    ```python\n",
    "    >>> df.iloc[row_positions, column_positions]\n",
    "    ```"
   ]
  },
  {
   "cell_type": "markdown",
   "metadata": {},
   "source": [
    "---\n",
    "\n",
    "The arguments to `.loc` and `.iloc` are `.loc[row_indexer, column_indexer]`. An indexer can be one of\n",
    "\n",
    "- A scalar or array (of labels or integer positions)\n",
    "- A `slice` object (including `:` for everything)\n",
    "- A boolean mask\n",
    "\n",
    "The column indexer is optional.\n",
    "We'll walk through all the combinations below."
   ]
  },
  {
   "cell_type": "markdown",
   "metadata": {},
   "source": [
    "Let's get a DataFrame with a labeled index by selecting the\n",
    "first flight for each carrier. We'll talk about `groupby` later."
   ]
  },
  {
   "cell_type": "code",
   "execution_count": 30,
   "metadata": {
    "collapsed": false
   },
   "outputs": [
    {
     "data": {
      "text/plain": [
       "Index([u'fl_date', u'unique_carrier', u'airline_id', u'tail_num', u'fl_num',\n",
       "       u'origin', u'dest', u'dep_time', u'dep_delay', u'arr_time',\n",
       "       u'arr_delay', u'cancelled', u'arr', u'dep'],\n",
       "      dtype='object')"
      ]
     },
     "execution_count": 30,
     "metadata": {},
     "output_type": "execute_result"
    }
   ],
   "source": [
    "flights.columns"
   ]
  },
  {
   "cell_type": "code",
   "execution_count": 31,
   "metadata": {
    "collapsed": false
   },
   "outputs": [
    {
     "data": {
      "text/plain": [
       "Index([u'origin', u'dest', u'dep_time', u'dep_delay'], dtype='object')"
      ]
     },
     "execution_count": 31,
     "metadata": {},
     "output_type": "execute_result"
    }
   ],
   "source": [
    "flights.iloc[:,5:9].columns"
   ]
  },
  {
   "cell_type": "code",
   "execution_count": 38,
   "metadata": {
    "collapsed": false
   },
   "outputs": [
    {
     "data": {
      "text/plain": [
       "origin  dest\n",
       "ALB     ATL      87\n",
       "        BWI     123\n",
       "        CLE      26\n",
       "        CLT      63\n",
       "        EWR      47\n",
       "               ... \n",
       "SYR     JFK      93\n",
       "        LGA      47\n",
       "        MCO      37\n",
       "        MSP       1\n",
       "        ORD     183\n",
       "Length: 187, dtype: int64"
      ]
     },
     "execution_count": 38,
     "metadata": {},
     "output_type": "execute_result"
    }
   ],
   "source": [
    "flights.groupby(['origin', 'dest']).size()"
   ]
  },
  {
   "cell_type": "code",
   "execution_count": 46,
   "metadata": {
    "collapsed": false
   },
   "outputs": [
    {
     "data": {
      "text/plain": [
       "origin  dest\n",
       "BUF     IAD      556.00\n",
       "JFK     SAT      621.00\n",
       "ALB     LAS      675.75\n",
       "SWF     MCO      694.07\n",
       "BUF     RSW      703.48\n",
       "                 ...   \n",
       "JFK     ABQ    2,025.21\n",
       "        DEN    2,077.00\n",
       "LGA     OMA    2,090.78\n",
       "        BGR    2,108.90\n",
       "        DSM    2,120.00\n",
       "Name: dep_time, Length: 187, dtype: float64"
      ]
     },
     "execution_count": 46,
     "metadata": {},
     "output_type": "execute_result"
    }
   ],
   "source": [
    "flights.groupby(['origin', 'dest']).dep_time.mean().sort_values()"
   ]
  },
  {
   "cell_type": "code",
   "execution_count": 45,
   "metadata": {
    "collapsed": false
   },
   "outputs": [
    {
     "data": {
      "text/plain": [
       "origin  dest\n",
       "BUF     IAD      556.00\n",
       "JFK     SAT      621.00\n",
       "ALB     LAS      675.75\n",
       "SWF     MCO      694.07\n",
       "BUF     RSW      703.48\n",
       "                 ...   \n",
       "JFK     ABQ    2,025.21\n",
       "        DEN    2,077.00\n",
       "LGA     OMA    2,090.78\n",
       "        BGR    2,108.90\n",
       "        DSM    2,120.00\n",
       "Name: dep_time, Length: 187, dtype: float64"
      ]
     },
     "execution_count": 45,
     "metadata": {},
     "output_type": "execute_result"
    }
   ],
   "source": [
    "t.sort_values()"
   ]
  },
  {
   "cell_type": "code",
   "execution_count": 32,
   "metadata": {
    "collapsed": false
   },
   "outputs": [
    {
     "data": {
      "text/plain": [
       "B6    4902\n",
       "DL    3803\n",
       "MQ    2434\n",
       "AA    2427\n",
       "EV    2080\n",
       "      ... \n",
       "VX     301\n",
       "FL     206\n",
       "F9      33\n",
       "HA      29\n",
       "OO      11\n",
       "Name: unique_carrier, Length: 13, dtype: int64"
      ]
     },
     "execution_count": 32,
     "metadata": {},
     "output_type": "execute_result"
    }
   ],
   "source": [
    "flights.unique_carrier.value_counts()"
   ]
  },
  {
   "cell_type": "code",
   "execution_count": 34,
   "metadata": {
    "collapsed": false
   },
   "outputs": [
    {
     "data": {
      "text/plain": [
       "unique_carrier\n",
       "AA    2427\n",
       "B6    4902\n",
       "DL    3803\n",
       "EV    2080\n",
       "F9      33\n",
       "      ... \n",
       "OO      11\n",
       "UA    1106\n",
       "US    1568\n",
       "VX     301\n",
       "WN    1917\n",
       "Length: 13, dtype: int64"
      ]
     },
     "execution_count": 34,
     "metadata": {},
     "output_type": "execute_result"
    }
   ],
   "source": [
    "first = flights.groupby(\"unique_carrier\").size()\n",
    "first"
   ]
  },
  {
   "cell_type": "markdown",
   "metadata": {},
   "source": [
    "## 1. Selecting Columns with `__getitem__`\n",
    "\n",
    "Let's select the two delay columns. Since we're *only* filtering the columns (not rows), we can use dictionary-like `[]` to do the slicing."
   ]
  },
  {
   "cell_type": "code",
   "execution_count": 13,
   "metadata": {
    "collapsed": false
   },
   "outputs": [
    {
     "data": {
      "text/html": [
       "<div>\n",
       "<style>\n",
       "    .dataframe thead tr:only-child th {\n",
       "        text-align: right;\n",
       "    }\n",
       "\n",
       "    .dataframe thead th {\n",
       "        text-align: left;\n",
       "    }\n",
       "\n",
       "    .dataframe tbody tr th {\n",
       "        vertical-align: top;\n",
       "    }\n",
       "</style>\n",
       "<table border=\"1\" class=\"dataframe\">\n",
       "  <thead>\n",
       "    <tr style=\"text-align: right;\">\n",
       "      <th></th>\n",
       "      <th>dep_delay</th>\n",
       "      <th>arr_delay</th>\n",
       "    </tr>\n",
       "    <tr>\n",
       "      <th>unique_carrier</th>\n",
       "      <th></th>\n",
       "      <th></th>\n",
       "    </tr>\n",
       "  </thead>\n",
       "  <tbody>\n",
       "    <tr>\n",
       "      <th>AA</th>\n",
       "      <td>14.00</td>\n",
       "      <td>13.00</td>\n",
       "    </tr>\n",
       "    <tr>\n",
       "      <th>B6</th>\n",
       "      <td>90.00</td>\n",
       "      <td>55.00</td>\n",
       "    </tr>\n",
       "    <tr>\n",
       "      <th>DL</th>\n",
       "      <td>10.00</td>\n",
       "      <td>10.00</td>\n",
       "    </tr>\n",
       "    <tr>\n",
       "      <th>EV</th>\n",
       "      <td>-5.00</td>\n",
       "      <td>31.00</td>\n",
       "    </tr>\n",
       "    <tr>\n",
       "      <th>F9</th>\n",
       "      <td>35.00</td>\n",
       "      <td>47.00</td>\n",
       "    </tr>\n",
       "    <tr>\n",
       "      <th>...</th>\n",
       "      <td>...</td>\n",
       "      <td>...</td>\n",
       "    </tr>\n",
       "    <tr>\n",
       "      <th>OO</th>\n",
       "      <td>49.00</td>\n",
       "      <td>47.00</td>\n",
       "    </tr>\n",
       "    <tr>\n",
       "      <th>UA</th>\n",
       "      <td>0.00</td>\n",
       "      <td>8.00</td>\n",
       "    </tr>\n",
       "    <tr>\n",
       "      <th>US</th>\n",
       "      <td>-6.00</td>\n",
       "      <td>-39.00</td>\n",
       "    </tr>\n",
       "    <tr>\n",
       "      <th>VX</th>\n",
       "      <td>0.00</td>\n",
       "      <td>-14.00</td>\n",
       "    </tr>\n",
       "    <tr>\n",
       "      <th>WN</th>\n",
       "      <td>17.00</td>\n",
       "      <td>15.00</td>\n",
       "    </tr>\n",
       "  </tbody>\n",
       "</table>\n",
       "<p>13 rows × 2 columns</p>\n",
       "</div>"
      ],
      "text/plain": [
       "                dep_delay  arr_delay\n",
       "unique_carrier                      \n",
       "AA                  14.00      13.00\n",
       "B6                  90.00      55.00\n",
       "DL                  10.00      10.00\n",
       "EV                  -5.00      31.00\n",
       "F9                  35.00      47.00\n",
       "...                   ...        ...\n",
       "OO                  49.00      47.00\n",
       "UA                   0.00       8.00\n",
       "US                  -6.00     -39.00\n",
       "VX                   0.00     -14.00\n",
       "WN                  17.00      15.00\n",
       "\n",
       "[13 rows x 2 columns]"
      ]
     },
     "execution_count": 13,
     "metadata": {},
     "output_type": "execute_result"
    }
   ],
   "source": [
    "first[['dep_delay', 'arr_delay']]"
   ]
  },
  {
   "cell_type": "markdown",
   "metadata": {},
   "source": [
    "One potential source of confusion: python uses `[]` for two purposes\n",
    "\n",
    "1. building a list\n",
    "2. slicing with `__getitem__`"
   ]
  },
  {
   "cell_type": "code",
   "execution_count": 14,
   "metadata": {
    "collapsed": false
   },
   "outputs": [
    {
     "data": {
      "text/html": [
       "<div>\n",
       "<style>\n",
       "    .dataframe thead tr:only-child th {\n",
       "        text-align: right;\n",
       "    }\n",
       "\n",
       "    .dataframe thead th {\n",
       "        text-align: left;\n",
       "    }\n",
       "\n",
       "    .dataframe tbody tr th {\n",
       "        vertical-align: top;\n",
       "    }\n",
       "</style>\n",
       "<table border=\"1\" class=\"dataframe\">\n",
       "  <thead>\n",
       "    <tr style=\"text-align: right;\">\n",
       "      <th></th>\n",
       "      <th>dep_delay</th>\n",
       "      <th>arr_delay</th>\n",
       "    </tr>\n",
       "    <tr>\n",
       "      <th>unique_carrier</th>\n",
       "      <th></th>\n",
       "      <th></th>\n",
       "    </tr>\n",
       "  </thead>\n",
       "  <tbody>\n",
       "    <tr>\n",
       "      <th>AA</th>\n",
       "      <td>14.00</td>\n",
       "      <td>13.00</td>\n",
       "    </tr>\n",
       "    <tr>\n",
       "      <th>B6</th>\n",
       "      <td>90.00</td>\n",
       "      <td>55.00</td>\n",
       "    </tr>\n",
       "    <tr>\n",
       "      <th>DL</th>\n",
       "      <td>10.00</td>\n",
       "      <td>10.00</td>\n",
       "    </tr>\n",
       "    <tr>\n",
       "      <th>EV</th>\n",
       "      <td>-5.00</td>\n",
       "      <td>31.00</td>\n",
       "    </tr>\n",
       "    <tr>\n",
       "      <th>F9</th>\n",
       "      <td>35.00</td>\n",
       "      <td>47.00</td>\n",
       "    </tr>\n",
       "    <tr>\n",
       "      <th>...</th>\n",
       "      <td>...</td>\n",
       "      <td>...</td>\n",
       "    </tr>\n",
       "    <tr>\n",
       "      <th>OO</th>\n",
       "      <td>49.00</td>\n",
       "      <td>47.00</td>\n",
       "    </tr>\n",
       "    <tr>\n",
       "      <th>UA</th>\n",
       "      <td>0.00</td>\n",
       "      <td>8.00</td>\n",
       "    </tr>\n",
       "    <tr>\n",
       "      <th>US</th>\n",
       "      <td>-6.00</td>\n",
       "      <td>-39.00</td>\n",
       "    </tr>\n",
       "    <tr>\n",
       "      <th>VX</th>\n",
       "      <td>0.00</td>\n",
       "      <td>-14.00</td>\n",
       "    </tr>\n",
       "    <tr>\n",
       "      <th>WN</th>\n",
       "      <td>17.00</td>\n",
       "      <td>15.00</td>\n",
       "    </tr>\n",
       "  </tbody>\n",
       "</table>\n",
       "<p>13 rows × 2 columns</p>\n",
       "</div>"
      ],
      "text/plain": [
       "                dep_delay  arr_delay\n",
       "unique_carrier                      \n",
       "AA                  14.00      13.00\n",
       "B6                  90.00      55.00\n",
       "DL                  10.00      10.00\n",
       "EV                  -5.00      31.00\n",
       "F9                  35.00      47.00\n",
       "...                   ...        ...\n",
       "OO                  49.00      47.00\n",
       "UA                   0.00       8.00\n",
       "US                  -6.00     -39.00\n",
       "VX                   0.00     -14.00\n",
       "WN                  17.00      15.00\n",
       "\n",
       "[13 rows x 2 columns]"
      ]
     },
     "execution_count": 14,
     "metadata": {},
     "output_type": "execute_result"
    }
   ],
   "source": [
    "# 1. build the list cols\n",
    "cols = ['dep_delay', 'arr_delay']\n",
    "# 2. slice, with cols as the argument to `__getitem__`\n",
    "first[cols]"
   ]
  },
  {
   "cell_type": "markdown",
   "metadata": {},
   "source": [
    "<div class=\"alert alert-success\" data-title=\"Select Columns by Name\">\n",
    "  <h1><i class=\"fa fa-tasks\" aria-hidden=\"true\"></i> Exercise: Select Columns by Name</h1>\n",
    "</div>\n",
    "<p>Select the two airport-name columns, `'origin'` and `'dest'`, from `first`</p>"
   ]
  },
  {
   "cell_type": "code",
   "execution_count": 14,
   "metadata": {
    "collapsed": true,
    "tags": [
     "solution"
    ]
   },
   "outputs": [],
   "source": [
    "# Your code here...\n"
   ]
  },
  {
   "cell_type": "code",
   "execution_count": 16,
   "metadata": {
    "collapsed": false,
    "tags": [
     "solution"
    ]
   },
   "outputs": [
    {
     "data": {
      "text/html": [
       "<div>\n",
       "<style>\n",
       "    .dataframe thead tr:only-child th {\n",
       "        text-align: right;\n",
       "    }\n",
       "\n",
       "    .dataframe thead th {\n",
       "        text-align: left;\n",
       "    }\n",
       "\n",
       "    .dataframe tbody tr th {\n",
       "        vertical-align: top;\n",
       "    }\n",
       "</style>\n",
       "<table border=\"1\" class=\"dataframe\">\n",
       "  <thead>\n",
       "    <tr style=\"text-align: right;\">\n",
       "      <th></th>\n",
       "      <th>origin</th>\n",
       "      <th>dest</th>\n",
       "    </tr>\n",
       "    <tr>\n",
       "      <th>unique_carrier</th>\n",
       "      <th></th>\n",
       "      <th></th>\n",
       "    </tr>\n",
       "  </thead>\n",
       "  <tbody>\n",
       "    <tr>\n",
       "      <th>AA</th>\n",
       "      <td>JFK</td>\n",
       "      <td>LAX</td>\n",
       "    </tr>\n",
       "    <tr>\n",
       "      <th>B6</th>\n",
       "      <td>SYR</td>\n",
       "      <td>JFK</td>\n",
       "    </tr>\n",
       "    <tr>\n",
       "      <th>DL</th>\n",
       "      <td>LGA</td>\n",
       "      <td>ATL</td>\n",
       "    </tr>\n",
       "    <tr>\n",
       "      <th>EV</th>\n",
       "      <td>HPN</td>\n",
       "      <td>ORD</td>\n",
       "    </tr>\n",
       "    <tr>\n",
       "      <th>F9</th>\n",
       "      <td>LGA</td>\n",
       "      <td>DEN</td>\n",
       "    </tr>\n",
       "    <tr>\n",
       "      <th>...</th>\n",
       "      <td>...</td>\n",
       "      <td>...</td>\n",
       "    </tr>\n",
       "    <tr>\n",
       "      <th>OO</th>\n",
       "      <td>SYR</td>\n",
       "      <td>ORD</td>\n",
       "    </tr>\n",
       "    <tr>\n",
       "      <th>UA</th>\n",
       "      <td>LGA</td>\n",
       "      <td>ORD</td>\n",
       "    </tr>\n",
       "    <tr>\n",
       "      <th>US</th>\n",
       "      <td>JFK</td>\n",
       "      <td>PHX</td>\n",
       "    </tr>\n",
       "    <tr>\n",
       "      <th>VX</th>\n",
       "      <td>JFK</td>\n",
       "      <td>SFO</td>\n",
       "    </tr>\n",
       "    <tr>\n",
       "      <th>WN</th>\n",
       "      <td>ALB</td>\n",
       "      <td>BWI</td>\n",
       "    </tr>\n",
       "  </tbody>\n",
       "</table>\n",
       "<p>13 rows × 2 columns</p>\n",
       "</div>"
      ],
      "text/plain": [
       "               origin dest\n",
       "unique_carrier            \n",
       "AA                JFK  LAX\n",
       "B6                SYR  JFK\n",
       "DL                LGA  ATL\n",
       "EV                HPN  ORD\n",
       "F9                LGA  DEN\n",
       "...               ...  ...\n",
       "OO                SYR  ORD\n",
       "UA                LGA  ORD\n",
       "US                JFK  PHX\n",
       "VX                JFK  SFO\n",
       "WN                ALB  BWI\n",
       "\n",
       "[13 rows x 2 columns]"
      ]
     },
     "execution_count": 16,
     "metadata": {},
     "output_type": "execute_result"
    }
   ],
   "source": [
    "%load solutions/indexing_00.py"
   ]
  },
  {
   "cell_type": "markdown",
   "metadata": {},
   "source": [
    "## Column `.` lookup\n",
    "\n",
    "As a convenience, pandas attaches the column names to your `DataFrame` when they're valid [python identifiers](https://docs.python.org/3/reference/lexical_analysis.html), and don't override one of the ([many](http://pandas.pydata.org/pandas-docs/stable/api.html#dataframe)) methods on `DataFrame`"
   ]
  },
  {
   "cell_type": "code",
   "execution_count": 17,
   "metadata": {
    "collapsed": false
   },
   "outputs": [
    {
     "data": {
      "text/plain": [
       "N292JB    76\n",
       "N258JB    69\n",
       "N306JB    68\n",
       "N523MQ    59\n",
       "N324JB    58\n",
       "          ..\n",
       "N527AA     1\n",
       "N1610D     1\n",
       "N124US     1\n",
       "N76508     1\n",
       "N77258     1\n",
       "Name: tail_num, Length: 2734, dtype: int64"
      ]
     },
     "execution_count": 17,
     "metadata": {},
     "output_type": "execute_result"
    }
   ],
   "source": [
    "# Same as flights['tail_num'].value_counts()\n",
    "flights.tail_num.value_counts()"
   ]
  },
  {
   "cell_type": "markdown",
   "metadata": {},
   "source": [
    "This is nice when working interactively, especially as tab completion works with `flights.tail_num.<TAB>`, but doesn't with `flights['tail_num'].<TAB>`.\n",
    "Still, since pandas could add methods in the future that clash with your column names, it's recommended to stick with `__getitem__` for production code.\n",
    "This will always work, even when you shadow a DataFrame method"
   ]
  },
  {
   "cell_type": "code",
   "execution_count": 18,
   "metadata": {
    "collapsed": false
   },
   "outputs": [
    {
     "data": {
      "text/html": [
       "<div>\n",
       "<style>\n",
       "    .dataframe thead tr:only-child th {\n",
       "        text-align: right;\n",
       "    }\n",
       "\n",
       "    .dataframe thead th {\n",
       "        text-align: left;\n",
       "    }\n",
       "\n",
       "    .dataframe tbody tr th {\n",
       "        vertical-align: top;\n",
       "    }\n",
       "</style>\n",
       "<table border=\"1\" class=\"dataframe\">\n",
       "  <thead>\n",
       "    <tr style=\"text-align: right;\">\n",
       "      <th></th>\n",
       "      <th>mean</th>\n",
       "    </tr>\n",
       "  </thead>\n",
       "  <tbody>\n",
       "    <tr>\n",
       "      <th>0</th>\n",
       "      <td>1</td>\n",
       "    </tr>\n",
       "    <tr>\n",
       "      <th>1</th>\n",
       "      <td>2</td>\n",
       "    </tr>\n",
       "    <tr>\n",
       "      <th>2</th>\n",
       "      <td>3</td>\n",
       "    </tr>\n",
       "  </tbody>\n",
       "</table>\n",
       "</div>"
      ],
      "text/plain": [
       "   mean\n",
       "0     1\n",
       "1     2\n",
       "2     3"
      ]
     },
     "execution_count": 18,
     "metadata": {},
     "output_type": "execute_result"
    }
   ],
   "source": [
    "x = pd.DataFrame({\"mean\": [1, 2, 3]})\n",
    "x"
   ]
  },
  {
   "cell_type": "code",
   "execution_count": 19,
   "metadata": {
    "collapsed": false
   },
   "outputs": [
    {
     "data": {
      "text/plain": [
       "<bound method DataFrame.mean of    mean\n",
       "0     1\n",
       "1     2\n",
       "2     3>"
      ]
     },
     "execution_count": 19,
     "metadata": {},
     "output_type": "execute_result"
    }
   ],
   "source": [
    "# returns the method, not the column\n",
    "x.mean"
   ]
  },
  {
   "cell_type": "markdown",
   "metadata": {},
   "source": [
    "Finally, you can't *assign* with `.`, while you can with `__setitem__` (square brackets on the left-hand side of an `=`):"
   ]
  },
  {
   "cell_type": "code",
   "execution_count": 20,
   "metadata": {
    "collapsed": false
   },
   "outputs": [
    {
     "data": {
      "text/html": [
       "<div>\n",
       "<style>\n",
       "    .dataframe thead tr:only-child th {\n",
       "        text-align: right;\n",
       "    }\n",
       "\n",
       "    .dataframe thead th {\n",
       "        text-align: left;\n",
       "    }\n",
       "\n",
       "    .dataframe tbody tr th {\n",
       "        vertical-align: top;\n",
       "    }\n",
       "</style>\n",
       "<table border=\"1\" class=\"dataframe\">\n",
       "  <thead>\n",
       "    <tr style=\"text-align: right;\">\n",
       "      <th></th>\n",
       "      <th>mean</th>\n",
       "      <th>right</th>\n",
       "    </tr>\n",
       "  </thead>\n",
       "  <tbody>\n",
       "    <tr>\n",
       "      <th>0</th>\n",
       "      <td>1</td>\n",
       "      <td>a</td>\n",
       "    </tr>\n",
       "    <tr>\n",
       "      <th>1</th>\n",
       "      <td>2</td>\n",
       "      <td>b</td>\n",
       "    </tr>\n",
       "    <tr>\n",
       "      <th>2</th>\n",
       "      <td>3</td>\n",
       "      <td>c</td>\n",
       "    </tr>\n",
       "  </tbody>\n",
       "</table>\n",
       "</div>"
      ],
      "text/plain": [
       "   mean right\n",
       "0     1     a\n",
       "1     2     b\n",
       "2     3     c"
      ]
     },
     "execution_count": 20,
     "metadata": {},
     "output_type": "execute_result"
    }
   ],
   "source": [
    "x.wrong = ['a', 'b', 'c']\n",
    "x['right'] = ['a', 'b', 'c']\n",
    "x"
   ]
  },
  {
   "cell_type": "code",
   "execution_count": 21,
   "metadata": {
    "collapsed": false
   },
   "outputs": [
    {
     "data": {
      "text/plain": [
       "['a', 'b', 'c']"
      ]
     },
     "execution_count": 21,
     "metadata": {},
     "output_type": "execute_result"
    }
   ],
   "source": [
    "x.wrong"
   ]
  },
  {
   "cell_type": "markdown",
   "metadata": {},
   "source": [
    "`DataFrame`s, like most python objects, allow you to attach arbitrary attributes to any instance.\n",
    "This means `x.wrong = ...` attaches the thing on the right-hand side to the object on the left."
   ]
  },
  {
   "cell_type": "markdown",
   "metadata": {},
   "source": [
    "## Label-Based Indexing with `.loc`\n",
    "\n",
    "You can slice rows by label (and optionally the columns too) with `.loc`.\n",
    "Let's select the rows for the carriers 'AA', 'DL', 'US', and 'WN'."
   ]
  },
  {
   "cell_type": "code",
   "execution_count": 47,
   "metadata": {
    "collapsed": false
   },
   "outputs": [
    {
     "data": {
      "text/plain": [
       "unique_carrier\n",
       "AA    2427\n",
       "DL    3803\n",
       "US    1568\n",
       "WN    1917\n",
       "dtype: int64"
      ]
     },
     "execution_count": 47,
     "metadata": {},
     "output_type": "execute_result"
    }
   ],
   "source": [
    "carriers = ['AA', 'DL', 'US', 'WN']\n",
    "# Select those carriers by label\n",
    "first.loc[carriers]  # no column indexer"
   ]
  },
  {
   "cell_type": "markdown",
   "metadata": {},
   "source": [
    "Indexing both rows and columns:"
   ]
  },
  {
   "cell_type": "code",
   "execution_count": 23,
   "metadata": {
    "collapsed": false
   },
   "outputs": [
    {
     "data": {
      "text/html": [
       "<div>\n",
       "<style>\n",
       "    .dataframe thead tr:only-child th {\n",
       "        text-align: right;\n",
       "    }\n",
       "\n",
       "    .dataframe thead th {\n",
       "        text-align: left;\n",
       "    }\n",
       "\n",
       "    .dataframe tbody tr th {\n",
       "        vertical-align: top;\n",
       "    }\n",
       "</style>\n",
       "<table border=\"1\" class=\"dataframe\">\n",
       "  <thead>\n",
       "    <tr style=\"text-align: right;\">\n",
       "      <th></th>\n",
       "      <th>origin</th>\n",
       "      <th>dest</th>\n",
       "      <th>dep_delay</th>\n",
       "    </tr>\n",
       "    <tr>\n",
       "      <th>unique_carrier</th>\n",
       "      <th></th>\n",
       "      <th></th>\n",
       "      <th></th>\n",
       "    </tr>\n",
       "  </thead>\n",
       "  <tbody>\n",
       "    <tr>\n",
       "      <th>AA</th>\n",
       "      <td>JFK</td>\n",
       "      <td>LAX</td>\n",
       "      <td>14.00</td>\n",
       "    </tr>\n",
       "    <tr>\n",
       "      <th>DL</th>\n",
       "      <td>LGA</td>\n",
       "      <td>ATL</td>\n",
       "      <td>10.00</td>\n",
       "    </tr>\n",
       "    <tr>\n",
       "      <th>US</th>\n",
       "      <td>JFK</td>\n",
       "      <td>PHX</td>\n",
       "      <td>-6.00</td>\n",
       "    </tr>\n",
       "    <tr>\n",
       "      <th>WN</th>\n",
       "      <td>ALB</td>\n",
       "      <td>BWI</td>\n",
       "      <td>17.00</td>\n",
       "    </tr>\n",
       "  </tbody>\n",
       "</table>\n",
       "</div>"
      ],
      "text/plain": [
       "               origin dest  dep_delay\n",
       "unique_carrier                       \n",
       "AA                JFK  LAX      14.00\n",
       "DL                LGA  ATL      10.00\n",
       "US                JFK  PHX      -6.00\n",
       "WN                ALB  BWI      17.00"
      ]
     },
     "execution_count": 23,
     "metadata": {},
     "output_type": "execute_result"
    }
   ],
   "source": [
    "# select just `carriers` and origin, dest, and dep_delay\n",
    "first.loc[carriers, ['origin', 'dest', 'dep_delay']]"
   ]
  },
  {
   "cell_type": "markdown",
   "metadata": {},
   "source": [
    "Pandas will *reduce dimensionality* when possible, so slicing with a scalar on either axis will return a `Series`."
   ]
  },
  {
   "cell_type": "code",
   "execution_count": 24,
   "metadata": {
    "collapsed": false
   },
   "outputs": [
    {
     "data": {
      "text/plain": [
       "unique_carrier\n",
       "AA    N338AA\n",
       "DL    N930DL\n",
       "US    N546UW\n",
       "WN    N625SW\n",
       "Name: tail_num, dtype: object"
      ]
     },
     "execution_count": 24,
     "metadata": {},
     "output_type": "execute_result"
    }
   ],
   "source": [
    "# select just tail_num for those `carriers`\n",
    "first.loc[carriers, 'tail_num']"
   ]
  },
  {
   "cell_type": "markdown",
   "metadata": {},
   "source": [
    "And scalars on both axes will return a scalar."
   ]
  },
  {
   "cell_type": "code",
   "execution_count": 25,
   "metadata": {
    "collapsed": false
   },
   "outputs": [
    {
     "data": {
      "text/plain": [
       "'N338AA'"
      ]
     },
     "execution_count": 25,
     "metadata": {},
     "output_type": "execute_result"
    }
   ],
   "source": [
    "first.loc['AA', 'tail_num']"
   ]
  },
  {
   "cell_type": "markdown",
   "metadata": {},
   "source": [
    "## `slice` objects\n",
    "\n",
    "You can pass a `slice` object (made with a `:`). They make sense when your index is sorted, which ours is."
   ]
  },
  {
   "cell_type": "code",
   "execution_count": 26,
   "metadata": {
    "collapsed": false
   },
   "outputs": [
    {
     "data": {
      "text/html": [
       "<div>\n",
       "<style>\n",
       "    .dataframe thead tr:only-child th {\n",
       "        text-align: right;\n",
       "    }\n",
       "\n",
       "    .dataframe thead th {\n",
       "        text-align: left;\n",
       "    }\n",
       "\n",
       "    .dataframe tbody tr th {\n",
       "        vertical-align: top;\n",
       "    }\n",
       "</style>\n",
       "<table border=\"1\" class=\"dataframe\">\n",
       "  <thead>\n",
       "    <tr style=\"text-align: right;\">\n",
       "      <th></th>\n",
       "      <th>fl_date</th>\n",
       "      <th>airline_id</th>\n",
       "      <th>tail_num</th>\n",
       "      <th>fl_num</th>\n",
       "      <th>origin</th>\n",
       "      <th>dest</th>\n",
       "      <th>dep_time</th>\n",
       "      <th>dep_delay</th>\n",
       "      <th>arr_time</th>\n",
       "      <th>arr_delay</th>\n",
       "      <th>cancelled</th>\n",
       "      <th>arr</th>\n",
       "      <th>dep</th>\n",
       "    </tr>\n",
       "    <tr>\n",
       "      <th>unique_carrier</th>\n",
       "      <th></th>\n",
       "      <th></th>\n",
       "      <th></th>\n",
       "      <th></th>\n",
       "      <th></th>\n",
       "      <th></th>\n",
       "      <th></th>\n",
       "      <th></th>\n",
       "      <th></th>\n",
       "      <th></th>\n",
       "      <th></th>\n",
       "      <th></th>\n",
       "      <th></th>\n",
       "    </tr>\n",
       "  </thead>\n",
       "  <tbody>\n",
       "    <tr>\n",
       "      <th>AA</th>\n",
       "      <td>2014-01-01</td>\n",
       "      <td>19805</td>\n",
       "      <td>N338AA</td>\n",
       "      <td>1</td>\n",
       "      <td>JFK</td>\n",
       "      <td>LAX</td>\n",
       "      <td>914.00</td>\n",
       "      <td>14.00</td>\n",
       "      <td>1,238.00</td>\n",
       "      <td>13.00</td>\n",
       "      <td>0.00</td>\n",
       "      <td>2014-01-01 12:38:00</td>\n",
       "      <td>2014-01-01 09:14:00</td>\n",
       "    </tr>\n",
       "    <tr>\n",
       "      <th>B6</th>\n",
       "      <td>2014-01-01</td>\n",
       "      <td>20409</td>\n",
       "      <td>N318JB</td>\n",
       "      <td>115</td>\n",
       "      <td>SYR</td>\n",
       "      <td>JFK</td>\n",
       "      <td>720.00</td>\n",
       "      <td>90.00</td>\n",
       "      <td>808.00</td>\n",
       "      <td>55.00</td>\n",
       "      <td>0.00</td>\n",
       "      <td>2014-01-01 08:08:00</td>\n",
       "      <td>2014-01-01 07:20:00</td>\n",
       "    </tr>\n",
       "    <tr>\n",
       "      <th>DL</th>\n",
       "      <td>2014-01-01</td>\n",
       "      <td>19790</td>\n",
       "      <td>N930DL</td>\n",
       "      <td>61</td>\n",
       "      <td>LGA</td>\n",
       "      <td>ATL</td>\n",
       "      <td>1,810.00</td>\n",
       "      <td>10.00</td>\n",
       "      <td>2,054.00</td>\n",
       "      <td>10.00</td>\n",
       "      <td>0.00</td>\n",
       "      <td>2014-01-01 20:54:00</td>\n",
       "      <td>2014-01-01 18:10:00</td>\n",
       "    </tr>\n",
       "  </tbody>\n",
       "</table>\n",
       "</div>"
      ],
      "text/plain": [
       "                  fl_date  airline_id tail_num  fl_num origin dest  dep_time  \\\n",
       "unique_carrier                                                                 \n",
       "AA             2014-01-01       19805   N338AA       1    JFK  LAX    914.00   \n",
       "B6             2014-01-01       20409   N318JB     115    SYR  JFK    720.00   \n",
       "DL             2014-01-01       19790   N930DL      61    LGA  ATL  1,810.00   \n",
       "\n",
       "                dep_delay  arr_time  arr_delay  cancelled                 arr  \\\n",
       "unique_carrier                                                                  \n",
       "AA                  14.00  1,238.00      13.00       0.00 2014-01-01 12:38:00   \n",
       "B6                  90.00    808.00      55.00       0.00 2014-01-01 08:08:00   \n",
       "DL                  10.00  2,054.00      10.00       0.00 2014-01-01 20:54:00   \n",
       "\n",
       "                               dep  \n",
       "unique_carrier                      \n",
       "AA             2014-01-01 09:14:00  \n",
       "B6             2014-01-01 07:20:00  \n",
       "DL             2014-01-01 18:10:00  "
      ]
     },
     "execution_count": 26,
     "metadata": {},
     "output_type": "execute_result"
    }
   ],
   "source": [
    "# slice from AA to DL\n",
    "first.loc['AA':'DL']"
   ]
  },
  {
   "cell_type": "markdown",
   "metadata": {},
   "source": [
    "Notice that the slice is inclusive on *both* sides *when using* `.loc` (`.iloc` follows the usual python semantics of closed on the left, open on the right)."
   ]
  },
  {
   "cell_type": "markdown",
   "metadata": {},
   "source": [
    "<div class=\"alert alert-success\" data-title=\"Index Rows and Columns\">\n",
    "  <h1><i class=\"fa fa-tasks\" aria-hidden=\"true\"></i> Exercise: Index Rows and Columns</h1>\n",
    "</div>\n",
    "<p>\n",
    "Select the columns `tail_num`, `origin`, and `dest` for the carriers `US`, `VX`, and `WN` from `first`.</p>"
   ]
  },
  {
   "cell_type": "code",
   "execution_count": 27,
   "metadata": {
    "collapsed": true,
    "tags": [
     "solution"
    ]
   },
   "outputs": [],
   "source": [
    "# Your code here...\n"
   ]
  },
  {
   "cell_type": "code",
   "execution_count": 29,
   "metadata": {
    "collapsed": false,
    "tags": [
     "solution"
    ]
   },
   "outputs": [
    {
     "data": {
      "text/html": [
       "<div>\n",
       "<style>\n",
       "    .dataframe thead tr:only-child th {\n",
       "        text-align: right;\n",
       "    }\n",
       "\n",
       "    .dataframe thead th {\n",
       "        text-align: left;\n",
       "    }\n",
       "\n",
       "    .dataframe tbody tr th {\n",
       "        vertical-align: top;\n",
       "    }\n",
       "</style>\n",
       "<table border=\"1\" class=\"dataframe\">\n",
       "  <thead>\n",
       "    <tr style=\"text-align: right;\">\n",
       "      <th></th>\n",
       "      <th>tail_num</th>\n",
       "      <th>origin</th>\n",
       "      <th>dest</th>\n",
       "    </tr>\n",
       "    <tr>\n",
       "      <th>unique_carrier</th>\n",
       "      <th></th>\n",
       "      <th></th>\n",
       "      <th></th>\n",
       "    </tr>\n",
       "  </thead>\n",
       "  <tbody>\n",
       "    <tr>\n",
       "      <th>US</th>\n",
       "      <td>N546UW</td>\n",
       "      <td>JFK</td>\n",
       "      <td>PHX</td>\n",
       "    </tr>\n",
       "    <tr>\n",
       "      <th>VX</th>\n",
       "      <td>N361VA</td>\n",
       "      <td>JFK</td>\n",
       "      <td>SFO</td>\n",
       "    </tr>\n",
       "    <tr>\n",
       "      <th>WN</th>\n",
       "      <td>N625SW</td>\n",
       "      <td>ALB</td>\n",
       "      <td>BWI</td>\n",
       "    </tr>\n",
       "  </tbody>\n",
       "</table>\n",
       "</div>"
      ],
      "text/plain": [
       "               tail_num origin dest\n",
       "unique_carrier                     \n",
       "US               N546UW    JFK  PHX\n",
       "VX               N361VA    JFK  SFO\n",
       "WN               N625SW    ALB  BWI"
      ]
     },
     "execution_count": 29,
     "metadata": {},
     "output_type": "execute_result"
    }
   ],
   "source": [
    "%load solutions/indexing_loc.py"
   ]
  },
  {
   "cell_type": "markdown",
   "metadata": {},
   "source": [
    "## Boolean Indexing\n",
    "\n",
    "Filter using a *1-dimensional* boolean array with the same length."
   ]
  },
  {
   "cell_type": "markdown",
   "metadata": {},
   "source": [
    "This is esstentially a SQL `WHERE` clause.\n",
    "You filter the rows according to some condition.\n",
    "For example, let's select flights that departed from the top-5 most common airports."
   ]
  },
  {
   "cell_type": "code",
   "execution_count": 30,
   "metadata": {
    "collapsed": false
   },
   "outputs": [
    {
     "data": {
      "text/plain": [
       "LGA    8530\n",
       "JFK    7878\n",
       "BUF    1348\n",
       "ROC     676\n",
       "HPN     615\n",
       "       ... \n",
       "SYR     554\n",
       "ISP     398\n",
       "ELM     105\n",
       "SWF      62\n",
       "ART      58\n",
       "Name: origin, Length: 11, dtype: int64"
      ]
     },
     "execution_count": 30,
     "metadata": {},
     "output_type": "execute_result"
    }
   ],
   "source": [
    "# Get the counts for `flights.origin`\n",
    "origin_counts = flights.origin.value_counts()\n",
    "origin_counts"
   ]
  },
  {
   "cell_type": "markdown",
   "metadata": {},
   "source": [
    "[`Series.value_counts`](http://pandas.pydata.org/pandas-docs/stable/generated/pandas.Series.value_counts.html) will return a Series where the index is the set of unique values, and the values are the number of occurrances of that value.\n",
    "It's sorted in descending order, so we can get the 5 most common labels with:"
   ]
  },
  {
   "cell_type": "code",
   "execution_count": 31,
   "metadata": {
    "collapsed": false
   },
   "outputs": [
    {
     "data": {
      "text/plain": [
       "Index(['LGA', 'JFK', 'BUF', 'ROC', 'HPN'], dtype='object')"
      ]
     },
     "execution_count": 31,
     "metadata": {},
     "output_type": "execute_result"
    }
   ],
   "source": [
    "# Get a boolean mask for whether `counts` is in the top 5.\n",
    "top5 = origin_counts.index[:5]\n",
    "top5"
   ]
  },
  {
   "cell_type": "markdown",
   "metadata": {},
   "source": [
    "We'll test whether any given row from `filghts` is in the top 5 using the `.isin` method:"
   ]
  },
  {
   "cell_type": "code",
   "execution_count": 32,
   "metadata": {
    "collapsed": false
   },
   "outputs": [
    {
     "data": {
      "text/plain": [
       "0        True\n",
       "1        True\n",
       "2        True\n",
       "3        True\n",
       "4        True\n",
       "         ... \n",
       "20812    True\n",
       "20813    True\n",
       "20814    True\n",
       "20815    True\n",
       "20816    True\n",
       "Name: origin, Length: 20817, dtype: bool"
      ]
     },
     "execution_count": 32,
     "metadata": {},
     "output_type": "execute_result"
    }
   ],
   "source": [
    "mask = flights.origin.isin(top5)\n",
    "mask"
   ]
  },
  {
   "cell_type": "markdown",
   "metadata": {},
   "source": [
    "This is a *boolean mask*, which can be passed into `.loc`."
   ]
  },
  {
   "cell_type": "code",
   "execution_count": 33,
   "metadata": {
    "collapsed": false
   },
   "outputs": [
    {
     "data": {
      "text/html": [
       "<div>\n",
       "<style>\n",
       "    .dataframe thead tr:only-child th {\n",
       "        text-align: right;\n",
       "    }\n",
       "\n",
       "    .dataframe thead th {\n",
       "        text-align: left;\n",
       "    }\n",
       "\n",
       "    .dataframe tbody tr th {\n",
       "        vertical-align: top;\n",
       "    }\n",
       "</style>\n",
       "<table border=\"1\" class=\"dataframe\">\n",
       "  <thead>\n",
       "    <tr style=\"text-align: right;\">\n",
       "      <th></th>\n",
       "      <th>origin</th>\n",
       "      <th>dest</th>\n",
       "    </tr>\n",
       "  </thead>\n",
       "  <tbody>\n",
       "    <tr>\n",
       "      <th>0</th>\n",
       "      <td>JFK</td>\n",
       "      <td>LAX</td>\n",
       "    </tr>\n",
       "    <tr>\n",
       "      <th>1</th>\n",
       "      <td>JFK</td>\n",
       "      <td>LAX</td>\n",
       "    </tr>\n",
       "    <tr>\n",
       "      <th>2</th>\n",
       "      <td>JFK</td>\n",
       "      <td>LAX</td>\n",
       "    </tr>\n",
       "    <tr>\n",
       "      <th>3</th>\n",
       "      <td>LGA</td>\n",
       "      <td>PBI</td>\n",
       "    </tr>\n",
       "    <tr>\n",
       "      <th>4</th>\n",
       "      <td>JFK</td>\n",
       "      <td>LAX</td>\n",
       "    </tr>\n",
       "    <tr>\n",
       "      <th>...</th>\n",
       "      <td>...</td>\n",
       "      <td>...</td>\n",
       "    </tr>\n",
       "    <tr>\n",
       "      <th>20812</th>\n",
       "      <td>ROC</td>\n",
       "      <td>ORD</td>\n",
       "    </tr>\n",
       "    <tr>\n",
       "      <th>20813</th>\n",
       "      <td>LGA</td>\n",
       "      <td>CLE</td>\n",
       "    </tr>\n",
       "    <tr>\n",
       "      <th>20814</th>\n",
       "      <td>LGA</td>\n",
       "      <td>IAH</td>\n",
       "    </tr>\n",
       "    <tr>\n",
       "      <th>20815</th>\n",
       "      <td>LGA</td>\n",
       "      <td>IAH</td>\n",
       "    </tr>\n",
       "    <tr>\n",
       "      <th>20816</th>\n",
       "      <td>BUF</td>\n",
       "      <td>ORD</td>\n",
       "    </tr>\n",
       "  </tbody>\n",
       "</table>\n",
       "<p>19047 rows × 2 columns</p>\n",
       "</div>"
      ],
      "text/plain": [
       "      origin dest\n",
       "0        JFK  LAX\n",
       "1        JFK  LAX\n",
       "2        JFK  LAX\n",
       "3        LGA  PBI\n",
       "4        JFK  LAX\n",
       "...      ...  ...\n",
       "20812    ROC  ORD\n",
       "20813    LGA  CLE\n",
       "20814    LGA  IAH\n",
       "20815    LGA  IAH\n",
       "20816    BUF  ORD\n",
       "\n",
       "[19047 rows x 2 columns]"
      ]
     },
     "execution_count": 33,
     "metadata": {},
     "output_type": "execute_result"
    }
   ],
   "source": [
    "flights.loc[mask, ['origin', 'dest']]"
   ]
  },
  {
   "cell_type": "markdown",
   "metadata": {},
   "source": [
    "You can pass boolean masks to regular `[]`, `.loc`, or `.iloc`.\n",
    "\n",
    "Boolean indexers are useful because so many operations can produce an array of booleans.\n",
    "\n",
    "- null checks (`.isnull`, `.notnull`)\n",
    "- container checks (`.isin`)\n",
    "- boolean aggregations (`.any`, `.all`)\n",
    "- comparisions (`.gt`, `.lt`, etc.)"
   ]
  },
  {
   "cell_type": "code",
   "execution_count": 34,
   "metadata": {
    "collapsed": false
   },
   "outputs": [
    {
     "data": {
      "text/html": [
       "<div>\n",
       "<style>\n",
       "    .dataframe thead tr:only-child th {\n",
       "        text-align: right;\n",
       "    }\n",
       "\n",
       "    .dataframe thead th {\n",
       "        text-align: left;\n",
       "    }\n",
       "\n",
       "    .dataframe tbody tr th {\n",
       "        vertical-align: top;\n",
       "    }\n",
       "</style>\n",
       "<table border=\"1\" class=\"dataframe\">\n",
       "  <thead>\n",
       "    <tr style=\"text-align: right;\">\n",
       "      <th></th>\n",
       "      <th>fl_date</th>\n",
       "      <th>unique_carrier</th>\n",
       "      <th>airline_id</th>\n",
       "      <th>tail_num</th>\n",
       "      <th>fl_num</th>\n",
       "      <th>origin</th>\n",
       "      <th>dest</th>\n",
       "      <th>dep_time</th>\n",
       "      <th>dep_delay</th>\n",
       "      <th>arr_time</th>\n",
       "      <th>arr_delay</th>\n",
       "      <th>cancelled</th>\n",
       "      <th>arr</th>\n",
       "      <th>dep</th>\n",
       "    </tr>\n",
       "  </thead>\n",
       "  <tbody>\n",
       "    <tr>\n",
       "      <th>29</th>\n",
       "      <td>2014-01-01</td>\n",
       "      <td>AA</td>\n",
       "      <td>19805</td>\n",
       "      <td>N3EAAA</td>\n",
       "      <td>359</td>\n",
       "      <td>LGA</td>\n",
       "      <td>ORD</td>\n",
       "      <td>nan</td>\n",
       "      <td>nan</td>\n",
       "      <td>nan</td>\n",
       "      <td>nan</td>\n",
       "      <td>1.00</td>\n",
       "      <td>NaT</td>\n",
       "      <td>NaT</td>\n",
       "    </tr>\n",
       "    <tr>\n",
       "      <th>31</th>\n",
       "      <td>2014-01-01</td>\n",
       "      <td>AA</td>\n",
       "      <td>19805</td>\n",
       "      <td>N542AA</td>\n",
       "      <td>371</td>\n",
       "      <td>LGA</td>\n",
       "      <td>ORD</td>\n",
       "      <td>nan</td>\n",
       "      <td>nan</td>\n",
       "      <td>nan</td>\n",
       "      <td>nan</td>\n",
       "      <td>1.00</td>\n",
       "      <td>NaT</td>\n",
       "      <td>NaT</td>\n",
       "    </tr>\n",
       "    <tr>\n",
       "      <th>195</th>\n",
       "      <td>2014-01-01</td>\n",
       "      <td>B6</td>\n",
       "      <td>20409</td>\n",
       "      <td>N913JB</td>\n",
       "      <td>1103</td>\n",
       "      <td>JFK</td>\n",
       "      <td>SJU</td>\n",
       "      <td>nan</td>\n",
       "      <td>nan</td>\n",
       "      <td>nan</td>\n",
       "      <td>nan</td>\n",
       "      <td>1.00</td>\n",
       "      <td>NaT</td>\n",
       "      <td>NaT</td>\n",
       "    </tr>\n",
       "    <tr>\n",
       "      <th>209</th>\n",
       "      <td>2014-01-01</td>\n",
       "      <td>B6</td>\n",
       "      <td>20409</td>\n",
       "      <td>N193JB</td>\n",
       "      <td>518</td>\n",
       "      <td>JFK</td>\n",
       "      <td>BOS</td>\n",
       "      <td>nan</td>\n",
       "      <td>nan</td>\n",
       "      <td>nan</td>\n",
       "      <td>nan</td>\n",
       "      <td>1.00</td>\n",
       "      <td>NaT</td>\n",
       "      <td>NaT</td>\n",
       "    </tr>\n",
       "    <tr>\n",
       "      <th>359</th>\n",
       "      <td>2014-01-01</td>\n",
       "      <td>EV</td>\n",
       "      <td>20366</td>\n",
       "      <td>N17159</td>\n",
       "      <td>4130</td>\n",
       "      <td>SYR</td>\n",
       "      <td>CLE</td>\n",
       "      <td>nan</td>\n",
       "      <td>nan</td>\n",
       "      <td>nan</td>\n",
       "      <td>nan</td>\n",
       "      <td>1.00</td>\n",
       "      <td>NaT</td>\n",
       "      <td>NaT</td>\n",
       "    </tr>\n",
       "    <tr>\n",
       "      <th>...</th>\n",
       "      <td>...</td>\n",
       "      <td>...</td>\n",
       "      <td>...</td>\n",
       "      <td>...</td>\n",
       "      <td>...</td>\n",
       "      <td>...</td>\n",
       "      <td>...</td>\n",
       "      <td>...</td>\n",
       "      <td>...</td>\n",
       "      <td>...</td>\n",
       "      <td>...</td>\n",
       "      <td>...</td>\n",
       "      <td>...</td>\n",
       "      <td>...</td>\n",
       "    </tr>\n",
       "    <tr>\n",
       "      <th>20645</th>\n",
       "      <td>2014-01-31</td>\n",
       "      <td>DL</td>\n",
       "      <td>19790</td>\n",
       "      <td>N908DA</td>\n",
       "      <td>2129</td>\n",
       "      <td>ROC</td>\n",
       "      <td>ATL</td>\n",
       "      <td>nan</td>\n",
       "      <td>nan</td>\n",
       "      <td>nan</td>\n",
       "      <td>nan</td>\n",
       "      <td>1.00</td>\n",
       "      <td>NaT</td>\n",
       "      <td>NaT</td>\n",
       "    </tr>\n",
       "    <tr>\n",
       "      <th>20653</th>\n",
       "      <td>2014-01-31</td>\n",
       "      <td>DL</td>\n",
       "      <td>19790</td>\n",
       "      <td>N965DL</td>\n",
       "      <td>2165</td>\n",
       "      <td>JFK</td>\n",
       "      <td>TPA</td>\n",
       "      <td>nan</td>\n",
       "      <td>nan</td>\n",
       "      <td>nan</td>\n",
       "      <td>nan</td>\n",
       "      <td>1.00</td>\n",
       "      <td>NaT</td>\n",
       "      <td>NaT</td>\n",
       "    </tr>\n",
       "    <tr>\n",
       "      <th>20702</th>\n",
       "      <td>2014-01-31</td>\n",
       "      <td>MQ</td>\n",
       "      <td>20398</td>\n",
       "      <td>N672MQ</td>\n",
       "      <td>3075</td>\n",
       "      <td>SYR</td>\n",
       "      <td>ORD</td>\n",
       "      <td>nan</td>\n",
       "      <td>nan</td>\n",
       "      <td>nan</td>\n",
       "      <td>nan</td>\n",
       "      <td>1.00</td>\n",
       "      <td>NaT</td>\n",
       "      <td>NaT</td>\n",
       "    </tr>\n",
       "    <tr>\n",
       "      <th>20716</th>\n",
       "      <td>2014-01-31</td>\n",
       "      <td>MQ</td>\n",
       "      <td>20398</td>\n",
       "      <td>N507MQ</td>\n",
       "      <td>3281</td>\n",
       "      <td>LGA</td>\n",
       "      <td>CMH</td>\n",
       "      <td>nan</td>\n",
       "      <td>nan</td>\n",
       "      <td>nan</td>\n",
       "      <td>nan</td>\n",
       "      <td>1.00</td>\n",
       "      <td>NaT</td>\n",
       "      <td>NaT</td>\n",
       "    </tr>\n",
       "    <tr>\n",
       "      <th>20744</th>\n",
       "      <td>2014-01-31</td>\n",
       "      <td>MQ</td>\n",
       "      <td>20398</td>\n",
       "      <td>N502MQ</td>\n",
       "      <td>3531</td>\n",
       "      <td>LGA</td>\n",
       "      <td>RDU</td>\n",
       "      <td>nan</td>\n",
       "      <td>nan</td>\n",
       "      <td>nan</td>\n",
       "      <td>nan</td>\n",
       "      <td>1.00</td>\n",
       "      <td>NaT</td>\n",
       "      <td>NaT</td>\n",
       "    </tr>\n",
       "  </tbody>\n",
       "</table>\n",
       "<p>2355 rows × 14 columns</p>\n",
       "</div>"
      ],
      "text/plain": [
       "         fl_date unique_carrier  airline_id tail_num  fl_num origin dest  \\\n",
       "29    2014-01-01             AA       19805   N3EAAA     359    LGA  ORD   \n",
       "31    2014-01-01             AA       19805   N542AA     371    LGA  ORD   \n",
       "195   2014-01-01             B6       20409   N913JB    1103    JFK  SJU   \n",
       "209   2014-01-01             B6       20409   N193JB     518    JFK  BOS   \n",
       "359   2014-01-01             EV       20366   N17159    4130    SYR  CLE   \n",
       "...          ...            ...         ...      ...     ...    ...  ...   \n",
       "20645 2014-01-31             DL       19790   N908DA    2129    ROC  ATL   \n",
       "20653 2014-01-31             DL       19790   N965DL    2165    JFK  TPA   \n",
       "20702 2014-01-31             MQ       20398   N672MQ    3075    SYR  ORD   \n",
       "20716 2014-01-31             MQ       20398   N507MQ    3281    LGA  CMH   \n",
       "20744 2014-01-31             MQ       20398   N502MQ    3531    LGA  RDU   \n",
       "\n",
       "       dep_time  dep_delay  arr_time  arr_delay  cancelled arr dep  \n",
       "29          nan        nan       nan        nan       1.00 NaT NaT  \n",
       "31          nan        nan       nan        nan       1.00 NaT NaT  \n",
       "195         nan        nan       nan        nan       1.00 NaT NaT  \n",
       "209         nan        nan       nan        nan       1.00 NaT NaT  \n",
       "359         nan        nan       nan        nan       1.00 NaT NaT  \n",
       "...         ...        ...       ...        ...        ...  ..  ..  \n",
       "20645       nan        nan       nan        nan       1.00 NaT NaT  \n",
       "20653       nan        nan       nan        nan       1.00 NaT NaT  \n",
       "20702       nan        nan       nan        nan       1.00 NaT NaT  \n",
       "20716       nan        nan       nan        nan       1.00 NaT NaT  \n",
       "20744       nan        nan       nan        nan       1.00 NaT NaT  \n",
       "\n",
       "[2355 rows x 14 columns]"
      ]
     },
     "execution_count": 34,
     "metadata": {},
     "output_type": "execute_result"
    }
   ],
   "source": [
    "# Select rows where `dep` is null\n",
    "\n",
    "flights.loc[flights.dep.isnull()]"
   ]
  },
  {
   "cell_type": "markdown",
   "metadata": {},
   "source": [
    "<div class=\"alert alert-success\" data-title=\"Boolean Indexing\">\n",
    "  <h1><i class=\"fa fa-tasks\" aria-hidden=\"true\"></i> Exercise: Boolean Indexing</h1>\n",
    "</div>\n",
    "\n",
    "<p>Select the rows of `flights` where the flight was cancelled (`cancelled == 1`)</p>"
   ]
  },
  {
   "cell_type": "code",
   "execution_count": 35,
   "metadata": {
    "collapsed": true,
    "tags": [
     "solution"
    ]
   },
   "outputs": [],
   "source": [
    "# Your code here"
   ]
  },
  {
   "cell_type": "code",
   "execution_count": 37,
   "metadata": {
    "collapsed": false,
    "tags": [
     "solution"
    ]
   },
   "outputs": [
    {
     "data": {
      "text/html": [
       "<div>\n",
       "<style>\n",
       "    .dataframe thead tr:only-child th {\n",
       "        text-align: right;\n",
       "    }\n",
       "\n",
       "    .dataframe thead th {\n",
       "        text-align: left;\n",
       "    }\n",
       "\n",
       "    .dataframe tbody tr th {\n",
       "        vertical-align: top;\n",
       "    }\n",
       "</style>\n",
       "<table border=\"1\" class=\"dataframe\">\n",
       "  <thead>\n",
       "    <tr style=\"text-align: right;\">\n",
       "      <th></th>\n",
       "      <th>fl_date</th>\n",
       "      <th>unique_carrier</th>\n",
       "      <th>airline_id</th>\n",
       "      <th>tail_num</th>\n",
       "      <th>fl_num</th>\n",
       "      <th>origin</th>\n",
       "      <th>dest</th>\n",
       "      <th>dep_time</th>\n",
       "      <th>dep_delay</th>\n",
       "      <th>arr_time</th>\n",
       "      <th>arr_delay</th>\n",
       "      <th>cancelled</th>\n",
       "      <th>arr</th>\n",
       "      <th>dep</th>\n",
       "    </tr>\n",
       "  </thead>\n",
       "  <tbody>\n",
       "    <tr>\n",
       "      <th>29</th>\n",
       "      <td>2014-01-01</td>\n",
       "      <td>AA</td>\n",
       "      <td>19805</td>\n",
       "      <td>N3EAAA</td>\n",
       "      <td>359</td>\n",
       "      <td>LGA</td>\n",
       "      <td>ORD</td>\n",
       "      <td>nan</td>\n",
       "      <td>nan</td>\n",
       "      <td>nan</td>\n",
       "      <td>nan</td>\n",
       "      <td>1.00</td>\n",
       "      <td>NaT</td>\n",
       "      <td>NaT</td>\n",
       "    </tr>\n",
       "    <tr>\n",
       "      <th>31</th>\n",
       "      <td>2014-01-01</td>\n",
       "      <td>AA</td>\n",
       "      <td>19805</td>\n",
       "      <td>N542AA</td>\n",
       "      <td>371</td>\n",
       "      <td>LGA</td>\n",
       "      <td>ORD</td>\n",
       "      <td>nan</td>\n",
       "      <td>nan</td>\n",
       "      <td>nan</td>\n",
       "      <td>nan</td>\n",
       "      <td>1.00</td>\n",
       "      <td>NaT</td>\n",
       "      <td>NaT</td>\n",
       "    </tr>\n",
       "    <tr>\n",
       "      <th>195</th>\n",
       "      <td>2014-01-01</td>\n",
       "      <td>B6</td>\n",
       "      <td>20409</td>\n",
       "      <td>N913JB</td>\n",
       "      <td>1103</td>\n",
       "      <td>JFK</td>\n",
       "      <td>SJU</td>\n",
       "      <td>nan</td>\n",
       "      <td>nan</td>\n",
       "      <td>nan</td>\n",
       "      <td>nan</td>\n",
       "      <td>1.00</td>\n",
       "      <td>NaT</td>\n",
       "      <td>NaT</td>\n",
       "    </tr>\n",
       "    <tr>\n",
       "      <th>209</th>\n",
       "      <td>2014-01-01</td>\n",
       "      <td>B6</td>\n",
       "      <td>20409</td>\n",
       "      <td>N193JB</td>\n",
       "      <td>518</td>\n",
       "      <td>JFK</td>\n",
       "      <td>BOS</td>\n",
       "      <td>nan</td>\n",
       "      <td>nan</td>\n",
       "      <td>nan</td>\n",
       "      <td>nan</td>\n",
       "      <td>1.00</td>\n",
       "      <td>NaT</td>\n",
       "      <td>NaT</td>\n",
       "    </tr>\n",
       "    <tr>\n",
       "      <th>359</th>\n",
       "      <td>2014-01-01</td>\n",
       "      <td>EV</td>\n",
       "      <td>20366</td>\n",
       "      <td>N17159</td>\n",
       "      <td>4130</td>\n",
       "      <td>SYR</td>\n",
       "      <td>CLE</td>\n",
       "      <td>nan</td>\n",
       "      <td>nan</td>\n",
       "      <td>nan</td>\n",
       "      <td>nan</td>\n",
       "      <td>1.00</td>\n",
       "      <td>NaT</td>\n",
       "      <td>NaT</td>\n",
       "    </tr>\n",
       "    <tr>\n",
       "      <th>...</th>\n",
       "      <td>...</td>\n",
       "      <td>...</td>\n",
       "      <td>...</td>\n",
       "      <td>...</td>\n",
       "      <td>...</td>\n",
       "      <td>...</td>\n",
       "      <td>...</td>\n",
       "      <td>...</td>\n",
       "      <td>...</td>\n",
       "      <td>...</td>\n",
       "      <td>...</td>\n",
       "      <td>...</td>\n",
       "      <td>...</td>\n",
       "      <td>...</td>\n",
       "    </tr>\n",
       "    <tr>\n",
       "      <th>20645</th>\n",
       "      <td>2014-01-31</td>\n",
       "      <td>DL</td>\n",
       "      <td>19790</td>\n",
       "      <td>N908DA</td>\n",
       "      <td>2129</td>\n",
       "      <td>ROC</td>\n",
       "      <td>ATL</td>\n",
       "      <td>nan</td>\n",
       "      <td>nan</td>\n",
       "      <td>nan</td>\n",
       "      <td>nan</td>\n",
       "      <td>1.00</td>\n",
       "      <td>NaT</td>\n",
       "      <td>NaT</td>\n",
       "    </tr>\n",
       "    <tr>\n",
       "      <th>20653</th>\n",
       "      <td>2014-01-31</td>\n",
       "      <td>DL</td>\n",
       "      <td>19790</td>\n",
       "      <td>N965DL</td>\n",
       "      <td>2165</td>\n",
       "      <td>JFK</td>\n",
       "      <td>TPA</td>\n",
       "      <td>nan</td>\n",
       "      <td>nan</td>\n",
       "      <td>nan</td>\n",
       "      <td>nan</td>\n",
       "      <td>1.00</td>\n",
       "      <td>NaT</td>\n",
       "      <td>NaT</td>\n",
       "    </tr>\n",
       "    <tr>\n",
       "      <th>20702</th>\n",
       "      <td>2014-01-31</td>\n",
       "      <td>MQ</td>\n",
       "      <td>20398</td>\n",
       "      <td>N672MQ</td>\n",
       "      <td>3075</td>\n",
       "      <td>SYR</td>\n",
       "      <td>ORD</td>\n",
       "      <td>nan</td>\n",
       "      <td>nan</td>\n",
       "      <td>nan</td>\n",
       "      <td>nan</td>\n",
       "      <td>1.00</td>\n",
       "      <td>NaT</td>\n",
       "      <td>NaT</td>\n",
       "    </tr>\n",
       "    <tr>\n",
       "      <th>20716</th>\n",
       "      <td>2014-01-31</td>\n",
       "      <td>MQ</td>\n",
       "      <td>20398</td>\n",
       "      <td>N507MQ</td>\n",
       "      <td>3281</td>\n",
       "      <td>LGA</td>\n",
       "      <td>CMH</td>\n",
       "      <td>nan</td>\n",
       "      <td>nan</td>\n",
       "      <td>nan</td>\n",
       "      <td>nan</td>\n",
       "      <td>1.00</td>\n",
       "      <td>NaT</td>\n",
       "      <td>NaT</td>\n",
       "    </tr>\n",
       "    <tr>\n",
       "      <th>20744</th>\n",
       "      <td>2014-01-31</td>\n",
       "      <td>MQ</td>\n",
       "      <td>20398</td>\n",
       "      <td>N502MQ</td>\n",
       "      <td>3531</td>\n",
       "      <td>LGA</td>\n",
       "      <td>RDU</td>\n",
       "      <td>nan</td>\n",
       "      <td>nan</td>\n",
       "      <td>nan</td>\n",
       "      <td>nan</td>\n",
       "      <td>1.00</td>\n",
       "      <td>NaT</td>\n",
       "      <td>NaT</td>\n",
       "    </tr>\n",
       "  </tbody>\n",
       "</table>\n",
       "<p>2395 rows × 14 columns</p>\n",
       "</div>"
      ],
      "text/plain": [
       "         fl_date unique_carrier  airline_id tail_num  fl_num origin dest  \\\n",
       "29    2014-01-01             AA       19805   N3EAAA     359    LGA  ORD   \n",
       "31    2014-01-01             AA       19805   N542AA     371    LGA  ORD   \n",
       "195   2014-01-01             B6       20409   N913JB    1103    JFK  SJU   \n",
       "209   2014-01-01             B6       20409   N193JB     518    JFK  BOS   \n",
       "359   2014-01-01             EV       20366   N17159    4130    SYR  CLE   \n",
       "...          ...            ...         ...      ...     ...    ...  ...   \n",
       "20645 2014-01-31             DL       19790   N908DA    2129    ROC  ATL   \n",
       "20653 2014-01-31             DL       19790   N965DL    2165    JFK  TPA   \n",
       "20702 2014-01-31             MQ       20398   N672MQ    3075    SYR  ORD   \n",
       "20716 2014-01-31             MQ       20398   N507MQ    3281    LGA  CMH   \n",
       "20744 2014-01-31             MQ       20398   N502MQ    3531    LGA  RDU   \n",
       "\n",
       "       dep_time  dep_delay  arr_time  arr_delay  cancelled arr dep  \n",
       "29          nan        nan       nan        nan       1.00 NaT NaT  \n",
       "31          nan        nan       nan        nan       1.00 NaT NaT  \n",
       "195         nan        nan       nan        nan       1.00 NaT NaT  \n",
       "209         nan        nan       nan        nan       1.00 NaT NaT  \n",
       "359         nan        nan       nan        nan       1.00 NaT NaT  \n",
       "...         ...        ...       ...        ...        ...  ..  ..  \n",
       "20645       nan        nan       nan        nan       1.00 NaT NaT  \n",
       "20653       nan        nan       nan        nan       1.00 NaT NaT  \n",
       "20702       nan        nan       nan        nan       1.00 NaT NaT  \n",
       "20716       nan        nan       nan        nan       1.00 NaT NaT  \n",
       "20744       nan        nan       nan        nan       1.00 NaT NaT  \n",
       "\n",
       "[2395 rows x 14 columns]"
      ]
     },
     "execution_count": 37,
     "metadata": {},
     "output_type": "execute_result"
    }
   ],
   "source": [
    "%load solutions/indexing_cancelled.py"
   ]
  },
  {
   "cell_type": "markdown",
   "metadata": {},
   "source": [
    "<div class=\"alert alert-success\" data-title=\"Boolean Indexing (2)\">\n",
    "  <h1><i class=\"fa fa-tasks\" aria-hidden=\"true\"></i> Exercise: Boolean Indexing (2)</h1>\n",
    "</div>\n",
    "\n",
    "<p>Filter down to rows where the departure **`hour`** is before 6:00 or after 18:00.</p>\n",
    "\n",
    "- Hint: Use the `flights.dep.dt` namespace. See the attributes [here](http://pandas.pydata.org/pandas-docs/stable/generated/pandas.DatetimeIndex.html) or use tab-completion on `flights.dep.dt.<tab>` to find an attribute giving the hour component\n",
    "- Hint: NumPy and pandas use `|` for elementwise `or`, and `&` for elementwise `and` between two boolean arrays\n",
    "- Hint: Be careful with [Python's order of operations](https://docs.python.org/3/reference/expressions.html#operator-precedence) between comparison operators (`<`, `>`) and NumPy's logical operators `|` and `&`. If your first attempt raises a `TypeError`, try including some parenthesis."
   ]
  },
  {
   "cell_type": "code",
   "execution_count": 38,
   "metadata": {
    "collapsed": true,
    "tags": [
     "solution"
    ]
   },
   "outputs": [],
   "source": [
    "# Your code here...\n"
   ]
  },
  {
   "cell_type": "code",
   "execution_count": 40,
   "metadata": {
    "collapsed": false,
    "tags": [
     "solution"
    ]
   },
   "outputs": [
    {
     "data": {
      "text/html": [
       "<div>\n",
       "<style>\n",
       "    .dataframe thead tr:only-child th {\n",
       "        text-align: right;\n",
       "    }\n",
       "\n",
       "    .dataframe thead th {\n",
       "        text-align: left;\n",
       "    }\n",
       "\n",
       "    .dataframe tbody tr th {\n",
       "        vertical-align: top;\n",
       "    }\n",
       "</style>\n",
       "<table border=\"1\" class=\"dataframe\">\n",
       "  <thead>\n",
       "    <tr style=\"text-align: right;\">\n",
       "      <th></th>\n",
       "      <th>fl_date</th>\n",
       "      <th>unique_carrier</th>\n",
       "      <th>airline_id</th>\n",
       "      <th>tail_num</th>\n",
       "      <th>fl_num</th>\n",
       "      <th>origin</th>\n",
       "      <th>dest</th>\n",
       "      <th>dep_time</th>\n",
       "      <th>dep_delay</th>\n",
       "      <th>arr_time</th>\n",
       "      <th>arr_delay</th>\n",
       "      <th>cancelled</th>\n",
       "      <th>arr</th>\n",
       "      <th>dep</th>\n",
       "    </tr>\n",
       "  </thead>\n",
       "  <tbody>\n",
       "    <tr>\n",
       "      <th>2</th>\n",
       "      <td>2014-01-01</td>\n",
       "      <td>AA</td>\n",
       "      <td>19805</td>\n",
       "      <td>N327AA</td>\n",
       "      <td>21</td>\n",
       "      <td>JFK</td>\n",
       "      <td>LAX</td>\n",
       "      <td>1,902.00</td>\n",
       "      <td>2.00</td>\n",
       "      <td>2,224.00</td>\n",
       "      <td>9.00</td>\n",
       "      <td>0.00</td>\n",
       "      <td>2014-01-01 22:24:00</td>\n",
       "      <td>2014-01-01 19:02:00</td>\n",
       "    </tr>\n",
       "    <tr>\n",
       "      <th>5</th>\n",
       "      <td>2014-01-01</td>\n",
       "      <td>AA</td>\n",
       "      <td>19805</td>\n",
       "      <td>N323AA</td>\n",
       "      <td>185</td>\n",
       "      <td>JFK</td>\n",
       "      <td>LAX</td>\n",
       "      <td>2,133.00</td>\n",
       "      <td>-2.00</td>\n",
       "      <td>37.00</td>\n",
       "      <td>-18.00</td>\n",
       "      <td>0.00</td>\n",
       "      <td>2014-01-01 00:37:00</td>\n",
       "      <td>2014-01-01 21:33:00</td>\n",
       "    </tr>\n",
       "    <tr>\n",
       "      <th>8</th>\n",
       "      <td>2014-01-01</td>\n",
       "      <td>AA</td>\n",
       "      <td>19805</td>\n",
       "      <td>N3HYAA</td>\n",
       "      <td>235</td>\n",
       "      <td>JFK</td>\n",
       "      <td>SEA</td>\n",
       "      <td>1,848.00</td>\n",
       "      <td>-2.00</td>\n",
       "      <td>2,206.00</td>\n",
       "      <td>-14.00</td>\n",
       "      <td>0.00</td>\n",
       "      <td>2014-01-01 22:06:00</td>\n",
       "      <td>2014-01-01 18:48:00</td>\n",
       "    </tr>\n",
       "    <tr>\n",
       "      <th>11</th>\n",
       "      <td>2014-01-01</td>\n",
       "      <td>AA</td>\n",
       "      <td>19805</td>\n",
       "      <td>N336AA</td>\n",
       "      <td>181</td>\n",
       "      <td>JFK</td>\n",
       "      <td>LAX</td>\n",
       "      <td>1,907.00</td>\n",
       "      <td>142.00</td>\n",
       "      <td>2,223.00</td>\n",
       "      <td>133.00</td>\n",
       "      <td>0.00</td>\n",
       "      <td>2014-01-01 22:23:00</td>\n",
       "      <td>2014-01-01 19:07:00</td>\n",
       "    </tr>\n",
       "    <tr>\n",
       "      <th>16</th>\n",
       "      <td>2014-01-01</td>\n",
       "      <td>AA</td>\n",
       "      <td>19805</td>\n",
       "      <td>N3KHAA</td>\n",
       "      <td>301</td>\n",
       "      <td>LGA</td>\n",
       "      <td>ORD</td>\n",
       "      <td>553.00</td>\n",
       "      <td>-7.00</td>\n",
       "      <td>739.00</td>\n",
       "      <td>-6.00</td>\n",
       "      <td>0.00</td>\n",
       "      <td>2014-01-01 07:39:00</td>\n",
       "      <td>2014-01-01 05:53:00</td>\n",
       "    </tr>\n",
       "  </tbody>\n",
       "</table>\n",
       "</div>"
      ],
      "text/plain": [
       "      fl_date unique_carrier  airline_id tail_num  fl_num origin dest  \\\n",
       "2  2014-01-01             AA       19805   N327AA      21    JFK  LAX   \n",
       "5  2014-01-01             AA       19805   N323AA     185    JFK  LAX   \n",
       "8  2014-01-01             AA       19805   N3HYAA     235    JFK  SEA   \n",
       "11 2014-01-01             AA       19805   N336AA     181    JFK  LAX   \n",
       "16 2014-01-01             AA       19805   N3KHAA     301    LGA  ORD   \n",
       "\n",
       "    dep_time  dep_delay  arr_time  arr_delay  cancelled                 arr  \\\n",
       "2   1,902.00       2.00  2,224.00       9.00       0.00 2014-01-01 22:24:00   \n",
       "5   2,133.00      -2.00     37.00     -18.00       0.00 2014-01-01 00:37:00   \n",
       "8   1,848.00      -2.00  2,206.00     -14.00       0.00 2014-01-01 22:06:00   \n",
       "11  1,907.00     142.00  2,223.00     133.00       0.00 2014-01-01 22:23:00   \n",
       "16    553.00      -7.00    739.00      -6.00       0.00 2014-01-01 07:39:00   \n",
       "\n",
       "                   dep  \n",
       "2  2014-01-01 19:02:00  \n",
       "5  2014-01-01 21:33:00  \n",
       "8  2014-01-01 18:48:00  \n",
       "11 2014-01-01 19:07:00  \n",
       "16 2014-01-01 05:53:00  "
      ]
     },
     "execution_count": 40,
     "metadata": {},
     "output_type": "execute_result"
    }
   ],
   "source": [
    "%load solutions/indexing_01.py"
   ]
  },
  {
   "cell_type": "markdown",
   "metadata": {},
   "source": [
    "## Position-Based Indexing with `.iloc`\n",
    "\n",
    "This takes the same basic forms as `.loc`, except you use integers to designate *positions* instead of labels."
   ]
  },
  {
   "cell_type": "code",
   "execution_count": 41,
   "metadata": {
    "collapsed": false
   },
   "outputs": [
    {
     "data": {
      "text/html": [
       "<div>\n",
       "<style>\n",
       "    .dataframe thead tr:only-child th {\n",
       "        text-align: right;\n",
       "    }\n",
       "\n",
       "    .dataframe thead th {\n",
       "        text-align: left;\n",
       "    }\n",
       "\n",
       "    .dataframe tbody tr th {\n",
       "        vertical-align: top;\n",
       "    }\n",
       "</style>\n",
       "<table border=\"1\" class=\"dataframe\">\n",
       "  <thead>\n",
       "    <tr style=\"text-align: right;\">\n",
       "      <th></th>\n",
       "      <th>airline_id</th>\n",
       "      <th>tail_num</th>\n",
       "    </tr>\n",
       "    <tr>\n",
       "      <th>unique_carrier</th>\n",
       "      <th></th>\n",
       "      <th></th>\n",
       "    </tr>\n",
       "  </thead>\n",
       "  <tbody>\n",
       "    <tr>\n",
       "      <th>AA</th>\n",
       "      <td>19805</td>\n",
       "      <td>N338AA</td>\n",
       "    </tr>\n",
       "    <tr>\n",
       "      <th>B6</th>\n",
       "      <td>20409</td>\n",
       "      <td>N318JB</td>\n",
       "    </tr>\n",
       "    <tr>\n",
       "      <th>DL</th>\n",
       "      <td>19790</td>\n",
       "      <td>N930DL</td>\n",
       "    </tr>\n",
       "  </tbody>\n",
       "</table>\n",
       "</div>"
      ],
      "text/plain": [
       "                airline_id tail_num\n",
       "unique_carrier                     \n",
       "AA                   19805   N338AA\n",
       "B6                   20409   N318JB\n",
       "DL                   19790   N930DL"
      ]
     },
     "execution_count": 41,
     "metadata": {},
     "output_type": "execute_result"
    }
   ],
   "source": [
    "first.iloc[[0, 1, 2], [1, 2]]"
   ]
  },
  {
   "cell_type": "markdown",
   "metadata": {},
   "source": [
    "You can use scalars, arrays, boolean masks, or slices.\n",
    "You can also use negative indicies to slice from the end like regular python lists or numpy arrays.\n",
    "\n",
    "The one notable difference compared to label-based indexing is with `slice` objects.\n",
    "Recall that `.loc` included both ends of the slice.\n",
    "`.iloc` uses the usual python behavior of slicing up to, but not including, the end point:"
   ]
  },
  {
   "cell_type": "code",
   "execution_count": 42,
   "metadata": {
    "collapsed": false
   },
   "outputs": [
    {
     "data": {
      "text/html": [
       "<div>\n",
       "<style>\n",
       "    .dataframe thead tr:only-child th {\n",
       "        text-align: right;\n",
       "    }\n",
       "\n",
       "    .dataframe thead th {\n",
       "        text-align: left;\n",
       "    }\n",
       "\n",
       "    .dataframe tbody tr th {\n",
       "        vertical-align: top;\n",
       "    }\n",
       "</style>\n",
       "<table border=\"1\" class=\"dataframe\">\n",
       "  <thead>\n",
       "    <tr style=\"text-align: right;\">\n",
       "      <th></th>\n",
       "      <th>fl_num</th>\n",
       "      <th>origin</th>\n",
       "      <th>dest</th>\n",
       "    </tr>\n",
       "    <tr>\n",
       "      <th>unique_carrier</th>\n",
       "      <th></th>\n",
       "      <th></th>\n",
       "      <th></th>\n",
       "    </tr>\n",
       "  </thead>\n",
       "  <tbody>\n",
       "    <tr>\n",
       "      <th>AA</th>\n",
       "      <td>1</td>\n",
       "      <td>JFK</td>\n",
       "      <td>LAX</td>\n",
       "    </tr>\n",
       "    <tr>\n",
       "      <th>B6</th>\n",
       "      <td>115</td>\n",
       "      <td>SYR</td>\n",
       "      <td>JFK</td>\n",
       "    </tr>\n",
       "  </tbody>\n",
       "</table>\n",
       "</div>"
      ],
      "text/plain": [
       "                fl_num origin dest\n",
       "unique_carrier                    \n",
       "AA                   1    JFK  LAX\n",
       "B6                 115    SYR  JFK"
      ]
     },
     "execution_count": 42,
     "metadata": {},
     "output_type": "execute_result"
    }
   ],
   "source": [
    "# select the first two rows, and the 3rd, 4th, and 5th columns\n",
    "first.iloc[:2, 3:6]"
   ]
  },
  {
   "cell_type": "markdown",
   "metadata": {},
   "source": [
    "## Dropping rows or columns\n",
    "\n",
    "What if you want all items *except* for some?\n",
    "\n",
    "```\n",
    "DataFrame.drop(labels, axis=0, ...)\n",
    "\n",
    "Parameters\n",
    "----------\n",
    "labels : single label or list-like\n",
    "axis : int or axis name\n",
    "    - 0 / 'index', look in the index.\n",
    "    - 1 / 'columns', look in the columns\n",
    "```"
   ]
  },
  {
   "cell_type": "markdown",
   "metadata": {},
   "source": [
    "<div class=\"alert alert-success\" data-title=\"Dropping Row Labels\">\n",
    "  <h1><i class=\"fa fa-tasks\" aria-hidden=\"true\"></i> Exercise: Dropping Row Labels</h1>\n",
    "</div>\n",
    "<p>Use `first.drop` to select all the rows *except* `EV` and `F9`.</p>"
   ]
  },
  {
   "cell_type": "code",
   "execution_count": 43,
   "metadata": {
    "collapsed": true,
    "tags": [
     "solution"
    ]
   },
   "outputs": [],
   "source": [
    "# Your code here"
   ]
  },
  {
   "cell_type": "code",
   "execution_count": 46,
   "metadata": {
    "collapsed": false,
    "tags": [
     "solution"
    ]
   },
   "outputs": [
    {
     "data": {
      "text/html": [
       "<div>\n",
       "<style>\n",
       "    .dataframe thead tr:only-child th {\n",
       "        text-align: right;\n",
       "    }\n",
       "\n",
       "    .dataframe thead th {\n",
       "        text-align: left;\n",
       "    }\n",
       "\n",
       "    .dataframe tbody tr th {\n",
       "        vertical-align: top;\n",
       "    }\n",
       "</style>\n",
       "<table border=\"1\" class=\"dataframe\">\n",
       "  <thead>\n",
       "    <tr style=\"text-align: right;\">\n",
       "      <th></th>\n",
       "      <th>fl_date</th>\n",
       "      <th>airline_id</th>\n",
       "      <th>tail_num</th>\n",
       "      <th>fl_num</th>\n",
       "      <th>origin</th>\n",
       "      <th>dest</th>\n",
       "      <th>dep_time</th>\n",
       "      <th>dep_delay</th>\n",
       "      <th>arr_time</th>\n",
       "      <th>arr_delay</th>\n",
       "      <th>cancelled</th>\n",
       "      <th>arr</th>\n",
       "      <th>dep</th>\n",
       "    </tr>\n",
       "    <tr>\n",
       "      <th>unique_carrier</th>\n",
       "      <th></th>\n",
       "      <th></th>\n",
       "      <th></th>\n",
       "      <th></th>\n",
       "      <th></th>\n",
       "      <th></th>\n",
       "      <th></th>\n",
       "      <th></th>\n",
       "      <th></th>\n",
       "      <th></th>\n",
       "      <th></th>\n",
       "      <th></th>\n",
       "      <th></th>\n",
       "    </tr>\n",
       "  </thead>\n",
       "  <tbody>\n",
       "    <tr>\n",
       "      <th>AA</th>\n",
       "      <td>2014-01-01</td>\n",
       "      <td>19805</td>\n",
       "      <td>N338AA</td>\n",
       "      <td>1</td>\n",
       "      <td>JFK</td>\n",
       "      <td>LAX</td>\n",
       "      <td>914.00</td>\n",
       "      <td>14.00</td>\n",
       "      <td>1,238.00</td>\n",
       "      <td>13.00</td>\n",
       "      <td>0.00</td>\n",
       "      <td>2014-01-01 12:38:00</td>\n",
       "      <td>2014-01-01 09:14:00</td>\n",
       "    </tr>\n",
       "    <tr>\n",
       "      <th>B6</th>\n",
       "      <td>2014-01-01</td>\n",
       "      <td>20409</td>\n",
       "      <td>N318JB</td>\n",
       "      <td>115</td>\n",
       "      <td>SYR</td>\n",
       "      <td>JFK</td>\n",
       "      <td>720.00</td>\n",
       "      <td>90.00</td>\n",
       "      <td>808.00</td>\n",
       "      <td>55.00</td>\n",
       "      <td>0.00</td>\n",
       "      <td>2014-01-01 08:08:00</td>\n",
       "      <td>2014-01-01 07:20:00</td>\n",
       "    </tr>\n",
       "    <tr>\n",
       "      <th>DL</th>\n",
       "      <td>2014-01-01</td>\n",
       "      <td>19790</td>\n",
       "      <td>N930DL</td>\n",
       "      <td>61</td>\n",
       "      <td>LGA</td>\n",
       "      <td>ATL</td>\n",
       "      <td>1,810.00</td>\n",
       "      <td>10.00</td>\n",
       "      <td>2,054.00</td>\n",
       "      <td>10.00</td>\n",
       "      <td>0.00</td>\n",
       "      <td>2014-01-01 20:54:00</td>\n",
       "      <td>2014-01-01 18:10:00</td>\n",
       "    </tr>\n",
       "    <tr>\n",
       "      <th>FL</th>\n",
       "      <td>2014-01-01</td>\n",
       "      <td>20437</td>\n",
       "      <td>N952AT</td>\n",
       "      <td>63</td>\n",
       "      <td>LGA</td>\n",
       "      <td>ATL</td>\n",
       "      <td>1,146.00</td>\n",
       "      <td>-5.00</td>\n",
       "      <td>1,409.00</td>\n",
       "      <td>-10.00</td>\n",
       "      <td>0.00</td>\n",
       "      <td>2014-01-01 14:09:00</td>\n",
       "      <td>2014-01-01 11:46:00</td>\n",
       "    </tr>\n",
       "    <tr>\n",
       "      <th>HA</th>\n",
       "      <td>2014-01-01</td>\n",
       "      <td>19690</td>\n",
       "      <td>N382HA</td>\n",
       "      <td>51</td>\n",
       "      <td>JFK</td>\n",
       "      <td>HNL</td>\n",
       "      <td>906.00</td>\n",
       "      <td>6.00</td>\n",
       "      <td>1,503.00</td>\n",
       "      <td>-7.00</td>\n",
       "      <td>0.00</td>\n",
       "      <td>2014-01-01 15:03:00</td>\n",
       "      <td>2014-01-01 09:06:00</td>\n",
       "    </tr>\n",
       "    <tr>\n",
       "      <th>...</th>\n",
       "      <td>...</td>\n",
       "      <td>...</td>\n",
       "      <td>...</td>\n",
       "      <td>...</td>\n",
       "      <td>...</td>\n",
       "      <td>...</td>\n",
       "      <td>...</td>\n",
       "      <td>...</td>\n",
       "      <td>...</td>\n",
       "      <td>...</td>\n",
       "      <td>...</td>\n",
       "      <td>...</td>\n",
       "      <td>...</td>\n",
       "    </tr>\n",
       "    <tr>\n",
       "      <th>OO</th>\n",
       "      <td>2014-01-07</td>\n",
       "      <td>20304</td>\n",
       "      <td>N732SK</td>\n",
       "      <td>6258</td>\n",
       "      <td>SYR</td>\n",
       "      <td>ORD</td>\n",
       "      <td>1,721.00</td>\n",
       "      <td>49.00</td>\n",
       "      <td>1,834.00</td>\n",
       "      <td>47.00</td>\n",
       "      <td>1.00</td>\n",
       "      <td>2014-01-08 18:34:00</td>\n",
       "      <td>2014-01-08 17:21:00</td>\n",
       "    </tr>\n",
       "    <tr>\n",
       "      <th>UA</th>\n",
       "      <td>2014-01-01</td>\n",
       "      <td>19977</td>\n",
       "      <td>N413UA</td>\n",
       "      <td>255</td>\n",
       "      <td>LGA</td>\n",
       "      <td>ORD</td>\n",
       "      <td>824.00</td>\n",
       "      <td>0.00</td>\n",
       "      <td>1,006.00</td>\n",
       "      <td>8.00</td>\n",
       "      <td>0.00</td>\n",
       "      <td>2014-01-01 10:06:00</td>\n",
       "      <td>2014-01-01 08:24:00</td>\n",
       "    </tr>\n",
       "    <tr>\n",
       "      <th>US</th>\n",
       "      <td>2014-01-01</td>\n",
       "      <td>20355</td>\n",
       "      <td>N546UW</td>\n",
       "      <td>629</td>\n",
       "      <td>JFK</td>\n",
       "      <td>PHX</td>\n",
       "      <td>1,624.00</td>\n",
       "      <td>-6.00</td>\n",
       "      <td>1,932.00</td>\n",
       "      <td>-39.00</td>\n",
       "      <td>0.00</td>\n",
       "      <td>2014-01-01 19:32:00</td>\n",
       "      <td>2014-01-01 16:24:00</td>\n",
       "    </tr>\n",
       "    <tr>\n",
       "      <th>VX</th>\n",
       "      <td>2014-01-01</td>\n",
       "      <td>21171</td>\n",
       "      <td>N361VA</td>\n",
       "      <td>11</td>\n",
       "      <td>JFK</td>\n",
       "      <td>SFO</td>\n",
       "      <td>730.00</td>\n",
       "      <td>0.00</td>\n",
       "      <td>1,056.00</td>\n",
       "      <td>-14.00</td>\n",
       "      <td>0.00</td>\n",
       "      <td>2014-01-01 10:56:00</td>\n",
       "      <td>2014-01-01 07:30:00</td>\n",
       "    </tr>\n",
       "    <tr>\n",
       "      <th>WN</th>\n",
       "      <td>2014-01-01</td>\n",
       "      <td>19393</td>\n",
       "      <td>N625SW</td>\n",
       "      <td>613</td>\n",
       "      <td>ALB</td>\n",
       "      <td>BWI</td>\n",
       "      <td>1,502.00</td>\n",
       "      <td>17.00</td>\n",
       "      <td>1,615.00</td>\n",
       "      <td>15.00</td>\n",
       "      <td>0.00</td>\n",
       "      <td>2014-01-01 16:15:00</td>\n",
       "      <td>2014-01-01 15:02:00</td>\n",
       "    </tr>\n",
       "  </tbody>\n",
       "</table>\n",
       "<p>11 rows × 13 columns</p>\n",
       "</div>"
      ],
      "text/plain": [
       "                  fl_date  airline_id tail_num  fl_num origin dest  dep_time  \\\n",
       "unique_carrier                                                                 \n",
       "AA             2014-01-01       19805   N338AA       1    JFK  LAX    914.00   \n",
       "B6             2014-01-01       20409   N318JB     115    SYR  JFK    720.00   \n",
       "DL             2014-01-01       19790   N930DL      61    LGA  ATL  1,810.00   \n",
       "FL             2014-01-01       20437   N952AT      63    LGA  ATL  1,146.00   \n",
       "HA             2014-01-01       19690   N382HA      51    JFK  HNL    906.00   \n",
       "...                   ...         ...      ...     ...    ...  ...       ...   \n",
       "OO             2014-01-07       20304   N732SK    6258    SYR  ORD  1,721.00   \n",
       "UA             2014-01-01       19977   N413UA     255    LGA  ORD    824.00   \n",
       "US             2014-01-01       20355   N546UW     629    JFK  PHX  1,624.00   \n",
       "VX             2014-01-01       21171   N361VA      11    JFK  SFO    730.00   \n",
       "WN             2014-01-01       19393   N625SW     613    ALB  BWI  1,502.00   \n",
       "\n",
       "                dep_delay  arr_time  arr_delay  cancelled                 arr  \\\n",
       "unique_carrier                                                                  \n",
       "AA                  14.00  1,238.00      13.00       0.00 2014-01-01 12:38:00   \n",
       "B6                  90.00    808.00      55.00       0.00 2014-01-01 08:08:00   \n",
       "DL                  10.00  2,054.00      10.00       0.00 2014-01-01 20:54:00   \n",
       "FL                  -5.00  1,409.00     -10.00       0.00 2014-01-01 14:09:00   \n",
       "HA                   6.00  1,503.00      -7.00       0.00 2014-01-01 15:03:00   \n",
       "...                   ...       ...        ...        ...                 ...   \n",
       "OO                  49.00  1,834.00      47.00       1.00 2014-01-08 18:34:00   \n",
       "UA                   0.00  1,006.00       8.00       0.00 2014-01-01 10:06:00   \n",
       "US                  -6.00  1,932.00     -39.00       0.00 2014-01-01 19:32:00   \n",
       "VX                   0.00  1,056.00     -14.00       0.00 2014-01-01 10:56:00   \n",
       "WN                  17.00  1,615.00      15.00       0.00 2014-01-01 16:15:00   \n",
       "\n",
       "                               dep  \n",
       "unique_carrier                      \n",
       "AA             2014-01-01 09:14:00  \n",
       "B6             2014-01-01 07:20:00  \n",
       "DL             2014-01-01 18:10:00  \n",
       "FL             2014-01-01 11:46:00  \n",
       "HA             2014-01-01 09:06:00  \n",
       "...                            ...  \n",
       "OO             2014-01-08 17:21:00  \n",
       "UA             2014-01-01 08:24:00  \n",
       "US             2014-01-01 16:24:00  \n",
       "VX             2014-01-01 07:30:00  \n",
       "WN             2014-01-01 15:02:00  \n",
       "\n",
       "[11 rows x 13 columns]"
      ]
     },
     "execution_count": 46,
     "metadata": {},
     "output_type": "execute_result"
    }
   ],
   "source": [
    "%load solutions/indexing_drop_index.py"
   ]
  },
  {
   "cell_type": "markdown",
   "metadata": {},
   "source": [
    "<div class=\"alert alert-success\" data-title=\"Drop a column\">\n",
    "  <h1><i class=\"fa fa-tasks\" aria-hidden=\"true\"></i> Exercise: Drop a column</h1>\n",
    "</div>\n",
    "<p>`flights.airline_id` is redundent with `unique_carrier`. Drop `airline_id`.</p>"
   ]
  },
  {
   "cell_type": "code",
   "execution_count": null,
   "metadata": {
    "collapsed": true,
    "tags": [
     "solution"
    ]
   },
   "outputs": [],
   "source": [
    "# your code here\n"
   ]
  },
  {
   "cell_type": "code",
   "execution_count": 48,
   "metadata": {
    "collapsed": false,
    "tags": [
     "solution"
    ]
   },
   "outputs": [
    {
     "data": {
      "text/html": [
       "<div>\n",
       "<style>\n",
       "    .dataframe thead tr:only-child th {\n",
       "        text-align: right;\n",
       "    }\n",
       "\n",
       "    .dataframe thead th {\n",
       "        text-align: left;\n",
       "    }\n",
       "\n",
       "    .dataframe tbody tr th {\n",
       "        vertical-align: top;\n",
       "    }\n",
       "</style>\n",
       "<table border=\"1\" class=\"dataframe\">\n",
       "  <thead>\n",
       "    <tr style=\"text-align: right;\">\n",
       "      <th></th>\n",
       "      <th>fl_date</th>\n",
       "      <th>unique_carrier</th>\n",
       "      <th>tail_num</th>\n",
       "      <th>fl_num</th>\n",
       "      <th>origin</th>\n",
       "      <th>dest</th>\n",
       "      <th>dep_time</th>\n",
       "      <th>dep_delay</th>\n",
       "      <th>arr_time</th>\n",
       "      <th>arr_delay</th>\n",
       "      <th>cancelled</th>\n",
       "      <th>arr</th>\n",
       "      <th>dep</th>\n",
       "    </tr>\n",
       "  </thead>\n",
       "  <tbody>\n",
       "    <tr>\n",
       "      <th>0</th>\n",
       "      <td>2014-01-01</td>\n",
       "      <td>AA</td>\n",
       "      <td>N338AA</td>\n",
       "      <td>1</td>\n",
       "      <td>JFK</td>\n",
       "      <td>LAX</td>\n",
       "      <td>914.00</td>\n",
       "      <td>14.00</td>\n",
       "      <td>1,238.00</td>\n",
       "      <td>13.00</td>\n",
       "      <td>0.00</td>\n",
       "      <td>2014-01-01 12:38:00</td>\n",
       "      <td>2014-01-01 09:14:00</td>\n",
       "    </tr>\n",
       "    <tr>\n",
       "      <th>1</th>\n",
       "      <td>2014-01-01</td>\n",
       "      <td>AA</td>\n",
       "      <td>N335AA</td>\n",
       "      <td>3</td>\n",
       "      <td>JFK</td>\n",
       "      <td>LAX</td>\n",
       "      <td>1,157.00</td>\n",
       "      <td>-3.00</td>\n",
       "      <td>1,523.00</td>\n",
       "      <td>13.00</td>\n",
       "      <td>0.00</td>\n",
       "      <td>2014-01-01 15:23:00</td>\n",
       "      <td>2014-01-01 11:57:00</td>\n",
       "    </tr>\n",
       "    <tr>\n",
       "      <th>2</th>\n",
       "      <td>2014-01-01</td>\n",
       "      <td>AA</td>\n",
       "      <td>N327AA</td>\n",
       "      <td>21</td>\n",
       "      <td>JFK</td>\n",
       "      <td>LAX</td>\n",
       "      <td>1,902.00</td>\n",
       "      <td>2.00</td>\n",
       "      <td>2,224.00</td>\n",
       "      <td>9.00</td>\n",
       "      <td>0.00</td>\n",
       "      <td>2014-01-01 22:24:00</td>\n",
       "      <td>2014-01-01 19:02:00</td>\n",
       "    </tr>\n",
       "    <tr>\n",
       "      <th>3</th>\n",
       "      <td>2014-01-01</td>\n",
       "      <td>AA</td>\n",
       "      <td>N3EHAA</td>\n",
       "      <td>29</td>\n",
       "      <td>LGA</td>\n",
       "      <td>PBI</td>\n",
       "      <td>722.00</td>\n",
       "      <td>-8.00</td>\n",
       "      <td>1,014.00</td>\n",
       "      <td>-26.00</td>\n",
       "      <td>0.00</td>\n",
       "      <td>2014-01-01 10:14:00</td>\n",
       "      <td>2014-01-01 07:22:00</td>\n",
       "    </tr>\n",
       "    <tr>\n",
       "      <th>4</th>\n",
       "      <td>2014-01-01</td>\n",
       "      <td>AA</td>\n",
       "      <td>N319AA</td>\n",
       "      <td>117</td>\n",
       "      <td>JFK</td>\n",
       "      <td>LAX</td>\n",
       "      <td>1,347.00</td>\n",
       "      <td>2.00</td>\n",
       "      <td>1,706.00</td>\n",
       "      <td>1.00</td>\n",
       "      <td>0.00</td>\n",
       "      <td>2014-01-01 17:06:00</td>\n",
       "      <td>2014-01-01 13:47:00</td>\n",
       "    </tr>\n",
       "    <tr>\n",
       "      <th>...</th>\n",
       "      <td>...</td>\n",
       "      <td>...</td>\n",
       "      <td>...</td>\n",
       "      <td>...</td>\n",
       "      <td>...</td>\n",
       "      <td>...</td>\n",
       "      <td>...</td>\n",
       "      <td>...</td>\n",
       "      <td>...</td>\n",
       "      <td>...</td>\n",
       "      <td>...</td>\n",
       "      <td>...</td>\n",
       "      <td>...</td>\n",
       "    </tr>\n",
       "    <tr>\n",
       "      <th>20812</th>\n",
       "      <td>2014-01-31</td>\n",
       "      <td>UA</td>\n",
       "      <td>N54711</td>\n",
       "      <td>1253</td>\n",
       "      <td>ROC</td>\n",
       "      <td>ORD</td>\n",
       "      <td>801.00</td>\n",
       "      <td>-4.00</td>\n",
       "      <td>908.00</td>\n",
       "      <td>4.00</td>\n",
       "      <td>0.00</td>\n",
       "      <td>2014-01-31 09:08:00</td>\n",
       "      <td>2014-01-31 08:01:00</td>\n",
       "    </tr>\n",
       "    <tr>\n",
       "      <th>20813</th>\n",
       "      <td>2014-01-31</td>\n",
       "      <td>UA</td>\n",
       "      <td>N77525</td>\n",
       "      <td>1429</td>\n",
       "      <td>LGA</td>\n",
       "      <td>CLE</td>\n",
       "      <td>1,522.00</td>\n",
       "      <td>-10.00</td>\n",
       "      <td>1,649.00</td>\n",
       "      <td>-31.00</td>\n",
       "      <td>0.00</td>\n",
       "      <td>2014-01-31 16:49:00</td>\n",
       "      <td>2014-01-31 15:22:00</td>\n",
       "    </tr>\n",
       "    <tr>\n",
       "      <th>20814</th>\n",
       "      <td>2014-01-31</td>\n",
       "      <td>UA</td>\n",
       "      <td>N37293</td>\n",
       "      <td>1456</td>\n",
       "      <td>LGA</td>\n",
       "      <td>IAH</td>\n",
       "      <td>719.00</td>\n",
       "      <td>-6.00</td>\n",
       "      <td>1,006.00</td>\n",
       "      <td>-20.00</td>\n",
       "      <td>0.00</td>\n",
       "      <td>2014-01-31 10:06:00</td>\n",
       "      <td>2014-01-31 07:19:00</td>\n",
       "    </tr>\n",
       "    <tr>\n",
       "      <th>20815</th>\n",
       "      <td>2014-01-31</td>\n",
       "      <td>UA</td>\n",
       "      <td>N24729</td>\n",
       "      <td>1457</td>\n",
       "      <td>LGA</td>\n",
       "      <td>IAH</td>\n",
       "      <td>852.00</td>\n",
       "      <td>7.00</td>\n",
       "      <td>1,156.00</td>\n",
       "      <td>-6.00</td>\n",
       "      <td>0.00</td>\n",
       "      <td>2014-01-31 11:56:00</td>\n",
       "      <td>2014-01-31 08:52:00</td>\n",
       "    </tr>\n",
       "    <tr>\n",
       "      <th>20816</th>\n",
       "      <td>2014-01-31</td>\n",
       "      <td>MQ</td>\n",
       "      <td>N609MQ</td>\n",
       "      <td>3699</td>\n",
       "      <td>BUF</td>\n",
       "      <td>ORD</td>\n",
       "      <td>1,208.00</td>\n",
       "      <td>-12.00</td>\n",
       "      <td>1,251.00</td>\n",
       "      <td>-19.00</td>\n",
       "      <td>0.00</td>\n",
       "      <td>2014-01-31 12:51:00</td>\n",
       "      <td>2014-01-31 12:08:00</td>\n",
       "    </tr>\n",
       "  </tbody>\n",
       "</table>\n",
       "<p>20817 rows × 13 columns</p>\n",
       "</div>"
      ],
      "text/plain": [
       "         fl_date unique_carrier tail_num  fl_num origin dest  dep_time  \\\n",
       "0     2014-01-01             AA   N338AA       1    JFK  LAX    914.00   \n",
       "1     2014-01-01             AA   N335AA       3    JFK  LAX  1,157.00   \n",
       "2     2014-01-01             AA   N327AA      21    JFK  LAX  1,902.00   \n",
       "3     2014-01-01             AA   N3EHAA      29    LGA  PBI    722.00   \n",
       "4     2014-01-01             AA   N319AA     117    JFK  LAX  1,347.00   \n",
       "...          ...            ...      ...     ...    ...  ...       ...   \n",
       "20812 2014-01-31             UA   N54711    1253    ROC  ORD    801.00   \n",
       "20813 2014-01-31             UA   N77525    1429    LGA  CLE  1,522.00   \n",
       "20814 2014-01-31             UA   N37293    1456    LGA  IAH    719.00   \n",
       "20815 2014-01-31             UA   N24729    1457    LGA  IAH    852.00   \n",
       "20816 2014-01-31             MQ   N609MQ    3699    BUF  ORD  1,208.00   \n",
       "\n",
       "       dep_delay  arr_time  arr_delay  cancelled                 arr  \\\n",
       "0          14.00  1,238.00      13.00       0.00 2014-01-01 12:38:00   \n",
       "1          -3.00  1,523.00      13.00       0.00 2014-01-01 15:23:00   \n",
       "2           2.00  2,224.00       9.00       0.00 2014-01-01 22:24:00   \n",
       "3          -8.00  1,014.00     -26.00       0.00 2014-01-01 10:14:00   \n",
       "4           2.00  1,706.00       1.00       0.00 2014-01-01 17:06:00   \n",
       "...          ...       ...        ...        ...                 ...   \n",
       "20812      -4.00    908.00       4.00       0.00 2014-01-31 09:08:00   \n",
       "20813     -10.00  1,649.00     -31.00       0.00 2014-01-31 16:49:00   \n",
       "20814      -6.00  1,006.00     -20.00       0.00 2014-01-31 10:06:00   \n",
       "20815       7.00  1,156.00      -6.00       0.00 2014-01-31 11:56:00   \n",
       "20816     -12.00  1,251.00     -19.00       0.00 2014-01-31 12:51:00   \n",
       "\n",
       "                      dep  \n",
       "0     2014-01-01 09:14:00  \n",
       "1     2014-01-01 11:57:00  \n",
       "2     2014-01-01 19:02:00  \n",
       "3     2014-01-01 07:22:00  \n",
       "4     2014-01-01 13:47:00  \n",
       "...                   ...  \n",
       "20812 2014-01-31 08:01:00  \n",
       "20813 2014-01-31 15:22:00  \n",
       "20814 2014-01-31 07:19:00  \n",
       "20815 2014-01-31 08:52:00  \n",
       "20816 2014-01-31 12:08:00  \n",
       "\n",
       "[20817 rows x 13 columns]"
      ]
     },
     "execution_count": 48,
     "metadata": {},
     "output_type": "execute_result"
    }
   ],
   "source": [
    "%load solutions/indexing_drop_columns.py"
   ]
  },
  {
   "cell_type": "markdown",
   "metadata": {},
   "source": [
    "This is our first time seeing the `axis` keyword argument.\n",
    "It comes up a lot in pandas and NumPy. `axis='index'` (or 0) means\n",
    "operate on the index (e.g. drop labels from the index).\n",
    "`axis='columns'` (or 1) means operate on the columns."
   ]
  },
  {
   "cell_type": "markdown",
   "metadata": {},
   "source": [
    "## Special Case: `DateTimeIndex`\n",
    "\n",
    "> Easier slicing with strings"
   ]
  },
  {
   "cell_type": "markdown",
   "metadata": {},
   "source": [
    "Pandas has really good support for time series data, including a few conveniences to make indexing easier.\n",
    "First let's get a DataFrame with a `DatetimeIndex`, another specialied index type like we saw with `RangeIndex`."
   ]
  },
  {
   "cell_type": "code",
   "execution_count": 49,
   "metadata": {
    "collapsed": false
   },
   "outputs": [
    {
     "data": {
      "text/html": [
       "<div>\n",
       "<style>\n",
       "    .dataframe thead tr:only-child th {\n",
       "        text-align: right;\n",
       "    }\n",
       "\n",
       "    .dataframe thead th {\n",
       "        text-align: left;\n",
       "    }\n",
       "\n",
       "    .dataframe tbody tr th {\n",
       "        vertical-align: top;\n",
       "    }\n",
       "</style>\n",
       "<table border=\"1\" class=\"dataframe\">\n",
       "  <thead>\n",
       "    <tr style=\"text-align: right;\">\n",
       "      <th></th>\n",
       "      <th>dep_delay</th>\n",
       "      <th>arr_delay</th>\n",
       "    </tr>\n",
       "    <tr>\n",
       "      <th>arr</th>\n",
       "      <th></th>\n",
       "      <th></th>\n",
       "    </tr>\n",
       "  </thead>\n",
       "  <tbody>\n",
       "    <tr>\n",
       "      <th>2014-01-01 00:00:00</th>\n",
       "      <td>32.69</td>\n",
       "      <td>41.56</td>\n",
       "    </tr>\n",
       "    <tr>\n",
       "      <th>2014-01-01 01:00:00</th>\n",
       "      <td>96.75</td>\n",
       "      <td>99.00</td>\n",
       "    </tr>\n",
       "    <tr>\n",
       "      <th>2014-01-01 02:00:00</th>\n",
       "      <td>103.75</td>\n",
       "      <td>112.75</td>\n",
       "    </tr>\n",
       "    <tr>\n",
       "      <th>2014-01-01 03:00:00</th>\n",
       "      <td>110.00</td>\n",
       "      <td>116.00</td>\n",
       "    </tr>\n",
       "    <tr>\n",
       "      <th>2014-01-01 04:00:00</th>\n",
       "      <td>13.50</td>\n",
       "      <td>10.25</td>\n",
       "    </tr>\n",
       "  </tbody>\n",
       "</table>\n",
       "</div>"
      ],
      "text/plain": [
       "                     dep_delay  arr_delay\n",
       "arr                                      \n",
       "2014-01-01 00:00:00      32.69      41.56\n",
       "2014-01-01 01:00:00      96.75      99.00\n",
       "2014-01-01 02:00:00     103.75     112.75\n",
       "2014-01-01 03:00:00     110.00     116.00\n",
       "2014-01-01 04:00:00      13.50      10.25"
      ]
     },
     "execution_count": 49,
     "metadata": {},
     "output_type": "execute_result"
    }
   ],
   "source": [
    "# We'll talk about resample later\n",
    "# This gets the average delays per hour\n",
    "delays = flights.resample(\"H\", on=\"arr\")[['dep_delay', 'arr_delay']].mean()\n",
    "delays.head()"
   ]
  },
  {
   "cell_type": "markdown",
   "metadata": {},
   "source": [
    "`delays` has a `DatetimeIndex`:"
   ]
  },
  {
   "cell_type": "code",
   "execution_count": 50,
   "metadata": {
    "collapsed": false
   },
   "outputs": [
    {
     "data": {
      "text/plain": [
       "DatetimeIndex(['2014-01-01 00:00:00', '2014-01-01 01:00:00',\n",
       "               '2014-01-01 02:00:00', '2014-01-01 03:00:00',\n",
       "               '2014-01-01 04:00:00', '2014-01-01 05:00:00',\n",
       "               '2014-01-01 06:00:00', '2014-01-01 07:00:00',\n",
       "               '2014-01-01 08:00:00', '2014-01-01 09:00:00',\n",
       "               ...\n",
       "               '2014-01-31 15:00:00', '2014-01-31 16:00:00',\n",
       "               '2014-01-31 17:00:00', '2014-01-31 18:00:00',\n",
       "               '2014-01-31 19:00:00', '2014-01-31 20:00:00',\n",
       "               '2014-01-31 21:00:00', '2014-01-31 22:00:00',\n",
       "               '2014-01-31 23:00:00', '2014-02-01 00:00:00'],\n",
       "              dtype='datetime64[ns]', name='arr', length=745, freq=None)"
      ]
     },
     "execution_count": 50,
     "metadata": {},
     "output_type": "execute_result"
    }
   ],
   "source": [
    "delays.index"
   ]
  },
  {
   "cell_type": "code",
   "execution_count": 51,
   "metadata": {
    "collapsed": false
   },
   "outputs": [
    {
     "data": {
      "image/png": "[encoded data removed]",
      "text/plain": [
       "<matplotlib.figure.Figure at 0x11041fcc0>"
      ]
     },
     "metadata": {},
     "output_type": "display_data"
    }
   ],
   "source": [
    "delays.plot();"
   ]
  },
  {
   "cell_type": "markdown",
   "metadata": {},
   "source": [
    "Since `delays.index` is a `DatetimeIndex`, we can use [partial string indexing](http://pandas.pydata.org/pandas-docs/stable/timeseries.html#datetimeindex-partial-string-indexing) to easily select subsets of the data.\n",
    "The basic idea is to specify the datetime up to whatever resolution you care about.\n",
    "For example, to select all the flights on the 12th (a daily resolution):"
   ]
  },
  {
   "cell_type": "code",
   "execution_count": 52,
   "metadata": {
    "collapsed": false
   },
   "outputs": [
    {
     "data": {
      "text/html": [
       "<div>\n",
       "<style>\n",
       "    .dataframe thead tr:only-child th {\n",
       "        text-align: right;\n",
       "    }\n",
       "\n",
       "    .dataframe thead th {\n",
       "        text-align: left;\n",
       "    }\n",
       "\n",
       "    .dataframe tbody tr th {\n",
       "        vertical-align: top;\n",
       "    }\n",
       "</style>\n",
       "<table border=\"1\" class=\"dataframe\">\n",
       "  <thead>\n",
       "    <tr style=\"text-align: right;\">\n",
       "      <th></th>\n",
       "      <th>dep_delay</th>\n",
       "      <th>arr_delay</th>\n",
       "    </tr>\n",
       "    <tr>\n",
       "      <th>arr</th>\n",
       "      <th></th>\n",
       "      <th></th>\n",
       "    </tr>\n",
       "  </thead>\n",
       "  <tbody>\n",
       "    <tr>\n",
       "      <th>2014-01-12 00:00:00</th>\n",
       "      <td>58.75</td>\n",
       "      <td>46.58</td>\n",
       "    </tr>\n",
       "    <tr>\n",
       "      <th>2014-01-12 01:00:00</th>\n",
       "      <td>85.00</td>\n",
       "      <td>71.00</td>\n",
       "    </tr>\n",
       "    <tr>\n",
       "      <th>2014-01-12 02:00:00</th>\n",
       "      <td>33.00</td>\n",
       "      <td>17.00</td>\n",
       "    </tr>\n",
       "    <tr>\n",
       "      <th>2014-01-12 03:00:00</th>\n",
       "      <td>nan</td>\n",
       "      <td>nan</td>\n",
       "    </tr>\n",
       "    <tr>\n",
       "      <th>2014-01-12 04:00:00</th>\n",
       "      <td>6.50</td>\n",
       "      <td>-1.00</td>\n",
       "    </tr>\n",
       "    <tr>\n",
       "      <th>...</th>\n",
       "      <td>...</td>\n",
       "      <td>...</td>\n",
       "    </tr>\n",
       "    <tr>\n",
       "      <th>2014-01-12 19:00:00</th>\n",
       "      <td>10.06</td>\n",
       "      <td>-6.85</td>\n",
       "    </tr>\n",
       "    <tr>\n",
       "      <th>2014-01-12 20:00:00</th>\n",
       "      <td>16.23</td>\n",
       "      <td>-1.09</td>\n",
       "    </tr>\n",
       "    <tr>\n",
       "      <th>2014-01-12 21:00:00</th>\n",
       "      <td>8.95</td>\n",
       "      <td>-8.65</td>\n",
       "    </tr>\n",
       "    <tr>\n",
       "      <th>2014-01-12 22:00:00</th>\n",
       "      <td>16.79</td>\n",
       "      <td>-2.45</td>\n",
       "    </tr>\n",
       "    <tr>\n",
       "      <th>2014-01-12 23:00:00</th>\n",
       "      <td>16.15</td>\n",
       "      <td>-0.54</td>\n",
       "    </tr>\n",
       "  </tbody>\n",
       "</table>\n",
       "<p>24 rows × 2 columns</p>\n",
       "</div>"
      ],
      "text/plain": [
       "                     dep_delay  arr_delay\n",
       "arr                                      \n",
       "2014-01-12 00:00:00      58.75      46.58\n",
       "2014-01-12 01:00:00      85.00      71.00\n",
       "2014-01-12 02:00:00      33.00      17.00\n",
       "2014-01-12 03:00:00        nan        nan\n",
       "2014-01-12 04:00:00       6.50      -1.00\n",
       "...                        ...        ...\n",
       "2014-01-12 19:00:00      10.06      -6.85\n",
       "2014-01-12 20:00:00      16.23      -1.09\n",
       "2014-01-12 21:00:00       8.95      -8.65\n",
       "2014-01-12 22:00:00      16.79      -2.45\n",
       "2014-01-12 23:00:00      16.15      -0.54\n",
       "\n",
       "[24 rows x 2 columns]"
      ]
     },
     "execution_count": 52,
     "metadata": {},
     "output_type": "execute_result"
    }
   ],
   "source": [
    "delays.loc['2014-01-12']"
   ]
  },
  {
   "cell_type": "markdown",
   "metadata": {},
   "source": [
    "Without parital string indexing, you'd need to do something like"
   ]
  },
  {
   "cell_type": "code",
   "execution_count": 53,
   "metadata": {
    "collapsed": false
   },
   "outputs": [
    {
     "data": {
      "text/html": [
       "<div>\n",
       "<style>\n",
       "    .dataframe thead tr:only-child th {\n",
       "        text-align: right;\n",
       "    }\n",
       "\n",
       "    .dataframe thead th {\n",
       "        text-align: left;\n",
       "    }\n",
       "\n",
       "    .dataframe tbody tr th {\n",
       "        vertical-align: top;\n",
       "    }\n",
       "</style>\n",
       "<table border=\"1\" class=\"dataframe\">\n",
       "  <thead>\n",
       "    <tr style=\"text-align: right;\">\n",
       "      <th></th>\n",
       "      <th>dep_delay</th>\n",
       "      <th>arr_delay</th>\n",
       "    </tr>\n",
       "    <tr>\n",
       "      <th>arr</th>\n",
       "      <th></th>\n",
       "      <th></th>\n",
       "    </tr>\n",
       "  </thead>\n",
       "  <tbody>\n",
       "    <tr>\n",
       "      <th>2014-01-12 00:00:00</th>\n",
       "      <td>58.75</td>\n",
       "      <td>46.58</td>\n",
       "    </tr>\n",
       "    <tr>\n",
       "      <th>2014-01-12 01:00:00</th>\n",
       "      <td>85.00</td>\n",
       "      <td>71.00</td>\n",
       "    </tr>\n",
       "    <tr>\n",
       "      <th>2014-01-12 02:00:00</th>\n",
       "      <td>33.00</td>\n",
       "      <td>17.00</td>\n",
       "    </tr>\n",
       "    <tr>\n",
       "      <th>2014-01-12 03:00:00</th>\n",
       "      <td>nan</td>\n",
       "      <td>nan</td>\n",
       "    </tr>\n",
       "    <tr>\n",
       "      <th>2014-01-12 04:00:00</th>\n",
       "      <td>6.50</td>\n",
       "      <td>-1.00</td>\n",
       "    </tr>\n",
       "    <tr>\n",
       "      <th>...</th>\n",
       "      <td>...</td>\n",
       "      <td>...</td>\n",
       "    </tr>\n",
       "    <tr>\n",
       "      <th>2014-01-12 19:00:00</th>\n",
       "      <td>10.06</td>\n",
       "      <td>-6.85</td>\n",
       "    </tr>\n",
       "    <tr>\n",
       "      <th>2014-01-12 20:00:00</th>\n",
       "      <td>16.23</td>\n",
       "      <td>-1.09</td>\n",
       "    </tr>\n",
       "    <tr>\n",
       "      <th>2014-01-12 21:00:00</th>\n",
       "      <td>8.95</td>\n",
       "      <td>-8.65</td>\n",
       "    </tr>\n",
       "    <tr>\n",
       "      <th>2014-01-12 22:00:00</th>\n",
       "      <td>16.79</td>\n",
       "      <td>-2.45</td>\n",
       "    </tr>\n",
       "    <tr>\n",
       "      <th>2014-01-12 23:00:00</th>\n",
       "      <td>16.15</td>\n",
       "      <td>-0.54</td>\n",
       "    </tr>\n",
       "  </tbody>\n",
       "</table>\n",
       "<p>24 rows × 2 columns</p>\n",
       "</div>"
      ],
      "text/plain": [
       "                     dep_delay  arr_delay\n",
       "arr                                      \n",
       "2014-01-12 00:00:00      58.75      46.58\n",
       "2014-01-12 01:00:00      85.00      71.00\n",
       "2014-01-12 02:00:00      33.00      17.00\n",
       "2014-01-12 03:00:00        nan        nan\n",
       "2014-01-12 04:00:00       6.50      -1.00\n",
       "...                        ...        ...\n",
       "2014-01-12 19:00:00      10.06      -6.85\n",
       "2014-01-12 20:00:00      16.23      -1.09\n",
       "2014-01-12 21:00:00       8.95      -8.65\n",
       "2014-01-12 22:00:00      16.79      -2.45\n",
       "2014-01-12 23:00:00      16.15      -0.54\n",
       "\n",
       "[24 rows x 2 columns]"
      ]
     },
     "execution_count": 53,
     "metadata": {},
     "output_type": "execute_result"
    }
   ],
   "source": [
    "delays[(delays.index.year == 2014) & (delays.index.month == 1) & (delays.index.day == 12)]"
   ]
  },
  {
   "cell_type": "markdown",
   "metadata": {},
   "source": [
    "Which isn't very fun."
   ]
  },
  {
   "cell_type": "markdown",
   "metadata": {},
   "source": [
    "<div class=\"alert alert-success\" data-title=\"Datetime Indexing\">\n",
    "  <h1><i class=\"fa fa-tasks\" aria-hidden=\"true\"></i> Exercise: Datetime Indexing</h1>\n",
    "</div>\n",
    "<p>\n",
    "Slice `delays` to select all rows from 12:00 on January 3rd, to 12:00 on the 10th.</p>"
   ]
  },
  {
   "cell_type": "code",
   "execution_count": 54,
   "metadata": {
    "collapsed": true,
    "tags": [
     "solution"
    ]
   },
   "outputs": [],
   "source": [
    "# Your code"
   ]
  },
  {
   "cell_type": "code",
   "execution_count": 56,
   "metadata": {
    "collapsed": false,
    "tags": [
     "solution"
    ]
   },
   "outputs": [
    {
     "data": {
      "text/html": [
       "<div>\n",
       "<style>\n",
       "    .dataframe thead tr:only-child th {\n",
       "        text-align: right;\n",
       "    }\n",
       "\n",
       "    .dataframe thead th {\n",
       "        text-align: left;\n",
       "    }\n",
       "\n",
       "    .dataframe tbody tr th {\n",
       "        vertical-align: top;\n",
       "    }\n",
       "</style>\n",
       "<table border=\"1\" class=\"dataframe\">\n",
       "  <thead>\n",
       "    <tr style=\"text-align: right;\">\n",
       "      <th></th>\n",
       "      <th>dep_delay</th>\n",
       "      <th>arr_delay</th>\n",
       "    </tr>\n",
       "    <tr>\n",
       "      <th>arr</th>\n",
       "      <th></th>\n",
       "      <th></th>\n",
       "    </tr>\n",
       "  </thead>\n",
       "  <tbody>\n",
       "    <tr>\n",
       "      <th>2014-01-03 12:00:00</th>\n",
       "      <td>131.00</td>\n",
       "      <td>138.17</td>\n",
       "    </tr>\n",
       "    <tr>\n",
       "      <th>2014-01-03 13:00:00</th>\n",
       "      <td>87.77</td>\n",
       "      <td>96.15</td>\n",
       "    </tr>\n",
       "    <tr>\n",
       "      <th>2014-01-03 14:00:00</th>\n",
       "      <td>67.12</td>\n",
       "      <td>68.19</td>\n",
       "    </tr>\n",
       "    <tr>\n",
       "      <th>2014-01-03 15:00:00</th>\n",
       "      <td>119.12</td>\n",
       "      <td>120.92</td>\n",
       "    </tr>\n",
       "    <tr>\n",
       "      <th>2014-01-03 16:00:00</th>\n",
       "      <td>93.74</td>\n",
       "      <td>93.11</td>\n",
       "    </tr>\n",
       "    <tr>\n",
       "      <th>...</th>\n",
       "      <td>...</td>\n",
       "      <td>...</td>\n",
       "    </tr>\n",
       "    <tr>\n",
       "      <th>2014-01-10 08:00:00</th>\n",
       "      <td>0.07</td>\n",
       "      <td>6.22</td>\n",
       "    </tr>\n",
       "    <tr>\n",
       "      <th>2014-01-10 09:00:00</th>\n",
       "      <td>3.00</td>\n",
       "      <td>7.74</td>\n",
       "    </tr>\n",
       "    <tr>\n",
       "      <th>2014-01-10 10:00:00</th>\n",
       "      <td>8.87</td>\n",
       "      <td>10.53</td>\n",
       "    </tr>\n",
       "    <tr>\n",
       "      <th>2014-01-10 11:00:00</th>\n",
       "      <td>10.76</td>\n",
       "      <td>23.57</td>\n",
       "    </tr>\n",
       "    <tr>\n",
       "      <th>2014-01-10 12:00:00</th>\n",
       "      <td>11.12</td>\n",
       "      <td>23.43</td>\n",
       "    </tr>\n",
       "  </tbody>\n",
       "</table>\n",
       "<p>169 rows × 2 columns</p>\n",
       "</div>"
      ],
      "text/plain": [
       "                     dep_delay  arr_delay\n",
       "arr                                      \n",
       "2014-01-03 12:00:00     131.00     138.17\n",
       "2014-01-03 13:00:00      87.77      96.15\n",
       "2014-01-03 14:00:00      67.12      68.19\n",
       "2014-01-03 15:00:00     119.12     120.92\n",
       "2014-01-03 16:00:00      93.74      93.11\n",
       "...                        ...        ...\n",
       "2014-01-10 08:00:00       0.07       6.22\n",
       "2014-01-10 09:00:00       3.00       7.74\n",
       "2014-01-10 10:00:00       8.87      10.53\n",
       "2014-01-10 11:00:00      10.76      23.57\n",
       "2014-01-10 12:00:00      11.12      23.43\n",
       "\n",
       "[169 rows x 2 columns]"
      ]
     },
     "execution_count": 56,
     "metadata": {},
     "output_type": "execute_result"
    }
   ],
   "source": [
    "%load solutions/indexing_datetime.py"
   ]
  },
  {
   "cell_type": "markdown",
   "metadata": {},
   "source": [
    "<div class=\"alert alert-success\" data-title=\"Thought Exercise\">\n",
    "  <h1><i class=\"fa fa-lightbulb-o\" aria-hidden=\"true\"></i> Thought Exercise</h1>\n",
    "</div>\n",
    "<p>\n",
    "Why does pandas use a property like `.loc[..., ...]`, rather than a method like `.loc(..., ...)`?</p>\n",
    "\n",
    "- Hint: Where in the language can you use `foo.loc[...]`, but not `foo.loc(...)`?"
   ]
  },
  {
   "cell_type": "code",
   "execution_count": 71,
   "metadata": {
    "collapsed": false,
    "tags": [
     "solution"
    ]
   },
   "outputs": [
    {
     "data": {
      "text/html": [
       "<div>\n",
       "<table border=\"1\" class=\"dataframe\">\n",
       "  <thead>\n",
       "    <tr style=\"text-align: right;\">\n",
       "      <th></th>\n",
       "      <th>fl_date</th>\n",
       "      <th>airline_id</th>\n",
       "      <th>tail_num</th>\n",
       "      <th>fl_num</th>\n",
       "      <th>origin</th>\n",
       "      <th>dest</th>\n",
       "      <th>dep_time</th>\n",
       "      <th>dep_delay</th>\n",
       "      <th>arr_time</th>\n",
       "      <th>arr_delay</th>\n",
       "      <th>cancelled</th>\n",
       "      <th>arr</th>\n",
       "      <th>dep</th>\n",
       "    </tr>\n",
       "    <tr>\n",
       "      <th>unique_carrier</th>\n",
       "      <th></th>\n",
       "      <th></th>\n",
       "      <th></th>\n",
       "      <th></th>\n",
       "      <th></th>\n",
       "      <th></th>\n",
       "      <th></th>\n",
       "      <th></th>\n",
       "      <th></th>\n",
       "      <th></th>\n",
       "      <th></th>\n",
       "      <th></th>\n",
       "      <th></th>\n",
       "    </tr>\n",
       "  </thead>\n",
       "  <tbody>\n",
       "    <tr>\n",
       "      <th>AA</th>\n",
       "      <td>2014-01-01</td>\n",
       "      <td>19805</td>\n",
       "      <td>N338AA</td>\n",
       "      <td>-1</td>\n",
       "      <td>JFK</td>\n",
       "      <td>LAX</td>\n",
       "      <td>914.00</td>\n",
       "      <td>14.00</td>\n",
       "      <td>1,238.00</td>\n",
       "      <td>13.00</td>\n",
       "      <td>0.00</td>\n",
       "      <td>2014-01-01 12:38:00</td>\n",
       "      <td>2014-01-01 09:14:00</td>\n",
       "    </tr>\n",
       "    <tr>\n",
       "      <th>B6</th>\n",
       "      <td>2014-01-01</td>\n",
       "      <td>20409</td>\n",
       "      <td>N318JB</td>\n",
       "      <td>115</td>\n",
       "      <td>SYR</td>\n",
       "      <td>JFK</td>\n",
       "      <td>720.00</td>\n",
       "      <td>90.00</td>\n",
       "      <td>808.00</td>\n",
       "      <td>55.00</td>\n",
       "      <td>0.00</td>\n",
       "      <td>2014-01-01 08:08:00</td>\n",
       "      <td>2014-01-01 07:20:00</td>\n",
       "    </tr>\n",
       "    <tr>\n",
       "      <th>DL</th>\n",
       "      <td>2014-01-01</td>\n",
       "      <td>19790</td>\n",
       "      <td>N930DL</td>\n",
       "      <td>61</td>\n",
       "      <td>LGA</td>\n",
       "      <td>ATL</td>\n",
       "      <td>1,810.00</td>\n",
       "      <td>10.00</td>\n",
       "      <td>2,054.00</td>\n",
       "      <td>10.00</td>\n",
       "      <td>0.00</td>\n",
       "      <td>2014-01-01 20:54:00</td>\n",
       "      <td>2014-01-01 18:10:00</td>\n",
       "    </tr>\n",
       "    <tr>\n",
       "      <th>EV</th>\n",
       "      <td>2014-01-01</td>\n",
       "      <td>20366</td>\n",
       "      <td>N14977</td>\n",
       "      <td>3259</td>\n",
       "      <td>HPN</td>\n",
       "      <td>ORD</td>\n",
       "      <td>731.00</td>\n",
       "      <td>-5.00</td>\n",
       "      <td>940.00</td>\n",
       "      <td>31.00</td>\n",
       "      <td>0.00</td>\n",
       "      <td>2014-01-01 09:40:00</td>\n",
       "      <td>2014-01-01 07:31:00</td>\n",
       "    </tr>\n",
       "    <tr>\n",
       "      <th>F9</th>\n",
       "      <td>2014-01-01</td>\n",
       "      <td>20436</td>\n",
       "      <td>N209FR</td>\n",
       "      <td>507</td>\n",
       "      <td>LGA</td>\n",
       "      <td>DEN</td>\n",
       "      <td>1,804.00</td>\n",
       "      <td>35.00</td>\n",
       "      <td>2,047.00</td>\n",
       "      <td>47.00</td>\n",
       "      <td>0.00</td>\n",
       "      <td>2014-01-01 20:47:00</td>\n",
       "      <td>2014-01-01 18:04:00</td>\n",
       "    </tr>\n",
       "  </tbody>\n",
       "</table>\n",
       "</div>"
      ],
      "text/plain": [
       "                  fl_date  airline_id tail_num  fl_num origin dest  dep_time  \\\n",
       "unique_carrier                                                                 \n",
       "AA             2014-01-01       19805   N338AA      -1    JFK  LAX    914.00   \n",
       "B6             2014-01-01       20409   N318JB     115    SYR  JFK    720.00   \n",
       "DL             2014-01-01       19790   N930DL      61    LGA  ATL  1,810.00   \n",
       "EV             2014-01-01       20366   N14977    3259    HPN  ORD    731.00   \n",
       "F9             2014-01-01       20436   N209FR     507    LGA  DEN  1,804.00   \n",
       "\n",
       "                dep_delay  arr_time  arr_delay  cancelled                 arr  \\\n",
       "unique_carrier                                                                  \n",
       "AA                  14.00  1,238.00      13.00       0.00 2014-01-01 12:38:00   \n",
       "B6                  90.00    808.00      55.00       0.00 2014-01-01 08:08:00   \n",
       "DL                  10.00  2,054.00      10.00       0.00 2014-01-01 20:54:00   \n",
       "EV                  -5.00    940.00      31.00       0.00 2014-01-01 09:40:00   \n",
       "F9                  35.00  2,047.00      47.00       0.00 2014-01-01 20:47:00   \n",
       "\n",
       "                               dep  \n",
       "unique_carrier                      \n",
       "AA             2014-01-01 09:14:00  \n",
       "B6             2014-01-01 07:20:00  \n",
       "DL             2014-01-01 18:10:00  \n",
       "EV             2014-01-01 07:31:00  \n",
       "F9             2014-01-01 18:04:00  "
      ]
     },
     "execution_count": 71,
     "metadata": {},
     "output_type": "execute_result"
    }
   ],
   "source": [
    "%load solutions/indexing_thoughts.py"
   ]
  },
  {
   "cell_type": "markdown",
   "metadata": {},
   "source": [
    "## Summary\n",
    "\n",
    "- Introducted to `DataFrame` (2-D tabel) and `Series` (1-D array)\n",
    "- Both have *row labels*, `DataFrame` also has `column labels`\n",
    "- Saw `.loc` for labeled indexing and `.iloc` for positional indexing\n",
    "- `.loc`, `.iloc`, and `__getitem__` all accept boolean masks too"
   ]
  },
  {
   "cell_type": "markdown",
   "metadata": {},
   "source": [
    "## Additional Exercises\n",
    "\n",
    "Some additional exercises focused on indexing:"
   ]
  },
  {
   "cell_type": "code",
   "execution_count": 51,
   "metadata": {
    "collapsed": false
   },
   "outputs": [
    {
     "data": {
      "text/html": [
       "\n",
       "        <iframe\n",
       "            width=\"750\"\n",
       "            height=\"900\"\n",
       "            src=\"http://vincentarelbundock.github.io/Rdatasets/doc/ISLR/Auto.html\"\n",
       "            frameborder=\"0\"\n",
       "            allowfullscreen\n",
       "        ></iframe>\n",
       "        "
      ],
      "text/plain": [
       "<IPython.lib.display.IFrame at 0x11dd60fd0>"
      ]
     },
     "execution_count": 51,
     "metadata": {},
     "output_type": "execute_result"
    }
   ],
   "source": [
    "from IPython.display import IFrame\n",
    "\n",
    "IFrame(\"http://vincentarelbundock.github.io/Rdatasets/doc/ISLR/Auto.html\", 750, 900)"
   ]
  },
  {
   "cell_type": "code",
   "execution_count": 59,
   "metadata": {
    "collapsed": true
   },
   "outputs": [],
   "source": [
    "url = \"http://vincentarelbundock.github.io/Rdatasets/csv/ISLR/Auto.csv\"\n",
    "cars = pd.read_csv(url, index_col=0)"
   ]
  },
  {
   "cell_type": "code",
   "execution_count": 60,
   "metadata": {
    "collapsed": false
   },
   "outputs": [
    {
     "data": {
      "text/html": [
       "<div>\n",
       "<style>\n",
       "    .dataframe thead tr:only-child th {\n",
       "        text-align: right;\n",
       "    }\n",
       "\n",
       "    .dataframe thead th {\n",
       "        text-align: left;\n",
       "    }\n",
       "\n",
       "    .dataframe tbody tr th {\n",
       "        vertical-align: top;\n",
       "    }\n",
       "</style>\n",
       "<table border=\"1\" class=\"dataframe\">\n",
       "  <thead>\n",
       "    <tr style=\"text-align: right;\">\n",
       "      <th></th>\n",
       "      <th>mpg</th>\n",
       "      <th>cylinders</th>\n",
       "      <th>displacement</th>\n",
       "      <th>horsepower</th>\n",
       "      <th>weight</th>\n",
       "      <th>acceleration</th>\n",
       "      <th>year</th>\n",
       "      <th>origin</th>\n",
       "      <th>name</th>\n",
       "    </tr>\n",
       "  </thead>\n",
       "  <tbody>\n",
       "    <tr>\n",
       "      <th>1</th>\n",
       "      <td>18.00</td>\n",
       "      <td>8</td>\n",
       "      <td>307.00</td>\n",
       "      <td>130</td>\n",
       "      <td>3504</td>\n",
       "      <td>12.00</td>\n",
       "      <td>70</td>\n",
       "      <td>1</td>\n",
       "      <td>chevrolet chevelle malibu</td>\n",
       "    </tr>\n",
       "    <tr>\n",
       "      <th>2</th>\n",
       "      <td>15.00</td>\n",
       "      <td>8</td>\n",
       "      <td>350.00</td>\n",
       "      <td>165</td>\n",
       "      <td>3693</td>\n",
       "      <td>11.50</td>\n",
       "      <td>70</td>\n",
       "      <td>1</td>\n",
       "      <td>buick skylark 320</td>\n",
       "    </tr>\n",
       "    <tr>\n",
       "      <th>3</th>\n",
       "      <td>18.00</td>\n",
       "      <td>8</td>\n",
       "      <td>318.00</td>\n",
       "      <td>150</td>\n",
       "      <td>3436</td>\n",
       "      <td>11.00</td>\n",
       "      <td>70</td>\n",
       "      <td>1</td>\n",
       "      <td>plymouth satellite</td>\n",
       "    </tr>\n",
       "    <tr>\n",
       "      <th>4</th>\n",
       "      <td>16.00</td>\n",
       "      <td>8</td>\n",
       "      <td>304.00</td>\n",
       "      <td>150</td>\n",
       "      <td>3433</td>\n",
       "      <td>12.00</td>\n",
       "      <td>70</td>\n",
       "      <td>1</td>\n",
       "      <td>amc rebel sst</td>\n",
       "    </tr>\n",
       "    <tr>\n",
       "      <th>5</th>\n",
       "      <td>17.00</td>\n",
       "      <td>8</td>\n",
       "      <td>302.00</td>\n",
       "      <td>140</td>\n",
       "      <td>3449</td>\n",
       "      <td>10.50</td>\n",
       "      <td>70</td>\n",
       "      <td>1</td>\n",
       "      <td>ford torino</td>\n",
       "    </tr>\n",
       "  </tbody>\n",
       "</table>\n",
       "</div>"
      ],
      "text/plain": [
       "    mpg  cylinders  displacement  horsepower  weight  acceleration  year  \\\n",
       "1 18.00          8        307.00         130    3504         12.00    70   \n",
       "2 15.00          8        350.00         165    3693         11.50    70   \n",
       "3 18.00          8        318.00         150    3436         11.00    70   \n",
       "4 16.00          8        304.00         150    3433         12.00    70   \n",
       "5 17.00          8        302.00         140    3449         10.50    70   \n",
       "\n",
       "   origin                       name  \n",
       "1       1  chevrolet chevelle malibu  \n",
       "2       1          buick skylark 320  \n",
       "3       1         plymouth satellite  \n",
       "4       1              amc rebel sst  \n",
       "5       1                ford torino  "
      ]
     },
     "execution_count": 60,
     "metadata": {},
     "output_type": "execute_result"
    }
   ],
   "source": [
    "cars.head()"
   ]
  },
  {
   "cell_type": "code",
   "execution_count": 61,
   "metadata": {
    "collapsed": false
   },
   "outputs": [
    {
     "data": {
      "text/html": [
       "<div>\n",
       "<style>\n",
       "    .dataframe thead tr:only-child th {\n",
       "        text-align: right;\n",
       "    }\n",
       "\n",
       "    .dataframe thead th {\n",
       "        text-align: left;\n",
       "    }\n",
       "\n",
       "    .dataframe tbody tr th {\n",
       "        vertical-align: top;\n",
       "    }\n",
       "</style>\n",
       "<table border=\"1\" class=\"dataframe\">\n",
       "  <thead>\n",
       "    <tr style=\"text-align: right;\">\n",
       "      <th></th>\n",
       "      <th>mpg</th>\n",
       "      <th>cylinders</th>\n",
       "      <th>displacement</th>\n",
       "      <th>horsepower</th>\n",
       "      <th>weight</th>\n",
       "      <th>acceleration</th>\n",
       "      <th>origin</th>\n",
       "    </tr>\n",
       "    <tr>\n",
       "      <th>year</th>\n",
       "      <th></th>\n",
       "      <th></th>\n",
       "      <th></th>\n",
       "      <th></th>\n",
       "      <th></th>\n",
       "      <th></th>\n",
       "      <th></th>\n",
       "    </tr>\n",
       "  </thead>\n",
       "  <tbody>\n",
       "    <tr>\n",
       "      <th>70</th>\n",
       "      <td>17.69</td>\n",
       "      <td>6.76</td>\n",
       "      <td>281.41</td>\n",
       "      <td>147.83</td>\n",
       "      <td>3,372.79</td>\n",
       "      <td>12.95</td>\n",
       "      <td>1.31</td>\n",
       "    </tr>\n",
       "    <tr>\n",
       "      <th>71</th>\n",
       "      <td>21.11</td>\n",
       "      <td>5.63</td>\n",
       "      <td>213.89</td>\n",
       "      <td>107.04</td>\n",
       "      <td>3,030.59</td>\n",
       "      <td>15.00</td>\n",
       "      <td>1.44</td>\n",
       "    </tr>\n",
       "    <tr>\n",
       "      <th>72</th>\n",
       "      <td>18.71</td>\n",
       "      <td>5.82</td>\n",
       "      <td>218.38</td>\n",
       "      <td>120.18</td>\n",
       "      <td>3,237.71</td>\n",
       "      <td>15.12</td>\n",
       "      <td>1.54</td>\n",
       "    </tr>\n",
       "    <tr>\n",
       "      <th>73</th>\n",
       "      <td>17.10</td>\n",
       "      <td>6.38</td>\n",
       "      <td>256.88</td>\n",
       "      <td>130.47</td>\n",
       "      <td>3,419.03</td>\n",
       "      <td>14.31</td>\n",
       "      <td>1.38</td>\n",
       "    </tr>\n",
       "    <tr>\n",
       "      <th>74</th>\n",
       "      <td>22.77</td>\n",
       "      <td>5.23</td>\n",
       "      <td>170.65</td>\n",
       "      <td>94.23</td>\n",
       "      <td>2,878.04</td>\n",
       "      <td>16.17</td>\n",
       "      <td>1.69</td>\n",
       "    </tr>\n",
       "  </tbody>\n",
       "</table>\n",
       "</div>"
      ],
      "text/plain": [
       "       mpg  cylinders  displacement  horsepower   weight  acceleration  origin\n",
       "year                                                                          \n",
       "70   17.69       6.76        281.41      147.83 3,372.79         12.95    1.31\n",
       "71   21.11       5.63        213.89      107.04 3,030.59         15.00    1.44\n",
       "72   18.71       5.82        218.38      120.18 3,237.71         15.12    1.54\n",
       "73   17.10       6.38        256.88      130.47 3,419.03         14.31    1.38\n",
       "74   22.77       5.23        170.65       94.23 2,878.04         16.17    1.69"
      ]
     },
     "execution_count": 61,
     "metadata": {},
     "output_type": "execute_result"
    }
   ],
   "source": [
    "yearly = cars.groupby(\"year\").mean()\n",
    "yearly.head()"
   ]
  },
  {
   "cell_type": "markdown",
   "metadata": {},
   "source": [
    " <div class=\"alert alert-success\" data-title=\"\">\n",
    "  <h1><i class=\"fa fa-tasks\" aria-hidden=\"true\"></i> Exercise</h1>\n",
    "</div>\n",
    "<p>\n",
    "Select the engine-related columns (cylinders, displacement, horsepower) from `cars`.\n",
    "</p>"
   ]
  },
  {
   "cell_type": "code",
   "execution_count": null,
   "metadata": {
    "collapsed": true
   },
   "outputs": [],
   "source": []
  },
  {
   "cell_type": "code",
   "execution_count": 63,
   "metadata": {
    "collapsed": false
   },
   "outputs": [
    {
     "data": {
      "text/html": [
       "<div>\n",
       "<style>\n",
       "    .dataframe thead tr:only-child th {\n",
       "        text-align: right;\n",
       "    }\n",
       "\n",
       "    .dataframe thead th {\n",
       "        text-align: left;\n",
       "    }\n",
       "\n",
       "    .dataframe tbody tr th {\n",
       "        vertical-align: top;\n",
       "    }\n",
       "</style>\n",
       "<table border=\"1\" class=\"dataframe\">\n",
       "  <thead>\n",
       "    <tr style=\"text-align: right;\">\n",
       "      <th></th>\n",
       "      <th>cylinders</th>\n",
       "      <th>displacement</th>\n",
       "      <th>horsepower</th>\n",
       "    </tr>\n",
       "  </thead>\n",
       "  <tbody>\n",
       "    <tr>\n",
       "      <th>1</th>\n",
       "      <td>8</td>\n",
       "      <td>307.00</td>\n",
       "      <td>130</td>\n",
       "    </tr>\n",
       "    <tr>\n",
       "      <th>2</th>\n",
       "      <td>8</td>\n",
       "      <td>350.00</td>\n",
       "      <td>165</td>\n",
       "    </tr>\n",
       "    <tr>\n",
       "      <th>3</th>\n",
       "      <td>8</td>\n",
       "      <td>318.00</td>\n",
       "      <td>150</td>\n",
       "    </tr>\n",
       "    <tr>\n",
       "      <th>4</th>\n",
       "      <td>8</td>\n",
       "      <td>304.00</td>\n",
       "      <td>150</td>\n",
       "    </tr>\n",
       "    <tr>\n",
       "      <th>5</th>\n",
       "      <td>8</td>\n",
       "      <td>302.00</td>\n",
       "      <td>140</td>\n",
       "    </tr>\n",
       "    <tr>\n",
       "      <th>...</th>\n",
       "      <td>...</td>\n",
       "      <td>...</td>\n",
       "      <td>...</td>\n",
       "    </tr>\n",
       "    <tr>\n",
       "      <th>393</th>\n",
       "      <td>4</td>\n",
       "      <td>140.00</td>\n",
       "      <td>86</td>\n",
       "    </tr>\n",
       "    <tr>\n",
       "      <th>394</th>\n",
       "      <td>4</td>\n",
       "      <td>97.00</td>\n",
       "      <td>52</td>\n",
       "    </tr>\n",
       "    <tr>\n",
       "      <th>395</th>\n",
       "      <td>4</td>\n",
       "      <td>135.00</td>\n",
       "      <td>84</td>\n",
       "    </tr>\n",
       "    <tr>\n",
       "      <th>396</th>\n",
       "      <td>4</td>\n",
       "      <td>120.00</td>\n",
       "      <td>79</td>\n",
       "    </tr>\n",
       "    <tr>\n",
       "      <th>397</th>\n",
       "      <td>4</td>\n",
       "      <td>119.00</td>\n",
       "      <td>82</td>\n",
       "    </tr>\n",
       "  </tbody>\n",
       "</table>\n",
       "<p>392 rows × 3 columns</p>\n",
       "</div>"
      ],
      "text/plain": [
       "     cylinders  displacement  horsepower\n",
       "1            8        307.00         130\n",
       "2            8        350.00         165\n",
       "3            8        318.00         150\n",
       "4            8        304.00         150\n",
       "5            8        302.00         140\n",
       "..         ...           ...         ...\n",
       "393          4        140.00          86\n",
       "394          4         97.00          52\n",
       "395          4        135.00          84\n",
       "396          4        120.00          79\n",
       "397          4        119.00          82\n",
       "\n",
       "[392 rows x 3 columns]"
      ]
     },
     "execution_count": 63,
     "metadata": {},
     "output_type": "execute_result"
    }
   ],
   "source": [
    "%load solutions/indexing_ex1_engine_columns.py"
   ]
  },
  {
   "cell_type": "markdown",
   "metadata": {},
   "source": [
    " <div class=\"alert alert-success\" data-title=\"\">\n",
    "  <h1><i class=\"fa fa-tasks\" aria-hidden=\"true\"></i> Exercise</h1>\n",
    "</div>\n",
    "<p>\n",
    "Select every 5th row of `cars`.\n",
    "</p>\n",
    "\n",
    "Hint: See [here](http://stackoverflow.com/a/509295) for all the options on slicing."
   ]
  },
  {
   "cell_type": "code",
   "execution_count": null,
   "metadata": {
    "collapsed": true
   },
   "outputs": [],
   "source": []
  },
  {
   "cell_type": "code",
   "execution_count": 65,
   "metadata": {
    "collapsed": false
   },
   "outputs": [
    {
     "data": {
      "text/html": [
       "<div>\n",
       "<style>\n",
       "    .dataframe thead tr:only-child th {\n",
       "        text-align: right;\n",
       "    }\n",
       "\n",
       "    .dataframe thead th {\n",
       "        text-align: left;\n",
       "    }\n",
       "\n",
       "    .dataframe tbody tr th {\n",
       "        vertical-align: top;\n",
       "    }\n",
       "</style>\n",
       "<table border=\"1\" class=\"dataframe\">\n",
       "  <thead>\n",
       "    <tr style=\"text-align: right;\">\n",
       "      <th></th>\n",
       "      <th>mpg</th>\n",
       "      <th>cylinders</th>\n",
       "      <th>displacement</th>\n",
       "      <th>horsepower</th>\n",
       "      <th>weight</th>\n",
       "      <th>acceleration</th>\n",
       "      <th>year</th>\n",
       "      <th>origin</th>\n",
       "      <th>name</th>\n",
       "    </tr>\n",
       "  </thead>\n",
       "  <tbody>\n",
       "    <tr>\n",
       "      <th>1</th>\n",
       "      <td>18.00</td>\n",
       "      <td>8</td>\n",
       "      <td>307.00</td>\n",
       "      <td>130</td>\n",
       "      <td>3504</td>\n",
       "      <td>12.00</td>\n",
       "      <td>70</td>\n",
       "      <td>1</td>\n",
       "      <td>chevrolet chevelle malibu</td>\n",
       "    </tr>\n",
       "    <tr>\n",
       "      <th>6</th>\n",
       "      <td>15.00</td>\n",
       "      <td>8</td>\n",
       "      <td>429.00</td>\n",
       "      <td>198</td>\n",
       "      <td>4341</td>\n",
       "      <td>10.00</td>\n",
       "      <td>70</td>\n",
       "      <td>1</td>\n",
       "      <td>ford galaxie 500</td>\n",
       "    </tr>\n",
       "    <tr>\n",
       "      <th>11</th>\n",
       "      <td>15.00</td>\n",
       "      <td>8</td>\n",
       "      <td>383.00</td>\n",
       "      <td>170</td>\n",
       "      <td>3563</td>\n",
       "      <td>10.00</td>\n",
       "      <td>70</td>\n",
       "      <td>1</td>\n",
       "      <td>dodge challenger se</td>\n",
       "    </tr>\n",
       "    <tr>\n",
       "      <th>16</th>\n",
       "      <td>22.00</td>\n",
       "      <td>6</td>\n",
       "      <td>198.00</td>\n",
       "      <td>95</td>\n",
       "      <td>2833</td>\n",
       "      <td>15.50</td>\n",
       "      <td>70</td>\n",
       "      <td>1</td>\n",
       "      <td>plymouth duster</td>\n",
       "    </tr>\n",
       "    <tr>\n",
       "      <th>21</th>\n",
       "      <td>25.00</td>\n",
       "      <td>4</td>\n",
       "      <td>110.00</td>\n",
       "      <td>87</td>\n",
       "      <td>2672</td>\n",
       "      <td>17.50</td>\n",
       "      <td>70</td>\n",
       "      <td>2</td>\n",
       "      <td>peugeot 504</td>\n",
       "    </tr>\n",
       "    <tr>\n",
       "      <th>...</th>\n",
       "      <td>...</td>\n",
       "      <td>...</td>\n",
       "      <td>...</td>\n",
       "      <td>...</td>\n",
       "      <td>...</td>\n",
       "      <td>...</td>\n",
       "      <td>...</td>\n",
       "      <td>...</td>\n",
       "      <td>...</td>\n",
       "    </tr>\n",
       "    <tr>\n",
       "      <th>376</th>\n",
       "      <td>37.00</td>\n",
       "      <td>4</td>\n",
       "      <td>91.00</td>\n",
       "      <td>68</td>\n",
       "      <td>2025</td>\n",
       "      <td>18.20</td>\n",
       "      <td>82</td>\n",
       "      <td>3</td>\n",
       "      <td>mazda glc custom l</td>\n",
       "    </tr>\n",
       "    <tr>\n",
       "      <th>381</th>\n",
       "      <td>36.00</td>\n",
       "      <td>4</td>\n",
       "      <td>107.00</td>\n",
       "      <td>75</td>\n",
       "      <td>2205</td>\n",
       "      <td>14.50</td>\n",
       "      <td>82</td>\n",
       "      <td>3</td>\n",
       "      <td>honda accord</td>\n",
       "    </tr>\n",
       "    <tr>\n",
       "      <th>386</th>\n",
       "      <td>25.00</td>\n",
       "      <td>6</td>\n",
       "      <td>181.00</td>\n",
       "      <td>110</td>\n",
       "      <td>2945</td>\n",
       "      <td>16.40</td>\n",
       "      <td>82</td>\n",
       "      <td>1</td>\n",
       "      <td>buick century limited</td>\n",
       "    </tr>\n",
       "    <tr>\n",
       "      <th>391</th>\n",
       "      <td>36.00</td>\n",
       "      <td>4</td>\n",
       "      <td>135.00</td>\n",
       "      <td>84</td>\n",
       "      <td>2370</td>\n",
       "      <td>13.00</td>\n",
       "      <td>82</td>\n",
       "      <td>1</td>\n",
       "      <td>dodge charger 2.2</td>\n",
       "    </tr>\n",
       "    <tr>\n",
       "      <th>396</th>\n",
       "      <td>28.00</td>\n",
       "      <td>4</td>\n",
       "      <td>120.00</td>\n",
       "      <td>79</td>\n",
       "      <td>2625</td>\n",
       "      <td>18.60</td>\n",
       "      <td>82</td>\n",
       "      <td>1</td>\n",
       "      <td>ford ranger</td>\n",
       "    </tr>\n",
       "  </tbody>\n",
       "</table>\n",
       "<p>79 rows × 9 columns</p>\n",
       "</div>"
      ],
      "text/plain": [
       "      mpg  cylinders  displacement  horsepower  weight  acceleration  year  \\\n",
       "1   18.00          8        307.00         130    3504         12.00    70   \n",
       "6   15.00          8        429.00         198    4341         10.00    70   \n",
       "11  15.00          8        383.00         170    3563         10.00    70   \n",
       "16  22.00          6        198.00          95    2833         15.50    70   \n",
       "21  25.00          4        110.00          87    2672         17.50    70   \n",
       "..    ...        ...           ...         ...     ...           ...   ...   \n",
       "376 37.00          4         91.00          68    2025         18.20    82   \n",
       "381 36.00          4        107.00          75    2205         14.50    82   \n",
       "386 25.00          6        181.00         110    2945         16.40    82   \n",
       "391 36.00          4        135.00          84    2370         13.00    82   \n",
       "396 28.00          4        120.00          79    2625         18.60    82   \n",
       "\n",
       "     origin                       name  \n",
       "1         1  chevrolet chevelle malibu  \n",
       "6         1           ford galaxie 500  \n",
       "11        1        dodge challenger se  \n",
       "16        1            plymouth duster  \n",
       "21        2                peugeot 504  \n",
       "..      ...                        ...  \n",
       "376       3         mazda glc custom l  \n",
       "381       3               honda accord  \n",
       "386       1      buick century limited  \n",
       "391       1          dodge charger 2.2  \n",
       "396       1                ford ranger  \n",
       "\n",
       "[79 rows x 9 columns]"
      ]
     },
     "execution_count": 65,
     "metadata": {},
     "output_type": "execute_result"
    }
   ],
   "source": [
    "%load solutions/indexing_ex2_5th.py"
   ]
  },
  {
   "cell_type": "markdown",
   "metadata": {},
   "source": [
    " <div class=\"alert alert-success\" data-title=\"\">\n",
    "  <h1><i class=\"fa fa-tasks\" aria-hidden=\"true\"></i> Exercise</h1>\n",
    "</div>\n",
    "\n",
    "<p>Select years `70`, `75`, `80`, and `82` and columns `horsepower` and `weight` from `yearly`.</p>"
   ]
  },
  {
   "cell_type": "code",
   "execution_count": null,
   "metadata": {
    "collapsed": true
   },
   "outputs": [],
   "source": []
  },
  {
   "cell_type": "code",
   "execution_count": 67,
   "metadata": {
    "collapsed": false
   },
   "outputs": [
    {
     "data": {
      "text/html": [
       "<div>\n",
       "<style>\n",
       "    .dataframe thead tr:only-child th {\n",
       "        text-align: right;\n",
       "    }\n",
       "\n",
       "    .dataframe thead th {\n",
       "        text-align: left;\n",
       "    }\n",
       "\n",
       "    .dataframe tbody tr th {\n",
       "        vertical-align: top;\n",
       "    }\n",
       "</style>\n",
       "<table border=\"1\" class=\"dataframe\">\n",
       "  <thead>\n",
       "    <tr style=\"text-align: right;\">\n",
       "      <th></th>\n",
       "      <th>horsepower</th>\n",
       "      <th>weight</th>\n",
       "    </tr>\n",
       "    <tr>\n",
       "      <th>year</th>\n",
       "      <th></th>\n",
       "      <th></th>\n",
       "    </tr>\n",
       "  </thead>\n",
       "  <tbody>\n",
       "    <tr>\n",
       "      <th>70</th>\n",
       "      <td>147.83</td>\n",
       "      <td>3,372.79</td>\n",
       "    </tr>\n",
       "    <tr>\n",
       "      <th>75</th>\n",
       "      <td>101.07</td>\n",
       "      <td>3,176.80</td>\n",
       "    </tr>\n",
       "    <tr>\n",
       "      <th>80</th>\n",
       "      <td>77.48</td>\n",
       "      <td>2,441.59</td>\n",
       "    </tr>\n",
       "    <tr>\n",
       "      <th>82</th>\n",
       "      <td>81.47</td>\n",
       "      <td>2,434.17</td>\n",
       "    </tr>\n",
       "  </tbody>\n",
       "</table>\n",
       "</div>"
      ],
      "text/plain": [
       "      horsepower   weight\n",
       "year                     \n",
       "70        147.83 3,372.79\n",
       "75        101.07 3,176.80\n",
       "80         77.48 2,441.59\n",
       "82         81.47 2,434.17"
      ]
     },
     "execution_count": 67,
     "metadata": {},
     "output_type": "execute_result"
    }
   ],
   "source": [
    "%load solutions/indexing_ex3_years.py"
   ]
  },
  {
   "cell_type": "markdown",
   "metadata": {},
   "source": [
    " <div class=\"alert alert-success\" data-title=\"\">\n",
    "  <h1><i class=\"fa fa-tasks\" aria-hidden=\"true\"></i> Exercise</h1>\n",
    "</div>\n",
    "\n",
    "<p>Select rows in `cars` with at least 30 MPG.</p>"
   ]
  },
  {
   "cell_type": "code",
   "execution_count": null,
   "metadata": {
    "collapsed": true
   },
   "outputs": [],
   "source": []
  },
  {
   "cell_type": "code",
   "execution_count": 69,
   "metadata": {
    "collapsed": false
   },
   "outputs": [
    {
     "data": {
      "text/html": [
       "<div>\n",
       "<style>\n",
       "    .dataframe thead tr:only-child th {\n",
       "        text-align: right;\n",
       "    }\n",
       "\n",
       "    .dataframe thead th {\n",
       "        text-align: left;\n",
       "    }\n",
       "\n",
       "    .dataframe tbody tr th {\n",
       "        vertical-align: top;\n",
       "    }\n",
       "</style>\n",
       "<table border=\"1\" class=\"dataframe\">\n",
       "  <thead>\n",
       "    <tr style=\"text-align: right;\">\n",
       "      <th></th>\n",
       "      <th>mpg</th>\n",
       "      <th>cylinders</th>\n",
       "      <th>displacement</th>\n",
       "      <th>horsepower</th>\n",
       "      <th>weight</th>\n",
       "      <th>acceleration</th>\n",
       "      <th>year</th>\n",
       "      <th>origin</th>\n",
       "      <th>name</th>\n",
       "    </tr>\n",
       "  </thead>\n",
       "  <tbody>\n",
       "    <tr>\n",
       "      <th>54</th>\n",
       "      <td>31.00</td>\n",
       "      <td>4</td>\n",
       "      <td>71.00</td>\n",
       "      <td>65</td>\n",
       "      <td>1773</td>\n",
       "      <td>19.00</td>\n",
       "      <td>71</td>\n",
       "      <td>3</td>\n",
       "      <td>toyota corolla 1200</td>\n",
       "    </tr>\n",
       "    <tr>\n",
       "      <th>55</th>\n",
       "      <td>35.00</td>\n",
       "      <td>4</td>\n",
       "      <td>72.00</td>\n",
       "      <td>69</td>\n",
       "      <td>1613</td>\n",
       "      <td>18.00</td>\n",
       "      <td>71</td>\n",
       "      <td>3</td>\n",
       "      <td>datsun 1200</td>\n",
       "    </tr>\n",
       "    <tr>\n",
       "      <th>130</th>\n",
       "      <td>31.00</td>\n",
       "      <td>4</td>\n",
       "      <td>79.00</td>\n",
       "      <td>67</td>\n",
       "      <td>1950</td>\n",
       "      <td>19.00</td>\n",
       "      <td>74</td>\n",
       "      <td>3</td>\n",
       "      <td>datsun b210</td>\n",
       "    </tr>\n",
       "    <tr>\n",
       "      <th>132</th>\n",
       "      <td>32.00</td>\n",
       "      <td>4</td>\n",
       "      <td>71.00</td>\n",
       "      <td>65</td>\n",
       "      <td>1836</td>\n",
       "      <td>21.00</td>\n",
       "      <td>74</td>\n",
       "      <td>3</td>\n",
       "      <td>toyota corolla 1200</td>\n",
       "    </tr>\n",
       "    <tr>\n",
       "      <th>145</th>\n",
       "      <td>31.00</td>\n",
       "      <td>4</td>\n",
       "      <td>76.00</td>\n",
       "      <td>52</td>\n",
       "      <td>1649</td>\n",
       "      <td>16.50</td>\n",
       "      <td>74</td>\n",
       "      <td>3</td>\n",
       "      <td>toyota corona</td>\n",
       "    </tr>\n",
       "    <tr>\n",
       "      <th>...</th>\n",
       "      <td>...</td>\n",
       "      <td>...</td>\n",
       "      <td>...</td>\n",
       "      <td>...</td>\n",
       "      <td>...</td>\n",
       "      <td>...</td>\n",
       "      <td>...</td>\n",
       "      <td>...</td>\n",
       "      <td>...</td>\n",
       "    </tr>\n",
       "    <tr>\n",
       "      <th>390</th>\n",
       "      <td>32.00</td>\n",
       "      <td>4</td>\n",
       "      <td>144.00</td>\n",
       "      <td>96</td>\n",
       "      <td>2665</td>\n",
       "      <td>13.90</td>\n",
       "      <td>82</td>\n",
       "      <td>3</td>\n",
       "      <td>toyota celica gt</td>\n",
       "    </tr>\n",
       "    <tr>\n",
       "      <th>391</th>\n",
       "      <td>36.00</td>\n",
       "      <td>4</td>\n",
       "      <td>135.00</td>\n",
       "      <td>84</td>\n",
       "      <td>2370</td>\n",
       "      <td>13.00</td>\n",
       "      <td>82</td>\n",
       "      <td>1</td>\n",
       "      <td>dodge charger 2.2</td>\n",
       "    </tr>\n",
       "    <tr>\n",
       "      <th>394</th>\n",
       "      <td>44.00</td>\n",
       "      <td>4</td>\n",
       "      <td>97.00</td>\n",
       "      <td>52</td>\n",
       "      <td>2130</td>\n",
       "      <td>24.60</td>\n",
       "      <td>82</td>\n",
       "      <td>2</td>\n",
       "      <td>vw pickup</td>\n",
       "    </tr>\n",
       "    <tr>\n",
       "      <th>395</th>\n",
       "      <td>32.00</td>\n",
       "      <td>4</td>\n",
       "      <td>135.00</td>\n",
       "      <td>84</td>\n",
       "      <td>2295</td>\n",
       "      <td>11.60</td>\n",
       "      <td>82</td>\n",
       "      <td>1</td>\n",
       "      <td>dodge rampage</td>\n",
       "    </tr>\n",
       "    <tr>\n",
       "      <th>397</th>\n",
       "      <td>31.00</td>\n",
       "      <td>4</td>\n",
       "      <td>119.00</td>\n",
       "      <td>82</td>\n",
       "      <td>2720</td>\n",
       "      <td>19.40</td>\n",
       "      <td>82</td>\n",
       "      <td>1</td>\n",
       "      <td>chevy s-10</td>\n",
       "    </tr>\n",
       "  </tbody>\n",
       "</table>\n",
       "<p>83 rows × 9 columns</p>\n",
       "</div>"
      ],
      "text/plain": [
       "      mpg  cylinders  displacement  horsepower  weight  acceleration  year  \\\n",
       "54  31.00          4         71.00          65    1773         19.00    71   \n",
       "55  35.00          4         72.00          69    1613         18.00    71   \n",
       "130 31.00          4         79.00          67    1950         19.00    74   \n",
       "132 32.00          4         71.00          65    1836         21.00    74   \n",
       "145 31.00          4         76.00          52    1649         16.50    74   \n",
       "..    ...        ...           ...         ...     ...           ...   ...   \n",
       "390 32.00          4        144.00          96    2665         13.90    82   \n",
       "391 36.00          4        135.00          84    2370         13.00    82   \n",
       "394 44.00          4         97.00          52    2130         24.60    82   \n",
       "395 32.00          4        135.00          84    2295         11.60    82   \n",
       "397 31.00          4        119.00          82    2720         19.40    82   \n",
       "\n",
       "     origin                 name  \n",
       "54        3  toyota corolla 1200  \n",
       "55        3          datsun 1200  \n",
       "130       3          datsun b210  \n",
       "132       3  toyota corolla 1200  \n",
       "145       3        toyota corona  \n",
       "..      ...                  ...  \n",
       "390       3     toyota celica gt  \n",
       "391       1    dodge charger 2.2  \n",
       "394       2            vw pickup  \n",
       "395       1        dodge rampage  \n",
       "397       1           chevy s-10  \n",
       "\n",
       "[83 rows x 9 columns]"
      ]
     },
     "execution_count": 69,
     "metadata": {},
     "output_type": "execute_result"
    }
   ],
   "source": [
    "%load solutions/indexing_ex4_mpg.py"
   ]
  },
  {
   "cell_type": "markdown",
   "metadata": {},
   "source": [
    " <div class=\"alert alert-success\" data-title=\"\">\n",
    "  <h1><i class=\"fa fa-tasks\" aria-hidden=\"true\"></i> Exercise</h1>\n",
    "</div>\n",
    "\n",
    "<p>How many cars have at least 30 MPG and at least 5 cylinders?</p>"
   ]
  },
  {
   "cell_type": "code",
   "execution_count": 70,
   "metadata": {
    "collapsed": false
   },
   "outputs": [
    {
     "data": {
      "text/plain": [
       "4"
      ]
     },
     "execution_count": 70,
     "metadata": {},
     "output_type": "execute_result"
    }
   ],
   "source": [
    "# %load solutions/indexing_ex5_mpg_and_cylinders.py\n",
    "len(cars[(cars.mpg >= 30) & (cars.cylinders >= 5)])"
   ]
  }
 ],
 "metadata": {
  "kernelspec": {
   "display_name": "Python 2",
   "language": "python",
   "name": "python2"
  },
  "language_info": {
   "codemirror_mode": {
    "name": "ipython",
    "version": 2
   },
   "file_extension": ".py",
   "mimetype": "text/x-python",
   "name": "python",
   "nbconvert_exporter": "python",
   "pygments_lexer": "ipython2",
   "version": "2.7.13"
  }
 },
 "nbformat": 4,
 "nbformat_minor": 1
}
