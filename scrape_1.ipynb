{
 "cells": [
  {
   "cell_type": "markdown",
   "metadata": {},
   "source": [
    "# whats makes up a website\n",
    "\n",
    "    ..HTML Tags and attributes\n",
    "    ..CSS classes and selector\n",
    "    ..Building  a website\n",
    "    \n",
    "           HTML(XML) -- Content\n",
    "           CSS - Style\n",
    "           Java Script -- Interactivity\n",
    "           "
   ]
  },
  {
   "cell_type": "markdown",
   "metadata": {},
   "source": [
    "# HTML\n",
    "    .. Structure into tags\n",
    "        <tag> content </tag>\n",
    "        Commont tags <p>, <a>, <div>,<li>,<td>\n",
    "        Comprehensive list @ https://developer.mozilla.org/en/docs/web/html/Element\n",
    "    .. Have attritbute (called properties)\n",
    "        <tag attribute ='attribute'> content </tag>\n",
    "        common attributes are class and id"
   ]
  },
  {
   "cell_type": "markdown",
   "metadata": {},
   "source": [
    "Class defines styles for multiple tags\n",
    "\n",
    "ID defines Style of single tag and unique to the tag\n",
    "\n",
    "selectors identify specific tags: (very easy to locate)\n",
    "        \n",
    "        tag{}\n",
    "        \n",
    "        .class{}\n",
    "        \n",
    "        .#id{}"
   ]
  },
  {
   "cell_type": "markdown",
   "metadata": {},
   "source": [
    "# Java Scripts\n",
    "\n",
    "- Responds to events\n",
    "- Uses CSS to interact with specific tags\n",
    "- Client side lanaguae (Runs on the browser)\n"
   ]
  },
  {
   "cell_type": "markdown",
   "metadata": {},
   "source": [
    "# Building a website\n",
    "- Putting HTML, CSS and JS togather\n",
    "- Example with CSS quries"
   ]
  },
  {
   "cell_type": "markdown",
   "metadata": {},
   "source": [
    "# Demo\n",
    "https://codepen.io/Seemakurthi/pen/rzdYwd\n",
    "\n",
    " - $$(\".message\")\n",
    " - $$(\".commit-title\")"
   ]
  },
  {
   "cell_type": "markdown",
   "metadata": {},
   "source": [
    " Selenium"
   ]
  },
  {
   "cell_type": "code",
   "execution_count": null,
   "metadata": {
    "collapsed": true
   },
   "outputs": [],
   "source": []
  }
 ],
 "metadata": {
  "kernelspec": {
   "display_name": "Python 2",
   "language": "python",
   "name": "python2"
  },
  "language_info": {
   "codemirror_mode": {
    "name": "ipython",
    "version": 2
   },
   "file_extension": ".py",
   "mimetype": "text/x-python",
   "name": "python",
   "nbconvert_exporter": "python",
   "pygments_lexer": "ipython2",
   "version": "2.7.13"
  }
 },
 "nbformat": 4,
 "nbformat_minor": 0
}
