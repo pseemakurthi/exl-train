{
 "cells": [
  {
   "cell_type": "markdown",
   "metadata": {},
   "source": [
    "# Alignment & Operations"
   ]
  },
  {
   "cell_type": "markdown",
   "metadata": {},
   "source": [
    "## Alignment\n",
    "\n",
    "- Working with multiple pandas objects\n",
    "- Structuring your data to make analysis easier\n",
    "- Using labels to their full potential"
   ]
  },
  {
   "cell_type": "markdown",
   "metadata": {},
   "source": [
    "This notebook is more about *understanding* pandas, \"going with the flow\", than any particular method or operation.\n",
    "Alignment is a key part of many parts of pandas, including\n",
    "\n",
    "- binary operations (`+, -, *, /, **, ==, |, &`) between pandas objects\n",
    "- merges / joins / concats\n",
    "- constructors (`pd.DataFrame`, `pd.Series`)\n",
    "- reindexing\n",
    "\n",
    "That said, it's not really something you'll be doing explicitly.\n",
    "It happens in the background, as part of all those tasks.\n",
    "It's all about pandas using *labels* (`Seies/DataFrame.index` and `DataFrame.columns`) to do the tricky work of making sure the operation goes through correctly."
   ]
  },
  {
   "cell_type": "code",
   "execution_count": 3,
   "metadata": {
    "collapsed": false
   },
   "outputs": [
    {
     "name": "stderr",
     "output_type": "stream",
     "text": [
      "/python/anaconda/lib/python2.7/site-packages/matplotlib/font_manager.py:273: UserWarning: Matplotlib is building the font cache using fc-list. This may take a moment.\n",
      "  warnings.warn('Matplotlib is building the font cache using fc-list. This may take a moment.')\n",
      "/python/anaconda/lib/python2.7/site-packages/seaborn/apionly.py:6: UserWarning: As seaborn no longer sets a default style on import, the seaborn.apionly module is deprecated. It will be removed in a future version.\n",
      "  warnings.warn(msg, UserWarning)\n"
     ]
    }
   ],
   "source": [
    "import numpy as np\n",
    "import pandas as pd\n",
    "import seaborn.apionly as sns\n",
    "import matplotlib.pyplot as plt\n",
    "from IPython import display"
   ]
  },
  {
   "cell_type": "code",
   "execution_count": 3,
   "metadata": {
    "collapsed": true
   },
   "outputs": [],
   "source": [
    "%matplotlib inline"
   ]
  },
  {
   "cell_type": "code",
   "execution_count": 4,
   "metadata": {
    "collapsed": true
   },
   "outputs": [],
   "source": [
    "pd.options.display.max_rows = 10\n",
    "sns.set(context='talk')\n",
    "plt.style.use('default')"
   ]
  },
  {
   "cell_type": "markdown",
   "metadata": {},
   "source": [
    "## Alignment without row labels (bad)\n",
    "\n",
    "- separate datasets on GDP and CPI\n",
    "- Goal: compute real GDP\n",
    "- Problem: Different frequencies"
   ]
  },
  {
   "cell_type": "markdown",
   "metadata": {},
   "source": [
    "I grabbed some data from [FRED](https://fred.stlouisfed.org/) on nominal US GDP (total output each quarter) and CPI (a measure of inflation).\n",
    "Each CSV has a column of dates, and a column for the measurement.\n",
    "\n",
    "<table border=\"1\" class=\"dataframe\">\n",
    "  <thead>\n",
    "    <tr style=\"text-align: right;\">\n",
    "      <th>DATE</th>\n",
    "      <th>CPIAUCSL</th>\n",
    "    </tr>\n",
    "  </thead>\n",
    "  <tbody>\n",
    "    <tr>\n",
    "      <td>1947-01-01</td>\n",
    "      <td>21.48</td>\n",
    "    </tr>\n",
    "    <tr>\n",
    "      <td>1947-02-01</td>\n",
    "      <td>21.62</td>\n",
    "    </tr>\n",
    "    <tr>\n",
    "      <td>1947-03-01</td>\n",
    "      <td>22.00</td>\n",
    "    </tr>\n",
    "    <tr>\n",
    "      <td>1947-04-01</td>\n",
    "      <td>22.00</td>\n",
    "    </tr>\n",
    "    <tr>\n",
    "      <td>1947-05-01</td>\n",
    "      <td>21.95</td>\n",
    "    </tr>\n",
    "  </tbody>\n",
    "</table>\n"
   ]
  },
  {
   "cell_type": "markdown",
   "metadata": {},
   "source": [
    "Typically, we would use `DATE` as the index (`index_col='DATE'` in `read_csv`).\n",
    "But to appreciate the value of labels, we'll take them away for now.\n",
    "This will result in the default `range(n)` index."
   ]
  },
  {
   "cell_type": "code",
   "execution_count": 4,
   "metadata": {
    "collapsed": true
   },
   "outputs": [],
   "source": [
    "# The \"wrong\" way\n",
    "# Read in CPI & GDP, parsing the dates\n",
    "gdp_bad = pd.read_csv(\"data/gdp.csv\", parse_dates=['DATE'])\n",
    "cpi_bad = pd.read_csv(\"data/cpi.csv\", parse_dates=['DATE'])"
   ]
  },
  {
   "cell_type": "code",
   "execution_count": 5,
   "metadata": {
    "collapsed": false
   },
   "outputs": [
    {
     "data": {
      "text/html": [
       "<div>\n",
       "<style>\n",
       "    .dataframe thead tr:only-child th {\n",
       "        text-align: right;\n",
       "    }\n",
       "\n",
       "    .dataframe thead th {\n",
       "        text-align: left;\n",
       "    }\n",
       "\n",
       "    .dataframe tbody tr th {\n",
       "        vertical-align: top;\n",
       "    }\n",
       "</style>\n",
       "<table border=\"1\" class=\"dataframe\">\n",
       "  <thead>\n",
       "    <tr style=\"text-align: right;\">\n",
       "      <th></th>\n",
       "      <th>DATE</th>\n",
       "      <th>GDP</th>\n",
       "    </tr>\n",
       "  </thead>\n",
       "  <tbody>\n",
       "    <tr>\n",
       "      <th>0</th>\n",
       "      <td>1947-01-01</td>\n",
       "      <td>243.1</td>\n",
       "    </tr>\n",
       "    <tr>\n",
       "      <th>1</th>\n",
       "      <td>1947-04-01</td>\n",
       "      <td>246.3</td>\n",
       "    </tr>\n",
       "    <tr>\n",
       "      <th>2</th>\n",
       "      <td>1947-07-01</td>\n",
       "      <td>250.1</td>\n",
       "    </tr>\n",
       "    <tr>\n",
       "      <th>3</th>\n",
       "      <td>1947-10-01</td>\n",
       "      <td>260.3</td>\n",
       "    </tr>\n",
       "    <tr>\n",
       "      <th>4</th>\n",
       "      <td>1948-01-01</td>\n",
       "      <td>266.2</td>\n",
       "    </tr>\n",
       "    <tr>\n",
       "      <th>5</th>\n",
       "      <td>1948-04-01</td>\n",
       "      <td>272.9</td>\n",
       "    </tr>\n",
       "    <tr>\n",
       "      <th>6</th>\n",
       "      <td>1948-07-01</td>\n",
       "      <td>279.5</td>\n",
       "    </tr>\n",
       "    <tr>\n",
       "      <th>7</th>\n",
       "      <td>1948-10-01</td>\n",
       "      <td>280.7</td>\n",
       "    </tr>\n",
       "    <tr>\n",
       "      <th>8</th>\n",
       "      <td>1949-01-01</td>\n",
       "      <td>275.4</td>\n",
       "    </tr>\n",
       "    <tr>\n",
       "      <th>9</th>\n",
       "      <td>1949-04-01</td>\n",
       "      <td>271.7</td>\n",
       "    </tr>\n",
       "  </tbody>\n",
       "</table>\n",
       "</div>"
      ],
      "text/plain": [
       "        DATE    GDP\n",
       "0 1947-01-01  243.1\n",
       "1 1947-04-01  246.3\n",
       "2 1947-07-01  250.1\n",
       "3 1947-10-01  260.3\n",
       "4 1948-01-01  266.2\n",
       "5 1948-04-01  272.9\n",
       "6 1948-07-01  279.5\n",
       "7 1948-10-01  280.7\n",
       "8 1949-01-01  275.4\n",
       "9 1949-04-01  271.7"
      ]
     },
     "execution_count": 5,
     "metadata": {},
     "output_type": "execute_result"
    }
   ],
   "source": [
    "gdp_bad.head(10)"
   ]
  },
  {
   "cell_type": "code",
   "execution_count": 6,
   "metadata": {
    "collapsed": false
   },
   "outputs": [
    {
     "data": {
      "text/html": [
       "<div>\n",
       "<style>\n",
       "    .dataframe thead tr:only-child th {\n",
       "        text-align: right;\n",
       "    }\n",
       "\n",
       "    .dataframe thead th {\n",
       "        text-align: left;\n",
       "    }\n",
       "\n",
       "    .dataframe tbody tr th {\n",
       "        vertical-align: top;\n",
       "    }\n",
       "</style>\n",
       "<table border=\"1\" class=\"dataframe\">\n",
       "  <thead>\n",
       "    <tr style=\"text-align: right;\">\n",
       "      <th></th>\n",
       "      <th>DATE</th>\n",
       "      <th>CPIAUCSL</th>\n",
       "    </tr>\n",
       "  </thead>\n",
       "  <tbody>\n",
       "    <tr>\n",
       "      <th>0</th>\n",
       "      <td>1947-01-01</td>\n",
       "      <td>21.48</td>\n",
       "    </tr>\n",
       "    <tr>\n",
       "      <th>1</th>\n",
       "      <td>1947-02-01</td>\n",
       "      <td>21.62</td>\n",
       "    </tr>\n",
       "    <tr>\n",
       "      <th>2</th>\n",
       "      <td>1947-03-01</td>\n",
       "      <td>22.00</td>\n",
       "    </tr>\n",
       "    <tr>\n",
       "      <th>3</th>\n",
       "      <td>1947-04-01</td>\n",
       "      <td>22.00</td>\n",
       "    </tr>\n",
       "    <tr>\n",
       "      <th>4</th>\n",
       "      <td>1947-05-01</td>\n",
       "      <td>21.95</td>\n",
       "    </tr>\n",
       "  </tbody>\n",
       "</table>\n",
       "</div>"
      ],
      "text/plain": [
       "        DATE  CPIAUCSL\n",
       "0 1947-01-01     21.48\n",
       "1 1947-02-01     21.62\n",
       "2 1947-03-01     22.00\n",
       "3 1947-04-01     22.00\n",
       "4 1947-05-01     21.95"
      ]
     },
     "execution_count": 6,
     "metadata": {},
     "output_type": "execute_result"
    }
   ],
   "source": [
    "cpi_bad.head()"
   ]
  },
  {
   "cell_type": "markdown",
   "metadata": {},
   "source": [
    "## Goal: Compute Real GDP\n",
    "\n",
    "- nomial GDP: Total output in dollars\n",
    "- real GDP: Total output in constant dollars\n",
    "- $\\mathrm{real\\ gdp} = \\frac{\\mathrm{nomial\\ gdp}}{\\mathrm{inflation}}$"
   ]
  },
  {
   "cell_type": "markdown",
   "metadata": {},
   "source": [
    "Our task is to calculate *real* GDP.\n",
    "The data in the CSV is nominal GDP; it hasn't been adjusted for inflation.\n",
    "To compute real GDP, you take nomial GDP (`gdp_bad`) and divide by a measure of inflation (`cpi_bad`).\n",
    "\n",
    "Ideally, this would be as simple as `gdp_bad / cpi_bad`, but we have a slight issue: `gdp_bad` is measured quarterly, while `cpi_bad` is monthly.\n",
    "The two need to be *aligned* before we can do the conversion from nominal to real GDP.\n",
    "\n",
    "Normally, pandas would do this for us, but since we don't have meaningful row labels we have to do it manually.\n",
    "We'll find the dates in common between the two series, manually filter to those, and then do the division.\n",
    "You could do this a few ways; we'll go with a sql-style merge, roughly:\n",
    "\n",
    "```SQL\n",
    "select \"DATE\",\n",
    "       GDP / CPIAUCSL as real_gdp\n",
    "  from gdp_data\n",
    "  join cpi_data using (\"DATE\")\n",
    "```"
   ]
  },
  {
   "cell_type": "code",
   "execution_count": 22,
   "metadata": {
    "collapsed": false
   },
   "outputs": [
    {
     "data": {
      "text/html": [
       "<div>\n",
       "<style>\n",
       "    .dataframe thead tr:only-child th {\n",
       "        text-align: right;\n",
       "    }\n",
       "\n",
       "    .dataframe thead th {\n",
       "        text-align: left;\n",
       "    }\n",
       "\n",
       "    .dataframe tbody tr th {\n",
       "        vertical-align: top;\n",
       "    }\n",
       "</style>\n",
       "<table border=\"1\" class=\"dataframe\">\n",
       "  <thead>\n",
       "    <tr style=\"text-align: right;\">\n",
       "      <th></th>\n",
       "      <th>DATE</th>\n",
       "      <th>GDP</th>\n",
       "      <th>CPIAUCSL</th>\n",
       "    </tr>\n",
       "  </thead>\n",
       "  <tbody>\n",
       "    <tr>\n",
       "      <th>0</th>\n",
       "      <td>1947-01-01</td>\n",
       "      <td>243.1</td>\n",
       "      <td>21.48</td>\n",
       "    </tr>\n",
       "    <tr>\n",
       "      <th>1</th>\n",
       "      <td>1947-04-01</td>\n",
       "      <td>246.3</td>\n",
       "      <td>22.00</td>\n",
       "    </tr>\n",
       "    <tr>\n",
       "      <th>2</th>\n",
       "      <td>1947-07-01</td>\n",
       "      <td>250.1</td>\n",
       "      <td>22.23</td>\n",
       "    </tr>\n",
       "    <tr>\n",
       "      <th>3</th>\n",
       "      <td>1947-10-01</td>\n",
       "      <td>260.3</td>\n",
       "      <td>22.91</td>\n",
       "    </tr>\n",
       "    <tr>\n",
       "      <th>4</th>\n",
       "      <td>1948-01-01</td>\n",
       "      <td>266.2</td>\n",
       "      <td>23.68</td>\n",
       "    </tr>\n",
       "  </tbody>\n",
       "</table>\n",
       "</div>"
      ],
      "text/plain": [
       "        DATE    GDP  CPIAUCSL\n",
       "0 1947-01-01  243.1     21.48\n",
       "1 1947-04-01  246.3     22.00\n",
       "2 1947-07-01  250.1     22.23\n",
       "3 1947-10-01  260.3     22.91\n",
       "4 1948-01-01  266.2     23.68"
      ]
     },
     "execution_count": 22,
     "metadata": {},
     "output_type": "execute_result"
    }
   ],
   "source": [
    "# merge on DATE, divide\n",
    "m = pd.merge(gdp_bad, cpi_bad, on='DATE', how='left')\n",
    "m.head()"
   ]
  },
  {
   "cell_type": "code",
   "execution_count": 23,
   "metadata": {
    "collapsed": false
   },
   "outputs": [],
   "source": [
    "m['new_gdp'] = m['GDP'] / m['CPIAUCSL']"
   ]
  },
  {
   "cell_type": "code",
   "execution_count": 24,
   "metadata": {
    "collapsed": false
   },
   "outputs": [
    {
     "data": {
      "text/plain": [
       "<bound method Series.isnull of 0      11.317505\n",
       "1      11.195455\n",
       "2      11.250562\n",
       "3      11.361851\n",
       "4      11.241554\n",
       "5      11.456759\n",
       "6      11.454918\n",
       "7      11.546689\n",
       "8      11.470221\n",
       "9      11.358696\n",
       "10     11.531646\n",
       "11     11.449092\n",
       "12     11.960868\n",
       "13     12.291755\n",
       "14     12.816784\n",
       "15     13.073469\n",
       "16     13.254531\n",
       "17     13.290895\n",
       "18     13.577769\n",
       "19     13.631498\n",
       "20     13.618147\n",
       "21     13.658352\n",
       "22     13.796852\n",
       "23     14.282503\n",
       "24     14.583333\n",
       "25     14.698389\n",
       "26     14.621127\n",
       "27     14.341373\n",
       "28     14.324425\n",
       "29     14.396873\n",
       "         ...    \n",
       "239    69.670134\n",
       "240    69.963674\n",
       "241    70.043807\n",
       "242    70.180585\n",
       "243    70.200774\n",
       "244    69.133824\n",
       "245    69.238392\n",
       "246    67.771304\n",
       "247    67.051775\n",
       "248    67.870034\n",
       "249    67.417928\n",
       "250    66.988162\n",
       "251    67.278958\n",
       "252    67.503035\n",
       "253    68.483876\n",
       "254    69.197399\n",
       "255    69.533180\n",
       "256    68.893741\n",
       "257    68.993230\n",
       "258    69.154595\n",
       "259    69.615436\n",
       "260    70.104011\n",
       "261    70.313495\n",
       "262    71.027027\n",
       "263    70.351600\n",
       "264    71.124715\n",
       "265    71.343420\n",
       "266    71.962930\n",
       "267    72.711603\n",
       "268    72.313495\n",
       "Name: new_gdp, Length: 269, dtype: float64>"
      ]
     },
     "execution_count": 24,
     "metadata": {},
     "output_type": "execute_result"
    }
   ],
   "source": [
    "m.new_gdp.isnull"
   ]
  },
  {
   "cell_type": "code",
   "execution_count": 10,
   "metadata": {
    "collapsed": false
   },
   "outputs": [
    {
     "data": {
      "text/html": [
       "<div>\n",
       "<style>\n",
       "    .dataframe thead tr:only-child th {\n",
       "        text-align: right;\n",
       "    }\n",
       "\n",
       "    .dataframe thead th {\n",
       "        text-align: left;\n",
       "    }\n",
       "\n",
       "    .dataframe tbody tr th {\n",
       "        vertical-align: top;\n",
       "    }\n",
       "</style>\n",
       "<table border=\"1\" class=\"dataframe\">\n",
       "  <thead>\n",
       "    <tr style=\"text-align: right;\">\n",
       "      <th></th>\n",
       "      <th>DATE</th>\n",
       "      <th>GDP</th>\n",
       "      <th>CPIAUCSL</th>\n",
       "      <th>new_gdp</th>\n",
       "    </tr>\n",
       "  </thead>\n",
       "  <tbody>\n",
       "    <tr>\n",
       "      <th>0</th>\n",
       "      <td>1947-01-01</td>\n",
       "      <td>243.1</td>\n",
       "      <td>21.48</td>\n",
       "      <td>11.317505</td>\n",
       "    </tr>\n",
       "    <tr>\n",
       "      <th>1</th>\n",
       "      <td>1947-04-01</td>\n",
       "      <td>246.3</td>\n",
       "      <td>22.00</td>\n",
       "      <td>11.195455</td>\n",
       "    </tr>\n",
       "    <tr>\n",
       "      <th>2</th>\n",
       "      <td>1947-07-01</td>\n",
       "      <td>250.1</td>\n",
       "      <td>22.23</td>\n",
       "      <td>11.250562</td>\n",
       "    </tr>\n",
       "    <tr>\n",
       "      <th>3</th>\n",
       "      <td>1947-10-01</td>\n",
       "      <td>260.3</td>\n",
       "      <td>22.91</td>\n",
       "      <td>11.361851</td>\n",
       "    </tr>\n",
       "    <tr>\n",
       "      <th>4</th>\n",
       "      <td>1948-01-01</td>\n",
       "      <td>266.2</td>\n",
       "      <td>23.68</td>\n",
       "      <td>11.241554</td>\n",
       "    </tr>\n",
       "  </tbody>\n",
       "</table>\n",
       "</div>"
      ],
      "text/plain": [
       "        DATE    GDP  CPIAUCSL    new_gdp\n",
       "0 1947-01-01  243.1     21.48  11.317505\n",
       "1 1947-04-01  246.3     22.00  11.195455\n",
       "2 1947-07-01  250.1     22.23  11.250562\n",
       "3 1947-10-01  260.3     22.91  11.361851\n",
       "4 1948-01-01  266.2     23.68  11.241554"
      ]
     },
     "execution_count": 10,
     "metadata": {},
     "output_type": "execute_result"
    }
   ],
   "source": [
    "m.head()"
   ]
  },
  {
   "cell_type": "markdown",
   "metadata": {},
   "source": [
    "## Problems\n",
    "\n",
    "1. The output has lost the `DATE` fields, we would need to manually bring those along after doing the division\n",
    "2. We had to worry about doing the merge, which is incidental to the problem of calculating real gdp"
   ]
  },
  {
   "cell_type": "markdown",
   "metadata": {},
   "source": [
    "## The Better Way\n",
    "\n",
    "- Use row labels\n",
    "- Specify `index_col='DATE'` in `read_csv`\n",
    "- Just do the operation: `gdp / cpi`"
   ]
  },
  {
   "cell_type": "markdown",
   "metadata": {},
   "source": [
    "When we have meaningful row labels shared across pandas objects, pandas will handle all the fiddly details for alignment for us.\n",
    "Let's do things the proper way now, using `DATE` as our row labels.\n",
    "\n",
    "We could use `gdp = gdp_bad.set_index(\"DATE\")` to move a column into the index, but we'll just re-read the data from disk using the `index_col` method."
   ]
  },
  {
   "cell_type": "code",
   "execution_count": 12,
   "metadata": {
    "collapsed": false
   },
   "outputs": [
    {
     "data": {
      "text/plain": [
       "DATE\n",
       "1947-01-01    243.1\n",
       "1947-04-01    246.3\n",
       "1947-07-01    250.1\n",
       "1947-10-01    260.3\n",
       "1948-01-01    266.2\n",
       "Name: GDP, dtype: float64"
      ]
     },
     "execution_count": 12,
     "metadata": {},
     "output_type": "execute_result"
    }
   ],
   "source": [
    "# use .squeeze to convert a 1 column df to a Series\n",
    "gdp = pd.read_csv('data/gdp.csv', index_col='DATE',\n",
    "                  parse_dates=['DATE']).squeeze()\n",
    "gdp.head()"
   ]
  },
  {
   "cell_type": "code",
   "execution_count": 13,
   "metadata": {
    "collapsed": false
   },
   "outputs": [
    {
     "data": {
      "text/plain": [
       "pandas.core.series.Series"
      ]
     },
     "execution_count": 13,
     "metadata": {},
     "output_type": "execute_result"
    }
   ],
   "source": [
    "type(gdp)"
   ]
  },
  {
   "cell_type": "code",
   "execution_count": 14,
   "metadata": {
    "collapsed": false
   },
   "outputs": [
    {
     "data": {
      "text/plain": [
       "DATE\n",
       "1947-01-01    21.48\n",
       "1947-02-01    21.62\n",
       "1947-03-01    22.00\n",
       "1947-04-01    22.00\n",
       "1947-05-01    21.95\n",
       "Name: CPIAUCSL, dtype: float64"
      ]
     },
     "execution_count": 14,
     "metadata": {},
     "output_type": "execute_result"
    }
   ],
   "source": [
    "cpi = pd.read_csv('data/cpi.csv', index_col='DATE',\n",
    "                  parse_dates=['DATE']).squeeze()\n",
    "cpi.head()"
   ]
  },
  {
   "cell_type": "markdown",
   "metadata": {},
   "source": [
    "Now when you do the division, pandas will handle the alignemnt."
   ]
  },
  {
   "cell_type": "code",
   "execution_count": 28,
   "metadata": {
    "collapsed": false
   },
   "outputs": [],
   "source": [
    "rgdp = gdp / cpi\n",
    "s = rgdp.fillna('-')"
   ]
  },
  {
   "cell_type": "code",
   "execution_count": 29,
   "metadata": {
    "collapsed": false
   },
   "outputs": [
    {
     "data": {
      "text/plain": [
       "DATE\n",
       "1947-01-01    11.3175\n",
       "1947-02-01          -\n",
       "1947-03-01          -\n",
       "1947-04-01    11.1955\n",
       "1947-05-01          -\n",
       "1947-06-01          -\n",
       "1947-07-01    11.2506\n",
       "1947-08-01          -\n",
       "1947-09-01          -\n",
       "1947-10-01    11.3619\n",
       "1947-11-01          -\n",
       "1947-12-01          -\n",
       "1948-01-01    11.2416\n",
       "1948-02-01          -\n",
       "1948-03-01          -\n",
       "1948-04-01    11.4568\n",
       "1948-05-01          -\n",
       "1948-06-01          -\n",
       "1948-07-01    11.4549\n",
       "1948-08-01          -\n",
       "1948-09-01          -\n",
       "1948-10-01    11.5467\n",
       "1948-11-01          -\n",
       "1948-12-01          -\n",
       "1949-01-01    11.4702\n",
       "1949-02-01          -\n",
       "1949-03-01          -\n",
       "1949-04-01    11.3587\n",
       "1949-05-01          -\n",
       "1949-06-01          -\n",
       "               ...   \n",
       "2012-12-01          -\n",
       "2013-01-01    71.1247\n",
       "2013-02-01          -\n",
       "2013-03-01          -\n",
       "2013-04-01    71.3434\n",
       "2013-05-01          -\n",
       "2013-06-01          -\n",
       "2013-07-01    71.9629\n",
       "2013-08-01          -\n",
       "2013-09-01          -\n",
       "2013-10-01    72.7116\n",
       "2013-11-01          -\n",
       "2013-12-01          -\n",
       "2014-01-01    72.3135\n",
       "2014-02-01          -\n",
       "2014-03-01          -\n",
       "2014-04-01          -\n",
       "2014-05-01          -\n",
       "2014-06-01          -\n",
       "2014-07-01          -\n",
       "2014-08-01          -\n",
       "2014-09-01          -\n",
       "2014-10-01          -\n",
       "2014-11-01          -\n",
       "2014-12-01          -\n",
       "2015-01-01          -\n",
       "2015-02-01          -\n",
       "2015-03-01          -\n",
       "2015-04-01          -\n",
       "2015-05-01          -\n",
       "Length: 821, dtype: object"
      ]
     },
     "execution_count": 29,
     "metadata": {},
     "output_type": "execute_result"
    }
   ],
   "source": [
    "s"
   ]
  },
  {
   "cell_type": "markdown",
   "metadata": {},
   "source": [
    "You'll notice that a bunch of the values are `NaN`, short for [\"Not A Number\"](https://en.wikipedia.org/wiki/NaN).\n",
    "This is the missing value indicator pandas uses for numeric data.\n",
    "The `NaN`s are there because alignment produces the *union* of the two Indexes."
   ]
  },
  {
   "cell_type": "markdown",
   "metadata": {},
   "source": [
    "## Explicit Alignment\n",
    "\n",
    "Roughly speaking, alignment composes two operations:\n",
    "\n",
    "1. union the labels\n",
    "2. reindex the data to conform to the unioned labels, inserting `NaN`s where necessary"
   ]
  },
  {
   "cell_type": "code",
   "execution_count": 30,
   "metadata": {
    "collapsed": false
   },
   "outputs": [
    {
     "data": {
      "text/plain": [
       "DatetimeIndex(['1947-01-01', '1947-02-01', '1947-03-01', '1947-04-01',\n",
       "               '1947-05-01', '1947-06-01', '1947-07-01', '1947-08-01',\n",
       "               '1947-09-01', '1947-10-01',\n",
       "               ...\n",
       "               '2014-08-01', '2014-09-01', '2014-10-01', '2014-11-01',\n",
       "               '2014-12-01', '2015-01-01', '2015-02-01', '2015-03-01',\n",
       "               '2015-04-01', '2015-05-01'],\n",
       "              dtype='datetime64[ns]', name=u'DATE', length=821, freq=None)"
      ]
     },
     "execution_count": 30,
     "metadata": {},
     "output_type": "execute_result"
    }
   ],
   "source": [
    "# step 1: union indexes\n",
    "\n",
    "full_idx = gdp.index | cpi.index  # | is set union on Index\n",
    "full_idx"
   ]
  },
  {
   "cell_type": "code",
   "execution_count": 31,
   "metadata": {
    "collapsed": false,
    "scrolled": true
   },
   "outputs": [
    {
     "data": {
      "text/plain": [
       "DATE\n",
       "1947-01-01      243.1\n",
       "1947-02-01        NaN\n",
       "1947-03-01        NaN\n",
       "1947-04-01      246.3\n",
       "1947-05-01        NaN\n",
       "1947-06-01        NaN\n",
       "1947-07-01      250.1\n",
       "1947-08-01        NaN\n",
       "1947-09-01        NaN\n",
       "1947-10-01      260.3\n",
       "1947-11-01        NaN\n",
       "1947-12-01        NaN\n",
       "1948-01-01      266.2\n",
       "1948-02-01        NaN\n",
       "1948-03-01        NaN\n",
       "1948-04-01      272.9\n",
       "1948-05-01        NaN\n",
       "1948-06-01        NaN\n",
       "1948-07-01      279.5\n",
       "1948-08-01        NaN\n",
       "1948-09-01        NaN\n",
       "1948-10-01      280.7\n",
       "1948-11-01        NaN\n",
       "1948-12-01        NaN\n",
       "1949-01-01      275.4\n",
       "1949-02-01        NaN\n",
       "1949-03-01        NaN\n",
       "1949-04-01      271.7\n",
       "1949-05-01        NaN\n",
       "1949-06-01        NaN\n",
       "               ...   \n",
       "2012-12-01        NaN\n",
       "2013-01-01    16475.4\n",
       "2013-02-01        NaN\n",
       "2013-03-01        NaN\n",
       "2013-04-01    16541.4\n",
       "2013-05-01        NaN\n",
       "2013-06-01        NaN\n",
       "2013-07-01    16749.3\n",
       "2013-08-01        NaN\n",
       "2013-09-01        NaN\n",
       "2013-10-01    16999.9\n",
       "2013-11-01        NaN\n",
       "2013-12-01        NaN\n",
       "2014-01-01    17025.2\n",
       "2014-02-01        NaN\n",
       "2014-03-01        NaN\n",
       "2014-04-01        NaN\n",
       "2014-05-01        NaN\n",
       "2014-06-01        NaN\n",
       "2014-07-01        NaN\n",
       "2014-08-01        NaN\n",
       "2014-09-01        NaN\n",
       "2014-10-01        NaN\n",
       "2014-11-01        NaN\n",
       "2014-12-01        NaN\n",
       "2015-01-01        NaN\n",
       "2015-02-01        NaN\n",
       "2015-03-01        NaN\n",
       "2015-04-01        NaN\n",
       "2015-05-01        NaN\n",
       "Name: GDP, Length: 821, dtype: float64"
      ]
     },
     "execution_count": 31,
     "metadata": {},
     "output_type": "execute_result"
    }
   ],
   "source": [
    "# step 2: reindex\n",
    "gdp.reindex(full_idx)"
   ]
  },
  {
   "cell_type": "markdown",
   "metadata": {},
   "source": [
    "Once the data have been reindexed, the operation (like `/` in our case) proceedes.\n",
    "\n",
    "Ocassionally, you will do a manual `reindex`, but most of the time it's done in the background when you do an operation."
   ]
  },
  {
   "cell_type": "markdown",
   "metadata": {},
   "source": [
    "<div class=\"alert alert-success\" data-title=\"Compute Real GDP\">\n",
    "  <h1><i class=\"fa fa-tasks\" aria-hidden=\"true\"></i> Exercise: Compute Real GDP</h1>\n",
    "</div>\n",
    "\n",
    "<p>Compute real GDP in 2009 dollars</p>"
   ]
  },
  {
   "cell_type": "markdown",
   "metadata": {},
   "source": [
    "You'll hear real GDP reported in '2009 dollars', or '2005 dollars'.\n",
    "The deflator (CPI in our case) is an index, and doesn't really have units.\n",
    "Some time span is chosen to be the base and set equal to 100.\n",
    "Every other observation is relative to it.\n",
    "The [data from FRED](https://fred.stlouisfed.org/series/CPIAUCSL) is indexed to 1982-1984.\n",
    "\n",
    "For the exercise, compute real-gdp in 2009 dollars.\n",
    "\n",
    "- Step 1: Convert CPI from base 1982-1984, to base 2009; Create a new series `cpi09` where the average value for 2009 is 100\n",
    "    + Hint: Use [partial string indexing](http://pandas.pydata.org/pandas-docs/stable/timeseries.html#datetimeindex-partial-string-indexing) to slice the values for just 2009\n",
    "    + Divide the original `cpi` by that value and rescale to be an index (1 -> 100)\n",
    "- Step 2: Divide `gdp` by the result from Step 1"
   ]
  },
  {
   "cell_type": "code",
   "execution_count": 15,
   "metadata": {
    "collapsed": true
   },
   "outputs": [],
   "source": [
    "# Your solution\n"
   ]
  },
  {
   "cell_type": "code",
   "execution_count": 17,
   "metadata": {
    "collapsed": false
   },
   "outputs": [
    {
     "data": {
      "text/plain": [
       "DATE\n",
       "1947-01-01    24.283366\n",
       "1947-02-01          NaN\n",
       "1947-03-01          NaN\n",
       "1947-04-01    24.021490\n",
       "1947-05-01          NaN\n",
       "                ...    \n",
       "2015-01-01          NaN\n",
       "2015-02-01          NaN\n",
       "2015-03-01          NaN\n",
       "2015-04-01          NaN\n",
       "2015-05-01          NaN\n",
       "Length: 821, dtype: float64"
      ]
     },
     "execution_count": 17,
     "metadata": {},
     "output_type": "execute_result"
    }
   ],
   "source": [
    "%load solutions/alignment_real_gdp09.py"
   ]
  },
  {
   "cell_type": "markdown",
   "metadata": {},
   "source": [
    "To the extent possible, you should use *meaningful labels*, rather than the default `range(n)` index.\n",
    "This will put the burden of aligning things on pandas, rather than your memory.\n",
    "Additionally, labels like the date are often \"nuisance\" columns, that would have to be dropped and recombined when doing arithmetic calculations.\n",
    "When they're in the `.index`, they come along with the calculation but don't get in the way."
   ]
  },
  {
   "cell_type": "markdown",
   "metadata": {},
   "source": [
    "## Alignment on *both* axis\n",
    "\n",
    "This may surpise you at some point down the road."
   ]
  },
  {
   "cell_type": "markdown",
   "metadata": {},
   "source": [
    "Above, we used the `.squeeze()` method to turn the 1-D `DataFrame` down to a `Series`.\n",
    "We did this, because pandas will align on both the index *and* columns.\n",
    "Can you guess what would happen if we divided two DataFrames, with different column names?"
   ]
  },
  {
   "cell_type": "code",
   "execution_count": 32,
   "metadata": {
    "collapsed": false
   },
   "outputs": [
    {
     "data": {
      "text/html": [
       "<div>\n",
       "<style>\n",
       "    .dataframe thead tr:only-child th {\n",
       "        text-align: right;\n",
       "    }\n",
       "\n",
       "    .dataframe thead th {\n",
       "        text-align: left;\n",
       "    }\n",
       "\n",
       "    .dataframe tbody tr th {\n",
       "        vertical-align: top;\n",
       "    }\n",
       "</style>\n",
       "<table border=\"1\" class=\"dataframe\">\n",
       "  <thead>\n",
       "    <tr style=\"text-align: right;\">\n",
       "      <th></th>\n",
       "      <th>GDP</th>\n",
       "    </tr>\n",
       "    <tr>\n",
       "      <th>DATE</th>\n",
       "      <th></th>\n",
       "    </tr>\n",
       "  </thead>\n",
       "  <tbody>\n",
       "    <tr>\n",
       "      <th>1947-01-01</th>\n",
       "      <td>243.1</td>\n",
       "    </tr>\n",
       "    <tr>\n",
       "      <th>1947-04-01</th>\n",
       "      <td>246.3</td>\n",
       "    </tr>\n",
       "    <tr>\n",
       "      <th>1947-07-01</th>\n",
       "      <td>250.1</td>\n",
       "    </tr>\n",
       "    <tr>\n",
       "      <th>1947-10-01</th>\n",
       "      <td>260.3</td>\n",
       "    </tr>\n",
       "    <tr>\n",
       "      <th>1948-01-01</th>\n",
       "      <td>266.2</td>\n",
       "    </tr>\n",
       "  </tbody>\n",
       "</table>\n",
       "</div>"
      ],
      "text/plain": [
       "              GDP\n",
       "DATE             \n",
       "1947-01-01  243.1\n",
       "1947-04-01  246.3\n",
       "1947-07-01  250.1\n",
       "1947-10-01  260.3\n",
       "1948-01-01  266.2"
      ]
     },
     "execution_count": 32,
     "metadata": {},
     "output_type": "execute_result"
    }
   ],
   "source": [
    "gdp_ = pd.read_csv('data/gdp.csv', index_col='DATE',\n",
    "                   parse_dates=['DATE'])\n",
    "gdp_.head()"
   ]
  },
  {
   "cell_type": "code",
   "execution_count": 35,
   "metadata": {
    "collapsed": false
   },
   "outputs": [
    {
     "data": {
      "text/html": [
       "<div>\n",
       "<style>\n",
       "    .dataframe thead tr:only-child th {\n",
       "        text-align: right;\n",
       "    }\n",
       "\n",
       "    .dataframe thead th {\n",
       "        text-align: left;\n",
       "    }\n",
       "\n",
       "    .dataframe tbody tr th {\n",
       "        vertical-align: top;\n",
       "    }\n",
       "</style>\n",
       "<table border=\"1\" class=\"dataframe\">\n",
       "  <thead>\n",
       "    <tr style=\"text-align: right;\">\n",
       "      <th></th>\n",
       "      <th>CPIAUCSL</th>\n",
       "    </tr>\n",
       "    <tr>\n",
       "      <th>DATE</th>\n",
       "      <th></th>\n",
       "    </tr>\n",
       "  </thead>\n",
       "  <tbody>\n",
       "    <tr>\n",
       "      <th>1947-01-01</th>\n",
       "      <td>21.48</td>\n",
       "    </tr>\n",
       "    <tr>\n",
       "      <th>1947-02-01</th>\n",
       "      <td>21.62</td>\n",
       "    </tr>\n",
       "    <tr>\n",
       "      <th>1947-03-01</th>\n",
       "      <td>22.00</td>\n",
       "    </tr>\n",
       "    <tr>\n",
       "      <th>1947-04-01</th>\n",
       "      <td>22.00</td>\n",
       "    </tr>\n",
       "    <tr>\n",
       "      <th>1947-05-01</th>\n",
       "      <td>21.95</td>\n",
       "    </tr>\n",
       "  </tbody>\n",
       "</table>\n",
       "</div>"
      ],
      "text/plain": [
       "            CPIAUCSL\n",
       "DATE                \n",
       "1947-01-01     21.48\n",
       "1947-02-01     21.62\n",
       "1947-03-01     22.00\n",
       "1947-04-01     22.00\n",
       "1947-05-01     21.95"
      ]
     },
     "execution_count": 35,
     "metadata": {},
     "output_type": "execute_result"
    }
   ],
   "source": [
    "cpi_ = pd.read_csv('data/cpi.csv', index_col='DATE',\n",
    "                   parse_dates=['DATE'])\n",
    "cpi_.head()"
   ]
  },
  {
   "cell_type": "code",
   "execution_count": 36,
   "metadata": {
    "collapsed": false
   },
   "outputs": [
    {
     "data": {
      "text/html": [
       "<div>\n",
       "<style>\n",
       "    .dataframe thead tr:only-child th {\n",
       "        text-align: right;\n",
       "    }\n",
       "\n",
       "    .dataframe thead th {\n",
       "        text-align: left;\n",
       "    }\n",
       "\n",
       "    .dataframe tbody tr th {\n",
       "        vertical-align: top;\n",
       "    }\n",
       "</style>\n",
       "<table border=\"1\" class=\"dataframe\">\n",
       "  <thead>\n",
       "    <tr style=\"text-align: right;\">\n",
       "      <th></th>\n",
       "      <th>CPIAUCSL</th>\n",
       "      <th>GDP</th>\n",
       "    </tr>\n",
       "    <tr>\n",
       "      <th>DATE</th>\n",
       "      <th></th>\n",
       "      <th></th>\n",
       "    </tr>\n",
       "  </thead>\n",
       "  <tbody>\n",
       "    <tr>\n",
       "      <th>1947-01-01</th>\n",
       "      <td>NaN</td>\n",
       "      <td>NaN</td>\n",
       "    </tr>\n",
       "    <tr>\n",
       "      <th>1947-02-01</th>\n",
       "      <td>NaN</td>\n",
       "      <td>NaN</td>\n",
       "    </tr>\n",
       "    <tr>\n",
       "      <th>1947-03-01</th>\n",
       "      <td>NaN</td>\n",
       "      <td>NaN</td>\n",
       "    </tr>\n",
       "    <tr>\n",
       "      <th>1947-04-01</th>\n",
       "      <td>NaN</td>\n",
       "      <td>NaN</td>\n",
       "    </tr>\n",
       "    <tr>\n",
       "      <th>1947-05-01</th>\n",
       "      <td>NaN</td>\n",
       "      <td>NaN</td>\n",
       "    </tr>\n",
       "    <tr>\n",
       "      <th>1947-06-01</th>\n",
       "      <td>NaN</td>\n",
       "      <td>NaN</td>\n",
       "    </tr>\n",
       "    <tr>\n",
       "      <th>1947-07-01</th>\n",
       "      <td>NaN</td>\n",
       "      <td>NaN</td>\n",
       "    </tr>\n",
       "    <tr>\n",
       "      <th>1947-08-01</th>\n",
       "      <td>NaN</td>\n",
       "      <td>NaN</td>\n",
       "    </tr>\n",
       "    <tr>\n",
       "      <th>1947-09-01</th>\n",
       "      <td>NaN</td>\n",
       "      <td>NaN</td>\n",
       "    </tr>\n",
       "    <tr>\n",
       "      <th>1947-10-01</th>\n",
       "      <td>NaN</td>\n",
       "      <td>NaN</td>\n",
       "    </tr>\n",
       "    <tr>\n",
       "      <th>1947-11-01</th>\n",
       "      <td>NaN</td>\n",
       "      <td>NaN</td>\n",
       "    </tr>\n",
       "    <tr>\n",
       "      <th>1947-12-01</th>\n",
       "      <td>NaN</td>\n",
       "      <td>NaN</td>\n",
       "    </tr>\n",
       "    <tr>\n",
       "      <th>1948-01-01</th>\n",
       "      <td>NaN</td>\n",
       "      <td>NaN</td>\n",
       "    </tr>\n",
       "    <tr>\n",
       "      <th>1948-02-01</th>\n",
       "      <td>NaN</td>\n",
       "      <td>NaN</td>\n",
       "    </tr>\n",
       "    <tr>\n",
       "      <th>1948-03-01</th>\n",
       "      <td>NaN</td>\n",
       "      <td>NaN</td>\n",
       "    </tr>\n",
       "    <tr>\n",
       "      <th>1948-04-01</th>\n",
       "      <td>NaN</td>\n",
       "      <td>NaN</td>\n",
       "    </tr>\n",
       "    <tr>\n",
       "      <th>1948-05-01</th>\n",
       "      <td>NaN</td>\n",
       "      <td>NaN</td>\n",
       "    </tr>\n",
       "    <tr>\n",
       "      <th>1948-06-01</th>\n",
       "      <td>NaN</td>\n",
       "      <td>NaN</td>\n",
       "    </tr>\n",
       "    <tr>\n",
       "      <th>1948-07-01</th>\n",
       "      <td>NaN</td>\n",
       "      <td>NaN</td>\n",
       "    </tr>\n",
       "    <tr>\n",
       "      <th>1948-08-01</th>\n",
       "      <td>NaN</td>\n",
       "      <td>NaN</td>\n",
       "    </tr>\n",
       "    <tr>\n",
       "      <th>1948-09-01</th>\n",
       "      <td>NaN</td>\n",
       "      <td>NaN</td>\n",
       "    </tr>\n",
       "    <tr>\n",
       "      <th>1948-10-01</th>\n",
       "      <td>NaN</td>\n",
       "      <td>NaN</td>\n",
       "    </tr>\n",
       "    <tr>\n",
       "      <th>1948-11-01</th>\n",
       "      <td>NaN</td>\n",
       "      <td>NaN</td>\n",
       "    </tr>\n",
       "    <tr>\n",
       "      <th>1948-12-01</th>\n",
       "      <td>NaN</td>\n",
       "      <td>NaN</td>\n",
       "    </tr>\n",
       "    <tr>\n",
       "      <th>1949-01-01</th>\n",
       "      <td>NaN</td>\n",
       "      <td>NaN</td>\n",
       "    </tr>\n",
       "    <tr>\n",
       "      <th>1949-02-01</th>\n",
       "      <td>NaN</td>\n",
       "      <td>NaN</td>\n",
       "    </tr>\n",
       "    <tr>\n",
       "      <th>1949-03-01</th>\n",
       "      <td>NaN</td>\n",
       "      <td>NaN</td>\n",
       "    </tr>\n",
       "    <tr>\n",
       "      <th>1949-04-01</th>\n",
       "      <td>NaN</td>\n",
       "      <td>NaN</td>\n",
       "    </tr>\n",
       "    <tr>\n",
       "      <th>1949-05-01</th>\n",
       "      <td>NaN</td>\n",
       "      <td>NaN</td>\n",
       "    </tr>\n",
       "    <tr>\n",
       "      <th>1949-06-01</th>\n",
       "      <td>NaN</td>\n",
       "      <td>NaN</td>\n",
       "    </tr>\n",
       "    <tr>\n",
       "      <th>...</th>\n",
       "      <td>...</td>\n",
       "      <td>...</td>\n",
       "    </tr>\n",
       "    <tr>\n",
       "      <th>2012-12-01</th>\n",
       "      <td>NaN</td>\n",
       "      <td>NaN</td>\n",
       "    </tr>\n",
       "    <tr>\n",
       "      <th>2013-01-01</th>\n",
       "      <td>NaN</td>\n",
       "      <td>NaN</td>\n",
       "    </tr>\n",
       "    <tr>\n",
       "      <th>2013-02-01</th>\n",
       "      <td>NaN</td>\n",
       "      <td>NaN</td>\n",
       "    </tr>\n",
       "    <tr>\n",
       "      <th>2013-03-01</th>\n",
       "      <td>NaN</td>\n",
       "      <td>NaN</td>\n",
       "    </tr>\n",
       "    <tr>\n",
       "      <th>2013-04-01</th>\n",
       "      <td>NaN</td>\n",
       "      <td>NaN</td>\n",
       "    </tr>\n",
       "    <tr>\n",
       "      <th>2013-05-01</th>\n",
       "      <td>NaN</td>\n",
       "      <td>NaN</td>\n",
       "    </tr>\n",
       "    <tr>\n",
       "      <th>2013-06-01</th>\n",
       "      <td>NaN</td>\n",
       "      <td>NaN</td>\n",
       "    </tr>\n",
       "    <tr>\n",
       "      <th>2013-07-01</th>\n",
       "      <td>NaN</td>\n",
       "      <td>NaN</td>\n",
       "    </tr>\n",
       "    <tr>\n",
       "      <th>2013-08-01</th>\n",
       "      <td>NaN</td>\n",
       "      <td>NaN</td>\n",
       "    </tr>\n",
       "    <tr>\n",
       "      <th>2013-09-01</th>\n",
       "      <td>NaN</td>\n",
       "      <td>NaN</td>\n",
       "    </tr>\n",
       "    <tr>\n",
       "      <th>2013-10-01</th>\n",
       "      <td>NaN</td>\n",
       "      <td>NaN</td>\n",
       "    </tr>\n",
       "    <tr>\n",
       "      <th>2013-11-01</th>\n",
       "      <td>NaN</td>\n",
       "      <td>NaN</td>\n",
       "    </tr>\n",
       "    <tr>\n",
       "      <th>2013-12-01</th>\n",
       "      <td>NaN</td>\n",
       "      <td>NaN</td>\n",
       "    </tr>\n",
       "    <tr>\n",
       "      <th>2014-01-01</th>\n",
       "      <td>NaN</td>\n",
       "      <td>NaN</td>\n",
       "    </tr>\n",
       "    <tr>\n",
       "      <th>2014-02-01</th>\n",
       "      <td>NaN</td>\n",
       "      <td>NaN</td>\n",
       "    </tr>\n",
       "    <tr>\n",
       "      <th>2014-03-01</th>\n",
       "      <td>NaN</td>\n",
       "      <td>NaN</td>\n",
       "    </tr>\n",
       "    <tr>\n",
       "      <th>2014-04-01</th>\n",
       "      <td>NaN</td>\n",
       "      <td>NaN</td>\n",
       "    </tr>\n",
       "    <tr>\n",
       "      <th>2014-05-01</th>\n",
       "      <td>NaN</td>\n",
       "      <td>NaN</td>\n",
       "    </tr>\n",
       "    <tr>\n",
       "      <th>2014-06-01</th>\n",
       "      <td>NaN</td>\n",
       "      <td>NaN</td>\n",
       "    </tr>\n",
       "    <tr>\n",
       "      <th>2014-07-01</th>\n",
       "      <td>NaN</td>\n",
       "      <td>NaN</td>\n",
       "    </tr>\n",
       "    <tr>\n",
       "      <th>2014-08-01</th>\n",
       "      <td>NaN</td>\n",
       "      <td>NaN</td>\n",
       "    </tr>\n",
       "    <tr>\n",
       "      <th>2014-09-01</th>\n",
       "      <td>NaN</td>\n",
       "      <td>NaN</td>\n",
       "    </tr>\n",
       "    <tr>\n",
       "      <th>2014-10-01</th>\n",
       "      <td>NaN</td>\n",
       "      <td>NaN</td>\n",
       "    </tr>\n",
       "    <tr>\n",
       "      <th>2014-11-01</th>\n",
       "      <td>NaN</td>\n",
       "      <td>NaN</td>\n",
       "    </tr>\n",
       "    <tr>\n",
       "      <th>2014-12-01</th>\n",
       "      <td>NaN</td>\n",
       "      <td>NaN</td>\n",
       "    </tr>\n",
       "    <tr>\n",
       "      <th>2015-01-01</th>\n",
       "      <td>NaN</td>\n",
       "      <td>NaN</td>\n",
       "    </tr>\n",
       "    <tr>\n",
       "      <th>2015-02-01</th>\n",
       "      <td>NaN</td>\n",
       "      <td>NaN</td>\n",
       "    </tr>\n",
       "    <tr>\n",
       "      <th>2015-03-01</th>\n",
       "      <td>NaN</td>\n",
       "      <td>NaN</td>\n",
       "    </tr>\n",
       "    <tr>\n",
       "      <th>2015-04-01</th>\n",
       "      <td>NaN</td>\n",
       "      <td>NaN</td>\n",
       "    </tr>\n",
       "    <tr>\n",
       "      <th>2015-05-01</th>\n",
       "      <td>NaN</td>\n",
       "      <td>NaN</td>\n",
       "    </tr>\n",
       "  </tbody>\n",
       "</table>\n",
       "<p>821 rows × 2 columns</p>\n",
       "</div>"
      ],
      "text/plain": [
       "            CPIAUCSL  GDP\n",
       "DATE                     \n",
       "1947-01-01       NaN  NaN\n",
       "1947-02-01       NaN  NaN\n",
       "1947-03-01       NaN  NaN\n",
       "1947-04-01       NaN  NaN\n",
       "1947-05-01       NaN  NaN\n",
       "1947-06-01       NaN  NaN\n",
       "1947-07-01       NaN  NaN\n",
       "1947-08-01       NaN  NaN\n",
       "1947-09-01       NaN  NaN\n",
       "1947-10-01       NaN  NaN\n",
       "1947-11-01       NaN  NaN\n",
       "1947-12-01       NaN  NaN\n",
       "1948-01-01       NaN  NaN\n",
       "1948-02-01       NaN  NaN\n",
       "1948-03-01       NaN  NaN\n",
       "1948-04-01       NaN  NaN\n",
       "1948-05-01       NaN  NaN\n",
       "1948-06-01       NaN  NaN\n",
       "1948-07-01       NaN  NaN\n",
       "1948-08-01       NaN  NaN\n",
       "1948-09-01       NaN  NaN\n",
       "1948-10-01       NaN  NaN\n",
       "1948-11-01       NaN  NaN\n",
       "1948-12-01       NaN  NaN\n",
       "1949-01-01       NaN  NaN\n",
       "1949-02-01       NaN  NaN\n",
       "1949-03-01       NaN  NaN\n",
       "1949-04-01       NaN  NaN\n",
       "1949-05-01       NaN  NaN\n",
       "1949-06-01       NaN  NaN\n",
       "...              ...  ...\n",
       "2012-12-01       NaN  NaN\n",
       "2013-01-01       NaN  NaN\n",
       "2013-02-01       NaN  NaN\n",
       "2013-03-01       NaN  NaN\n",
       "2013-04-01       NaN  NaN\n",
       "2013-05-01       NaN  NaN\n",
       "2013-06-01       NaN  NaN\n",
       "2013-07-01       NaN  NaN\n",
       "2013-08-01       NaN  NaN\n",
       "2013-09-01       NaN  NaN\n",
       "2013-10-01       NaN  NaN\n",
       "2013-11-01       NaN  NaN\n",
       "2013-12-01       NaN  NaN\n",
       "2014-01-01       NaN  NaN\n",
       "2014-02-01       NaN  NaN\n",
       "2014-03-01       NaN  NaN\n",
       "2014-04-01       NaN  NaN\n",
       "2014-05-01       NaN  NaN\n",
       "2014-06-01       NaN  NaN\n",
       "2014-07-01       NaN  NaN\n",
       "2014-08-01       NaN  NaN\n",
       "2014-09-01       NaN  NaN\n",
       "2014-10-01       NaN  NaN\n",
       "2014-11-01       NaN  NaN\n",
       "2014-12-01       NaN  NaN\n",
       "2015-01-01       NaN  NaN\n",
       "2015-02-01       NaN  NaN\n",
       "2015-03-01       NaN  NaN\n",
       "2015-04-01       NaN  NaN\n",
       "2015-05-01       NaN  NaN\n",
       "\n",
       "[821 rows x 2 columns]"
      ]
     },
     "execution_count": 36,
     "metadata": {},
     "output_type": "execute_result"
    }
   ],
   "source": [
    "gdp_ / cpi_"
   ]
  },
  {
   "cell_type": "markdown",
   "metadata": {},
   "source": [
    "So pandas aligned by the columns, in addition to the index.\n",
    "Recall that alignment does the set *union*, so the output DataFrame has both CPI and GDP, which probably isn't what we wanted here."
   ]
  },
  {
   "cell_type": "markdown",
   "metadata": {},
   "source": [
    "## Aside: Handling Missing Data\n",
    "\n",
    "Pandas, recognizing that missing data is a fact of life, has a bunch of methods for detecting and handling missing data.\n",
    "\n",
    "1. detecting missing data\n",
    "2. dropping missing data\n",
    "3. filling missing data"
   ]
  },
  {
   "cell_type": "markdown",
   "metadata": {},
   "source": [
    "## Detecting Missing Data\n",
    "\n",
    "1. `pd.isnull(), df.isnull()`\n",
    "2. `pd.notnull(), df.notnull()`"
   ]
  },
  {
   "cell_type": "code",
   "execution_count": 37,
   "metadata": {
    "collapsed": false
   },
   "outputs": [
    {
     "data": {
      "text/plain": [
       "DATE\n",
       "1947-01-01    11.317505\n",
       "1947-02-01          NaN\n",
       "1947-03-01          NaN\n",
       "1947-04-01    11.195455\n",
       "1947-05-01          NaN\n",
       "1947-06-01          NaN\n",
       "1947-07-01    11.250562\n",
       "1947-08-01          NaN\n",
       "1947-09-01          NaN\n",
       "1947-10-01    11.361851\n",
       "1947-11-01          NaN\n",
       "1947-12-01          NaN\n",
       "1948-01-01    11.241554\n",
       "1948-02-01          NaN\n",
       "1948-03-01          NaN\n",
       "1948-04-01    11.456759\n",
       "1948-05-01          NaN\n",
       "1948-06-01          NaN\n",
       "1948-07-01    11.454918\n",
       "1948-08-01          NaN\n",
       "1948-09-01          NaN\n",
       "1948-10-01    11.546689\n",
       "1948-11-01          NaN\n",
       "1948-12-01          NaN\n",
       "1949-01-01    11.470221\n",
       "1949-02-01          NaN\n",
       "1949-03-01          NaN\n",
       "1949-04-01    11.358696\n",
       "1949-05-01          NaN\n",
       "1949-06-01          NaN\n",
       "                ...    \n",
       "2012-12-01          NaN\n",
       "2013-01-01    71.124715\n",
       "2013-02-01          NaN\n",
       "2013-03-01          NaN\n",
       "2013-04-01    71.343420\n",
       "2013-05-01          NaN\n",
       "2013-06-01          NaN\n",
       "2013-07-01    71.962930\n",
       "2013-08-01          NaN\n",
       "2013-09-01          NaN\n",
       "2013-10-01    72.711603\n",
       "2013-11-01          NaN\n",
       "2013-12-01          NaN\n",
       "2014-01-01    72.313495\n",
       "2014-02-01          NaN\n",
       "2014-03-01          NaN\n",
       "2014-04-01          NaN\n",
       "2014-05-01          NaN\n",
       "2014-06-01          NaN\n",
       "2014-07-01          NaN\n",
       "2014-08-01          NaN\n",
       "2014-09-01          NaN\n",
       "2014-10-01          NaN\n",
       "2014-11-01          NaN\n",
       "2014-12-01          NaN\n",
       "2015-01-01          NaN\n",
       "2015-02-01          NaN\n",
       "2015-03-01          NaN\n",
       "2015-04-01          NaN\n",
       "2015-05-01          NaN\n",
       "Length: 821, dtype: float64"
      ]
     },
     "execution_count": 37,
     "metadata": {},
     "output_type": "execute_result"
    }
   ],
   "source": [
    "rgdp"
   ]
  },
  {
   "cell_type": "code",
   "execution_count": 38,
   "metadata": {
    "collapsed": false
   },
   "outputs": [
    {
     "data": {
      "text/plain": [
       "DATE\n",
       "1947-01-01    False\n",
       "1947-02-01     True\n",
       "1947-03-01     True\n",
       "1947-04-01    False\n",
       "1947-05-01     True\n",
       "dtype: bool"
      ]
     },
     "execution_count": 38,
     "metadata": {},
     "output_type": "execute_result"
    }
   ],
   "source": [
    "# detect with `isnull` and `notnull`\n",
    "\n",
    "rgdp.isnull().head()"
   ]
  },
  {
   "cell_type": "code",
   "execution_count": 39,
   "metadata": {
    "collapsed": false
   },
   "outputs": [
    {
     "data": {
      "text/plain": [
       "DATE\n",
       "1947-01-01    11.317505\n",
       "1947-04-01    11.195455\n",
       "1947-07-01    11.250562\n",
       "1947-10-01    11.361851\n",
       "1948-01-01    11.241554\n",
       "1948-04-01    11.456759\n",
       "1948-07-01    11.454918\n",
       "1948-10-01    11.546689\n",
       "1949-01-01    11.470221\n",
       "1949-04-01    11.358696\n",
       "1949-07-01    11.531646\n",
       "1949-10-01    11.449092\n",
       "1950-01-01    11.960868\n",
       "1950-04-01    12.291755\n",
       "1950-07-01    12.816784\n",
       "1950-10-01    13.073469\n",
       "1951-01-01    13.254531\n",
       "1951-04-01    13.290895\n",
       "1951-07-01    13.577769\n",
       "1951-10-01    13.631498\n",
       "1952-01-01    13.618147\n",
       "1952-04-01    13.658352\n",
       "1952-07-01    13.796852\n",
       "1952-10-01    14.282503\n",
       "1953-01-01    14.583333\n",
       "1953-04-01    14.698389\n",
       "1953-07-01    14.621127\n",
       "1953-10-01    14.341373\n",
       "1954-01-01    14.324425\n",
       "1954-04-01    14.396873\n",
       "                ...    \n",
       "2006-10-01    69.670134\n",
       "2007-01-01    69.963674\n",
       "2007-04-01    70.043807\n",
       "2007-07-01    70.180585\n",
       "2007-10-01    70.200774\n",
       "2008-01-01    69.133824\n",
       "2008-04-01    69.238392\n",
       "2008-07-01    67.771304\n",
       "2008-10-01    67.051775\n",
       "2009-01-01    67.870034\n",
       "2009-04-01    67.417928\n",
       "2009-07-01    66.988162\n",
       "2009-10-01    67.278958\n",
       "2010-01-01    67.503035\n",
       "2010-04-01    68.483876\n",
       "2010-07-01    69.197399\n",
       "2010-10-01    69.533180\n",
       "2011-01-01    68.893741\n",
       "2011-04-01    68.993230\n",
       "2011-07-01    69.154595\n",
       "2011-10-01    69.615436\n",
       "2012-01-01    70.104011\n",
       "2012-04-01    70.313495\n",
       "2012-07-01    71.027027\n",
       "2012-10-01    70.351600\n",
       "2013-01-01    71.124715\n",
       "2013-04-01    71.343420\n",
       "2013-07-01    71.962930\n",
       "2013-10-01    72.711603\n",
       "2014-01-01    72.313495\n",
       "Length: 269, dtype: float64"
      ]
     },
     "execution_count": 39,
     "metadata": {},
     "output_type": "execute_result"
    }
   ],
   "source": [
    "rgdp[rgdp.notnull()]"
   ]
  },
  {
   "cell_type": "markdown",
   "metadata": {},
   "source": [
    "These are often useful as masks for boolean indexing:"
   ]
  },
  {
   "cell_type": "code",
   "execution_count": 23,
   "metadata": {
    "collapsed": false
   },
   "outputs": [
    {
     "data": {
      "text/plain": [
       "DATE\n",
       "1947-02-01   NaN\n",
       "1947-03-01   NaN\n",
       "1947-05-01   NaN\n",
       "1947-06-01   NaN\n",
       "1947-08-01   NaN\n",
       "dtype: float64"
      ]
     },
     "execution_count": 23,
     "metadata": {},
     "output_type": "execute_result"
    }
   ],
   "source": [
    "rgdp[rgdp.isnull()].head()"
   ]
  },
  {
   "cell_type": "markdown",
   "metadata": {},
   "source": [
    "Or for counting (True counts as 1, and False as 0 for numeric operations):"
   ]
  },
  {
   "cell_type": "code",
   "execution_count": 24,
   "metadata": {
    "collapsed": false
   },
   "outputs": [
    {
     "data": {
      "text/plain": [
       "552"
      ]
     },
     "execution_count": 24,
     "metadata": {},
     "output_type": "execute_result"
    }
   ],
   "source": [
    "rgdp.isnull().sum()"
   ]
  },
  {
   "cell_type": "markdown",
   "metadata": {},
   "source": [
    "## Dropping Missing Data\n",
    "\n",
    "You can drop missing values with `.dropna`\n",
    "\n",
    "```\n",
    "DataFrame.dropna\n",
    "\n",
    "Return object with labels on given axis omitted where\n",
    "alternately any or all of the data are missing\n",
    "\n",
    "Parameters\n",
    "----------\n",
    "axis : {0 or 'index', 1 or 'columns'}, or tuple/list thereof\n",
    "    Pass tuple or list to drop on multiple axes\n",
    "how : {'any', 'all'}\n",
    "    * any : if any NA values are present, drop that label\n",
    "    * all : if all values are NA, drop that label\n",
    "```"
   ]
  },
  {
   "cell_type": "code",
   "execution_count": 25,
   "metadata": {
    "collapsed": false
   },
   "outputs": [
    {
     "data": {
      "text/plain": [
       "DATE\n",
       "1947-01-01    11.317505\n",
       "1947-04-01    11.195455\n",
       "1947-07-01    11.250562\n",
       "1947-10-01    11.361851\n",
       "1948-01-01    11.241554\n",
       "                ...    \n",
       "2013-01-01    71.124715\n",
       "2013-04-01    71.343420\n",
       "2013-07-01    71.962930\n",
       "2013-10-01    72.711603\n",
       "2014-01-01    72.313495\n",
       "Length: 269, dtype: float64"
      ]
     },
     "execution_count": 25,
     "metadata": {},
     "output_type": "execute_result"
    }
   ],
   "source": [
    "rgdp.dropna()"
   ]
  },
  {
   "cell_type": "markdown",
   "metadata": {},
   "source": [
    "Almost all pandas methods return a new Series or DataFrame, and do not mutate data inplace.\n",
    "`rgdp` still has the missing vaules, even though we called `.dropna`"
   ]
  },
  {
   "cell_type": "code",
   "execution_count": 26,
   "metadata": {
    "collapsed": false
   },
   "outputs": [
    {
     "data": {
      "text/plain": [
       "DATE\n",
       "1947-01-01    11.317505\n",
       "1947-02-01          NaN\n",
       "1947-03-01          NaN\n",
       "1947-04-01    11.195455\n",
       "1947-05-01          NaN\n",
       "dtype: float64"
      ]
     },
     "execution_count": 26,
     "metadata": {},
     "output_type": "execute_result"
    }
   ],
   "source": [
    "rgdp.head()"
   ]
  },
  {
   "cell_type": "markdown",
   "metadata": {},
   "source": [
    "To make the change stick, you can assign the output to a new variable (or re-assign it to `rgdp`) like `rgdp = rgdp.dropna()`."
   ]
  },
  {
   "cell_type": "markdown",
   "metadata": {},
   "source": [
    "## Dropna for DataFrames\n",
    "\n",
    "Since `DataFrame` is a 2-d container, there are additional complexities with dropping missing data.\n",
    "Do you drop the row or column? Does just one value in the row or column have to be missing, or all of them?"
   ]
  },
  {
   "cell_type": "code",
   "execution_count": 40,
   "metadata": {
    "collapsed": false
   },
   "outputs": [
    {
     "data": {
      "text/html": [
       "<div>\n",
       "<style>\n",
       "    .dataframe thead tr:only-child th {\n",
       "        text-align: right;\n",
       "    }\n",
       "\n",
       "    .dataframe thead th {\n",
       "        text-align: left;\n",
       "    }\n",
       "\n",
       "    .dataframe tbody tr th {\n",
       "        vertical-align: top;\n",
       "    }\n",
       "</style>\n",
       "<table border=\"1\" class=\"dataframe\">\n",
       "  <thead>\n",
       "    <tr style=\"text-align: right;\">\n",
       "      <th></th>\n",
       "      <th>GDP</th>\n",
       "      <th>CPIAUCSL</th>\n",
       "    </tr>\n",
       "    <tr>\n",
       "      <th>DATE</th>\n",
       "      <th></th>\n",
       "      <th></th>\n",
       "    </tr>\n",
       "  </thead>\n",
       "  <tbody>\n",
       "    <tr>\n",
       "      <th>1947-01-01</th>\n",
       "      <td>243.1</td>\n",
       "      <td>21.48</td>\n",
       "    </tr>\n",
       "    <tr>\n",
       "      <th>1947-02-01</th>\n",
       "      <td>NaN</td>\n",
       "      <td>21.62</td>\n",
       "    </tr>\n",
       "    <tr>\n",
       "      <th>1947-03-01</th>\n",
       "      <td>NaN</td>\n",
       "      <td>22.00</td>\n",
       "    </tr>\n",
       "    <tr>\n",
       "      <th>1947-04-01</th>\n",
       "      <td>246.3</td>\n",
       "      <td>22.00</td>\n",
       "    </tr>\n",
       "    <tr>\n",
       "      <th>1947-05-01</th>\n",
       "      <td>NaN</td>\n",
       "      <td>21.95</td>\n",
       "    </tr>\n",
       "  </tbody>\n",
       "</table>\n",
       "</div>"
      ],
      "text/plain": [
       "              GDP  CPIAUCSL\n",
       "DATE                       \n",
       "1947-01-01  243.1     21.48\n",
       "1947-02-01    NaN     21.62\n",
       "1947-03-01    NaN     22.00\n",
       "1947-04-01  246.3     22.00\n",
       "1947-05-01    NaN     21.95"
      ]
     },
     "execution_count": 40,
     "metadata": {},
     "output_type": "execute_result"
    }
   ],
   "source": [
    "# We'll see concat later\n",
    "df = pd.concat([gdp, cpi], axis='columns')\n",
    "df.head()"
   ]
  },
  {
   "cell_type": "markdown",
   "metadata": {},
   "source": [
    "The defaults, shown next, are to drop *rows* (`axis='index'`) that\n",
    "have at any missing values (`how='any'`):"
   ]
  },
  {
   "cell_type": "code",
   "execution_count": 41,
   "metadata": {
    "collapsed": false
   },
   "outputs": [
    {
     "data": {
      "text/html": [
       "<div>\n",
       "<style>\n",
       "    .dataframe thead tr:only-child th {\n",
       "        text-align: right;\n",
       "    }\n",
       "\n",
       "    .dataframe thead th {\n",
       "        text-align: left;\n",
       "    }\n",
       "\n",
       "    .dataframe tbody tr th {\n",
       "        vertical-align: top;\n",
       "    }\n",
       "</style>\n",
       "<table border=\"1\" class=\"dataframe\">\n",
       "  <thead>\n",
       "    <tr style=\"text-align: right;\">\n",
       "      <th></th>\n",
       "      <th>GDP</th>\n",
       "      <th>CPIAUCSL</th>\n",
       "    </tr>\n",
       "    <tr>\n",
       "      <th>DATE</th>\n",
       "      <th></th>\n",
       "      <th></th>\n",
       "    </tr>\n",
       "  </thead>\n",
       "  <tbody>\n",
       "    <tr>\n",
       "      <th>1947-01-01</th>\n",
       "      <td>243.1</td>\n",
       "      <td>21.480</td>\n",
       "    </tr>\n",
       "    <tr>\n",
       "      <th>1947-04-01</th>\n",
       "      <td>246.3</td>\n",
       "      <td>22.000</td>\n",
       "    </tr>\n",
       "    <tr>\n",
       "      <th>1947-07-01</th>\n",
       "      <td>250.1</td>\n",
       "      <td>22.230</td>\n",
       "    </tr>\n",
       "    <tr>\n",
       "      <th>1947-10-01</th>\n",
       "      <td>260.3</td>\n",
       "      <td>22.910</td>\n",
       "    </tr>\n",
       "    <tr>\n",
       "      <th>1948-01-01</th>\n",
       "      <td>266.2</td>\n",
       "      <td>23.680</td>\n",
       "    </tr>\n",
       "    <tr>\n",
       "      <th>1948-04-01</th>\n",
       "      <td>272.9</td>\n",
       "      <td>23.820</td>\n",
       "    </tr>\n",
       "    <tr>\n",
       "      <th>1948-07-01</th>\n",
       "      <td>279.5</td>\n",
       "      <td>24.400</td>\n",
       "    </tr>\n",
       "    <tr>\n",
       "      <th>1948-10-01</th>\n",
       "      <td>280.7</td>\n",
       "      <td>24.310</td>\n",
       "    </tr>\n",
       "    <tr>\n",
       "      <th>1949-01-01</th>\n",
       "      <td>275.4</td>\n",
       "      <td>24.010</td>\n",
       "    </tr>\n",
       "    <tr>\n",
       "      <th>1949-04-01</th>\n",
       "      <td>271.7</td>\n",
       "      <td>23.920</td>\n",
       "    </tr>\n",
       "    <tr>\n",
       "      <th>1949-07-01</th>\n",
       "      <td>273.3</td>\n",
       "      <td>23.700</td>\n",
       "    </tr>\n",
       "    <tr>\n",
       "      <th>1949-10-01</th>\n",
       "      <td>271.0</td>\n",
       "      <td>23.670</td>\n",
       "    </tr>\n",
       "    <tr>\n",
       "      <th>1950-01-01</th>\n",
       "      <td>281.2</td>\n",
       "      <td>23.510</td>\n",
       "    </tr>\n",
       "    <tr>\n",
       "      <th>1950-04-01</th>\n",
       "      <td>290.7</td>\n",
       "      <td>23.650</td>\n",
       "    </tr>\n",
       "    <tr>\n",
       "      <th>1950-07-01</th>\n",
       "      <td>308.5</td>\n",
       "      <td>24.070</td>\n",
       "    </tr>\n",
       "    <tr>\n",
       "      <th>1950-10-01</th>\n",
       "      <td>320.3</td>\n",
       "      <td>24.500</td>\n",
       "    </tr>\n",
       "    <tr>\n",
       "      <th>1951-01-01</th>\n",
       "      <td>336.4</td>\n",
       "      <td>25.380</td>\n",
       "    </tr>\n",
       "    <tr>\n",
       "      <th>1951-04-01</th>\n",
       "      <td>344.5</td>\n",
       "      <td>25.920</td>\n",
       "    </tr>\n",
       "    <tr>\n",
       "      <th>1951-07-01</th>\n",
       "      <td>351.8</td>\n",
       "      <td>25.910</td>\n",
       "    </tr>\n",
       "    <tr>\n",
       "      <th>1951-10-01</th>\n",
       "      <td>356.6</td>\n",
       "      <td>26.160</td>\n",
       "    </tr>\n",
       "    <tr>\n",
       "      <th>1952-01-01</th>\n",
       "      <td>360.2</td>\n",
       "      <td>26.450</td>\n",
       "    </tr>\n",
       "    <tr>\n",
       "      <th>1952-04-01</th>\n",
       "      <td>361.4</td>\n",
       "      <td>26.460</td>\n",
       "    </tr>\n",
       "    <tr>\n",
       "      <th>1952-07-01</th>\n",
       "      <td>368.1</td>\n",
       "      <td>26.680</td>\n",
       "    </tr>\n",
       "    <tr>\n",
       "      <th>1952-10-01</th>\n",
       "      <td>381.2</td>\n",
       "      <td>26.690</td>\n",
       "    </tr>\n",
       "    <tr>\n",
       "      <th>1953-01-01</th>\n",
       "      <td>388.5</td>\n",
       "      <td>26.640</td>\n",
       "    </tr>\n",
       "    <tr>\n",
       "      <th>1953-04-01</th>\n",
       "      <td>392.3</td>\n",
       "      <td>26.690</td>\n",
       "    </tr>\n",
       "    <tr>\n",
       "      <th>1953-07-01</th>\n",
       "      <td>391.7</td>\n",
       "      <td>26.790</td>\n",
       "    </tr>\n",
       "    <tr>\n",
       "      <th>1953-10-01</th>\n",
       "      <td>386.5</td>\n",
       "      <td>26.950</td>\n",
       "    </tr>\n",
       "    <tr>\n",
       "      <th>1954-01-01</th>\n",
       "      <td>385.9</td>\n",
       "      <td>26.940</td>\n",
       "    </tr>\n",
       "    <tr>\n",
       "      <th>1954-04-01</th>\n",
       "      <td>386.7</td>\n",
       "      <td>26.860</td>\n",
       "    </tr>\n",
       "    <tr>\n",
       "      <th>...</th>\n",
       "      <td>...</td>\n",
       "      <td>...</td>\n",
       "    </tr>\n",
       "    <tr>\n",
       "      <th>2006-10-01</th>\n",
       "      <td>14066.4</td>\n",
       "      <td>201.900</td>\n",
       "    </tr>\n",
       "    <tr>\n",
       "      <th>2007-01-01</th>\n",
       "      <td>14233.2</td>\n",
       "      <td>203.437</td>\n",
       "    </tr>\n",
       "    <tr>\n",
       "      <th>2007-04-01</th>\n",
       "      <td>14422.3</td>\n",
       "      <td>205.904</td>\n",
       "    </tr>\n",
       "    <tr>\n",
       "      <th>2007-07-01</th>\n",
       "      <td>14569.7</td>\n",
       "      <td>207.603</td>\n",
       "    </tr>\n",
       "    <tr>\n",
       "      <th>2007-10-01</th>\n",
       "      <td>14685.3</td>\n",
       "      <td>209.190</td>\n",
       "    </tr>\n",
       "    <tr>\n",
       "      <th>2008-01-01</th>\n",
       "      <td>14668.4</td>\n",
       "      <td>212.174</td>\n",
       "    </tr>\n",
       "    <tr>\n",
       "      <th>2008-04-01</th>\n",
       "      <td>14813.0</td>\n",
       "      <td>213.942</td>\n",
       "    </tr>\n",
       "    <tr>\n",
       "      <th>2008-07-01</th>\n",
       "      <td>14843.0</td>\n",
       "      <td>219.016</td>\n",
       "    </tr>\n",
       "    <tr>\n",
       "      <th>2008-10-01</th>\n",
       "      <td>14549.9</td>\n",
       "      <td>216.995</td>\n",
       "    </tr>\n",
       "    <tr>\n",
       "      <th>2009-01-01</th>\n",
       "      <td>14383.9</td>\n",
       "      <td>211.933</td>\n",
       "    </tr>\n",
       "    <tr>\n",
       "      <th>2009-04-01</th>\n",
       "      <td>14340.4</td>\n",
       "      <td>212.709</td>\n",
       "    </tr>\n",
       "    <tr>\n",
       "      <th>2009-07-01</th>\n",
       "      <td>14384.1</td>\n",
       "      <td>214.726</td>\n",
       "    </tr>\n",
       "    <tr>\n",
       "      <th>2009-10-01</th>\n",
       "      <td>14566.5</td>\n",
       "      <td>216.509</td>\n",
       "    </tr>\n",
       "    <tr>\n",
       "      <th>2010-01-01</th>\n",
       "      <td>14681.1</td>\n",
       "      <td>217.488</td>\n",
       "    </tr>\n",
       "    <tr>\n",
       "      <th>2010-04-01</th>\n",
       "      <td>14888.6</td>\n",
       "      <td>217.403</td>\n",
       "    </tr>\n",
       "    <tr>\n",
       "      <th>2010-07-01</th>\n",
       "      <td>15057.7</td>\n",
       "      <td>217.605</td>\n",
       "    </tr>\n",
       "    <tr>\n",
       "      <th>2010-10-01</th>\n",
       "      <td>15230.2</td>\n",
       "      <td>219.035</td>\n",
       "    </tr>\n",
       "    <tr>\n",
       "      <th>2011-01-01</th>\n",
       "      <td>15238.4</td>\n",
       "      <td>221.187</td>\n",
       "    </tr>\n",
       "    <tr>\n",
       "      <th>2011-04-01</th>\n",
       "      <td>15460.9</td>\n",
       "      <td>224.093</td>\n",
       "    </tr>\n",
       "    <tr>\n",
       "      <th>2011-07-01</th>\n",
       "      <td>15587.1</td>\n",
       "      <td>225.395</td>\n",
       "    </tr>\n",
       "    <tr>\n",
       "      <th>2011-10-01</th>\n",
       "      <td>15785.3</td>\n",
       "      <td>226.750</td>\n",
       "    </tr>\n",
       "    <tr>\n",
       "      <th>2012-01-01</th>\n",
       "      <td>15973.9</td>\n",
       "      <td>227.860</td>\n",
       "    </tr>\n",
       "    <tr>\n",
       "      <th>2012-04-01</th>\n",
       "      <td>16121.9</td>\n",
       "      <td>229.286</td>\n",
       "    </tr>\n",
       "    <tr>\n",
       "      <th>2012-07-01</th>\n",
       "      <td>16227.9</td>\n",
       "      <td>228.475</td>\n",
       "    </tr>\n",
       "    <tr>\n",
       "      <th>2012-10-01</th>\n",
       "      <td>16297.3</td>\n",
       "      <td>231.655</td>\n",
       "    </tr>\n",
       "    <tr>\n",
       "      <th>2013-01-01</th>\n",
       "      <td>16475.4</td>\n",
       "      <td>231.641</td>\n",
       "    </tr>\n",
       "    <tr>\n",
       "      <th>2013-04-01</th>\n",
       "      <td>16541.4</td>\n",
       "      <td>231.856</td>\n",
       "    </tr>\n",
       "    <tr>\n",
       "      <th>2013-07-01</th>\n",
       "      <td>16749.3</td>\n",
       "      <td>232.749</td>\n",
       "    </tr>\n",
       "    <tr>\n",
       "      <th>2013-10-01</th>\n",
       "      <td>16999.9</td>\n",
       "      <td>233.799</td>\n",
       "    </tr>\n",
       "    <tr>\n",
       "      <th>2014-01-01</th>\n",
       "      <td>17025.2</td>\n",
       "      <td>235.436</td>\n",
       "    </tr>\n",
       "  </tbody>\n",
       "</table>\n",
       "<p>269 rows × 2 columns</p>\n",
       "</div>"
      ],
      "text/plain": [
       "                GDP  CPIAUCSL\n",
       "DATE                         \n",
       "1947-01-01    243.1    21.480\n",
       "1947-04-01    246.3    22.000\n",
       "1947-07-01    250.1    22.230\n",
       "1947-10-01    260.3    22.910\n",
       "1948-01-01    266.2    23.680\n",
       "1948-04-01    272.9    23.820\n",
       "1948-07-01    279.5    24.400\n",
       "1948-10-01    280.7    24.310\n",
       "1949-01-01    275.4    24.010\n",
       "1949-04-01    271.7    23.920\n",
       "1949-07-01    273.3    23.700\n",
       "1949-10-01    271.0    23.670\n",
       "1950-01-01    281.2    23.510\n",
       "1950-04-01    290.7    23.650\n",
       "1950-07-01    308.5    24.070\n",
       "1950-10-01    320.3    24.500\n",
       "1951-01-01    336.4    25.380\n",
       "1951-04-01    344.5    25.920\n",
       "1951-07-01    351.8    25.910\n",
       "1951-10-01    356.6    26.160\n",
       "1952-01-01    360.2    26.450\n",
       "1952-04-01    361.4    26.460\n",
       "1952-07-01    368.1    26.680\n",
       "1952-10-01    381.2    26.690\n",
       "1953-01-01    388.5    26.640\n",
       "1953-04-01    392.3    26.690\n",
       "1953-07-01    391.7    26.790\n",
       "1953-10-01    386.5    26.950\n",
       "1954-01-01    385.9    26.940\n",
       "1954-04-01    386.7    26.860\n",
       "...             ...       ...\n",
       "2006-10-01  14066.4   201.900\n",
       "2007-01-01  14233.2   203.437\n",
       "2007-04-01  14422.3   205.904\n",
       "2007-07-01  14569.7   207.603\n",
       "2007-10-01  14685.3   209.190\n",
       "2008-01-01  14668.4   212.174\n",
       "2008-04-01  14813.0   213.942\n",
       "2008-07-01  14843.0   219.016\n",
       "2008-10-01  14549.9   216.995\n",
       "2009-01-01  14383.9   211.933\n",
       "2009-04-01  14340.4   212.709\n",
       "2009-07-01  14384.1   214.726\n",
       "2009-10-01  14566.5   216.509\n",
       "2010-01-01  14681.1   217.488\n",
       "2010-04-01  14888.6   217.403\n",
       "2010-07-01  15057.7   217.605\n",
       "2010-10-01  15230.2   219.035\n",
       "2011-01-01  15238.4   221.187\n",
       "2011-04-01  15460.9   224.093\n",
       "2011-07-01  15587.1   225.395\n",
       "2011-10-01  15785.3   226.750\n",
       "2012-01-01  15973.9   227.860\n",
       "2012-04-01  16121.9   229.286\n",
       "2012-07-01  16227.9   228.475\n",
       "2012-10-01  16297.3   231.655\n",
       "2013-01-01  16475.4   231.641\n",
       "2013-04-01  16541.4   231.856\n",
       "2013-07-01  16749.3   232.749\n",
       "2013-10-01  16999.9   233.799\n",
       "2014-01-01  17025.2   235.436\n",
       "\n",
       "[269 rows x 2 columns]"
      ]
     },
     "execution_count": 41,
     "metadata": {},
     "output_type": "execute_result"
    }
   ],
   "source": [
    "df.dropna(axis='index', how='any')"
   ]
  },
  {
   "cell_type": "markdown",
   "metadata": {},
   "source": [
    "You can drop a row only if all of it's values are missing:"
   ]
  },
  {
   "cell_type": "code",
   "execution_count": 29,
   "metadata": {
    "collapsed": false
   },
   "outputs": [
    {
     "data": {
      "text/html": [
       "<div>\n",
       "<style>\n",
       "    .dataframe thead tr:only-child th {\n",
       "        text-align: right;\n",
       "    }\n",
       "\n",
       "    .dataframe thead th {\n",
       "        text-align: left;\n",
       "    }\n",
       "\n",
       "    .dataframe tbody tr th {\n",
       "        vertical-align: top;\n",
       "    }\n",
       "</style>\n",
       "<table border=\"1\" class=\"dataframe\">\n",
       "  <thead>\n",
       "    <tr style=\"text-align: right;\">\n",
       "      <th></th>\n",
       "      <th>GDP</th>\n",
       "      <th>CPIAUCSL</th>\n",
       "    </tr>\n",
       "    <tr>\n",
       "      <th>DATE</th>\n",
       "      <th></th>\n",
       "      <th></th>\n",
       "    </tr>\n",
       "  </thead>\n",
       "  <tbody>\n",
       "    <tr>\n",
       "      <th>1947-01-01</th>\n",
       "      <td>243.1</td>\n",
       "      <td>21.480</td>\n",
       "    </tr>\n",
       "    <tr>\n",
       "      <th>1947-02-01</th>\n",
       "      <td>NaN</td>\n",
       "      <td>21.620</td>\n",
       "    </tr>\n",
       "    <tr>\n",
       "      <th>1947-03-01</th>\n",
       "      <td>NaN</td>\n",
       "      <td>22.000</td>\n",
       "    </tr>\n",
       "    <tr>\n",
       "      <th>1947-04-01</th>\n",
       "      <td>246.3</td>\n",
       "      <td>22.000</td>\n",
       "    </tr>\n",
       "    <tr>\n",
       "      <th>1947-05-01</th>\n",
       "      <td>NaN</td>\n",
       "      <td>21.950</td>\n",
       "    </tr>\n",
       "    <tr>\n",
       "      <th>...</th>\n",
       "      <td>...</td>\n",
       "      <td>...</td>\n",
       "    </tr>\n",
       "    <tr>\n",
       "      <th>2015-01-01</th>\n",
       "      <td>NaN</td>\n",
       "      <td>234.954</td>\n",
       "    </tr>\n",
       "    <tr>\n",
       "      <th>2015-02-01</th>\n",
       "      <td>NaN</td>\n",
       "      <td>235.415</td>\n",
       "    </tr>\n",
       "    <tr>\n",
       "      <th>2015-03-01</th>\n",
       "      <td>NaN</td>\n",
       "      <td>235.859</td>\n",
       "    </tr>\n",
       "    <tr>\n",
       "      <th>2015-04-01</th>\n",
       "      <td>NaN</td>\n",
       "      <td>236.197</td>\n",
       "    </tr>\n",
       "    <tr>\n",
       "      <th>2015-05-01</th>\n",
       "      <td>NaN</td>\n",
       "      <td>236.876</td>\n",
       "    </tr>\n",
       "  </tbody>\n",
       "</table>\n",
       "<p>821 rows × 2 columns</p>\n",
       "</div>"
      ],
      "text/plain": [
       "              GDP  CPIAUCSL\n",
       "DATE                       \n",
       "1947-01-01  243.1    21.480\n",
       "1947-02-01    NaN    21.620\n",
       "1947-03-01    NaN    22.000\n",
       "1947-04-01  246.3    22.000\n",
       "1947-05-01    NaN    21.950\n",
       "...           ...       ...\n",
       "2015-01-01    NaN   234.954\n",
       "2015-02-01    NaN   235.415\n",
       "2015-03-01    NaN   235.859\n",
       "2015-04-01    NaN   236.197\n",
       "2015-05-01    NaN   236.876\n",
       "\n",
       "[821 rows x 2 columns]"
      ]
     },
     "execution_count": 29,
     "metadata": {},
     "output_type": "execute_result"
    }
   ],
   "source": [
    "df.dropna(axis='index', how='all')"
   ]
  },
  {
   "cell_type": "markdown",
   "metadata": {},
   "source": [
    "<div class=\"alert alert-success\" data-title=\"Dropping Columns\">\n",
    "  <h1><i class=\"fa fa-tasks\" aria-hidden=\"true\"></i> Exercise: Dropping Columns</h1>\n",
    "</div>\n",
    "<p>Drop any `columns` in `df` that have at least one missing value</p>"
   ]
  },
  {
   "cell_type": "code",
   "execution_count": null,
   "metadata": {
    "collapsed": true
   },
   "outputs": [],
   "source": []
  },
  {
   "cell_type": "code",
   "execution_count": 31,
   "metadata": {
    "collapsed": false
   },
   "outputs": [
    {
     "data": {
      "text/html": [
       "<div>\n",
       "<style>\n",
       "    .dataframe thead tr:only-child th {\n",
       "        text-align: right;\n",
       "    }\n",
       "\n",
       "    .dataframe thead th {\n",
       "        text-align: left;\n",
       "    }\n",
       "\n",
       "    .dataframe tbody tr th {\n",
       "        vertical-align: top;\n",
       "    }\n",
       "</style>\n",
       "<table border=\"1\" class=\"dataframe\">\n",
       "  <thead>\n",
       "    <tr style=\"text-align: right;\">\n",
       "      <th></th>\n",
       "      <th>CPIAUCSL</th>\n",
       "    </tr>\n",
       "    <tr>\n",
       "      <th>DATE</th>\n",
       "      <th></th>\n",
       "    </tr>\n",
       "  </thead>\n",
       "  <tbody>\n",
       "    <tr>\n",
       "      <th>1947-01-01</th>\n",
       "      <td>21.480</td>\n",
       "    </tr>\n",
       "    <tr>\n",
       "      <th>1947-02-01</th>\n",
       "      <td>21.620</td>\n",
       "    </tr>\n",
       "    <tr>\n",
       "      <th>1947-03-01</th>\n",
       "      <td>22.000</td>\n",
       "    </tr>\n",
       "    <tr>\n",
       "      <th>1947-04-01</th>\n",
       "      <td>22.000</td>\n",
       "    </tr>\n",
       "    <tr>\n",
       "      <th>1947-05-01</th>\n",
       "      <td>21.950</td>\n",
       "    </tr>\n",
       "    <tr>\n",
       "      <th>...</th>\n",
       "      <td>...</td>\n",
       "    </tr>\n",
       "    <tr>\n",
       "      <th>2015-01-01</th>\n",
       "      <td>234.954</td>\n",
       "    </tr>\n",
       "    <tr>\n",
       "      <th>2015-02-01</th>\n",
       "      <td>235.415</td>\n",
       "    </tr>\n",
       "    <tr>\n",
       "      <th>2015-03-01</th>\n",
       "      <td>235.859</td>\n",
       "    </tr>\n",
       "    <tr>\n",
       "      <th>2015-04-01</th>\n",
       "      <td>236.197</td>\n",
       "    </tr>\n",
       "    <tr>\n",
       "      <th>2015-05-01</th>\n",
       "      <td>236.876</td>\n",
       "    </tr>\n",
       "  </tbody>\n",
       "</table>\n",
       "<p>821 rows × 1 columns</p>\n",
       "</div>"
      ],
      "text/plain": [
       "            CPIAUCSL\n",
       "DATE                \n",
       "1947-01-01    21.480\n",
       "1947-02-01    21.620\n",
       "1947-03-01    22.000\n",
       "1947-04-01    22.000\n",
       "1947-05-01    21.950\n",
       "...              ...\n",
       "2015-01-01   234.954\n",
       "2015-02-01   235.415\n",
       "2015-03-01   235.859\n",
       "2015-04-01   236.197\n",
       "2015-05-01   236.876\n",
       "\n",
       "[821 rows x 1 columns]"
      ]
     },
     "execution_count": 31,
     "metadata": {},
     "output_type": "execute_result"
    }
   ],
   "source": [
    "%load solutions/dropna_columns.py"
   ]
  },
  {
   "cell_type": "markdown",
   "metadata": {},
   "source": [
    "## Filling Missing Values\n",
    "\n",
    "Use `.fillna` to fill with a value (scalar, or mapping of `label: value`) or method."
   ]
  },
  {
   "cell_type": "markdown",
   "metadata": {},
   "source": [
    "There's also `.fillna` to fill missing values, either with a value (which can be a scalar or array) or a method like `ffill` to fill-foward the last-observed value."
   ]
  },
  {
   "cell_type": "code",
   "execution_count": 32,
   "metadata": {
    "collapsed": false
   },
   "outputs": [
    {
     "data": {
      "image/png": "[encoded data removed]",
      "text/plain": [
       "<matplotlib.figure.Figure at 0x11b6978d0>"
      ]
     },
     "metadata": {},
     "output_type": "display_data"
    }
   ],
   "source": [
    "rgdp.fillna(method='ffill').plot()\n",
    "sns.despine()"
   ]
  },
  {
   "cell_type": "markdown",
   "metadata": {},
   "source": [
    "Missing data will come up throughout."
   ]
  },
  {
   "cell_type": "markdown",
   "metadata": {},
   "source": [
    "## Joining Pandas Objects\n",
    "\n",
    "You have some options:\n",
    "\n",
    "1. `pd.merge`: SQL-style joins\n",
    "2. `pd.concat`: array-style joins"
   ]
  },
  {
   "cell_type": "markdown",
   "metadata": {},
   "source": [
    "You'll run into problems where you have multiple `Series` or `DataFrame`s, that you want to join into a single `DataFrame`.\n",
    "We saw an example of this earlier, but let's follow it up as a pair of exercises.\n",
    "\n",
    "There are two main ways to do this, `pd.merge` and `pd.concat`.\n",
    "\n",
    "When to use `merge` vs. `concat`?\n",
    "My general rule is to use `concat` for one-to-one joins of two or more Series/DataFrames, where your joining on the index.\n",
    "I use `pd.merge` when doing database style joins that are one-to-many, or many-to-many, or whenever you're joining on a column."
   ]
  },
  {
   "cell_type": "markdown",
   "metadata": {},
   "source": [
    "<div class=\"alert alert-success\" data-title=\"Merge Datasets\">\n",
    "  <h1><i class=\"fa fa-tasks\" aria-hidden=\"true\"></i> Exercise: Merge Datasets</h1>\n",
    "</div>\n",
    "\n",
    "<p>\n",
    "Use [`pd.merge`](http://pandas.pydata.org/pandas-docs/stable/generated/pandas.merge.html) to join the two DataFrames `gdp_bad` and `cpi_bad`, using an *outer* join (earlier we used an *inner* join).\n",
    "</p>\n",
    "\n",
    "- Hint: You may want to sort by date afterward (see [`DataFrame.sort_values`](http://pandas.pydata.org/pandas-docs/stable/generated/pandas.DataFrame.sort_values.html))"
   ]
  },
  {
   "cell_type": "code",
   "execution_count": 33,
   "metadata": {
    "collapsed": true
   },
   "outputs": [],
   "source": [
    "# Your solution\n"
   ]
  },
  {
   "cell_type": "code",
   "execution_count": 35,
   "metadata": {
    "collapsed": false
   },
   "outputs": [
    {
     "data": {
      "text/html": [
       "<div>\n",
       "<style>\n",
       "    .dataframe thead tr:only-child th {\n",
       "        text-align: right;\n",
       "    }\n",
       "\n",
       "    .dataframe thead th {\n",
       "        text-align: left;\n",
       "    }\n",
       "\n",
       "    .dataframe tbody tr th {\n",
       "        vertical-align: top;\n",
       "    }\n",
       "</style>\n",
       "<table border=\"1\" class=\"dataframe\">\n",
       "  <thead>\n",
       "    <tr style=\"text-align: right;\">\n",
       "      <th></th>\n",
       "      <th>DATE</th>\n",
       "      <th>GDP</th>\n",
       "      <th>CPIAUCSL</th>\n",
       "    </tr>\n",
       "  </thead>\n",
       "  <tbody>\n",
       "    <tr>\n",
       "      <th>0</th>\n",
       "      <td>1947-01-01</td>\n",
       "      <td>243.1</td>\n",
       "      <td>21.48</td>\n",
       "    </tr>\n",
       "    <tr>\n",
       "      <th>269</th>\n",
       "      <td>1947-02-01</td>\n",
       "      <td>NaN</td>\n",
       "      <td>21.62</td>\n",
       "    </tr>\n",
       "    <tr>\n",
       "      <th>270</th>\n",
       "      <td>1947-03-01</td>\n",
       "      <td>NaN</td>\n",
       "      <td>22.00</td>\n",
       "    </tr>\n",
       "    <tr>\n",
       "      <th>1</th>\n",
       "      <td>1947-04-01</td>\n",
       "      <td>246.3</td>\n",
       "      <td>22.00</td>\n",
       "    </tr>\n",
       "    <tr>\n",
       "      <th>271</th>\n",
       "      <td>1947-05-01</td>\n",
       "      <td>NaN</td>\n",
       "      <td>21.95</td>\n",
       "    </tr>\n",
       "  </tbody>\n",
       "</table>\n",
       "</div>"
      ],
      "text/plain": [
       "          DATE    GDP  CPIAUCSL\n",
       "0   1947-01-01  243.1     21.48\n",
       "269 1947-02-01    NaN     21.62\n",
       "270 1947-03-01    NaN     22.00\n",
       "1   1947-04-01  246.3     22.00\n",
       "271 1947-05-01    NaN     21.95"
      ]
     },
     "execution_count": 35,
     "metadata": {},
     "output_type": "execute_result"
    }
   ],
   "source": [
    "%load solutions/aligment_merge.py"
   ]
  },
  {
   "cell_type": "markdown",
   "metadata": {},
   "source": [
    "<div class=\"alert alert-success\" data-title=\"Concatenate Datasets\">\n",
    "  <h1><i class=\"fa fa-tasks\" aria-hidden=\"true\"></i> Exercise: Concatenate Datasets</h1>\n",
    "</div>\n",
    "\n",
    "<p>\n",
    "Use [`pd.concat`](http://pandas.pydata.org/pandas-docs/stable/generated/pandas.concat.html) to stick together `gdp` and `cpi` into a DataFrame</p>\n",
    "\n",
    "- Hint: what should the argument to `axis` be?"
   ]
  },
  {
   "cell_type": "code",
   "execution_count": 36,
   "metadata": {
    "collapsed": true
   },
   "outputs": [],
   "source": [
    "# Your solution\n"
   ]
  },
  {
   "cell_type": "code",
   "execution_count": 38,
   "metadata": {
    "collapsed": false
   },
   "outputs": [
    {
     "data": {
      "text/html": [
       "<div>\n",
       "<style>\n",
       "    .dataframe thead tr:only-child th {\n",
       "        text-align: right;\n",
       "    }\n",
       "\n",
       "    .dataframe thead th {\n",
       "        text-align: left;\n",
       "    }\n",
       "\n",
       "    .dataframe tbody tr th {\n",
       "        vertical-align: top;\n",
       "    }\n",
       "</style>\n",
       "<table border=\"1\" class=\"dataframe\">\n",
       "  <thead>\n",
       "    <tr style=\"text-align: right;\">\n",
       "      <th></th>\n",
       "      <th>GDP</th>\n",
       "      <th>CPIAUCSL</th>\n",
       "    </tr>\n",
       "    <tr>\n",
       "      <th>DATE</th>\n",
       "      <th></th>\n",
       "      <th></th>\n",
       "    </tr>\n",
       "  </thead>\n",
       "  <tbody>\n",
       "    <tr>\n",
       "      <th>1947-01-01</th>\n",
       "      <td>243.1</td>\n",
       "      <td>21.48</td>\n",
       "    </tr>\n",
       "    <tr>\n",
       "      <th>1947-02-01</th>\n",
       "      <td>NaN</td>\n",
       "      <td>21.62</td>\n",
       "    </tr>\n",
       "    <tr>\n",
       "      <th>1947-03-01</th>\n",
       "      <td>NaN</td>\n",
       "      <td>22.00</td>\n",
       "    </tr>\n",
       "    <tr>\n",
       "      <th>1947-04-01</th>\n",
       "      <td>246.3</td>\n",
       "      <td>22.00</td>\n",
       "    </tr>\n",
       "    <tr>\n",
       "      <th>1947-05-01</th>\n",
       "      <td>NaN</td>\n",
       "      <td>21.95</td>\n",
       "    </tr>\n",
       "  </tbody>\n",
       "</table>\n",
       "</div>"
      ],
      "text/plain": [
       "              GDP  CPIAUCSL\n",
       "DATE                       \n",
       "1947-01-01  243.1     21.48\n",
       "1947-02-01    NaN     21.62\n",
       "1947-03-01    NaN     22.00\n",
       "1947-04-01  246.3     22.00\n",
       "1947-05-01    NaN     21.95"
      ]
     },
     "execution_count": 38,
     "metadata": {},
     "output_type": "execute_result"
    }
   ],
   "source": [
    "%load solutions/aligment_concat.py"
   ]
  },
  {
   "cell_type": "markdown",
   "metadata": {},
   "source": [
    "## ufuncs And Reductions\n",
    "\n",
    "These next couple of topics aren't really related to alignment, but I didn't have anywhere else to put them.\n",
    "\n",
    "NumPy has the concept of [universal functions](https://docs.scipy.org/doc/numpy/reference/ufuncs.html) (ufuncs) that operate on any sized array."
   ]
  },
  {
   "cell_type": "code",
   "execution_count": 39,
   "metadata": {
    "collapsed": false
   },
   "outputs": [
    {
     "data": {
      "text/html": [
       "<div>\n",
       "<style>\n",
       "    .dataframe thead tr:only-child th {\n",
       "        text-align: right;\n",
       "    }\n",
       "\n",
       "    .dataframe thead th {\n",
       "        text-align: left;\n",
       "    }\n",
       "\n",
       "    .dataframe tbody tr th {\n",
       "        vertical-align: top;\n",
       "    }\n",
       "</style>\n",
       "<table border=\"1\" class=\"dataframe\">\n",
       "  <thead>\n",
       "    <tr style=\"text-align: right;\">\n",
       "      <th></th>\n",
       "      <th>GDP</th>\n",
       "      <th>CPIAUCSL</th>\n",
       "    </tr>\n",
       "    <tr>\n",
       "      <th>DATE</th>\n",
       "      <th></th>\n",
       "      <th></th>\n",
       "    </tr>\n",
       "  </thead>\n",
       "  <tbody>\n",
       "    <tr>\n",
       "      <th>1947-01-01</th>\n",
       "      <td>5.493473</td>\n",
       "      <td>3.067122</td>\n",
       "    </tr>\n",
       "    <tr>\n",
       "      <th>1947-02-01</th>\n",
       "      <td>NaN</td>\n",
       "      <td>3.073619</td>\n",
       "    </tr>\n",
       "    <tr>\n",
       "      <th>1947-03-01</th>\n",
       "      <td>NaN</td>\n",
       "      <td>3.091042</td>\n",
       "    </tr>\n",
       "    <tr>\n",
       "      <th>1947-04-01</th>\n",
       "      <td>5.506550</td>\n",
       "      <td>3.091042</td>\n",
       "    </tr>\n",
       "    <tr>\n",
       "      <th>1947-05-01</th>\n",
       "      <td>NaN</td>\n",
       "      <td>3.088767</td>\n",
       "    </tr>\n",
       "    <tr>\n",
       "      <th>...</th>\n",
       "      <td>...</td>\n",
       "      <td>...</td>\n",
       "    </tr>\n",
       "    <tr>\n",
       "      <th>2015-01-01</th>\n",
       "      <td>NaN</td>\n",
       "      <td>5.459390</td>\n",
       "    </tr>\n",
       "    <tr>\n",
       "      <th>2015-02-01</th>\n",
       "      <td>NaN</td>\n",
       "      <td>5.461350</td>\n",
       "    </tr>\n",
       "    <tr>\n",
       "      <th>2015-03-01</th>\n",
       "      <td>NaN</td>\n",
       "      <td>5.463234</td>\n",
       "    </tr>\n",
       "    <tr>\n",
       "      <th>2015-04-01</th>\n",
       "      <td>NaN</td>\n",
       "      <td>5.464666</td>\n",
       "    </tr>\n",
       "    <tr>\n",
       "      <th>2015-05-01</th>\n",
       "      <td>NaN</td>\n",
       "      <td>5.467537</td>\n",
       "    </tr>\n",
       "  </tbody>\n",
       "</table>\n",
       "<p>821 rows × 2 columns</p>\n",
       "</div>"
      ],
      "text/plain": [
       "                 GDP  CPIAUCSL\n",
       "DATE                          \n",
       "1947-01-01  5.493473  3.067122\n",
       "1947-02-01       NaN  3.073619\n",
       "1947-03-01       NaN  3.091042\n",
       "1947-04-01  5.506550  3.091042\n",
       "1947-05-01       NaN  3.088767\n",
       "...              ...       ...\n",
       "2015-01-01       NaN  5.459390\n",
       "2015-02-01       NaN  5.461350\n",
       "2015-03-01       NaN  5.463234\n",
       "2015-04-01       NaN  5.464666\n",
       "2015-05-01       NaN  5.467537\n",
       "\n",
       "[821 rows x 2 columns]"
      ]
     },
     "execution_count": 39,
     "metadata": {},
     "output_type": "execute_result"
    }
   ],
   "source": [
    "np.log(df)"
   ]
  },
  {
   "cell_type": "markdown",
   "metadata": {},
   "source": [
    "`ufuncs` work elementwise, which means they don't care about the dimensions, just the data types.\n",
    "Even something like adding a scalar is a ufunc. "
   ]
  },
  {
   "cell_type": "code",
   "execution_count": 40,
   "metadata": {
    "collapsed": false
   },
   "outputs": [
    {
     "data": {
      "text/html": [
       "<div>\n",
       "<style>\n",
       "    .dataframe thead tr:only-child th {\n",
       "        text-align: right;\n",
       "    }\n",
       "\n",
       "    .dataframe thead th {\n",
       "        text-align: left;\n",
       "    }\n",
       "\n",
       "    .dataframe tbody tr th {\n",
       "        vertical-align: top;\n",
       "    }\n",
       "</style>\n",
       "<table border=\"1\" class=\"dataframe\">\n",
       "  <thead>\n",
       "    <tr style=\"text-align: right;\">\n",
       "      <th></th>\n",
       "      <th>GDP</th>\n",
       "      <th>CPIAUCSL</th>\n",
       "    </tr>\n",
       "    <tr>\n",
       "      <th>DATE</th>\n",
       "      <th></th>\n",
       "      <th></th>\n",
       "    </tr>\n",
       "  </thead>\n",
       "  <tbody>\n",
       "    <tr>\n",
       "      <th>1947-01-01</th>\n",
       "      <td>343.1</td>\n",
       "      <td>121.480</td>\n",
       "    </tr>\n",
       "    <tr>\n",
       "      <th>1947-02-01</th>\n",
       "      <td>NaN</td>\n",
       "      <td>121.620</td>\n",
       "    </tr>\n",
       "    <tr>\n",
       "      <th>1947-03-01</th>\n",
       "      <td>NaN</td>\n",
       "      <td>122.000</td>\n",
       "    </tr>\n",
       "    <tr>\n",
       "      <th>1947-04-01</th>\n",
       "      <td>346.3</td>\n",
       "      <td>122.000</td>\n",
       "    </tr>\n",
       "    <tr>\n",
       "      <th>1947-05-01</th>\n",
       "      <td>NaN</td>\n",
       "      <td>121.950</td>\n",
       "    </tr>\n",
       "    <tr>\n",
       "      <th>...</th>\n",
       "      <td>...</td>\n",
       "      <td>...</td>\n",
       "    </tr>\n",
       "    <tr>\n",
       "      <th>2015-01-01</th>\n",
       "      <td>NaN</td>\n",
       "      <td>334.954</td>\n",
       "    </tr>\n",
       "    <tr>\n",
       "      <th>2015-02-01</th>\n",
       "      <td>NaN</td>\n",
       "      <td>335.415</td>\n",
       "    </tr>\n",
       "    <tr>\n",
       "      <th>2015-03-01</th>\n",
       "      <td>NaN</td>\n",
       "      <td>335.859</td>\n",
       "    </tr>\n",
       "    <tr>\n",
       "      <th>2015-04-01</th>\n",
       "      <td>NaN</td>\n",
       "      <td>336.197</td>\n",
       "    </tr>\n",
       "    <tr>\n",
       "      <th>2015-05-01</th>\n",
       "      <td>NaN</td>\n",
       "      <td>336.876</td>\n",
       "    </tr>\n",
       "  </tbody>\n",
       "</table>\n",
       "<p>821 rows × 2 columns</p>\n",
       "</div>"
      ],
      "text/plain": [
       "              GDP  CPIAUCSL\n",
       "DATE                       \n",
       "1947-01-01  343.1   121.480\n",
       "1947-02-01    NaN   121.620\n",
       "1947-03-01    NaN   122.000\n",
       "1947-04-01  346.3   122.000\n",
       "1947-05-01    NaN   121.950\n",
       "...           ...       ...\n",
       "2015-01-01    NaN   334.954\n",
       "2015-02-01    NaN   335.415\n",
       "2015-03-01    NaN   335.859\n",
       "2015-04-01    NaN   336.197\n",
       "2015-05-01    NaN   336.876\n",
       "\n",
       "[821 rows x 2 columns]"
      ]
     },
     "execution_count": 40,
     "metadata": {},
     "output_type": "execute_result"
    }
   ],
   "source": [
    "df + 100"
   ]
  },
  {
   "cell_type": "markdown",
   "metadata": {},
   "source": [
    "## Reductions\n",
    "\n",
    "`DataFrame` has many methods that *reduce* a DataFrame to a Series by aggregating over a dimension.\n",
    "Likewise, `Series` has many methods that collapse down to a scalar.\n",
    "Some examples are `.mean`, `.std`, `.max`, `.any`, `.all`."
   ]
  },
  {
   "cell_type": "markdown",
   "metadata": {},
   "source": [
    "Let's get a DataFrame with two columns on a similar scale.\n",
    "The `pct_change` method returns the `(current - previous) / previous` for each row (with `NaN` for the first since there isn't a previous."
   ]
  },
  {
   "cell_type": "code",
   "execution_count": 42,
   "metadata": {
    "collapsed": false
   },
   "outputs": [
    {
     "data": {
      "text/html": [
       "<div>\n",
       "<style>\n",
       "    .dataframe thead tr:only-child th {\n",
       "        text-align: right;\n",
       "    }\n",
       "\n",
       "    .dataframe thead th {\n",
       "        text-align: left;\n",
       "    }\n",
       "\n",
       "    .dataframe tbody tr th {\n",
       "        vertical-align: top;\n",
       "    }\n",
       "</style>\n",
       "<table border=\"1\" class=\"dataframe\">\n",
       "  <thead>\n",
       "    <tr style=\"text-align: right;\">\n",
       "      <th></th>\n",
       "      <th>GDP</th>\n",
       "      <th>CPIAUCSL</th>\n",
       "    </tr>\n",
       "    <tr>\n",
       "      <th>DATE</th>\n",
       "      <th></th>\n",
       "      <th></th>\n",
       "    </tr>\n",
       "  </thead>\n",
       "  <tbody>\n",
       "    <tr>\n",
       "      <th>1947-01-01</th>\n",
       "      <td>NaN</td>\n",
       "      <td>NaN</td>\n",
       "    </tr>\n",
       "    <tr>\n",
       "      <th>1947-04-01</th>\n",
       "      <td>0.013163</td>\n",
       "      <td>0.024209</td>\n",
       "    </tr>\n",
       "    <tr>\n",
       "      <th>1947-07-01</th>\n",
       "      <td>0.015428</td>\n",
       "      <td>0.010455</td>\n",
       "    </tr>\n",
       "    <tr>\n",
       "      <th>1947-10-01</th>\n",
       "      <td>0.040784</td>\n",
       "      <td>0.030589</td>\n",
       "    </tr>\n",
       "    <tr>\n",
       "      <th>1948-01-01</th>\n",
       "      <td>0.022666</td>\n",
       "      <td>0.033610</td>\n",
       "    </tr>\n",
       "  </tbody>\n",
       "</table>\n",
       "</div>"
      ],
      "text/plain": [
       "                 GDP  CPIAUCSL\n",
       "DATE                          \n",
       "1947-01-01       NaN       NaN\n",
       "1947-04-01  0.013163  0.024209\n",
       "1947-07-01  0.015428  0.010455\n",
       "1947-10-01  0.040784  0.030589\n",
       "1948-01-01  0.022666  0.033610"
      ]
     },
     "execution_count": 42,
     "metadata": {},
     "output_type": "execute_result"
    }
   ],
   "source": [
    "pct_change = df.dropna().pct_change()\n",
    "pct_change.head()"
   ]
  },
  {
   "cell_type": "code",
   "execution_count": 43,
   "metadata": {
    "collapsed": true
   },
   "outputs": [],
   "source": [
    "%matplotlib inline"
   ]
  },
  {
   "cell_type": "code",
   "execution_count": 42,
   "metadata": {
    "collapsed": false
   },
   "outputs": [
    {
     "data": {
      "image/png": "[encoded data removed]",
      "text/plain": [
       "<matplotlib.figure.Figure at 0x11b60b7f0>"
      ]
     },
     "metadata": {},
     "output_type": "display_data"
    }
   ],
   "source": [
    "pct_change.plot();"
   ]
  },
  {
   "cell_type": "markdown",
   "metadata": {},
   "source": [
    "By default, the index (0) axis is reduced for `DataFrames`."
   ]
  },
  {
   "cell_type": "code",
   "execution_count": 43,
   "metadata": {
    "collapsed": false
   },
   "outputs": [
    {
     "data": {
      "text/plain": [
       "GDP         0.016044\n",
       "CPIAUCSL    0.009012\n",
       "dtype: float64"
      ]
     },
     "execution_count": 43,
     "metadata": {},
     "output_type": "execute_result"
    }
   ],
   "source": [
    "pct_change.mean()"
   ]
  },
  {
   "cell_type": "markdown",
   "metadata": {},
   "source": [
    "To collapse the columns (leaving the same row labels), use the `axis` argument.\n",
    "Specifying `axis='columns'` or `axis=1` will aggregate over the columns"
   ]
  },
  {
   "cell_type": "code",
   "execution_count": 44,
   "metadata": {
    "collapsed": false
   },
   "outputs": [
    {
     "data": {
      "text/plain": [
       "DATE\n",
       "1947-01-01         NaN\n",
       "1947-04-01    0.024209\n",
       "1947-07-01    0.015428\n",
       "1947-10-01    0.040784\n",
       "1948-01-01    0.033610\n",
       "                ...   \n",
       "2013-01-01    0.010928\n",
       "2013-04-01    0.004006\n",
       "2013-07-01    0.012568\n",
       "2013-10-01    0.014962\n",
       "2014-01-01    0.007002\n",
       "Freq: 3MS, Length: 269, dtype: float64"
      ]
     },
     "execution_count": 44,
     "metadata": {},
     "output_type": "execute_result"
    }
   ],
   "source": [
    "pct_change.max(axis='columns')"
   ]
  },
  {
   "cell_type": "markdown",
   "metadata": {},
   "source": [
    "If you have trouble remembering, the `axis` argument specifies the axis you want to *remove*."
   ]
  },
  {
   "cell_type": "code",
   "execution_count": 45,
   "metadata": {
    "collapsed": false
   },
   "outputs": [
    {
     "data": {
      "text/plain": [
       "DATE\n",
       "1947-01-01         NaN\n",
       "1947-04-01    CPIAUCSL\n",
       "1947-07-01         GDP\n",
       "1947-10-01         GDP\n",
       "1948-01-01    CPIAUCSL\n",
       "                ...   \n",
       "2013-01-01         GDP\n",
       "2013-04-01         GDP\n",
       "2013-07-01         GDP\n",
       "2013-10-01         GDP\n",
       "2014-01-01    CPIAUCSL\n",
       "Freq: 3MS, Length: 269, dtype: object"
      ]
     },
     "execution_count": 45,
     "metadata": {},
     "output_type": "execute_result"
    }
   ],
   "source": [
    "# Which column had the larger percent change?\n",
    "pct_change.idxmax(axis=\"columns\")"
   ]
  },
  {
   "cell_type": "markdown",
   "metadata": {},
   "source": [
    "<div class=\"alert alert-success\" data-title=\"Percent Positive\">\n",
    "  <h1><i class=\"fa fa-tasks\" aria-hidden=\"true\"></i> Exercise: Percent Positive</h1>\n",
    "</div>\n",
    "\n",
    "\n",
    "<p>Exercise: What percent of the periods had a positive percent change for each column?</p>"
   ]
  },
  {
   "cell_type": "code",
   "execution_count": null,
   "metadata": {
    "collapsed": true
   },
   "outputs": [],
   "source": []
  },
  {
   "cell_type": "code",
   "execution_count": 47,
   "metadata": {
    "collapsed": false
   },
   "outputs": [
    {
     "data": {
      "text/plain": [
       "GDP         0.936803\n",
       "CPIAUCSL    0.907063\n",
       "dtype: float64"
      ]
     },
     "execution_count": 47,
     "metadata": {},
     "output_type": "execute_result"
    }
   ],
   "source": [
    "%load solutions/alignment_positive.py"
   ]
  },
  {
   "cell_type": "markdown",
   "metadata": {},
   "source": [
    "<div class=\"alert alert-success\" data-title=\"JOLTS\">\n",
    "  <h1><i class=\"fa fa-tasks\" aria-hidden=\"true\"></i> Exercise: JOLTS</h1>\n",
    "</div>\n",
    "\n",
    "<p>\n",
    "(This is an optional exercise, if you're working ahead).\n",
    "\n",
    "During the housing bubble and financial crisis, [CalculatedRisk](http://www.calculatedriskblog.com) was one of the best places for information on the internet. Let's reproduce one of his charts:</p>"
   ]
  },
  {
   "cell_type": "code",
   "execution_count": 48,
   "metadata": {
    "collapsed": false
   },
   "outputs": [
    {
     "data": {
      "text/html": [
       "<img src=\"http://1.bp.blogspot.com/-Q60opady2iQ/VNoeGepLMWI/AAAAAAAAiQc/PCA1LfFJFCg/s1600/JOLTSDec2014.PNG\"/>"
      ],
      "text/plain": [
       "<IPython.core.display.Image object>"
      ]
     },
     "execution_count": 48,
     "metadata": {},
     "output_type": "execute_result"
    }
   ],
   "source": [
    "display.Image(url='http://1.bp.blogspot.com/-Q60opady2iQ/VNoeGepLMWI/AAAAAAAAiQc/PCA1LfFJFCg/s1600/JOLTSDec2014.PNG')"
   ]
  },
  {
   "cell_type": "markdown",
   "metadata": {},
   "source": [
    "This shows the components of turnover in the labor market. People leave jobs for two reasons:\n",
    "\n",
    "1. Quits (light blue) or\n",
    "2. Layoffs, discharges, or other (red).\n",
    "\n",
    "Companies post job openings (yellow) and fill some number of those (Blue).\n",
    "The difference between the openings and hires represents the change in the stock of open positions, and measures the slackness of the labor market.\n",
    "The difference between the Hires and the sum of Quites and Layoffs / Discharges represents the change in the employed labor force (though the unemployment rate is calculated differently).\n",
    "\n",
    "To get you started, the FRED series codes are\n",
    "\n",
    "- JTSJOL: Openings\n",
    "- JTSQUL: Quits\n",
    "- JTSHIL: Hires\n",
    "- JTSLDL: Layoffs\n",
    "\n",
    "Use the `pandas_datareader.data.DataReader` class, which accepts a list of symbols, and a data_source (`'fred'`).\n",
    "As a hint, you can use pandas' `.plot.area()` method for the Quits and Layoffs series. That handles all the stacking for you."
   ]
  },
  {
   "cell_type": "code",
   "execution_count": 49,
   "metadata": {
    "collapsed": true
   },
   "outputs": [],
   "source": [
    "from pandas_datareader.data import DataReader\n",
    "\n",
    "series = ['JTSJOL', 'JTSQUL', 'JTSHIL', 'JTSLDL']\n",
    "names = ['openings', 'quits', 'hires', 'layoffs']\n",
    "\n",
    "colors = {'quits': '#52b5ea', 'layoffs': '#d32c2c',\n",
    "          'hires': '#2531db', 'openings': '#fffb49'}\n",
    "\n",
    "area_colors = [colors['quits'], colors['layoffs']]\n",
    "line_colors = [colors['hires'], colors['openings']]"
   ]
  },
  {
   "cell_type": "code",
   "execution_count": null,
   "metadata": {
    "collapsed": true
   },
   "outputs": [],
   "source": []
  },
  {
   "cell_type": "code",
   "execution_count": 50,
   "metadata": {
    "collapsed": true
   },
   "outputs": [],
   "source": [
    "# Your solution"
   ]
  },
  {
   "cell_type": "code",
   "execution_count": 52,
   "metadata": {
    "collapsed": false
   },
   "outputs": [
    {
     "data": {
      "image/png": "[encoded data removed]",
      "text/plain": [
       "<matplotlib.figure.Figure at 0x11b64fba8>"
      ]
     },
     "metadata": {},
     "output_type": "display_data"
    }
   ],
   "source": [
    "%load solutions/alignment_03.py"
   ]
  },
  {
   "cell_type": "markdown",
   "metadata": {},
   "source": [
    "If you finish that, feel free to poke around [FRED](https://fred.stlouisfed.org) for more interesting series."
   ]
  },
  {
   "cell_type": "markdown",
   "metadata": {},
   "source": [
    "## Summary\n",
    "\n",
    "- Auto-alignment in pandas is different than most other systems\n",
    "- Let pandas handle the details of alignment, you worry about important things\n",
    "- Pandas methods are non-mutating\n",
    "- `.dropna`, `.filla`, `isnull` for handling missing data"
   ]
  }
 ],
 "metadata": {
  "kernelspec": {
   "display_name": "Python 2",
   "language": "python",
   "name": "python2"
  },
  "language_info": {
   "codemirror_mode": {
    "name": "ipython",
    "version": 2
   },
   "file_extension": ".py",
   "mimetype": "text/x-python",
   "name": "python",
   "nbconvert_exporter": "python",
   "pygments_lexer": "ipython2",
   "version": "2.7.13"
  }
 },
 "nbformat": 4,
 "nbformat_minor": 1
}
